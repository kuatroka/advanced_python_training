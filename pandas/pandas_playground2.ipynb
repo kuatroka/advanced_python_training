{
 "cells": [
  {
   "cell_type": "markdown",
   "id": "87033f69-ed2f-4316-96f8-c926fcf2a4e5",
   "metadata": {},
   "source": [
    "### .merge()"
   ]
  },
  {
   "cell_type": "code",
   "execution_count": 23,
   "id": "dcb31a24-a4c2-4e20-89b2-4cc52e6f497e",
   "metadata": {
    "execution": {
     "iopub.execute_input": "2022-09-15T17:00:35.329998Z",
     "iopub.status.busy": "2022-09-15T17:00:35.329998Z",
     "iopub.status.idle": "2022-09-15T17:00:35.338986Z",
     "shell.execute_reply": "2022-09-15T17:00:35.338000Z",
     "shell.execute_reply.started": "2022-09-15T17:00:35.329998Z"
    },
    "tags": []
   },
   "outputs": [],
   "source": [
    "import pandas as pd\n",
    "\n",
    "pd.set_option('display.max_columns', 35)\n",
    "pd.set_option(\"display.max_colwidth\",3000)\n",
    "pd.set_option(\"display.max_rows\", None)"
   ]
  },
  {
   "cell_type": "code",
   "execution_count": 3,
   "id": "b50b8e8a-afd9-4ac4-b7d1-3d0522a506f5",
   "metadata": {
    "execution": {
     "iopub.execute_input": "2022-09-15T16:49:59.463229Z",
     "iopub.status.busy": "2022-09-15T16:49:59.462171Z",
     "iopub.status.idle": "2022-09-15T16:49:59.483216Z",
     "shell.execute_reply": "2022-09-15T16:49:59.482226Z",
     "shell.execute_reply.started": "2022-09-15T16:49:59.463229Z"
    },
    "tags": []
   },
   "outputs": [],
   "source": [
    "import pandas as pd\n",
    "import numpy as np\n",
    "df1 = pd.DataFrame({'name': ['Fred', 'Suzy', 'Suzy', 'Bob'],\n",
    "                    'pet': ['Dog', 'Dog', 'Cat', 'Fish']})\n",
    "\n",
    "df2 = pd.DataFrame({'Name': ['Suzy', 'Suzy', 'Suzy', 'Fred', 'Joe', 'Joe'],\n",
    "                    'Color': ['Black', 'Blue', 'Red', 'Green', 'Yellow', 'Blue']})\n"
   ]
  },
  {
   "cell_type": "code",
   "execution_count": 4,
   "id": "b273044c-8f2b-47d2-ae0d-752cfb7601f1",
   "metadata": {
    "execution": {
     "iopub.execute_input": "2022-09-15T16:50:00.294122Z",
     "iopub.status.busy": "2022-09-15T16:50:00.293130Z",
     "iopub.status.idle": "2022-09-15T16:50:00.318133Z",
     "shell.execute_reply": "2022-09-15T16:50:00.317154Z",
     "shell.execute_reply.started": "2022-09-15T16:50:00.294122Z"
    },
    "tags": []
   },
   "outputs": [
    {
     "data": {
      "text/html": [
       "<div>\n",
       "<style scoped>\n",
       "    .dataframe tbody tr th:only-of-type {\n",
       "        vertical-align: middle;\n",
       "    }\n",
       "\n",
       "    .dataframe tbody tr th {\n",
       "        vertical-align: top;\n",
       "    }\n",
       "\n",
       "    .dataframe thead th {\n",
       "        text-align: right;\n",
       "    }\n",
       "</style>\n",
       "<table border=\"1\" class=\"dataframe\">\n",
       "  <thead>\n",
       "    <tr style=\"text-align: right;\">\n",
       "      <th></th>\n",
       "      <th>name</th>\n",
       "      <th>pet</th>\n",
       "    </tr>\n",
       "  </thead>\n",
       "  <tbody>\n",
       "    <tr>\n",
       "      <th>0</th>\n",
       "      <td>Fred</td>\n",
       "      <td>Dog</td>\n",
       "    </tr>\n",
       "    <tr>\n",
       "      <th>1</th>\n",
       "      <td>Suzy</td>\n",
       "      <td>Dog</td>\n",
       "    </tr>\n",
       "    <tr>\n",
       "      <th>2</th>\n",
       "      <td>Suzy</td>\n",
       "      <td>Cat</td>\n",
       "    </tr>\n",
       "    <tr>\n",
       "      <th>3</th>\n",
       "      <td>Bob</td>\n",
       "      <td>Fish</td>\n",
       "    </tr>\n",
       "  </tbody>\n",
       "</table>\n",
       "</div>"
      ],
      "text/plain": [
       "   name   pet\n",
       "0  Fred   Dog\n",
       "1  Suzy   Dog\n",
       "2  Suzy   Cat\n",
       "3   Bob  Fish"
      ]
     },
     "metadata": {},
     "output_type": "display_data"
    },
    {
     "data": {
      "text/html": [
       "<div>\n",
       "<style scoped>\n",
       "    .dataframe tbody tr th:only-of-type {\n",
       "        vertical-align: middle;\n",
       "    }\n",
       "\n",
       "    .dataframe tbody tr th {\n",
       "        vertical-align: top;\n",
       "    }\n",
       "\n",
       "    .dataframe thead th {\n",
       "        text-align: right;\n",
       "    }\n",
       "</style>\n",
       "<table border=\"1\" class=\"dataframe\">\n",
       "  <thead>\n",
       "    <tr style=\"text-align: right;\">\n",
       "      <th></th>\n",
       "      <th>Name</th>\n",
       "      <th>Color</th>\n",
       "    </tr>\n",
       "  </thead>\n",
       "  <tbody>\n",
       "    <tr>\n",
       "      <th>0</th>\n",
       "      <td>Suzy</td>\n",
       "      <td>Black</td>\n",
       "    </tr>\n",
       "    <tr>\n",
       "      <th>1</th>\n",
       "      <td>Suzy</td>\n",
       "      <td>Blue</td>\n",
       "    </tr>\n",
       "    <tr>\n",
       "      <th>2</th>\n",
       "      <td>Suzy</td>\n",
       "      <td>Red</td>\n",
       "    </tr>\n",
       "    <tr>\n",
       "      <th>3</th>\n",
       "      <td>Fred</td>\n",
       "      <td>Green</td>\n",
       "    </tr>\n",
       "    <tr>\n",
       "      <th>4</th>\n",
       "      <td>Joe</td>\n",
       "      <td>Yellow</td>\n",
       "    </tr>\n",
       "    <tr>\n",
       "      <th>5</th>\n",
       "      <td>Joe</td>\n",
       "      <td>Blue</td>\n",
       "    </tr>\n",
       "  </tbody>\n",
       "</table>\n",
       "</div>"
      ],
      "text/plain": [
       "   Name   Color\n",
       "0  Suzy   Black\n",
       "1  Suzy    Blue\n",
       "2  Suzy     Red\n",
       "3  Fred   Green\n",
       "4   Joe  Yellow\n",
       "5   Joe    Blue"
      ]
     },
     "metadata": {},
     "output_type": "display_data"
    },
    {
     "data": {
      "text/plain": [
       "(None, None)"
      ]
     },
     "execution_count": 4,
     "metadata": {},
     "output_type": "execute_result"
    }
   ],
   "source": [
    "display(df1), display(df2)"
   ]
  },
  {
   "cell_type": "code",
   "execution_count": 7,
   "id": "820ded8a-278e-40d6-b02e-89fa70906c50",
   "metadata": {
    "execution": {
     "iopub.execute_input": "2022-09-15T16:50:30.017554Z",
     "iopub.status.busy": "2022-09-15T16:50:30.016575Z",
     "iopub.status.idle": "2022-09-15T16:50:30.043551Z",
     "shell.execute_reply": "2022-09-15T16:50:30.042552Z",
     "shell.execute_reply.started": "2022-09-15T16:50:30.017554Z"
    },
    "tags": []
   },
   "outputs": [
    {
     "name": "stdout",
     "output_type": "stream",
     "text": [
      "CPU times: total: 0 ns\n",
      "Wall time: 2 ms\n"
     ]
    },
    {
     "data": {
      "text/html": [
       "<div>\n",
       "<style scoped>\n",
       "    .dataframe tbody tr th:only-of-type {\n",
       "        vertical-align: middle;\n",
       "    }\n",
       "\n",
       "    .dataframe tbody tr th {\n",
       "        vertical-align: top;\n",
       "    }\n",
       "\n",
       "    .dataframe thead th {\n",
       "        text-align: right;\n",
       "    }\n",
       "</style>\n",
       "<table border=\"1\" class=\"dataframe\">\n",
       "  <thead>\n",
       "    <tr style=\"text-align: right;\">\n",
       "      <th></th>\n",
       "      <th>name</th>\n",
       "      <th>pet</th>\n",
       "      <th>Name</th>\n",
       "      <th>Color</th>\n",
       "    </tr>\n",
       "  </thead>\n",
       "  <tbody>\n",
       "    <tr>\n",
       "      <th>0</th>\n",
       "      <td>Fred</td>\n",
       "      <td>Dog</td>\n",
       "      <td>Fred</td>\n",
       "      <td>Green</td>\n",
       "    </tr>\n",
       "    <tr>\n",
       "      <th>1</th>\n",
       "      <td>Suzy</td>\n",
       "      <td>Dog</td>\n",
       "      <td>Suzy</td>\n",
       "      <td>Black</td>\n",
       "    </tr>\n",
       "    <tr>\n",
       "      <th>2</th>\n",
       "      <td>Suzy</td>\n",
       "      <td>Dog</td>\n",
       "      <td>Suzy</td>\n",
       "      <td>Blue</td>\n",
       "    </tr>\n",
       "    <tr>\n",
       "      <th>3</th>\n",
       "      <td>Suzy</td>\n",
       "      <td>Dog</td>\n",
       "      <td>Suzy</td>\n",
       "      <td>Red</td>\n",
       "    </tr>\n",
       "    <tr>\n",
       "      <th>4</th>\n",
       "      <td>Suzy</td>\n",
       "      <td>Cat</td>\n",
       "      <td>Suzy</td>\n",
       "      <td>Black</td>\n",
       "    </tr>\n",
       "    <tr>\n",
       "      <th>5</th>\n",
       "      <td>Suzy</td>\n",
       "      <td>Cat</td>\n",
       "      <td>Suzy</td>\n",
       "      <td>Blue</td>\n",
       "    </tr>\n",
       "    <tr>\n",
       "      <th>6</th>\n",
       "      <td>Suzy</td>\n",
       "      <td>Cat</td>\n",
       "      <td>Suzy</td>\n",
       "      <td>Red</td>\n",
       "    </tr>\n",
       "  </tbody>\n",
       "</table>\n",
       "</div>"
      ],
      "text/plain": [
       "   name  pet  Name  Color\n",
       "0  Fred  Dog  Fred  Green\n",
       "1  Suzy  Dog  Suzy  Black\n",
       "2  Suzy  Dog  Suzy   Blue\n",
       "3  Suzy  Dog  Suzy    Red\n",
       "4  Suzy  Cat  Suzy  Black\n",
       "5  Suzy  Cat  Suzy   Blue\n",
       "6  Suzy  Cat  Suzy    Red"
      ]
     },
     "execution_count": 7,
     "metadata": {},
     "output_type": "execute_result"
    }
   ],
   "source": [
    "%%time\n",
    "# be careful with names. Only because there was a white space after the column `name `, the code below didn't want to work\n",
    "# (df1.merge(df2.assign(name=df2.Name) )) # by default it's an inner join\n",
    "\n",
    "df1.merge(df2, left_on='name', right_on='Name')"
   ]
  },
  {
   "cell_type": "code",
   "execution_count": 8,
   "id": "411b819a-f59d-4c0f-8f8b-36c308952e3c",
   "metadata": {
    "execution": {
     "iopub.execute_input": "2022-09-15T16:50:42.263515Z",
     "iopub.status.busy": "2022-09-15T16:50:42.263515Z",
     "iopub.status.idle": "2022-09-15T16:50:42.285555Z",
     "shell.execute_reply": "2022-09-15T16:50:42.284538Z",
     "shell.execute_reply.started": "2022-09-15T16:50:42.263515Z"
    },
    "tags": []
   },
   "outputs": [
    {
     "name": "stdout",
     "output_type": "stream",
     "text": [
      "CPU times: total: 0 ns\n",
      "Wall time: 3 ms\n"
     ]
    },
    {
     "data": {
      "text/html": [
       "<div>\n",
       "<style scoped>\n",
       "    .dataframe tbody tr th:only-of-type {\n",
       "        vertical-align: middle;\n",
       "    }\n",
       "\n",
       "    .dataframe tbody tr th {\n",
       "        vertical-align: top;\n",
       "    }\n",
       "\n",
       "    .dataframe thead th {\n",
       "        text-align: right;\n",
       "    }\n",
       "</style>\n",
       "<table border=\"1\" class=\"dataframe\">\n",
       "  <thead>\n",
       "    <tr style=\"text-align: right;\">\n",
       "      <th></th>\n",
       "      <th>name</th>\n",
       "      <th>pet</th>\n",
       "      <th>Name</th>\n",
       "      <th>Color</th>\n",
       "    </tr>\n",
       "  </thead>\n",
       "  <tbody>\n",
       "    <tr>\n",
       "      <th>0</th>\n",
       "      <td>Fred</td>\n",
       "      <td>Dog</td>\n",
       "      <td>Fred</td>\n",
       "      <td>Green</td>\n",
       "    </tr>\n",
       "    <tr>\n",
       "      <th>1</th>\n",
       "      <td>Suzy</td>\n",
       "      <td>Dog</td>\n",
       "      <td>Suzy</td>\n",
       "      <td>Black</td>\n",
       "    </tr>\n",
       "    <tr>\n",
       "      <th>2</th>\n",
       "      <td>Suzy</td>\n",
       "      <td>Dog</td>\n",
       "      <td>Suzy</td>\n",
       "      <td>Blue</td>\n",
       "    </tr>\n",
       "    <tr>\n",
       "      <th>3</th>\n",
       "      <td>Suzy</td>\n",
       "      <td>Dog</td>\n",
       "      <td>Suzy</td>\n",
       "      <td>Red</td>\n",
       "    </tr>\n",
       "    <tr>\n",
       "      <th>4</th>\n",
       "      <td>Suzy</td>\n",
       "      <td>Cat</td>\n",
       "      <td>Suzy</td>\n",
       "      <td>Black</td>\n",
       "    </tr>\n",
       "    <tr>\n",
       "      <th>5</th>\n",
       "      <td>Suzy</td>\n",
       "      <td>Cat</td>\n",
       "      <td>Suzy</td>\n",
       "      <td>Blue</td>\n",
       "    </tr>\n",
       "    <tr>\n",
       "      <th>6</th>\n",
       "      <td>Suzy</td>\n",
       "      <td>Cat</td>\n",
       "      <td>Suzy</td>\n",
       "      <td>Red</td>\n",
       "    </tr>\n",
       "    <tr>\n",
       "      <th>7</th>\n",
       "      <td>Bob</td>\n",
       "      <td>Fish</td>\n",
       "      <td>NaN</td>\n",
       "      <td>NaN</td>\n",
       "    </tr>\n",
       "  </tbody>\n",
       "</table>\n",
       "</div>"
      ],
      "text/plain": [
       "   name   pet  Name  Color\n",
       "0  Fred   Dog  Fred  Green\n",
       "1  Suzy   Dog  Suzy  Black\n",
       "2  Suzy   Dog  Suzy   Blue\n",
       "3  Suzy   Dog  Suzy    Red\n",
       "4  Suzy   Cat  Suzy  Black\n",
       "5  Suzy   Cat  Suzy   Blue\n",
       "6  Suzy   Cat  Suzy    Red\n",
       "7   Bob  Fish   NaN    NaN"
      ]
     },
     "execution_count": 8,
     "metadata": {},
     "output_type": "execute_result"
    }
   ],
   "source": [
    "%%time\n",
    "# merge and create new column `name` in df2 so we can merge on it with the df1 that has this column too. \n",
    "(df1.merge(df2.assign(name=df2.Name), how='left')) # all value from df1 will be brought"
   ]
  },
  {
   "cell_type": "code",
   "execution_count": 9,
   "id": "19822e56-1841-46e4-a752-f9adbcc366e3",
   "metadata": {
    "execution": {
     "iopub.execute_input": "2022-09-15T16:50:57.362191Z",
     "iopub.status.busy": "2022-09-15T16:50:57.362191Z",
     "iopub.status.idle": "2022-09-15T16:50:57.376195Z",
     "shell.execute_reply": "2022-09-15T16:50:57.375194Z",
     "shell.execute_reply.started": "2022-09-15T16:50:57.362191Z"
    },
    "tags": []
   },
   "outputs": [
    {
     "name": "stdout",
     "output_type": "stream",
     "text": [
      "CPU times: total: 15.6 ms\n",
      "Wall time: 6 ms\n"
     ]
    }
   ],
   "source": [
    "%%time\n",
    "df1 = (df1.merge(df2.assign(name=df2.Name), how='right')\n",
    "    .assign(pet = df1.pet.fillna(\"no_pet\"),\n",
    "            name = df1.name.replace(\"Suzy\", 'No_Suzy')))"
   ]
  },
  {
   "cell_type": "code",
   "execution_count": 10,
   "id": "15d6eb07-3f7d-4085-a593-1394257d222b",
   "metadata": {
    "execution": {
     "iopub.execute_input": "2022-09-15T16:51:57.130620Z",
     "iopub.status.busy": "2022-09-15T16:51:57.130620Z",
     "iopub.status.idle": "2022-09-15T16:51:57.155629Z",
     "shell.execute_reply": "2022-09-15T16:51:57.154634Z",
     "shell.execute_reply.started": "2022-09-15T16:51:57.130620Z"
    },
    "tags": []
   },
   "outputs": [
    {
     "name": "stdout",
     "output_type": "stream",
     "text": [
      "CPU times: total: 0 ns\n",
      "Wall time: 5 ms\n"
     ]
    }
   ],
   "source": [
    "%%time\n",
    "df1 = (df1.merge(df2, left_on='name', right_on='Name', how='right')\n",
    "    .assign(pet = df1.pet.fillna(\"no_pet\"),\n",
    "            name = df1.name.replace(\"Suzy\", 'No_Suzy')))"
   ]
  },
  {
   "cell_type": "code",
   "execution_count": 26,
   "id": "b9dc8b3a-d573-425e-9f16-320d960f4a52",
   "metadata": {
    "execution": {
     "iopub.execute_input": "2022-09-15T19:14:35.452179Z",
     "iopub.status.busy": "2022-09-15T19:14:35.451178Z",
     "iopub.status.idle": "2022-09-15T19:14:35.967215Z",
     "shell.execute_reply": "2022-09-15T19:14:35.966188Z",
     "shell.execute_reply.started": "2022-09-15T19:14:35.452179Z"
    },
    "tags": []
   },
   "outputs": [
    {
     "data": {
      "text/html": [
       "<div>\n",
       "<style scoped>\n",
       "    .dataframe tbody tr th:only-of-type {\n",
       "        vertical-align: middle;\n",
       "    }\n",
       "\n",
       "    .dataframe tbody tr th {\n",
       "        vertical-align: top;\n",
       "    }\n",
       "\n",
       "    .dataframe thead th {\n",
       "        text-align: right;\n",
       "    }\n",
       "</style>\n",
       "<table border=\"1\" class=\"dataframe\">\n",
       "  <thead>\n",
       "    <tr style=\"text-align: right;\">\n",
       "      <th></th>\n",
       "      <th>cusip</th>\n",
       "      <th>nameOfIssuer</th>\n",
       "      <th>titleOfClass</th>\n",
       "      <th>value</th>\n",
       "      <th>shares</th>\n",
       "      <th>shrsOrPrnAmt</th>\n",
       "      <th>putCall</th>\n",
       "      <th>quarter</th>\n",
       "    </tr>\n",
       "  </thead>\n",
       "  <tbody>\n",
       "    <tr>\n",
       "      <th>0</th>\n",
       "      <td>Y8565J101</td>\n",
       "      <td>COM</td>\n",
       "      <td>COM</td>\n",
       "      <td>507000.0</td>\n",
       "      <td>15190.0</td>\n",
       "      <td>SH</td>\n",
       "      <td>None</td>\n",
       "      <td>2013Q3</td>\n",
       "    </tr>\n",
       "    <tr>\n",
       "      <th>1</th>\n",
       "      <td>Y8564W103</td>\n",
       "      <td>None</td>\n",
       "      <td>None</td>\n",
       "      <td>0.0</td>\n",
       "      <td>0.0</td>\n",
       "      <td>SH</td>\n",
       "      <td>None</td>\n",
       "      <td>2010Q2</td>\n",
       "    </tr>\n",
       "    <tr>\n",
       "      <th>2</th>\n",
       "      <td>Y8564W103</td>\n",
       "      <td>None</td>\n",
       "      <td>None</td>\n",
       "      <td>576000.0</td>\n",
       "      <td>25300.0</td>\n",
       "      <td>SH</td>\n",
       "      <td>None</td>\n",
       "      <td>2010Q1</td>\n",
       "    </tr>\n",
       "    <tr>\n",
       "      <th>3</th>\n",
       "      <td>Y8564W103</td>\n",
       "      <td>None</td>\n",
       "      <td>None</td>\n",
       "      <td>217000.0</td>\n",
       "      <td>9900.0</td>\n",
       "      <td>SH</td>\n",
       "      <td>None</td>\n",
       "      <td>2009Q3</td>\n",
       "    </tr>\n",
       "    <tr>\n",
       "      <th>4</th>\n",
       "      <td>Y8564W103</td>\n",
       "      <td>None</td>\n",
       "      <td>None</td>\n",
       "      <td>162000.0</td>\n",
       "      <td>11426.0</td>\n",
       "      <td>SH</td>\n",
       "      <td>None</td>\n",
       "      <td>2009Q1</td>\n",
       "    </tr>\n",
       "  </tbody>\n",
       "</table>\n",
       "</div>"
      ],
      "text/plain": [
       "       cusip nameOfIssuer titleOfClass     value   shares shrsOrPrnAmt  \\\n",
       "0  Y8565J101          COM          COM  507000.0  15190.0           SH   \n",
       "1  Y8564W103         None         None       0.0      0.0           SH   \n",
       "2  Y8564W103         None         None  576000.0  25300.0           SH   \n",
       "3  Y8564W103         None         None  217000.0   9900.0           SH   \n",
       "4  Y8564W103         None         None  162000.0  11426.0           SH   \n",
       "\n",
       "  putCall quarter  \n",
       "0    None  2013Q3  \n",
       "1    None  2010Q2  \n",
       "2    None  2010Q1  \n",
       "3    None  2009Q3  \n",
       "4    None  2009Q1  "
      ]
     },
     "execution_count": 26,
     "metadata": {},
     "output_type": "execute_result"
    }
   ],
   "source": [
    "\n",
    "\n",
    "# !pip install pyarrow fastparquet\n",
    "df3 = (pd.read_parquet(r\"data/9015-2013-11-12.parquet\")\n",
    "        .drop(columns=['accessionNumber', 'cikManager', 'managerName', 'periodOfReport',\n",
    "        'submissionType', 'filedAsOfDate', 'xml_flag', 'updated_at', 'tr_type', 'tr_shares', 'tr_value',\n",
    "        'quarter_as_int', 'prev_quarter_diff', 'next_quarter_diff',\n",
    "        'quarter_max_filed', 'prev_shares_diff', 'prev_value_diff',\n",
    "        'next_shares_diff', 'next_value_diff']))\n",
    "df4 = pd.read_parquet(r\"data/cusip_md.parquet\")\n",
    "df3.head()"
   ]
  },
  {
   "cell_type": "code",
   "execution_count": 25,
   "id": "51258cc2-7793-41f6-9247-c91fe7c006bf",
   "metadata": {
    "execution": {
     "iopub.execute_input": "2022-09-15T17:00:51.621299Z",
     "iopub.status.busy": "2022-09-15T17:00:51.621299Z",
     "iopub.status.idle": "2022-09-15T17:00:51.637298Z",
     "shell.execute_reply": "2022-09-15T17:00:51.636298Z",
     "shell.execute_reply.started": "2022-09-15T17:00:51.621299Z"
    },
    "tags": []
   },
   "outputs": [
    {
     "data": {
      "text/plain": [
       "(Index(['cusip', 'nameOfIssuer', 'titleOfClass', 'value', 'shares',\n",
       "        'shrsOrPrnAmt', 'putCall', 'quarter'],\n",
       "       dtype='object'),\n",
       " Index(['quarter', 'cusip', 'ticker', 'cusip_description', 'nameofissuer',\n",
       "        'titleofclass'],\n",
       "       dtype='object'),\n",
       " (76879, 8),\n",
       " (1914747, 6))"
      ]
     },
     "execution_count": 25,
     "metadata": {},
     "output_type": "execute_result"
    }
   ],
   "source": [
    "df3.columns, df4.columns, df3.shape, df4.shape\n"
   ]
  },
  {
   "cell_type": "code",
   "execution_count": null,
   "id": "46397703-7758-48f5-8da8-466c237e03b7",
   "metadata": {
    "tags": []
   },
   "outputs": [],
   "source": [
    "# when merging, if left, the values that exist on the left but not on the right, will get displayed, but for the right df, there will be nan for the common column\n",
    "\n",
    "df3.merge(df4, left_on=['quarter', 'cusip'], right_on=['quarter', 'cusip'], how='left')"
   ]
  },
  {
   "cell_type": "code",
   "execution_count": null,
   "id": "37766cf7-2eaf-44b4-a172-a9b61afbdc64",
   "metadata": {
    "tags": []
   },
   "outputs": [],
   "source": [
    "#different style of .merge()\n",
    "(df3.merge(df4.assign(nameOfIssuer = df4.nameofissuer), how='left'))"
   ]
  },
  {
   "cell_type": "code",
   "execution_count": null,
   "id": "7b61db1d-ec35-4e09-918b-c6eb84bda290",
   "metadata": {
    "tags": []
   },
   "outputs": [],
   "source": [
    "\n",
    "(df3.merge(df4, left_on=['quarter', 'cusip'], right_on=['quarter', 'cusip'], how='left' , indicator=True)) "
   ]
  }
 ],
 "metadata": {
  "kernelspec": {
   "display_name": "Python 3 (ipykernel)",
   "language": "python",
   "name": "python3"
  },
  "language_info": {
   "codemirror_mode": {
    "name": "ipython",
    "version": 3
   },
   "file_extension": ".py",
   "mimetype": "text/x-python",
   "name": "python",
   "nbconvert_exporter": "python",
   "pygments_lexer": "ipython3",
   "version": "3.9.7"
  }
 },
 "nbformat": 4,
 "nbformat_minor": 5
}
