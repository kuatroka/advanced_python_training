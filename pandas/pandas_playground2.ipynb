{
 "cells": [
  {
   "cell_type": "markdown",
   "id": "87033f69-ed2f-4316-96f8-c926fcf2a4e5",
   "metadata": {},
   "source": [
    "### .merge()"
   ]
  },
  {
   "cell_type": "code",
   "execution_count": 15,
   "id": "dcb31a24-a4c2-4e20-89b2-4cc52e6f497e",
   "metadata": {
    "execution": {
     "iopub.execute_input": "2022-09-16T15:11:21.644073Z",
     "iopub.status.busy": "2022-09-16T15:11:21.644073Z",
     "iopub.status.idle": "2022-09-16T15:11:21.663250Z",
     "shell.execute_reply": "2022-09-16T15:11:21.662291Z",
     "shell.execute_reply.started": "2022-09-16T15:11:21.644073Z"
    },
    "tags": []
   },
   "outputs": [],
   "source": [
    "import pandas as pd\n",
    "\n",
    "pd.set_option('display.max_columns', 35)\n",
    "pd.set_option(\"display.max_colwidth\",3000)\n",
    "pd.set_option(\"display.max_rows\", None)"
   ]
  },
  {
   "cell_type": "code",
   "execution_count": 82,
   "id": "b50b8e8a-afd9-4ac4-b7d1-3d0522a506f5",
   "metadata": {
    "execution": {
     "iopub.execute_input": "2022-09-15T19:51:13.026139Z",
     "iopub.status.busy": "2022-09-15T19:51:13.026139Z",
     "iopub.status.idle": "2022-09-15T19:51:13.035120Z",
     "shell.execute_reply": "2022-09-15T19:51:13.034107Z",
     "shell.execute_reply.started": "2022-09-15T19:51:13.026139Z"
    },
    "tags": []
   },
   "outputs": [],
   "source": [
    "import pandas as pd\n",
    "import numpy as np\n",
    "df1 = pd.DataFrame({'name': ['Fred', 'Suzy', 'Suzy', 'Bob'],\n",
    "                    'pet': ['Dog', 'Dog', 'Cat', 'Fish']})\n",
    "\n",
    "df2 = pd.DataFrame({'Name': ['Suzy', 'Suzy', 'Suzy', 'Fred', 'Joe', 'Joe'],\n",
    "                    'Color': ['Black', 'Blue', 'Red', 'Green', 'Yellow', 'Blue']})\n"
   ]
  },
  {
   "cell_type": "code",
   "execution_count": 32,
   "id": "b273044c-8f2b-47d2-ae0d-752cfb7601f1",
   "metadata": {
    "execution": {
     "iopub.execute_input": "2022-09-15T19:40:00.434199Z",
     "iopub.status.busy": "2022-09-15T19:40:00.433257Z",
     "iopub.status.idle": "2022-09-15T19:40:00.452202Z",
     "shell.execute_reply": "2022-09-15T19:40:00.451230Z",
     "shell.execute_reply.started": "2022-09-15T19:40:00.434199Z"
    },
    "tags": []
   },
   "outputs": [
    {
     "data": {
      "text/html": [
       "<div>\n",
       "<style scoped>\n",
       "    .dataframe tbody tr th:only-of-type {\n",
       "        vertical-align: middle;\n",
       "    }\n",
       "\n",
       "    .dataframe tbody tr th {\n",
       "        vertical-align: top;\n",
       "    }\n",
       "\n",
       "    .dataframe thead th {\n",
       "        text-align: right;\n",
       "    }\n",
       "</style>\n",
       "<table border=\"1\" class=\"dataframe\">\n",
       "  <thead>\n",
       "    <tr style=\"text-align: right;\">\n",
       "      <th></th>\n",
       "      <th>name</th>\n",
       "      <th>pet</th>\n",
       "    </tr>\n",
       "  </thead>\n",
       "  <tbody>\n",
       "    <tr>\n",
       "      <th>0</th>\n",
       "      <td>Fred</td>\n",
       "      <td>Dog</td>\n",
       "    </tr>\n",
       "    <tr>\n",
       "      <th>1</th>\n",
       "      <td>Suzy</td>\n",
       "      <td>Dog</td>\n",
       "    </tr>\n",
       "    <tr>\n",
       "      <th>2</th>\n",
       "      <td>Suzy</td>\n",
       "      <td>Cat</td>\n",
       "    </tr>\n",
       "    <tr>\n",
       "      <th>3</th>\n",
       "      <td>Bob</td>\n",
       "      <td>Fish</td>\n",
       "    </tr>\n",
       "  </tbody>\n",
       "</table>\n",
       "</div>"
      ],
      "text/plain": [
       "   name   pet\n",
       "0  Fred   Dog\n",
       "1  Suzy   Dog\n",
       "2  Suzy   Cat\n",
       "3   Bob  Fish"
      ]
     },
     "metadata": {},
     "output_type": "display_data"
    },
    {
     "data": {
      "text/html": [
       "<div>\n",
       "<style scoped>\n",
       "    .dataframe tbody tr th:only-of-type {\n",
       "        vertical-align: middle;\n",
       "    }\n",
       "\n",
       "    .dataframe tbody tr th {\n",
       "        vertical-align: top;\n",
       "    }\n",
       "\n",
       "    .dataframe thead th {\n",
       "        text-align: right;\n",
       "    }\n",
       "</style>\n",
       "<table border=\"1\" class=\"dataframe\">\n",
       "  <thead>\n",
       "    <tr style=\"text-align: right;\">\n",
       "      <th></th>\n",
       "      <th>Name</th>\n",
       "      <th>Color</th>\n",
       "    </tr>\n",
       "  </thead>\n",
       "  <tbody>\n",
       "    <tr>\n",
       "      <th>0</th>\n",
       "      <td>Suzy</td>\n",
       "      <td>Black</td>\n",
       "    </tr>\n",
       "    <tr>\n",
       "      <th>1</th>\n",
       "      <td>Suzy</td>\n",
       "      <td>Blue</td>\n",
       "    </tr>\n",
       "    <tr>\n",
       "      <th>2</th>\n",
       "      <td>Suzy</td>\n",
       "      <td>Red</td>\n",
       "    </tr>\n",
       "    <tr>\n",
       "      <th>3</th>\n",
       "      <td>Fred</td>\n",
       "      <td>Green</td>\n",
       "    </tr>\n",
       "    <tr>\n",
       "      <th>4</th>\n",
       "      <td>Joe</td>\n",
       "      <td>Yellow</td>\n",
       "    </tr>\n",
       "    <tr>\n",
       "      <th>5</th>\n",
       "      <td>Joe</td>\n",
       "      <td>Blue</td>\n",
       "    </tr>\n",
       "  </tbody>\n",
       "</table>\n",
       "</div>"
      ],
      "text/plain": [
       "   Name   Color\n",
       "0  Suzy   Black\n",
       "1  Suzy    Blue\n",
       "2  Suzy     Red\n",
       "3  Fred   Green\n",
       "4   Joe  Yellow\n",
       "5   Joe    Blue"
      ]
     },
     "metadata": {},
     "output_type": "display_data"
    },
    {
     "data": {
      "text/plain": [
       "(None, None)"
      ]
     },
     "execution_count": 32,
     "metadata": {},
     "output_type": "execute_result"
    }
   ],
   "source": [
    "display(df1), display(df2)"
   ]
  },
  {
   "cell_type": "code",
   "execution_count": 89,
   "id": "15d6eb07-3f7d-4085-a593-1394257d222b",
   "metadata": {
    "execution": {
     "iopub.execute_input": "2022-09-15T19:51:22.775171Z",
     "iopub.status.busy": "2022-09-15T19:51:22.774138Z",
     "iopub.status.idle": "2022-09-15T19:51:22.802463Z",
     "shell.execute_reply": "2022-09-15T19:51:22.801461Z",
     "shell.execute_reply.started": "2022-09-15T19:51:22.775171Z"
    },
    "tags": []
   },
   "outputs": [
    {
     "name": "stdout",
     "output_type": "stream",
     "text": [
      "CPU times: total: 0 ns\n",
      "Wall time: 3 ms\n"
     ]
    },
    {
     "data": {
      "text/html": [
       "<div>\n",
       "<style scoped>\n",
       "    .dataframe tbody tr th:only-of-type {\n",
       "        vertical-align: middle;\n",
       "    }\n",
       "\n",
       "    .dataframe tbody tr th {\n",
       "        vertical-align: top;\n",
       "    }\n",
       "\n",
       "    .dataframe thead th {\n",
       "        text-align: right;\n",
       "    }\n",
       "</style>\n",
       "<table border=\"1\" class=\"dataframe\">\n",
       "  <thead>\n",
       "    <tr style=\"text-align: right;\">\n",
       "      <th></th>\n",
       "      <th>name</th>\n",
       "      <th>pet</th>\n",
       "      <th>Name</th>\n",
       "      <th>Color</th>\n",
       "    </tr>\n",
       "  </thead>\n",
       "  <tbody>\n",
       "    <tr>\n",
       "      <th>0</th>\n",
       "      <td>Fred</td>\n",
       "      <td>Dog</td>\n",
       "      <td>Fred</td>\n",
       "      <td>Green</td>\n",
       "    </tr>\n",
       "    <tr>\n",
       "      <th>1</th>\n",
       "      <td>No_Suzy</td>\n",
       "      <td>Dog</td>\n",
       "      <td>Suzy</td>\n",
       "      <td>Black</td>\n",
       "    </tr>\n",
       "    <tr>\n",
       "      <th>2</th>\n",
       "      <td>No_Suzy</td>\n",
       "      <td>Cat</td>\n",
       "      <td>Suzy</td>\n",
       "      <td>Blue</td>\n",
       "    </tr>\n",
       "    <tr>\n",
       "      <th>3</th>\n",
       "      <td>Bob</td>\n",
       "      <td>Fish</td>\n",
       "      <td>Suzy</td>\n",
       "      <td>Red</td>\n",
       "    </tr>\n",
       "    <tr>\n",
       "      <th>4</th>\n",
       "      <td>NaN</td>\n",
       "      <td>NaN</td>\n",
       "      <td>Suzy</td>\n",
       "      <td>Black</td>\n",
       "    </tr>\n",
       "    <tr>\n",
       "      <th>5</th>\n",
       "      <td>NaN</td>\n",
       "      <td>NaN</td>\n",
       "      <td>Suzy</td>\n",
       "      <td>Blue</td>\n",
       "    </tr>\n",
       "    <tr>\n",
       "      <th>6</th>\n",
       "      <td>NaN</td>\n",
       "      <td>NaN</td>\n",
       "      <td>Suzy</td>\n",
       "      <td>Red</td>\n",
       "    </tr>\n",
       "    <tr>\n",
       "      <th>7</th>\n",
       "      <td>NaN</td>\n",
       "      <td>NaN</td>\n",
       "      <td>NaN</td>\n",
       "      <td>NaN</td>\n",
       "    </tr>\n",
       "  </tbody>\n",
       "</table>\n",
       "</div>"
      ],
      "text/plain": [
       "      name   pet  Name  Color\n",
       "0     Fred   Dog  Fred  Green\n",
       "1  No_Suzy   Dog  Suzy  Black\n",
       "2  No_Suzy   Cat  Suzy   Blue\n",
       "3      Bob  Fish  Suzy    Red\n",
       "4      NaN   NaN  Suzy  Black\n",
       "5      NaN   NaN  Suzy   Blue\n",
       "6      NaN   NaN  Suzy    Red\n",
       "7      NaN   NaN   NaN    NaN"
      ]
     },
     "execution_count": 89,
     "metadata": {},
     "output_type": "execute_result"
    }
   ],
   "source": [
    "%%time\n",
    "(df1.merge(df2, left_on='name', right_on='Name', how='left')\n",
    "    .assign(pet = df1.pet.fillna(\"no_pet\"),\n",
    "            name = df1.name.replace(\"Suzy\", 'No_Suzy')))"
   ]
  },
  {
   "cell_type": "code",
   "execution_count": 76,
   "id": "820ded8a-278e-40d6-b02e-89fa70906c50",
   "metadata": {
    "execution": {
     "iopub.execute_input": "2022-09-15T19:49:55.560767Z",
     "iopub.status.busy": "2022-09-15T19:49:55.560767Z",
     "iopub.status.idle": "2022-09-15T19:49:55.586774Z",
     "shell.execute_reply": "2022-09-15T19:49:55.585764Z",
     "shell.execute_reply.started": "2022-09-15T19:49:55.560767Z"
    },
    "tags": []
   },
   "outputs": [
    {
     "name": "stdout",
     "output_type": "stream",
     "text": [
      "CPU times: total: 0 ns\n",
      "Wall time: 4.01 ms\n"
     ]
    },
    {
     "data": {
      "text/html": [
       "<div>\n",
       "<style scoped>\n",
       "    .dataframe tbody tr th:only-of-type {\n",
       "        vertical-align: middle;\n",
       "    }\n",
       "\n",
       "    .dataframe tbody tr th {\n",
       "        vertical-align: top;\n",
       "    }\n",
       "\n",
       "    .dataframe thead th {\n",
       "        text-align: right;\n",
       "    }\n",
       "</style>\n",
       "<table border=\"1\" class=\"dataframe\">\n",
       "  <thead>\n",
       "    <tr style=\"text-align: right;\">\n",
       "      <th></th>\n",
       "      <th>name</th>\n",
       "      <th>Theme</th>\n",
       "    </tr>\n",
       "  </thead>\n",
       "  <tbody>\n",
       "    <tr>\n",
       "      <th>0</th>\n",
       "      <td>Fred</td>\n",
       "      <td>Green</td>\n",
       "    </tr>\n",
       "    <tr>\n",
       "      <th>1</th>\n",
       "      <td>Suzy</td>\n",
       "      <td>Black</td>\n",
       "    </tr>\n",
       "    <tr>\n",
       "      <th>2</th>\n",
       "      <td>Suzy</td>\n",
       "      <td>Blue</td>\n",
       "    </tr>\n",
       "    <tr>\n",
       "      <th>3</th>\n",
       "      <td>Suzy</td>\n",
       "      <td>Red</td>\n",
       "    </tr>\n",
       "    <tr>\n",
       "      <th>4</th>\n",
       "      <td>Suzy</td>\n",
       "      <td>Black</td>\n",
       "    </tr>\n",
       "    <tr>\n",
       "      <th>5</th>\n",
       "      <td>Suzy</td>\n",
       "      <td>Blue</td>\n",
       "    </tr>\n",
       "    <tr>\n",
       "      <th>6</th>\n",
       "      <td>Suzy</td>\n",
       "      <td>Red</td>\n",
       "    </tr>\n",
       "  </tbody>\n",
       "</table>\n",
       "</div>"
      ],
      "text/plain": [
       "   name  Theme\n",
       "0  Fred  Green\n",
       "1  Suzy  Black\n",
       "2  Suzy   Blue\n",
       "3  Suzy    Red\n",
       "4  Suzy  Black\n",
       "5  Suzy   Blue\n",
       "6  Suzy    Red"
      ]
     },
     "execution_count": 76,
     "metadata": {},
     "output_type": "execute_result"
    }
   ],
   "source": [
    "%%time\n",
    "# be careful with names. Only because there was a white space after the column `name `, the code below didn't want to work\n",
    "# (df1.merge(df2.assign(name=df2.Name) )) # by default it's an inner join\n",
    "\n",
    "# df1.merge(df2, left_on='name', right_on='Name', how='left')\n",
    "(df1[['name']].merge(df2[['Name', 'Color']], left_on='name', right_on='Name', how='inner')\n",
    "              .rename(columns={'Color':'Theme'})\n",
    "              .drop(columns=['Name']))\n"
   ]
  },
  {
   "cell_type": "code",
   "execution_count": 16,
   "id": "b9dc8b3a-d573-425e-9f16-320d960f4a52",
   "metadata": {
    "execution": {
     "iopub.execute_input": "2022-09-16T15:11:25.580417Z",
     "iopub.status.busy": "2022-09-16T15:11:25.580417Z",
     "iopub.status.idle": "2022-09-16T15:11:26.067967Z",
     "shell.execute_reply": "2022-09-16T15:11:26.067967Z",
     "shell.execute_reply.started": "2022-09-16T15:11:25.580417Z"
    },
    "tags": []
   },
   "outputs": [
    {
     "data": {
      "text/html": [
       "<div>\n",
       "<style scoped>\n",
       "    .dataframe tbody tr th:only-of-type {\n",
       "        vertical-align: middle;\n",
       "    }\n",
       "\n",
       "    .dataframe tbody tr th {\n",
       "        vertical-align: top;\n",
       "    }\n",
       "\n",
       "    .dataframe thead th {\n",
       "        text-align: right;\n",
       "    }\n",
       "</style>\n",
       "<table border=\"1\" class=\"dataframe\">\n",
       "  <thead>\n",
       "    <tr style=\"text-align: right;\">\n",
       "      <th></th>\n",
       "      <th>cusip</th>\n",
       "      <th>nameOfIssuer</th>\n",
       "      <th>titleOfClass</th>\n",
       "      <th>value</th>\n",
       "      <th>shares</th>\n",
       "      <th>shrsOrPrnAmt</th>\n",
       "      <th>putCall</th>\n",
       "      <th>quarter</th>\n",
       "    </tr>\n",
       "  </thead>\n",
       "  <tbody>\n",
       "    <tr>\n",
       "      <th>0</th>\n",
       "      <td>Y8565J101</td>\n",
       "      <td>COM</td>\n",
       "      <td>COM</td>\n",
       "      <td>507000.0</td>\n",
       "      <td>15190.0</td>\n",
       "      <td>SH</td>\n",
       "      <td>None</td>\n",
       "      <td>2013Q3</td>\n",
       "    </tr>\n",
       "    <tr>\n",
       "      <th>1</th>\n",
       "      <td>Y8564W103</td>\n",
       "      <td>None</td>\n",
       "      <td>None</td>\n",
       "      <td>0.0</td>\n",
       "      <td>0.0</td>\n",
       "      <td>SH</td>\n",
       "      <td>None</td>\n",
       "      <td>2010Q2</td>\n",
       "    </tr>\n",
       "    <tr>\n",
       "      <th>2</th>\n",
       "      <td>Y8564W103</td>\n",
       "      <td>None</td>\n",
       "      <td>None</td>\n",
       "      <td>576000.0</td>\n",
       "      <td>25300.0</td>\n",
       "      <td>SH</td>\n",
       "      <td>None</td>\n",
       "      <td>2010Q1</td>\n",
       "    </tr>\n",
       "    <tr>\n",
       "      <th>3</th>\n",
       "      <td>Y8564W103</td>\n",
       "      <td>None</td>\n",
       "      <td>None</td>\n",
       "      <td>217000.0</td>\n",
       "      <td>9900.0</td>\n",
       "      <td>SH</td>\n",
       "      <td>None</td>\n",
       "      <td>2009Q3</td>\n",
       "    </tr>\n",
       "    <tr>\n",
       "      <th>4</th>\n",
       "      <td>Y8564W103</td>\n",
       "      <td>None</td>\n",
       "      <td>None</td>\n",
       "      <td>162000.0</td>\n",
       "      <td>11426.0</td>\n",
       "      <td>SH</td>\n",
       "      <td>None</td>\n",
       "      <td>2009Q1</td>\n",
       "    </tr>\n",
       "  </tbody>\n",
       "</table>\n",
       "</div>"
      ],
      "text/plain": [
       "       cusip nameOfIssuer titleOfClass     value   shares shrsOrPrnAmt  \\\n",
       "0  Y8565J101          COM          COM  507000.0  15190.0           SH   \n",
       "1  Y8564W103         None         None       0.0      0.0           SH   \n",
       "2  Y8564W103         None         None  576000.0  25300.0           SH   \n",
       "3  Y8564W103         None         None  217000.0   9900.0           SH   \n",
       "4  Y8564W103         None         None  162000.0  11426.0           SH   \n",
       "\n",
       "  putCall quarter  \n",
       "0    None  2013Q3  \n",
       "1    None  2010Q2  \n",
       "2    None  2010Q1  \n",
       "3    None  2009Q3  \n",
       "4    None  2009Q1  "
      ]
     },
     "execution_count": 16,
     "metadata": {},
     "output_type": "execute_result"
    }
   ],
   "source": [
    "\n",
    "# !pip install pyarrow fastparquet\n",
    "df3 = (pd.read_parquet(r\"data/9015-2013-11-12.parquet\")\n",
    "        .drop(columns=['accessionNumber', 'cikManager', 'managerName', 'periodOfReport',\n",
    "        'submissionType', 'filedAsOfDate', 'xml_flag', 'updated_at', 'tr_type', 'tr_shares', 'tr_value',\n",
    "        'quarter_as_int', 'prev_quarter_diff', 'next_quarter_diff',\n",
    "        'quarter_max_filed', 'prev_shares_diff', 'prev_value_diff',\n",
    "        'next_shares_diff', 'next_value_diff']))#.head(1000)\n",
    "df4 = pd.read_parquet(r\"data/cusip_md.parquet\")#.head(10000)\n",
    "df3.head()"
   ]
  },
  {
   "cell_type": "code",
   "execution_count": 18,
   "id": "51258cc2-7793-41f6-9247-c91fe7c006bf",
   "metadata": {
    "execution": {
     "iopub.execute_input": "2022-09-16T15:11:40.091361Z",
     "iopub.status.busy": "2022-09-16T15:11:40.090361Z",
     "iopub.status.idle": "2022-09-16T15:11:40.108080Z",
     "shell.execute_reply": "2022-09-16T15:11:40.107094Z",
     "shell.execute_reply.started": "2022-09-16T15:11:40.091361Z"
    },
    "tags": []
   },
   "outputs": [
    {
     "data": {
      "text/plain": [
       "(Index(['cusip', 'nameOfIssuer', 'titleOfClass', 'value', 'shares',\n",
       "        'shrsOrPrnAmt', 'putCall', 'quarter'],\n",
       "       dtype='object'),\n",
       " Index(['quarter', 'cusip', 'ticker', 'cusip_description', 'nameofissuer',\n",
       "        'titleofclass'],\n",
       "       dtype='object'),\n",
       " (76879, 8),\n",
       " (1914747, 6))"
      ]
     },
     "execution_count": 18,
     "metadata": {},
     "output_type": "execute_result"
    }
   ],
   "source": [
    "df3.columns, df4.columns, df3.shape, df4.shape\n"
   ]
  },
  {
   "cell_type": "code",
   "execution_count": 17,
   "id": "46397703-7758-48f5-8da8-466c237e03b7",
   "metadata": {
    "execution": {
     "iopub.execute_input": "2022-09-16T15:11:29.209064Z",
     "iopub.status.busy": "2022-09-16T15:11:29.209064Z",
     "iopub.status.idle": "2022-09-16T15:11:29.737546Z",
     "shell.execute_reply": "2022-09-16T15:11:29.736549Z",
     "shell.execute_reply.started": "2022-09-16T15:11:29.209064Z"
    },
    "tags": []
   },
   "outputs": [
    {
     "name": "stdout",
     "output_type": "stream",
     "text": [
      "CPU times: total: 531 ms\n",
      "Wall time: 513 ms\n"
     ]
    },
    {
     "data": {
      "text/html": [
       "<div>\n",
       "<style scoped>\n",
       "    .dataframe tbody tr th:only-of-type {\n",
       "        vertical-align: middle;\n",
       "    }\n",
       "\n",
       "    .dataframe tbody tr th {\n",
       "        vertical-align: top;\n",
       "    }\n",
       "\n",
       "    .dataframe thead th {\n",
       "        text-align: right;\n",
       "    }\n",
       "</style>\n",
       "<table border=\"1\" class=\"dataframe\">\n",
       "  <thead>\n",
       "    <tr style=\"text-align: right;\">\n",
       "      <th></th>\n",
       "      <th>cusip</th>\n",
       "      <th>quarter</th>\n",
       "      <th>nameOfIssuer</th>\n",
       "      <th>titleOfClass</th>\n",
       "      <th>nameofissuer</th>\n",
       "      <th>titleofclass</th>\n",
       "    </tr>\n",
       "  </thead>\n",
       "  <tbody>\n",
       "    <tr>\n",
       "      <th>0</th>\n",
       "      <td>Y8565J101</td>\n",
       "      <td>2013Q3</td>\n",
       "      <td>COM</td>\n",
       "      <td>COM</td>\n",
       "      <td>TEEKAY OFFSHORE PARTNERS L P</td>\n",
       "      <td>PARTNERSHIP UN</td>\n",
       "    </tr>\n",
       "    <tr>\n",
       "      <th>1</th>\n",
       "      <td>Y8564W103</td>\n",
       "      <td>2010Q2</td>\n",
       "      <td>None</td>\n",
       "      <td>None</td>\n",
       "      <td>TEEKAY CORPORATION</td>\n",
       "      <td>COM</td>\n",
       "    </tr>\n",
       "    <tr>\n",
       "      <th>2</th>\n",
       "      <td>Y8564W103</td>\n",
       "      <td>2010Q1</td>\n",
       "      <td>None</td>\n",
       "      <td>None</td>\n",
       "      <td>TEEKAY CORPORATION</td>\n",
       "      <td>COM</td>\n",
       "    </tr>\n",
       "    <tr>\n",
       "      <th>3</th>\n",
       "      <td>Y8564W103</td>\n",
       "      <td>2009Q3</td>\n",
       "      <td>None</td>\n",
       "      <td>None</td>\n",
       "      <td>TEEKAY CORPORATION</td>\n",
       "      <td>COM</td>\n",
       "    </tr>\n",
       "    <tr>\n",
       "      <th>4</th>\n",
       "      <td>Y8564W103</td>\n",
       "      <td>2009Q1</td>\n",
       "      <td>None</td>\n",
       "      <td>None</td>\n",
       "      <td>TEEKAY CORPORATION</td>\n",
       "      <td>COM</td>\n",
       "    </tr>\n",
       "  </tbody>\n",
       "</table>\n",
       "</div>"
      ],
      "text/plain": [
       "       cusip quarter nameOfIssuer titleOfClass                  nameofissuer  \\\n",
       "0  Y8565J101  2013Q3          COM          COM  TEEKAY OFFSHORE PARTNERS L P   \n",
       "1  Y8564W103  2010Q2         None         None            TEEKAY CORPORATION   \n",
       "2  Y8564W103  2010Q1         None         None            TEEKAY CORPORATION   \n",
       "3  Y8564W103  2009Q3         None         None            TEEKAY CORPORATION   \n",
       "4  Y8564W103  2009Q1         None         None            TEEKAY CORPORATION   \n",
       "\n",
       "     titleofclass  \n",
       "0  PARTNERSHIP UN  \n",
       "1             COM  \n",
       "2             COM  \n",
       "3             COM  \n",
       "4             COM  "
      ]
     },
     "execution_count": 17,
     "metadata": {},
     "output_type": "execute_result"
    }
   ],
   "source": [
    "%%time\n",
    "# when merging, if left, the values that exist on the left but not on the right, will get displayed, but for the right df, there will be nan for the common column\n",
    "import numpy as np\n",
    "\n",
    "df34 = (df3[['cusip', 'quarter','nameOfIssuer', 'titleOfClass']].merge(df4[['cusip', 'quarter','nameofissuer', 'titleofclass']], \\\n",
    "                                                               left_on=['cusip', 'quarter'], right_on=['cusip', 'quarter'], how='left'))\n",
    "\n",
    "\n",
    "# df34 = (df34.assign(nameOfIssuer=df34['nameofissuer'],\n",
    "#                   titleOfClass=df34['titleofclass'])\n",
    "#             .drop(columns=['nameofissuer', 'titleofclass']))\n",
    "# df34.titleOfClass[df34.titleOfClass == 'COM']  = 'DOT.COM'\n",
    "# df34.titleOfClass[df34.quarter == '2010Q2']  = 'no_COM'\n",
    "# df34[\"cusip\"] = np.where(df34[\"nameOfIssuer\"].str.contains('PARTNER'), \"1\",  df34.cusip)\n",
    "df34.head()"
   ]
  },
  {
   "cell_type": "code",
   "execution_count": null,
   "id": "7b61db1d-ec35-4e09-918b-c6eb84bda290",
   "metadata": {
    "tags": []
   },
   "outputs": [],
   "source": [
    "# (df3.merge(df4, left_on=['quarter', 'cusip'], right_on=['quarter', 'cusip'], how='left' , indicator=True)) "
   ]
  },
  {
   "cell_type": "code",
   "execution_count": 43,
   "id": "d898db5a-4a1c-48c8-9161-ebf282f18fa4",
   "metadata": {
    "execution": {
     "iopub.execute_input": "2022-09-15T20:53:47.844207Z",
     "iopub.status.busy": "2022-09-15T20:53:47.843182Z",
     "iopub.status.idle": "2022-09-15T20:54:00.221929Z",
     "shell.execute_reply": "2022-09-15T20:54:00.221929Z",
     "shell.execute_reply.started": "2022-09-15T20:53:47.844207Z"
    },
    "tags": []
   },
   "outputs": [
    {
     "name": "stderr",
     "output_type": "stream",
     "text": [
      "C:\\Users\\yo_fanpc\\AppData\\Local\\Temp\\ipykernel_20496\\3616401469.py:4: DtypeWarning: Columns (7) have mixed types. Specify dtype option on import or set low_memory=False.\n",
      "  df = pd.read_csv(url, skiprows=lambda num: num <34 or num ==35, sep='\\t')\n"
     ]
    },
    {
     "data": {
      "text/html": [
       "<div>\n",
       "<style scoped>\n",
       "    .dataframe tbody tr th:only-of-type {\n",
       "        vertical-align: middle;\n",
       "    }\n",
       "\n",
       "    .dataframe tbody tr th {\n",
       "        vertical-align: top;\n",
       "    }\n",
       "\n",
       "    .dataframe thead th {\n",
       "        text-align: right;\n",
       "    }\n",
       "</style>\n",
       "<table border=\"1\" class=\"dataframe\">\n",
       "  <thead>\n",
       "    <tr style=\"text-align: right;\">\n",
       "      <th></th>\n",
       "      <th>agency_cd</th>\n",
       "      <th>site_no</th>\n",
       "      <th>datetime</th>\n",
       "      <th>tz_cd</th>\n",
       "      <th>144166_00060</th>\n",
       "      <th>144166_00060_cd</th>\n",
       "      <th>144167_00065</th>\n",
       "      <th>144167_00065_cd</th>\n",
       "    </tr>\n",
       "  </thead>\n",
       "  <tbody>\n",
       "    <tr>\n",
       "      <th>0</th>\n",
       "      <td>USGS</td>\n",
       "      <td>9333500</td>\n",
       "      <td>2001-05-07 01:00</td>\n",
       "      <td>MDT</td>\n",
       "      <td>71.0</td>\n",
       "      <td>A:[91]</td>\n",
       "      <td>NaN</td>\n",
       "      <td>NaN</td>\n",
       "    </tr>\n",
       "    <tr>\n",
       "      <th>1</th>\n",
       "      <td>USGS</td>\n",
       "      <td>9333500</td>\n",
       "      <td>2001-05-07 01:15</td>\n",
       "      <td>MDT</td>\n",
       "      <td>71.0</td>\n",
       "      <td>A:[91]</td>\n",
       "      <td>NaN</td>\n",
       "      <td>NaN</td>\n",
       "    </tr>\n",
       "    <tr>\n",
       "      <th>2</th>\n",
       "      <td>USGS</td>\n",
       "      <td>9333500</td>\n",
       "      <td>2001-05-07 01:30</td>\n",
       "      <td>MDT</td>\n",
       "      <td>71.0</td>\n",
       "      <td>A:[91]</td>\n",
       "      <td>NaN</td>\n",
       "      <td>NaN</td>\n",
       "    </tr>\n",
       "    <tr>\n",
       "      <th>3</th>\n",
       "      <td>USGS</td>\n",
       "      <td>9333500</td>\n",
       "      <td>2001-05-07 01:45</td>\n",
       "      <td>MDT</td>\n",
       "      <td>70.0</td>\n",
       "      <td>A:[91]</td>\n",
       "      <td>NaN</td>\n",
       "      <td>NaN</td>\n",
       "    </tr>\n",
       "    <tr>\n",
       "      <th>4</th>\n",
       "      <td>USGS</td>\n",
       "      <td>9333500</td>\n",
       "      <td>2001-05-07 02:00</td>\n",
       "      <td>MDT</td>\n",
       "      <td>70.0</td>\n",
       "      <td>A:[91]</td>\n",
       "      <td>NaN</td>\n",
       "      <td>NaN</td>\n",
       "    </tr>\n",
       "  </tbody>\n",
       "</table>\n",
       "</div>"
      ],
      "text/plain": [
       "  agency_cd  site_no          datetime tz_cd  144166_00060 144166_00060_cd  \\\n",
       "0      USGS  9333500  2001-05-07 01:00   MDT          71.0          A:[91]   \n",
       "1      USGS  9333500  2001-05-07 01:15   MDT          71.0          A:[91]   \n",
       "2      USGS  9333500  2001-05-07 01:30   MDT          71.0          A:[91]   \n",
       "3      USGS  9333500  2001-05-07 01:45   MDT          70.0          A:[91]   \n",
       "4      USGS  9333500  2001-05-07 02:00   MDT          70.0          A:[91]   \n",
       "\n",
       "   144167_00065 144167_00065_cd  \n",
       "0           NaN             NaN  \n",
       "1           NaN             NaN  \n",
       "2           NaN             NaN  \n",
       "3           NaN             NaN  \n",
       "4           NaN             NaN  "
      ]
     },
     "execution_count": 43,
     "metadata": {},
     "output_type": "execute_result"
    }
   ],
   "source": [
    "url = r\"https://raw.githubusercontent.com/mattharrison/datasets/\" \\\n",
    "       \"master/data/dirtydevil.txt\"\n",
    "\n",
    "df = pd.read_csv(url, skiprows=lambda num: num <34 or num ==35, sep='\\t')\n",
    "df.head()"
   ]
  },
  {
   "cell_type": "code",
   "execution_count": 44,
   "id": "8e485bc4-501e-40f2-9e17-52ccce7b7876",
   "metadata": {
    "execution": {
     "iopub.execute_input": "2022-09-15T21:02:55.139097Z",
     "iopub.status.busy": "2022-09-15T21:02:55.138113Z",
     "iopub.status.idle": "2022-09-15T21:02:55.155099Z",
     "shell.execute_reply": "2022-09-15T21:02:55.155099Z",
     "shell.execute_reply.started": "2022-09-15T21:02:55.139097Z"
    }
   },
   "outputs": [],
   "source": [
    "def to_us_mountain_time(df_, time_col, tz_col):\n",
    "    return (df_\n",
    "            .assign(**{tz_col: df_[tz_col].replace('MDT', 'MST7MDT')})\n",
    "            .groupby(tz_col)\n",
    "            [time_col]\n",
    "            .transform(lambda s: pd.to_datetime(s)\n",
    "                      .dt.tz_localize(s.name, ambiguous=True)\n",
    "                      .dt.tz_convert('US/Mountain'))\n",
    "        )"
   ]
  },
  {
   "cell_type": "code",
   "execution_count": 1,
   "id": "2192fb66-2cb9-480d-996a-b3821ccd78da",
   "metadata": {
    "execution": {
     "iopub.execute_input": "2022-09-16T14:51:18.648788Z",
     "iopub.status.busy": "2022-09-16T14:51:18.647787Z",
     "iopub.status.idle": "2022-09-16T14:51:19.875257Z",
     "shell.execute_reply": "2022-09-16T14:51:19.874500Z",
     "shell.execute_reply.started": "2022-09-16T14:51:18.648788Z"
    },
    "tags": []
   },
   "outputs": [],
   "source": [
    "# !python -m pip install numba vaex\n",
    "import vaex"
   ]
  },
  {
   "cell_type": "code",
   "execution_count": 2,
   "id": "2d61faef-bef5-4607-867f-90db94389e3f",
   "metadata": {
    "execution": {
     "iopub.execute_input": "2022-09-16T14:53:00.126019Z",
     "iopub.status.busy": "2022-09-16T14:53:00.126019Z",
     "iopub.status.idle": "2022-09-16T14:53:00.817379Z",
     "shell.execute_reply": "2022-09-16T14:53:00.816584Z",
     "shell.execute_reply.started": "2022-09-16T14:53:00.126019Z"
    }
   },
   "outputs": [],
   "source": [
    "df_vaex1 = vaex.open(r\"data/9015-2013-11-12.parquet\")\n",
    "df_vaex2 = vaex.open(r\"data/cusip_md.parquet\")"
   ]
  },
  {
   "cell_type": "code",
   "execution_count": 10,
   "id": "adf67ff7-abf7-481e-8eca-537d752b404b",
   "metadata": {
    "execution": {
     "iopub.execute_input": "2022-09-16T15:08:30.533337Z",
     "iopub.status.busy": "2022-09-16T15:08:30.533337Z",
     "iopub.status.idle": "2022-09-16T15:08:30.859415Z",
     "shell.execute_reply": "2022-09-16T15:08:30.858415Z",
     "shell.execute_reply.started": "2022-09-16T15:08:30.533337Z"
    },
    "tags": []
   },
   "outputs": [
    {
     "name": "stdout",
     "output_type": "stream",
     "text": [
      "CPU times: total: 1.06 s\n",
      "Wall time: 319 ms\n"
     ]
    }
   ],
   "source": [
    "%%time\n",
    "# (df3.merge(df4, left_on=['quarter', 'cusip'], right_on=['quarter', 'cusip'], how='left' , indicator=True)) \n",
    "df_vaex_result = (df_vaex1[['cusip', 'quarter','nameOfIssuer', 'titleOfClass']]\n",
    "         .join(df_vaex2[['cusip', 'quarter','nameofissuer', 'titleofclass']],\n",
    "                left_on=\"cusip\",\n",
    "                right_on=\"cusip\", how='left', lprefix='y_', allow_duplication=True))"
   ]
  },
  {
   "cell_type": "code",
   "execution_count": 12,
   "id": "f6c849d1-89a7-465e-95f1-27e83ad9afc8",
   "metadata": {
    "execution": {
     "iopub.execute_input": "2022-09-16T15:09:21.941857Z",
     "iopub.status.busy": "2022-09-16T15:09:21.941857Z",
     "iopub.status.idle": "2022-09-16T15:09:23.453178Z",
     "shell.execute_reply": "2022-09-16T15:09:23.452180Z",
     "shell.execute_reply.started": "2022-09-16T15:09:21.941857Z"
    },
    "tags": []
   },
   "outputs": [
    {
     "data": {
      "text/html": [
       "<table>\n",
       "<thead>\n",
       "<tr><th>#                                    </th><th>y_cusip  </th><th>nameOfIssuer  </th><th>titleOfClass  </th><th>y_quarter  </th><th>cusip    </th><th>quarter  </th><th>nameofissuer                </th><th>titleofclass  </th></tr>\n",
       "</thead>\n",
       "<tbody>\n",
       "<tr><td><i style='opacity: 0.6'>0</i>        </td><td>Y8565J101</td><td>COM           </td><td>COM           </td><td>2013Q3     </td><td>Y8565J101</td><td>2020Q1   </td><td>TEEKAY OFFSHORE PARTNERS L P</td><td>PARTNERSHIP UN</td></tr>\n",
       "<tr><td><i style='opacity: 0.6'>1</i>        </td><td>Y8564W103</td><td>None          </td><td>None          </td><td>2010Q2     </td><td>Y8564W103</td><td>2022Q3   </td><td>None                        </td><td>None          </td></tr>\n",
       "<tr><td><i style='opacity: 0.6'>2</i>        </td><td>Y8564W103</td><td>None          </td><td>None          </td><td>2010Q1     </td><td>Y8564W103</td><td>2022Q3   </td><td>None                        </td><td>None          </td></tr>\n",
       "<tr><td><i style='opacity: 0.6'>3</i>        </td><td>Y8564W103</td><td>None          </td><td>None          </td><td>2009Q3     </td><td>Y8564W103</td><td>2022Q3   </td><td>None                        </td><td>None          </td></tr>\n",
       "<tr><td><i style='opacity: 0.6'>4</i>        </td><td>Y8564W103</td><td>None          </td><td>None          </td><td>2009Q1     </td><td>Y8564W103</td><td>2022Q3   </td><td>None                        </td><td>None          </td></tr>\n",
       "<tr><td>...                                  </td><td>...      </td><td>...           </td><td>...           </td><td>...        </td><td>...      </td><td>...      </td><td>...                         </td><td>...           </td></tr>\n",
       "<tr><td><i style='opacity: 0.6'>4,698,664</i></td><td>227116100</td><td>None          </td><td>None          </td><td>2005Q2     </td><td>227116100</td><td>2000Q3   </td><td>CROMPTON CORP               </td><td>COM           </td></tr>\n",
       "<tr><td><i style='opacity: 0.6'>4,698,665</i></td><td>227111101</td><td>None          </td><td>None          </td><td>1999Q3     </td><td>227111101</td><td>1999Q2   </td><td>CROMPTON &amp; KNOWLES CORP     </td><td>COM           </td></tr>\n",
       "<tr><td><i style='opacity: 0.6'>4,698,666</i></td><td>227111101</td><td>None          </td><td>None          </td><td>1999Q3     </td><td>227111101</td><td>1999Q1   </td><td>¥ CROMPTON &amp; KNOWLES CORP   </td><td>COM           </td></tr>\n",
       "<tr><td><i style='opacity: 0.6'>4,698,667</i></td><td>227111101</td><td>None          </td><td>None          </td><td>1999Q2     </td><td>227111101</td><td>1999Q2   </td><td>CROMPTON &amp; KNOWLES CORP     </td><td>COM           </td></tr>\n",
       "<tr><td><i style='opacity: 0.6'>4,698,668</i></td><td>227111101</td><td>None          </td><td>None          </td><td>1999Q2     </td><td>227111101</td><td>1999Q1   </td><td>¥ CROMPTON &amp; KNOWLES CORP   </td><td>COM           </td></tr>\n",
       "</tbody>\n",
       "</table>"
      ],
      "text/plain": [
       "#          y_cusip    nameOfIssuer    titleOfClass    y_quarter    cusip      quarter    nameofissuer                  titleofclass\n",
       "0          Y8565J101  COM             COM             2013Q3       Y8565J101  2020Q1     TEEKAY OFFSHORE PARTNERS L P  PARTNERSHIP UN\n",
       "1          Y8564W103  None            None            2010Q2       Y8564W103  2022Q3     None                          None\n",
       "2          Y8564W103  None            None            2010Q1       Y8564W103  2022Q3     None                          None\n",
       "3          Y8564W103  None            None            2009Q3       Y8564W103  2022Q3     None                          None\n",
       "4          Y8564W103  None            None            2009Q1       Y8564W103  2022Q3     None                          None\n",
       "...        ...        ...             ...             ...          ...        ...        ...                           ...\n",
       "4,698,664  227116100  None            None            2005Q2       227116100  2000Q3     CROMPTON CORP                 COM\n",
       "4,698,665  227111101  None            None            1999Q3       227111101  1999Q2     CROMPTON & KNOWLES CORP       COM\n",
       "4,698,666  227111101  None            None            1999Q3       227111101  1999Q1     ¥ CROMPTON & KNOWLES CORP     COM\n",
       "4,698,667  227111101  None            None            1999Q2       227111101  1999Q2     CROMPTON & KNOWLES CORP       COM\n",
       "4,698,668  227111101  None            None            1999Q2       227111101  1999Q1     ¥ CROMPTON & KNOWLES CORP     COM"
      ]
     },
     "execution_count": 12,
     "metadata": {},
     "output_type": "execute_result"
    }
   ],
   "source": [
    "df_vaex_result.filter('y_cusip' == \"Y8564W103\")"
   ]
  }
 ],
 "metadata": {
  "kernelspec": {
   "display_name": "Python 3 (ipykernel)",
   "language": "python",
   "name": "python3"
  },
  "language_info": {
   "codemirror_mode": {
    "name": "ipython",
    "version": 3
   },
   "file_extension": ".py",
   "mimetype": "text/x-python",
   "name": "python",
   "nbconvert_exporter": "python",
   "pygments_lexer": "ipython3",
   "version": "3.9.7"
  }
 },
 "nbformat": 4,
 "nbformat_minor": 5
}
