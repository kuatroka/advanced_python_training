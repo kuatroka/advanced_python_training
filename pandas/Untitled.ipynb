{
 "cells": [
  {
   "cell_type": "markdown",
   "id": "e6b4a2d2-6e20-44dc-a96f-957c158dabfb",
   "metadata": {},
   "source": [
    "#### pandas .merge()"
   ]
  },
  {
   "cell_type": "code",
   "execution_count": null,
   "id": "189920d2-8656-4ee9-bc77-131a3d6b6cfa",
   "metadata": {},
   "outputs": [],
   "source": []
  },
  {
   "cell_type": "code",
   "execution_count": null,
   "id": "3975ca11-8fd0-4f2e-a959-7afd075cee50",
   "metadata": {},
   "outputs": [],
   "source": []
  },
  {
   "cell_type": "code",
   "execution_count": null,
   "id": "371abb4c-40a1-4be8-92ac-ff0165b4d256",
   "metadata": {},
   "outputs": [],
   "source": []
  },
  {
   "cell_type": "code",
   "execution_count": null,
   "id": "ff02b2b6-15bd-401f-bd19-9e40900c899d",
   "metadata": {},
   "outputs": [],
   "source": []
  },
  {
   "cell_type": "code",
   "execution_count": null,
   "id": "cee1c90b-b82c-40fd-af2b-31c0e43f49ef",
   "metadata": {},
   "outputs": [],
   "source": []
  },
  {
   "cell_type": "code",
   "execution_count": null,
   "id": "d77adbd1-868a-4167-88c9-68f327b0f185",
   "metadata": {},
   "outputs": [],
   "source": []
  },
  {
   "cell_type": "code",
   "execution_count": 1,
   "id": "a16b4fb3-0e2c-4389-a630-676bcb399853",
   "metadata": {
    "execution": {
     "iopub.execute_input": "2022-09-14T20:06:02.555837Z",
     "iopub.status.busy": "2022-09-14T20:06:02.555837Z",
     "iopub.status.idle": "2022-09-14T20:06:02.959852Z",
     "shell.execute_reply": "2022-09-14T20:06:02.958864Z",
     "shell.execute_reply.started": "2022-09-14T20:06:02.555837Z"
    }
   },
   "outputs": [
    {
     "ename": "NameError",
     "evalue": "name 'full_df' is not defined",
     "output_type": "error",
     "traceback": [
      "\u001b[1;31m---------------------------------------------------------------------------\u001b[0m",
      "\u001b[1;31mNameError\u001b[0m                                 Traceback (most recent call last)",
      "Cell \u001b[1;32mIn [1], line 1\u001b[0m\n\u001b[1;32m----> 1\u001b[0m full_df[\u001b[38;5;124m'\u001b[39m\u001b[38;5;124mtransaction_value\u001b[39m\u001b[38;5;124m'\u001b[39m] \u001b[38;5;241m=\u001b[39m \u001b[43mfull_df\u001b[49m\u001b[38;5;241m.\u001b[39mget(\u001b[38;5;124m'\u001b[39m\u001b[38;5;124mtransaction_value\u001b[39m\u001b[38;5;124m'\u001b[39m,default\u001b[38;5;241m=\u001b[39mnp\u001b[38;5;241m.\u001b[39mnan)\n",
      "\u001b[1;31mNameError\u001b[0m: name 'full_df' is not defined"
     ]
    }
   ],
   "source": []
  },
  {
   "cell_type": "code",
   "execution_count": null,
   "id": "61183bb4-2fab-471d-9801-68af7c84923b",
   "metadata": {},
   "outputs": [],
   "source": []
  }
 ],
 "metadata": {
  "kernelspec": {
   "display_name": "Python 3 (ipykernel)",
   "language": "python",
   "name": "python3"
  },
  "language_info": {
   "codemirror_mode": {
    "name": "ipython",
    "version": 3
   },
   "file_extension": ".py",
   "mimetype": "text/x-python",
   "name": "python",
   "nbconvert_exporter": "python",
   "pygments_lexer": "ipython3",
   "version": "3.9.7"
  }
 },
 "nbformat": 4,
 "nbformat_minor": 5
}
