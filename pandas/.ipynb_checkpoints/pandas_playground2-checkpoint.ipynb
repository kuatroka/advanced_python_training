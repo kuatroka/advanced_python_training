{
 "cells": [
  {
   "cell_type": "markdown",
   "id": "87033f69-ed2f-4316-96f8-c926fcf2a4e5",
   "metadata": {},
   "source": [
    "### .merge()"
   ]
  },
  {
   "cell_type": "code",
   "execution_count": 91,
   "id": "dcb31a24-a4c2-4e20-89b2-4cc52e6f497e",
   "metadata": {
    "execution": {
     "iopub.execute_input": "2022-09-20T11:11:35.644991Z",
     "iopub.status.busy": "2022-09-20T11:11:35.644991Z",
     "iopub.status.idle": "2022-09-20T11:11:35.661006Z",
     "shell.execute_reply": "2022-09-20T11:11:35.660004Z",
     "shell.execute_reply.started": "2022-09-20T11:11:35.644991Z"
    },
    "tags": []
   },
   "outputs": [],
   "source": [
    "import pandas as pd\n",
    "\n",
    "pd.set_option('display.max_columns', 35)\n",
    "pd.set_option(\"display.max_colwidth\",3000)\n",
    "pd.set_option(\"display.max_rows\", None)"
   ]
  },
  {
   "cell_type": "code",
   "execution_count": 97,
   "id": "b50b8e8a-afd9-4ac4-b7d1-3d0522a506f5",
   "metadata": {
    "execution": {
     "iopub.execute_input": "2022-09-20T15:08:45.421815Z",
     "iopub.status.busy": "2022-09-20T15:08:45.421815Z",
     "iopub.status.idle": "2022-09-20T15:08:45.442818Z",
     "shell.execute_reply": "2022-09-20T15:08:45.441812Z",
     "shell.execute_reply.started": "2022-09-20T15:08:45.421815Z"
    },
    "tags": []
   },
   "outputs": [],
   "source": [
    "import pandas as pd\n",
    "import numpy as np\n",
    "df1 = pd.DataFrame({'name': ['Fred', 'Suzy', 'Suzy', 'Bob'],\n",
    "                    'pet': ['Dog', 'Dog', 'Cat', 'Fish'],\n",
    "                    'sex': ['NULL', '', None, np.nan]})\n",
    "\n",
    "df2 = pd.DataFrame({'Name': ['Suzy', 'Suzy', 'Suzy', '', 'Fred', np.nan,'Joe', 'Joe'],\n",
    "                    'Color': ['Black', 'Blue', None, 'Red', 'Green', 'Yellow', '','Blue']})\n"
   ]
  },
  {
   "cell_type": "code",
   "execution_count": 108,
   "id": "b273044c-8f2b-47d2-ae0d-752cfb7601f1",
   "metadata": {
    "execution": {
     "iopub.execute_input": "2022-09-20T15:14:50.735248Z",
     "iopub.status.busy": "2022-09-20T15:14:50.734260Z",
     "iopub.status.idle": "2022-09-20T15:14:50.756760Z",
     "shell.execute_reply": "2022-09-20T15:14:50.755760Z",
     "shell.execute_reply.started": "2022-09-20T15:14:50.735248Z"
    },
    "tags": []
   },
   "outputs": [
    {
     "data": {
      "text/html": [
       "<div>\n",
       "<style scoped>\n",
       "    .dataframe tbody tr th:only-of-type {\n",
       "        vertical-align: middle;\n",
       "    }\n",
       "\n",
       "    .dataframe tbody tr th {\n",
       "        vertical-align: top;\n",
       "    }\n",
       "\n",
       "    .dataframe thead th {\n",
       "        text-align: right;\n",
       "    }\n",
       "</style>\n",
       "<table border=\"1\" class=\"dataframe\">\n",
       "  <thead>\n",
       "    <tr style=\"text-align: right;\">\n",
       "      <th></th>\n",
       "      <th>name</th>\n",
       "      <th>pet</th>\n",
       "      <th>sex</th>\n",
       "    </tr>\n",
       "  </thead>\n",
       "  <tbody>\n",
       "    <tr>\n",
       "      <th>0</th>\n",
       "      <td>Fred</td>\n",
       "      <td>Dog</td>\n",
       "      <td>NULL</td>\n",
       "    </tr>\n",
       "    <tr>\n",
       "      <th>1</th>\n",
       "      <td>Suzy</td>\n",
       "      <td>Dog</td>\n",
       "      <td></td>\n",
       "    </tr>\n",
       "    <tr>\n",
       "      <th>2</th>\n",
       "      <td>Suzy</td>\n",
       "      <td>Cat</td>\n",
       "      <td>None</td>\n",
       "    </tr>\n",
       "    <tr>\n",
       "      <th>3</th>\n",
       "      <td>Bob</td>\n",
       "      <td>Fish</td>\n",
       "      <td>NaN</td>\n",
       "    </tr>\n",
       "  </tbody>\n",
       "</table>\n",
       "</div>"
      ],
      "text/plain": [
       "   name   pet   sex\n",
       "0  Fred   Dog  NULL\n",
       "1  Suzy   Dog      \n",
       "2  Suzy   Cat  None\n",
       "3   Bob  Fish   NaN"
      ]
     },
     "metadata": {},
     "output_type": "display_data"
    },
    {
     "data": {
      "text/html": [
       "<div>\n",
       "<style scoped>\n",
       "    .dataframe tbody tr th:only-of-type {\n",
       "        vertical-align: middle;\n",
       "    }\n",
       "\n",
       "    .dataframe tbody tr th {\n",
       "        vertical-align: top;\n",
       "    }\n",
       "\n",
       "    .dataframe thead th {\n",
       "        text-align: right;\n",
       "    }\n",
       "</style>\n",
       "<table border=\"1\" class=\"dataframe\">\n",
       "  <thead>\n",
       "    <tr style=\"text-align: right;\">\n",
       "      <th></th>\n",
       "      <th>Name</th>\n",
       "      <th>Color</th>\n",
       "    </tr>\n",
       "  </thead>\n",
       "  <tbody>\n",
       "    <tr>\n",
       "      <th>0</th>\n",
       "      <td>Suzy</td>\n",
       "      <td>Black</td>\n",
       "    </tr>\n",
       "    <tr>\n",
       "      <th>1</th>\n",
       "      <td>Suzy</td>\n",
       "      <td>Blue</td>\n",
       "    </tr>\n",
       "    <tr>\n",
       "      <th>2</th>\n",
       "      <td>Suzy</td>\n",
       "      <td>None</td>\n",
       "    </tr>\n",
       "    <tr>\n",
       "      <th>3</th>\n",
       "      <td></td>\n",
       "      <td>Red</td>\n",
       "    </tr>\n",
       "    <tr>\n",
       "      <th>4</th>\n",
       "      <td>Fred</td>\n",
       "      <td>Green</td>\n",
       "    </tr>\n",
       "    <tr>\n",
       "      <th>5</th>\n",
       "      <td>NaN</td>\n",
       "      <td>Yellow</td>\n",
       "    </tr>\n",
       "    <tr>\n",
       "      <th>6</th>\n",
       "      <td>Joe</td>\n",
       "      <td></td>\n",
       "    </tr>\n",
       "    <tr>\n",
       "      <th>7</th>\n",
       "      <td>Joe</td>\n",
       "      <td>Blue</td>\n",
       "    </tr>\n",
       "  </tbody>\n",
       "</table>\n",
       "</div>"
      ],
      "text/plain": [
       "   Name   Color\n",
       "0  Suzy   Black\n",
       "1  Suzy    Blue\n",
       "2  Suzy    None\n",
       "3           Red\n",
       "4  Fred   Green\n",
       "5   NaN  Yellow\n",
       "6   Joe        \n",
       "7   Joe    Blue"
      ]
     },
     "metadata": {},
     "output_type": "display_data"
    },
    {
     "data": {
      "text/html": [
       "<div>\n",
       "<style scoped>\n",
       "    .dataframe tbody tr th:only-of-type {\n",
       "        vertical-align: middle;\n",
       "    }\n",
       "\n",
       "    .dataframe tbody tr th {\n",
       "        vertical-align: top;\n",
       "    }\n",
       "\n",
       "    .dataframe thead th {\n",
       "        text-align: right;\n",
       "    }\n",
       "</style>\n",
       "<table border=\"1\" class=\"dataframe\">\n",
       "  <thead>\n",
       "    <tr style=\"text-align: right;\">\n",
       "      <th></th>\n",
       "      <th>name</th>\n",
       "      <th>pet</th>\n",
       "      <th>sex</th>\n",
       "    </tr>\n",
       "  </thead>\n",
       "  <tbody>\n",
       "    <tr>\n",
       "      <th>1</th>\n",
       "      <td>Suzy</td>\n",
       "      <td>Dog</td>\n",
       "      <td></td>\n",
       "    </tr>\n",
       "    <tr>\n",
       "      <th>2</th>\n",
       "      <td>Suzy</td>\n",
       "      <td>Cat</td>\n",
       "      <td>None</td>\n",
       "    </tr>\n",
       "    <tr>\n",
       "      <th>3</th>\n",
       "      <td>Bob</td>\n",
       "      <td>Fish</td>\n",
       "      <td>NaN</td>\n",
       "    </tr>\n",
       "  </tbody>\n",
       "</table>\n",
       "</div>"
      ],
      "text/plain": [
       "   name   pet   sex\n",
       "1  Suzy   Dog      \n",
       "2  Suzy   Cat  None\n",
       "3   Bob  Fish   NaN"
      ]
     },
     "execution_count": 108,
     "metadata": {},
     "output_type": "execute_result"
    }
   ],
   "source": [
    "display(df1), display(df2)\n",
    "\n",
    "# conditions\n",
    "cond1 = (df1.sex.isna() | df1.sex.isnull())\n",
    "cond2 = df1.sex == ''\n",
    "df1[cond1 | cond2]"
   ]
  },
  {
   "cell_type": "code",
   "execution_count": 20,
   "id": "15d6eb07-3f7d-4085-a593-1394257d222b",
   "metadata": {
    "execution": {
     "iopub.execute_input": "2022-09-18T03:07:00.692453Z",
     "iopub.status.busy": "2022-09-18T03:07:00.691451Z",
     "iopub.status.idle": "2022-09-18T03:07:00.720456Z",
     "shell.execute_reply": "2022-09-18T03:07:00.719481Z",
     "shell.execute_reply.started": "2022-09-18T03:07:00.692453Z"
    },
    "tags": []
   },
   "outputs": [
    {
     "name": "stdout",
     "output_type": "stream",
     "text": [
      "CPU times: total: 0 ns\n",
      "Wall time: 3.01 ms\n"
     ]
    },
    {
     "data": {
      "text/html": [
       "<div>\n",
       "<style scoped>\n",
       "    .dataframe tbody tr th:only-of-type {\n",
       "        vertical-align: middle;\n",
       "    }\n",
       "\n",
       "    .dataframe tbody tr th {\n",
       "        vertical-align: top;\n",
       "    }\n",
       "\n",
       "    .dataframe thead th {\n",
       "        text-align: right;\n",
       "    }\n",
       "</style>\n",
       "<table border=\"1\" class=\"dataframe\">\n",
       "  <thead>\n",
       "    <tr style=\"text-align: right;\">\n",
       "      <th></th>\n",
       "      <th>name</th>\n",
       "      <th>pet</th>\n",
       "      <th>Name</th>\n",
       "      <th>Color</th>\n",
       "    </tr>\n",
       "  </thead>\n",
       "  <tbody>\n",
       "    <tr>\n",
       "      <th>0</th>\n",
       "      <td>Fred</td>\n",
       "      <td>Dog</td>\n",
       "      <td>Fred</td>\n",
       "      <td>Green</td>\n",
       "    </tr>\n",
       "    <tr>\n",
       "      <th>1</th>\n",
       "      <td>No_Suzy</td>\n",
       "      <td>Dog</td>\n",
       "      <td>Suzy</td>\n",
       "      <td>Black</td>\n",
       "    </tr>\n",
       "    <tr>\n",
       "      <th>2</th>\n",
       "      <td>No_Suzy</td>\n",
       "      <td>Cat</td>\n",
       "      <td>Suzy</td>\n",
       "      <td>Blue</td>\n",
       "    </tr>\n",
       "    <tr>\n",
       "      <th>3</th>\n",
       "      <td>Bob</td>\n",
       "      <td>Fish</td>\n",
       "      <td>Suzy</td>\n",
       "      <td>Red</td>\n",
       "    </tr>\n",
       "    <tr>\n",
       "      <th>4</th>\n",
       "      <td>NaN</td>\n",
       "      <td>NaN</td>\n",
       "      <td>Suzy</td>\n",
       "      <td>Black</td>\n",
       "    </tr>\n",
       "    <tr>\n",
       "      <th>5</th>\n",
       "      <td>NaN</td>\n",
       "      <td>NaN</td>\n",
       "      <td>Suzy</td>\n",
       "      <td>Blue</td>\n",
       "    </tr>\n",
       "    <tr>\n",
       "      <th>6</th>\n",
       "      <td>NaN</td>\n",
       "      <td>NaN</td>\n",
       "      <td>Suzy</td>\n",
       "      <td>Red</td>\n",
       "    </tr>\n",
       "    <tr>\n",
       "      <th>7</th>\n",
       "      <td>NaN</td>\n",
       "      <td>NaN</td>\n",
       "      <td>NaN</td>\n",
       "      <td>NaN</td>\n",
       "    </tr>\n",
       "  </tbody>\n",
       "</table>\n",
       "</div>"
      ],
      "text/plain": [
       "      name   pet  Name  Color\n",
       "0     Fred   Dog  Fred  Green\n",
       "1  No_Suzy   Dog  Suzy  Black\n",
       "2  No_Suzy   Cat  Suzy   Blue\n",
       "3      Bob  Fish  Suzy    Red\n",
       "4      NaN   NaN  Suzy  Black\n",
       "5      NaN   NaN  Suzy   Blue\n",
       "6      NaN   NaN  Suzy    Red\n",
       "7      NaN   NaN   NaN    NaN"
      ]
     },
     "execution_count": 20,
     "metadata": {},
     "output_type": "execute_result"
    }
   ],
   "source": [
    "%%time\n",
    "(df1.merge(df2, left_on='name', right_on='Name', how='left')\n",
    "    .assign(pet = df1.pet.fillna(\"no_pet\"),\n",
    "            name = df1.name.replace(\"Suzy\", 'No_Suzy')))"
   ]
  },
  {
   "cell_type": "code",
   "execution_count": 76,
   "id": "820ded8a-278e-40d6-b02e-89fa70906c50",
   "metadata": {
    "execution": {
     "iopub.execute_input": "2022-09-15T19:49:55.560767Z",
     "iopub.status.busy": "2022-09-15T19:49:55.560767Z",
     "iopub.status.idle": "2022-09-15T19:49:55.586774Z",
     "shell.execute_reply": "2022-09-15T19:49:55.585764Z",
     "shell.execute_reply.started": "2022-09-15T19:49:55.560767Z"
    },
    "tags": []
   },
   "outputs": [
    {
     "name": "stdout",
     "output_type": "stream",
     "text": [
      "CPU times: total: 0 ns\n",
      "Wall time: 4.01 ms\n"
     ]
    },
    {
     "data": {
      "text/html": [
       "<div>\n",
       "<style scoped>\n",
       "    .dataframe tbody tr th:only-of-type {\n",
       "        vertical-align: middle;\n",
       "    }\n",
       "\n",
       "    .dataframe tbody tr th {\n",
       "        vertical-align: top;\n",
       "    }\n",
       "\n",
       "    .dataframe thead th {\n",
       "        text-align: right;\n",
       "    }\n",
       "</style>\n",
       "<table border=\"1\" class=\"dataframe\">\n",
       "  <thead>\n",
       "    <tr style=\"text-align: right;\">\n",
       "      <th></th>\n",
       "      <th>name</th>\n",
       "      <th>Theme</th>\n",
       "    </tr>\n",
       "  </thead>\n",
       "  <tbody>\n",
       "    <tr>\n",
       "      <th>0</th>\n",
       "      <td>Fred</td>\n",
       "      <td>Green</td>\n",
       "    </tr>\n",
       "    <tr>\n",
       "      <th>1</th>\n",
       "      <td>Suzy</td>\n",
       "      <td>Black</td>\n",
       "    </tr>\n",
       "    <tr>\n",
       "      <th>2</th>\n",
       "      <td>Suzy</td>\n",
       "      <td>Blue</td>\n",
       "    </tr>\n",
       "    <tr>\n",
       "      <th>3</th>\n",
       "      <td>Suzy</td>\n",
       "      <td>Red</td>\n",
       "    </tr>\n",
       "    <tr>\n",
       "      <th>4</th>\n",
       "      <td>Suzy</td>\n",
       "      <td>Black</td>\n",
       "    </tr>\n",
       "    <tr>\n",
       "      <th>5</th>\n",
       "      <td>Suzy</td>\n",
       "      <td>Blue</td>\n",
       "    </tr>\n",
       "    <tr>\n",
       "      <th>6</th>\n",
       "      <td>Suzy</td>\n",
       "      <td>Red</td>\n",
       "    </tr>\n",
       "  </tbody>\n",
       "</table>\n",
       "</div>"
      ],
      "text/plain": [
       "   name  Theme\n",
       "0  Fred  Green\n",
       "1  Suzy  Black\n",
       "2  Suzy   Blue\n",
       "3  Suzy    Red\n",
       "4  Suzy  Black\n",
       "5  Suzy   Blue\n",
       "6  Suzy    Red"
      ]
     },
     "execution_count": 76,
     "metadata": {},
     "output_type": "execute_result"
    }
   ],
   "source": [
    "%%time\n",
    "# be careful with names. Only because there was a white space after the column `name `, the code below didn't want to work\n",
    "# (df1.merge(df2.assign(name=df2.Name) )) # by default it's an inner join\n",
    "\n",
    "# df1.merge(df2, left_on='name', right_on='Name', how='left')\n",
    "(df1[['name']].merge(df2[['Name', 'Color']], left_on='name', right_on='Name', how='inner')\n",
    "              .rename(columns={'Color':'Theme'})\n",
    "              .drop(columns=['Name']))\n"
   ]
  },
  {
   "cell_type": "code",
   "execution_count": 110,
   "id": "adb837fa-6ddf-4284-aae1-0c30d1ce0948",
   "metadata": {
    "execution": {
     "iopub.execute_input": "2022-09-20T15:22:00.368485Z",
     "iopub.status.busy": "2022-09-20T15:22:00.367473Z",
     "iopub.status.idle": "2022-09-20T15:22:00.394452Z",
     "shell.execute_reply": "2022-09-20T15:22:00.393440Z",
     "shell.execute_reply.started": "2022-09-20T15:22:00.368485Z"
    },
    "tags": []
   },
   "outputs": [
    {
     "data": {
      "text/html": [
       "<div>\n",
       "<style scoped>\n",
       "    .dataframe tbody tr th:only-of-type {\n",
       "        vertical-align: middle;\n",
       "    }\n",
       "\n",
       "    .dataframe tbody tr th {\n",
       "        vertical-align: top;\n",
       "    }\n",
       "\n",
       "    .dataframe thead th {\n",
       "        text-align: right;\n",
       "    }\n",
       "</style>\n",
       "<table border=\"1\" class=\"dataframe\">\n",
       "  <thead>\n",
       "    <tr style=\"text-align: right;\">\n",
       "      <th></th>\n",
       "      <th>name</th>\n",
       "      <th>pet</th>\n",
       "      <th>sex</th>\n",
       "      <th>Color</th>\n",
       "    </tr>\n",
       "  </thead>\n",
       "  <tbody>\n",
       "    <tr>\n",
       "      <th>0</th>\n",
       "      <td>Fred</td>\n",
       "      <td>Dog</td>\n",
       "      <td>NULL</td>\n",
       "      <td>Green</td>\n",
       "    </tr>\n",
       "    <tr>\n",
       "      <th>1</th>\n",
       "      <td>Suzy</td>\n",
       "      <td>Dog</td>\n",
       "      <td></td>\n",
       "      <td>Black</td>\n",
       "    </tr>\n",
       "    <tr>\n",
       "      <th>2</th>\n",
       "      <td>Suzy</td>\n",
       "      <td>Dog</td>\n",
       "      <td></td>\n",
       "      <td>Blue</td>\n",
       "    </tr>\n",
       "    <tr>\n",
       "      <th>3</th>\n",
       "      <td>Suzy</td>\n",
       "      <td>Dog</td>\n",
       "      <td></td>\n",
       "      <td>None</td>\n",
       "    </tr>\n",
       "    <tr>\n",
       "      <th>4</th>\n",
       "      <td>Suzy</td>\n",
       "      <td>Cat</td>\n",
       "      <td>None</td>\n",
       "      <td>Black</td>\n",
       "    </tr>\n",
       "    <tr>\n",
       "      <th>5</th>\n",
       "      <td>Suzy</td>\n",
       "      <td>Cat</td>\n",
       "      <td>None</td>\n",
       "      <td>Blue</td>\n",
       "    </tr>\n",
       "    <tr>\n",
       "      <th>6</th>\n",
       "      <td>Suzy</td>\n",
       "      <td>Cat</td>\n",
       "      <td>None</td>\n",
       "      <td>None</td>\n",
       "    </tr>\n",
       "    <tr>\n",
       "      <th>7</th>\n",
       "      <td>Bob</td>\n",
       "      <td>Fish</td>\n",
       "      <td>NaN</td>\n",
       "      <td>NaN</td>\n",
       "    </tr>\n",
       "  </tbody>\n",
       "</table>\n",
       "</div>"
      ],
      "text/plain": [
       "   name   pet   sex  Color\n",
       "0  Fred   Dog  NULL  Green\n",
       "1  Suzy   Dog        Black\n",
       "2  Suzy   Dog         Blue\n",
       "3  Suzy   Dog         None\n",
       "4  Suzy   Cat  None  Black\n",
       "5  Suzy   Cat  None   Blue\n",
       "6  Suzy   Cat  None   None\n",
       "7   Bob  Fish   NaN    NaN"
      ]
     },
     "execution_count": 110,
     "metadata": {},
     "output_type": "execute_result"
    }
   ],
   "source": [
    "df1.merge(df2, left_on=\"name\", right_on=\"Name\", how=\"left\").drop(columns=['Name'])"
   ]
  },
  {
   "cell_type": "code",
   "execution_count": 111,
   "id": "10a9a9ca-7192-4b71-a440-82b4a353fb6f",
   "metadata": {
    "execution": {
     "iopub.execute_input": "2022-09-20T15:22:37.114062Z",
     "iopub.status.busy": "2022-09-20T15:22:37.113070Z",
     "iopub.status.idle": "2022-09-20T15:22:37.133710Z",
     "shell.execute_reply": "2022-09-20T15:22:37.132715Z",
     "shell.execute_reply.started": "2022-09-20T15:22:37.114062Z"
    },
    "tags": []
   },
   "outputs": [
    {
     "data": {
      "text/html": [
       "<div>\n",
       "<style scoped>\n",
       "    .dataframe tbody tr th:only-of-type {\n",
       "        vertical-align: middle;\n",
       "    }\n",
       "\n",
       "    .dataframe tbody tr th {\n",
       "        vertical-align: top;\n",
       "    }\n",
       "\n",
       "    .dataframe thead th {\n",
       "        text-align: right;\n",
       "    }\n",
       "</style>\n",
       "<table border=\"1\" class=\"dataframe\">\n",
       "  <thead>\n",
       "    <tr style=\"text-align: right;\">\n",
       "      <th></th>\n",
       "      <th>name</th>\n",
       "      <th>pet</th>\n",
       "      <th>color</th>\n",
       "    </tr>\n",
       "  </thead>\n",
       "  <tbody>\n",
       "    <tr>\n",
       "      <th>0</th>\n",
       "      <td>Fred</td>\n",
       "      <td>Dog</td>\n",
       "      <td>Green</td>\n",
       "    </tr>\n",
       "    <tr>\n",
       "      <th>1</th>\n",
       "      <td>Suzy</td>\n",
       "      <td>Dog</td>\n",
       "      <td>Black</td>\n",
       "    </tr>\n",
       "    <tr>\n",
       "      <th>2</th>\n",
       "      <td>Suzy</td>\n",
       "      <td>Dog</td>\n",
       "      <td>Blue</td>\n",
       "    </tr>\n",
       "    <tr>\n",
       "      <th>3</th>\n",
       "      <td>Suzy</td>\n",
       "      <td>Dog</td>\n",
       "      <td>None</td>\n",
       "    </tr>\n",
       "    <tr>\n",
       "      <th>4</th>\n",
       "      <td>Suzy</td>\n",
       "      <td>Cat</td>\n",
       "      <td>Black</td>\n",
       "    </tr>\n",
       "    <tr>\n",
       "      <th>5</th>\n",
       "      <td>Suzy</td>\n",
       "      <td>Cat</td>\n",
       "      <td>Blue</td>\n",
       "    </tr>\n",
       "    <tr>\n",
       "      <th>6</th>\n",
       "      <td>Suzy</td>\n",
       "      <td>Cat</td>\n",
       "      <td>None</td>\n",
       "    </tr>\n",
       "  </tbody>\n",
       "</table>\n",
       "</div>"
      ],
      "text/plain": [
       "   name  pet  color\n",
       "0  Fred  Dog  Green\n",
       "1  Suzy  Dog  Black\n",
       "2  Suzy  Dog   Blue\n",
       "3  Suzy  Dog   None\n",
       "4  Suzy  Cat  Black\n",
       "5  Suzy  Cat   Blue\n",
       "6  Suzy  Cat   None"
      ]
     },
     "execution_count": 111,
     "metadata": {},
     "output_type": "execute_result"
    }
   ],
   "source": [
    "df1.merge(df2, left_on=\"name\", right_on='Name', how='inner')[['name', 'pet', 'Color']].rename(columns={'Color':'color'})"
   ]
  },
  {
   "cell_type": "code",
   "execution_count": 125,
   "id": "b9e936f0-69f6-4681-8417-217aaa6ad5c2",
   "metadata": {
    "execution": {
     "iopub.execute_input": "2022-09-20T16:32:27.768382Z",
     "iopub.status.busy": "2022-09-20T16:32:27.768382Z",
     "iopub.status.idle": "2022-09-20T16:32:27.784379Z",
     "shell.execute_reply": "2022-09-20T16:32:27.783379Z",
     "shell.execute_reply.started": "2022-09-20T16:32:27.768382Z"
    },
    "tags": []
   },
   "outputs": [
    {
     "data": {
      "text/html": [
       "<div>\n",
       "<style scoped>\n",
       "    .dataframe tbody tr th:only-of-type {\n",
       "        vertical-align: middle;\n",
       "    }\n",
       "\n",
       "    .dataframe tbody tr th {\n",
       "        vertical-align: top;\n",
       "    }\n",
       "\n",
       "    .dataframe thead th {\n",
       "        text-align: right;\n",
       "    }\n",
       "</style>\n",
       "<table border=\"1\" class=\"dataframe\">\n",
       "  <thead>\n",
       "    <tr style=\"text-align: right;\">\n",
       "      <th></th>\n",
       "      <th>Name</th>\n",
       "      <th>Color</th>\n",
       "    </tr>\n",
       "  </thead>\n",
       "  <tbody>\n",
       "    <tr>\n",
       "      <th>0</th>\n",
       "      <td>Fred</td>\n",
       "      <td>Green</td>\n",
       "    </tr>\n",
       "    <tr>\n",
       "      <th>1</th>\n",
       "      <td>Suzy</td>\n",
       "      <td>Black</td>\n",
       "    </tr>\n",
       "    <tr>\n",
       "      <th>2</th>\n",
       "      <td>Suzy</td>\n",
       "      <td>Blue</td>\n",
       "    </tr>\n",
       "    <tr>\n",
       "      <th>3</th>\n",
       "      <td>Suzy</td>\n",
       "      <td>None</td>\n",
       "    </tr>\n",
       "    <tr>\n",
       "      <th>4</th>\n",
       "      <td>Suzy</td>\n",
       "      <td>Black</td>\n",
       "    </tr>\n",
       "    <tr>\n",
       "      <th>5</th>\n",
       "      <td>Suzy</td>\n",
       "      <td>Blue</td>\n",
       "    </tr>\n",
       "    <tr>\n",
       "      <th>6</th>\n",
       "      <td>Suzy</td>\n",
       "      <td>None</td>\n",
       "    </tr>\n",
       "  </tbody>\n",
       "</table>\n",
       "</div>"
      ],
      "text/plain": [
       "   Name  Color\n",
       "0  Fred  Green\n",
       "1  Suzy  Black\n",
       "2  Suzy   Blue\n",
       "3  Suzy   None\n",
       "4  Suzy  Black\n",
       "5  Suzy   Blue\n",
       "6  Suzy   None"
      ]
     },
     "execution_count": 125,
     "metadata": {},
     "output_type": "execute_result"
    }
   ],
   "source": [
    "(df1.astype({'name': 'category', 'pet':'category', 'sex':'string'})[['name', 'pet']]\n",
    "            .merge(df2[['Name', 'Color']], left_on='name', right_on='Name', how='inner')\n",
    "            .drop(columns=['name', 'pet'])\n",
    ")"
   ]
  },
  {
   "cell_type": "code",
   "execution_count": null,
   "id": "78299d90-1541-4652-b8c3-2707e35c9a82",
   "metadata": {},
   "outputs": [],
   "source": []
  },
  {
   "cell_type": "code",
   "execution_count": 2,
   "id": "b9dc8b3a-d573-425e-9f16-320d960f4a52",
   "metadata": {
    "execution": {
     "iopub.execute_input": "2022-09-16T16:15:50.500728Z",
     "iopub.status.busy": "2022-09-16T16:15:50.500728Z",
     "iopub.status.idle": "2022-09-16T16:15:51.019973Z",
     "shell.execute_reply": "2022-09-16T16:15:51.018954Z",
     "shell.execute_reply.started": "2022-09-16T16:15:50.500728Z"
    },
    "tags": []
   },
   "outputs": [
    {
     "data": {
      "text/html": [
       "<div>\n",
       "<style scoped>\n",
       "    .dataframe tbody tr th:only-of-type {\n",
       "        vertical-align: middle;\n",
       "    }\n",
       "\n",
       "    .dataframe tbody tr th {\n",
       "        vertical-align: top;\n",
       "    }\n",
       "\n",
       "    .dataframe thead th {\n",
       "        text-align: right;\n",
       "    }\n",
       "</style>\n",
       "<table border=\"1\" class=\"dataframe\">\n",
       "  <thead>\n",
       "    <tr style=\"text-align: right;\">\n",
       "      <th></th>\n",
       "      <th>cusip</th>\n",
       "      <th>nameOfIssuer</th>\n",
       "      <th>titleOfClass</th>\n",
       "      <th>value</th>\n",
       "      <th>shares</th>\n",
       "      <th>shrsOrPrnAmt</th>\n",
       "      <th>putCall</th>\n",
       "      <th>quarter</th>\n",
       "    </tr>\n",
       "  </thead>\n",
       "  <tbody>\n",
       "    <tr>\n",
       "      <th>0</th>\n",
       "      <td>Y8565J101</td>\n",
       "      <td>COM</td>\n",
       "      <td>COM</td>\n",
       "      <td>507000.0</td>\n",
       "      <td>15190.0</td>\n",
       "      <td>SH</td>\n",
       "      <td>None</td>\n",
       "      <td>2013Q3</td>\n",
       "    </tr>\n",
       "    <tr>\n",
       "      <th>1</th>\n",
       "      <td>Y8564W103</td>\n",
       "      <td>None</td>\n",
       "      <td>None</td>\n",
       "      <td>0.0</td>\n",
       "      <td>0.0</td>\n",
       "      <td>SH</td>\n",
       "      <td>None</td>\n",
       "      <td>2010Q2</td>\n",
       "    </tr>\n",
       "    <tr>\n",
       "      <th>2</th>\n",
       "      <td>Y8564W103</td>\n",
       "      <td>None</td>\n",
       "      <td>None</td>\n",
       "      <td>576000.0</td>\n",
       "      <td>25300.0</td>\n",
       "      <td>SH</td>\n",
       "      <td>None</td>\n",
       "      <td>2010Q1</td>\n",
       "    </tr>\n",
       "    <tr>\n",
       "      <th>3</th>\n",
       "      <td>Y8564W103</td>\n",
       "      <td>None</td>\n",
       "      <td>None</td>\n",
       "      <td>217000.0</td>\n",
       "      <td>9900.0</td>\n",
       "      <td>SH</td>\n",
       "      <td>None</td>\n",
       "      <td>2009Q3</td>\n",
       "    </tr>\n",
       "    <tr>\n",
       "      <th>4</th>\n",
       "      <td>Y8564W103</td>\n",
       "      <td>None</td>\n",
       "      <td>None</td>\n",
       "      <td>162000.0</td>\n",
       "      <td>11426.0</td>\n",
       "      <td>SH</td>\n",
       "      <td>None</td>\n",
       "      <td>2009Q1</td>\n",
       "    </tr>\n",
       "  </tbody>\n",
       "</table>\n",
       "</div>"
      ],
      "text/plain": [
       "       cusip nameOfIssuer titleOfClass     value   shares shrsOrPrnAmt  \\\n",
       "0  Y8565J101          COM          COM  507000.0  15190.0           SH   \n",
       "1  Y8564W103         None         None       0.0      0.0           SH   \n",
       "2  Y8564W103         None         None  576000.0  25300.0           SH   \n",
       "3  Y8564W103         None         None  217000.0   9900.0           SH   \n",
       "4  Y8564W103         None         None  162000.0  11426.0           SH   \n",
       "\n",
       "  putCall quarter  \n",
       "0    None  2013Q3  \n",
       "1    None  2010Q2  \n",
       "2    None  2010Q1  \n",
       "3    None  2009Q3  \n",
       "4    None  2009Q1  "
      ]
     },
     "execution_count": 2,
     "metadata": {},
     "output_type": "execute_result"
    }
   ],
   "source": [
    "\n",
    "# !pip install pyarrow fastparquet\n",
    "df3 = (pd.read_parquet(r\"data/9015-2013-11-12.parquet\")\n",
    "        .drop(columns=['accessionNumber', 'cikManager', 'managerName', 'periodOfReport',\n",
    "        'submissionType', 'filedAsOfDate', 'xml_flag', 'updated_at', 'tr_type', 'tr_shares', 'tr_value',\n",
    "        'quarter_as_int', 'prev_quarter_diff', 'next_quarter_diff',\n",
    "        'quarter_max_filed', 'prev_shares_diff', 'prev_value_diff',\n",
    "        'next_shares_diff', 'next_value_diff']))#.head(1000)\n",
    "df4 = pd.read_parquet(r\"data/cusip_md.parquet\")#.head(10000)\n",
    "df3.head()"
   ]
  },
  {
   "cell_type": "code",
   "execution_count": 14,
   "id": "51258cc2-7793-41f6-9247-c91fe7c006bf",
   "metadata": {
    "execution": {
     "iopub.execute_input": "2022-09-16T17:01:13.785014Z",
     "iopub.status.busy": "2022-09-16T17:01:13.785014Z",
     "iopub.status.idle": "2022-09-16T17:01:13.923007Z",
     "shell.execute_reply": "2022-09-16T17:01:13.922012Z",
     "shell.execute_reply.started": "2022-09-16T17:01:13.785014Z"
    },
    "tags": []
   },
   "outputs": [
    {
     "name": "stdout",
     "output_type": "stream",
     "text": [
      "5280\n",
      "CPU times: total: 125 ms\n",
      "Wall time: 126 ms\n"
     ]
    },
    {
     "data": {
      "text/plain": [
       "5182"
      ]
     },
     "execution_count": 14,
     "metadata": {},
     "output_type": "execute_result"
    }
   ],
   "source": [
    "%%time\n",
    "df3.columns, df4.columns, df3.shape, df4.shape\n",
    "# df3.info()\n",
    "cusip_list = df3.cusip.unique()\n",
    "print(len(cusip_list))\n",
    "df5 = df4[df4.cusip.isin(cusip_list)]\n",
    "len(df5.cusip.unique())"
   ]
  },
  {
   "cell_type": "code",
   "execution_count": 8,
   "id": "e6f553a5-3331-4b07-a5ef-9ebce7dfc99e",
   "metadata": {
    "execution": {
     "iopub.execute_input": "2022-09-16T16:17:50.777708Z",
     "iopub.status.busy": "2022-09-16T16:17:50.776715Z",
     "iopub.status.idle": "2022-09-16T16:17:50.796279Z",
     "shell.execute_reply": "2022-09-16T16:17:50.795169Z",
     "shell.execute_reply.started": "2022-09-16T16:17:50.777708Z"
    },
    "tags": []
   },
   "outputs": [
    {
     "data": {
      "text/html": [
       "<div>\n",
       "<style scoped>\n",
       "    .dataframe tbody tr th:only-of-type {\n",
       "        vertical-align: middle;\n",
       "    }\n",
       "\n",
       "    .dataframe tbody tr th {\n",
       "        vertical-align: top;\n",
       "    }\n",
       "\n",
       "    .dataframe thead th {\n",
       "        text-align: right;\n",
       "    }\n",
       "</style>\n",
       "<table border=\"1\" class=\"dataframe\">\n",
       "  <thead>\n",
       "    <tr style=\"text-align: right;\">\n",
       "      <th></th>\n",
       "      <th>quarter</th>\n",
       "      <th>cusip</th>\n",
       "      <th>ticker</th>\n",
       "      <th>cusip_description</th>\n",
       "      <th>nameofissuer</th>\n",
       "      <th>titleofclass</th>\n",
       "    </tr>\n",
       "  </thead>\n",
       "  <tbody>\n",
       "    <tr>\n",
       "      <th>261</th>\n",
       "      <td>2020Q1</td>\n",
       "      <td>Y8565J101</td>\n",
       "      <td>TOO</td>\n",
       "      <td>TEEKAY OFFSHORE PARTNERS LP CO</td>\n",
       "      <td>TEEKAY OFFSHORE PARTNERS L P</td>\n",
       "      <td>PARTNERSHIP UN</td>\n",
       "    </tr>\n",
       "    <tr>\n",
       "      <th>262</th>\n",
       "      <td>2019Q4</td>\n",
       "      <td>Y8565J101</td>\n",
       "      <td>TOO</td>\n",
       "      <td>TEEKAY OFFSHORE PARTNERS LP CO</td>\n",
       "      <td>TEEKAY OFFSHORE PARTNERS L P</td>\n",
       "      <td>PARTNERSHIP UN</td>\n",
       "    </tr>\n",
       "    <tr>\n",
       "      <th>263</th>\n",
       "      <td>2019Q3</td>\n",
       "      <td>Y8565J101</td>\n",
       "      <td>TOO</td>\n",
       "      <td>TEEKAY OFFSHORE PARTNERS LP CO</td>\n",
       "      <td>TEEKAY OFFSHORE PARTNERS L P</td>\n",
       "      <td>PARTNERSHIP UN</td>\n",
       "    </tr>\n",
       "    <tr>\n",
       "      <th>264</th>\n",
       "      <td>2019Q2</td>\n",
       "      <td>Y8565J101</td>\n",
       "      <td>TOO</td>\n",
       "      <td>TEEKAY OFFSHORE PARTNERS LP CO</td>\n",
       "      <td>TEEKAY OFFSHORE PARTNERS L P</td>\n",
       "      <td>PARTNERSHIP UN</td>\n",
       "    </tr>\n",
       "    <tr>\n",
       "      <th>265</th>\n",
       "      <td>2019Q1</td>\n",
       "      <td>Y8565J101</td>\n",
       "      <td>TOO</td>\n",
       "      <td>TEEKAY OFFSHORE PARTNERS LP CO</td>\n",
       "      <td>TEEKAY OFFSHORE PARTNERS L P</td>\n",
       "      <td>PARTNERSHIP UN</td>\n",
       "    </tr>\n",
       "  </tbody>\n",
       "</table>\n",
       "</div>"
      ],
      "text/plain": [
       "    quarter      cusip ticker               cusip_description  \\\n",
       "261  2020Q1  Y8565J101    TOO  TEEKAY OFFSHORE PARTNERS LP CO   \n",
       "262  2019Q4  Y8565J101    TOO  TEEKAY OFFSHORE PARTNERS LP CO   \n",
       "263  2019Q3  Y8565J101    TOO  TEEKAY OFFSHORE PARTNERS LP CO   \n",
       "264  2019Q2  Y8565J101    TOO  TEEKAY OFFSHORE PARTNERS LP CO   \n",
       "265  2019Q1  Y8565J101    TOO  TEEKAY OFFSHORE PARTNERS LP CO   \n",
       "\n",
       "                     nameofissuer    titleofclass  \n",
       "261  TEEKAY OFFSHORE PARTNERS L P  PARTNERSHIP UN  \n",
       "262  TEEKAY OFFSHORE PARTNERS L P  PARTNERSHIP UN  \n",
       "263  TEEKAY OFFSHORE PARTNERS L P  PARTNERSHIP UN  \n",
       "264  TEEKAY OFFSHORE PARTNERS L P  PARTNERSHIP UN  \n",
       "265  TEEKAY OFFSHORE PARTNERS L P  PARTNERSHIP UN  "
      ]
     },
     "execution_count": 8,
     "metadata": {},
     "output_type": "execute_result"
    }
   ],
   "source": [
    "df5.head()"
   ]
  },
  {
   "cell_type": "code",
   "execution_count": 15,
   "id": "46397703-7758-48f5-8da8-466c237e03b7",
   "metadata": {
    "execution": {
     "iopub.execute_input": "2022-09-18T03:05:27.716312Z",
     "iopub.status.busy": "2022-09-18T03:05:27.713312Z",
     "iopub.status.idle": "2022-09-18T03:05:28.325295Z",
     "shell.execute_reply": "2022-09-18T03:05:28.324296Z",
     "shell.execute_reply.started": "2022-09-18T03:05:27.716312Z"
    },
    "tags": []
   },
   "outputs": [
    {
     "name": "stdout",
     "output_type": "stream",
     "text": [
      "CPU times: total: 562 ms\n",
      "Wall time: 561 ms\n"
     ]
    },
    {
     "data": {
      "text/html": [
       "<div>\n",
       "<style scoped>\n",
       "    .dataframe tbody tr th:only-of-type {\n",
       "        vertical-align: middle;\n",
       "    }\n",
       "\n",
       "    .dataframe tbody tr th {\n",
       "        vertical-align: top;\n",
       "    }\n",
       "\n",
       "    .dataframe thead th {\n",
       "        text-align: right;\n",
       "    }\n",
       "</style>\n",
       "<table border=\"1\" class=\"dataframe\">\n",
       "  <thead>\n",
       "    <tr style=\"text-align: right;\">\n",
       "      <th></th>\n",
       "      <th>cusip</th>\n",
       "      <th>quarter</th>\n",
       "      <th>nameOfIssuer</th>\n",
       "      <th>titleOfClass</th>\n",
       "      <th>nameofissuer</th>\n",
       "      <th>titleofclass</th>\n",
       "    </tr>\n",
       "  </thead>\n",
       "  <tbody>\n",
       "    <tr>\n",
       "      <th>0</th>\n",
       "      <td>Y8565J101</td>\n",
       "      <td>2013Q3</td>\n",
       "      <td>COM</td>\n",
       "      <td>COM</td>\n",
       "      <td>TEEKAY OFFSHORE PARTNERS L P</td>\n",
       "      <td>PARTNERSHIP UN</td>\n",
       "    </tr>\n",
       "    <tr>\n",
       "      <th>1</th>\n",
       "      <td>Y8564W103</td>\n",
       "      <td>2010Q2</td>\n",
       "      <td>None</td>\n",
       "      <td>None</td>\n",
       "      <td>TEEKAY CORPORATION</td>\n",
       "      <td>COM</td>\n",
       "    </tr>\n",
       "    <tr>\n",
       "      <th>2</th>\n",
       "      <td>Y8564W103</td>\n",
       "      <td>2010Q1</td>\n",
       "      <td>None</td>\n",
       "      <td>None</td>\n",
       "      <td>TEEKAY CORPORATION</td>\n",
       "      <td>COM</td>\n",
       "    </tr>\n",
       "    <tr>\n",
       "      <th>3</th>\n",
       "      <td>Y8564W103</td>\n",
       "      <td>2009Q3</td>\n",
       "      <td>None</td>\n",
       "      <td>None</td>\n",
       "      <td>TEEKAY CORPORATION</td>\n",
       "      <td>COM</td>\n",
       "    </tr>\n",
       "    <tr>\n",
       "      <th>4</th>\n",
       "      <td>Y8564W103</td>\n",
       "      <td>2009Q1</td>\n",
       "      <td>None</td>\n",
       "      <td>None</td>\n",
       "      <td>TEEKAY CORPORATION</td>\n",
       "      <td>COM</td>\n",
       "    </tr>\n",
       "  </tbody>\n",
       "</table>\n",
       "</div>"
      ],
      "text/plain": [
       "       cusip quarter nameOfIssuer titleOfClass                  nameofissuer  \\\n",
       "0  Y8565J101  2013Q3          COM          COM  TEEKAY OFFSHORE PARTNERS L P   \n",
       "1  Y8564W103  2010Q2         None         None            TEEKAY CORPORATION   \n",
       "2  Y8564W103  2010Q1         None         None            TEEKAY CORPORATION   \n",
       "3  Y8564W103  2009Q3         None         None            TEEKAY CORPORATION   \n",
       "4  Y8564W103  2009Q1         None         None            TEEKAY CORPORATION   \n",
       "\n",
       "     titleofclass  \n",
       "0  PARTNERSHIP UN  \n",
       "1             COM  \n",
       "2             COM  \n",
       "3             COM  \n",
       "4             COM  "
      ]
     },
     "execution_count": 15,
     "metadata": {},
     "output_type": "execute_result"
    }
   ],
   "source": [
    "%%time\n",
    "# when merging, if left, the values that exist on the left but not on the right, will get displayed, but for the right df, there will be nan for the common column\n",
    "import numpy as np\n",
    "\n",
    "df34 = (df3[['cusip', 'quarter','nameOfIssuer', 'titleOfClass']].merge(df4[['cusip', 'quarter','nameofissuer', 'titleofclass']], \\\n",
    "                                                               left_on=['cusip', 'quarter'], right_on=['cusip', 'quarter'], how='left'))\n",
    "\n",
    "\n",
    "# df34 = (df34.assign(nameOfIssuer=df34['nameofissuer'],\n",
    "#                   titleOfClass=df34['titleofclass'])\n",
    "#             .drop(columns=['nameofissuer', 'titleofclass']))\n",
    "# df34.titleOfClass[df34.titleOfClass == 'COM']  = 'DOT.COM'\n",
    "# df34.titleOfClass[df34.quarter == '2010Q2']  = 'no_COM'\n",
    "# df34[\"cusip\"] = np.where(df34[\"nameOfIssuer\"].str.contains('PARTNER'), \"1\",  df34.cusip)\n",
    "df34.head()\n"
   ]
  },
  {
   "cell_type": "code",
   "execution_count": 18,
   "id": "348731cb-9220-4845-ab50-1972562cbb61",
   "metadata": {
    "execution": {
     "iopub.execute_input": "2022-09-16T15:50:59.440329Z",
     "iopub.status.busy": "2022-09-16T15:50:59.439355Z",
     "iopub.status.idle": "2022-09-16T15:50:59.447331Z",
     "shell.execute_reply": "2022-09-16T15:50:59.446349Z",
     "shell.execute_reply.started": "2022-09-16T15:50:59.440329Z"
    },
    "tags": []
   },
   "outputs": [],
   "source": [
    "df34 = None\n",
    "# df34.head()"
   ]
  },
  {
   "cell_type": "code",
   "execution_count": null,
   "id": "acfcd6bd-cfdd-4376-8b3d-80c20ee50330",
   "metadata": {
    "tags": []
   },
   "outputs": [],
   "source": []
  },
  {
   "cell_type": "code",
   "execution_count": null,
   "id": "f38e56e5-754e-4d34-837c-47f12d0252d5",
   "metadata": {},
   "outputs": [],
   "source": []
  },
  {
   "cell_type": "code",
   "execution_count": null,
   "id": "0a8fc715-ab28-4d92-bc6a-33d54fa3dae7",
   "metadata": {},
   "outputs": [],
   "source": [
    "df2['Age'] = df2['Name'].map(df1.set_index('Name')['Age'])"
   ]
  },
  {
   "cell_type": "code",
   "execution_count": 43,
   "id": "d898db5a-4a1c-48c8-9161-ebf282f18fa4",
   "metadata": {
    "execution": {
     "iopub.execute_input": "2022-09-15T20:53:47.844207Z",
     "iopub.status.busy": "2022-09-15T20:53:47.843182Z",
     "iopub.status.idle": "2022-09-15T20:54:00.221929Z",
     "shell.execute_reply": "2022-09-15T20:54:00.221929Z",
     "shell.execute_reply.started": "2022-09-15T20:53:47.844207Z"
    },
    "tags": []
   },
   "outputs": [
    {
     "name": "stderr",
     "output_type": "stream",
     "text": [
      "C:\\Users\\yo_fanpc\\AppData\\Local\\Temp\\ipykernel_20496\\3616401469.py:4: DtypeWarning: Columns (7) have mixed types. Specify dtype option on import or set low_memory=False.\n",
      "  df = pd.read_csv(url, skiprows=lambda num: num <34 or num ==35, sep='\\t')\n"
     ]
    },
    {
     "data": {
      "text/html": [
       "<div>\n",
       "<style scoped>\n",
       "    .dataframe tbody tr th:only-of-type {\n",
       "        vertical-align: middle;\n",
       "    }\n",
       "\n",
       "    .dataframe tbody tr th {\n",
       "        vertical-align: top;\n",
       "    }\n",
       "\n",
       "    .dataframe thead th {\n",
       "        text-align: right;\n",
       "    }\n",
       "</style>\n",
       "<table border=\"1\" class=\"dataframe\">\n",
       "  <thead>\n",
       "    <tr style=\"text-align: right;\">\n",
       "      <th></th>\n",
       "      <th>agency_cd</th>\n",
       "      <th>site_no</th>\n",
       "      <th>datetime</th>\n",
       "      <th>tz_cd</th>\n",
       "      <th>144166_00060</th>\n",
       "      <th>144166_00060_cd</th>\n",
       "      <th>144167_00065</th>\n",
       "      <th>144167_00065_cd</th>\n",
       "    </tr>\n",
       "  </thead>\n",
       "  <tbody>\n",
       "    <tr>\n",
       "      <th>0</th>\n",
       "      <td>USGS</td>\n",
       "      <td>9333500</td>\n",
       "      <td>2001-05-07 01:00</td>\n",
       "      <td>MDT</td>\n",
       "      <td>71.0</td>\n",
       "      <td>A:[91]</td>\n",
       "      <td>NaN</td>\n",
       "      <td>NaN</td>\n",
       "    </tr>\n",
       "    <tr>\n",
       "      <th>1</th>\n",
       "      <td>USGS</td>\n",
       "      <td>9333500</td>\n",
       "      <td>2001-05-07 01:15</td>\n",
       "      <td>MDT</td>\n",
       "      <td>71.0</td>\n",
       "      <td>A:[91]</td>\n",
       "      <td>NaN</td>\n",
       "      <td>NaN</td>\n",
       "    </tr>\n",
       "    <tr>\n",
       "      <th>2</th>\n",
       "      <td>USGS</td>\n",
       "      <td>9333500</td>\n",
       "      <td>2001-05-07 01:30</td>\n",
       "      <td>MDT</td>\n",
       "      <td>71.0</td>\n",
       "      <td>A:[91]</td>\n",
       "      <td>NaN</td>\n",
       "      <td>NaN</td>\n",
       "    </tr>\n",
       "    <tr>\n",
       "      <th>3</th>\n",
       "      <td>USGS</td>\n",
       "      <td>9333500</td>\n",
       "      <td>2001-05-07 01:45</td>\n",
       "      <td>MDT</td>\n",
       "      <td>70.0</td>\n",
       "      <td>A:[91]</td>\n",
       "      <td>NaN</td>\n",
       "      <td>NaN</td>\n",
       "    </tr>\n",
       "    <tr>\n",
       "      <th>4</th>\n",
       "      <td>USGS</td>\n",
       "      <td>9333500</td>\n",
       "      <td>2001-05-07 02:00</td>\n",
       "      <td>MDT</td>\n",
       "      <td>70.0</td>\n",
       "      <td>A:[91]</td>\n",
       "      <td>NaN</td>\n",
       "      <td>NaN</td>\n",
       "    </tr>\n",
       "  </tbody>\n",
       "</table>\n",
       "</div>"
      ],
      "text/plain": [
       "  agency_cd  site_no          datetime tz_cd  144166_00060 144166_00060_cd  \\\n",
       "0      USGS  9333500  2001-05-07 01:00   MDT          71.0          A:[91]   \n",
       "1      USGS  9333500  2001-05-07 01:15   MDT          71.0          A:[91]   \n",
       "2      USGS  9333500  2001-05-07 01:30   MDT          71.0          A:[91]   \n",
       "3      USGS  9333500  2001-05-07 01:45   MDT          70.0          A:[91]   \n",
       "4      USGS  9333500  2001-05-07 02:00   MDT          70.0          A:[91]   \n",
       "\n",
       "   144167_00065 144167_00065_cd  \n",
       "0           NaN             NaN  \n",
       "1           NaN             NaN  \n",
       "2           NaN             NaN  \n",
       "3           NaN             NaN  \n",
       "4           NaN             NaN  "
      ]
     },
     "execution_count": 43,
     "metadata": {},
     "output_type": "execute_result"
    }
   ],
   "source": [
    "url = r\"https://raw.githubusercontent.com/mattharrison/datasets/\" \\\n",
    "       \"master/data/dirtydevil.txt\"\n",
    "\n",
    "df = pd.read_csv(url, skiprows=lambda num: num <34 or num ==35, sep='\\t')\n",
    "df.head()"
   ]
  },
  {
   "cell_type": "code",
   "execution_count": 44,
   "id": "8e485bc4-501e-40f2-9e17-52ccce7b7876",
   "metadata": {
    "execution": {
     "iopub.execute_input": "2022-09-15T21:02:55.139097Z",
     "iopub.status.busy": "2022-09-15T21:02:55.138113Z",
     "iopub.status.idle": "2022-09-15T21:02:55.155099Z",
     "shell.execute_reply": "2022-09-15T21:02:55.155099Z",
     "shell.execute_reply.started": "2022-09-15T21:02:55.139097Z"
    }
   },
   "outputs": [],
   "source": [
    "def to_us_mountain_time(df_, time_col, tz_col):\n",
    "    return (df_\n",
    "            .assign(**{tz_col: df_[tz_col].replace('MDT', 'MST7MDT')})\n",
    "            .groupby(tz_col)\n",
    "            [time_col]\n",
    "            .transform(lambda s: pd.to_datetime(s)\n",
    "                      .dt.tz_localize(s.name, ambiguous=True)\n",
    "                      .dt.tz_convert('US/Mountain'))\n",
    "        )"
   ]
  },
  {
   "cell_type": "code",
   "execution_count": 10,
   "id": "5b3c5baf-b7bd-4726-98e1-1dc42db806ed",
   "metadata": {
    "execution": {
     "iopub.execute_input": "2022-09-16T15:40:47.500106Z",
     "iopub.status.busy": "2022-09-16T15:40:47.500106Z",
     "iopub.status.idle": "2022-09-16T15:40:47.511095Z",
     "shell.execute_reply": "2022-09-16T15:40:47.510096Z",
     "shell.execute_reply.started": "2022-09-16T15:40:47.500106Z"
    },
    "tags": []
   },
   "outputs": [],
   "source": [
    "# !python -m pip install polars\n",
    "import polars as pl\n",
    "\n",
    "df_polars1 = pl.scan_parquet(r\"data/9015-2013-11-12.parquet\", )\n",
    "# df_polars2 = pl.scan_parquet(r\"data/cusip_md.parquet\")\n"
   ]
  },
  {
   "cell_type": "markdown",
   "id": "ae752bcc-ab1b-42d8-ba78-1de354ae3457",
   "metadata": {},
   "source": [
    "### Read multiple files in pandas with glob"
   ]
  },
  {
   "cell_type": "code",
   "execution_count": null,
   "id": "2a21208d-f737-4549-b448-c504ded3f708",
   "metadata": {},
   "outputs": [],
   "source": [
    "# data = [pd.read_csv(f, parse_dates=['time'], na_values='-') for f in glob.glob('tweet_activity_metrics___mharrison___*')]\n",
    "# df = pd.concat(data, ignore_index=True).sort_values('time')\n",
    "# df"
   ]
  },
  {
   "cell_type": "code",
   "execution_count": 43,
   "id": "4752bebe-53d0-4f39-b5e5-33b64a81a007",
   "metadata": {
    "execution": {
     "iopub.execute_input": "2022-09-19T20:36:23.486311Z",
     "iopub.status.busy": "2022-09-19T20:36:23.486311Z",
     "iopub.status.idle": "2022-09-19T20:36:23.589260Z",
     "shell.execute_reply": "2022-09-19T20:36:23.588493Z",
     "shell.execute_reply.started": "2022-09-19T20:36:23.486311Z"
    },
    "tags": []
   },
   "outputs": [],
   "source": [
    "import glob\n",
    "\n",
    "folder = r\"E:\\app_data\\dropbox_13f_files\\processed_tables\\cik_parquet_till_2013_tr\"\n",
    "data = pd.concat([pd.read_parquet(f) for f in glob.glob(f\"{folder}/*2230*.parquet\")])\n",
    "# df = pd.concat(data, ignore_index=True).sort_values('time')\n"
   ]
  },
  {
   "cell_type": "code",
   "execution_count": 7,
   "id": "db7a8cd9-5108-443b-90d3-f319b9a875a3",
   "metadata": {
    "execution": {
     "iopub.execute_input": "2022-09-19T21:05:15.151583Z",
     "iopub.status.busy": "2022-09-19T21:05:15.150581Z",
     "iopub.status.idle": "2022-09-19T21:05:15.578891Z",
     "shell.execute_reply": "2022-09-19T21:05:15.577850Z",
     "shell.execute_reply.started": "2022-09-19T21:05:15.151583Z"
    },
    "tags": []
   },
   "outputs": [],
   "source": [
    "import glob\n",
    "import pandas as pd\n",
    "\n",
    "folder_parquet = r\"E:\\app_data\\dropbox_13f_files\\processed_tables\\cik_parquet_till_2013\"\n",
    "data = pd.concat([pd.read_parquet(f) for f in glob.glob(f\"{folder_parquet}/**2013-12*.parquet\")])"
   ]
  },
  {
   "cell_type": "code",
   "execution_count": 13,
   "id": "065481c8-dce0-4be4-bb4d-93c48c0b5e63",
   "metadata": {
    "execution": {
     "iopub.execute_input": "2022-09-19T21:13:55.339478Z",
     "iopub.status.busy": "2022-09-19T21:13:55.338488Z",
     "iopub.status.idle": "2022-09-19T21:13:55.356534Z",
     "shell.execute_reply": "2022-09-19T21:13:55.355506Z",
     "shell.execute_reply.started": "2022-09-19T21:13:55.338488Z"
    },
    "tags": []
   },
   "outputs": [
    {
     "data": {
      "text/plain": [
       "(433638, 19)"
      ]
     },
     "execution_count": 13,
     "metadata": {},
     "output_type": "execute_result"
    }
   ],
   "source": [
    "data.shape\n",
    "# data.info()\n",
    "# data.accessionNumber.nunique()"
   ]
  },
  {
   "cell_type": "code",
   "execution_count": 90,
   "id": "72acd11e-ad67-499c-a1c4-fe92392d596c",
   "metadata": {
    "execution": {
     "iopub.execute_input": "2022-09-20T11:03:15.224085Z",
     "iopub.status.busy": "2022-09-20T11:03:15.223061Z",
     "iopub.status.idle": "2022-09-20T11:03:18.784278Z",
     "shell.execute_reply": "2022-09-20T11:03:18.783262Z",
     "shell.execute_reply.started": "2022-09-20T11:03:15.224085Z"
    },
    "tags": []
   },
   "outputs": [
    {
     "name": "stderr",
     "output_type": "stream",
     "text": [
      "<timed exec>:5: DtypeWarning: Columns (12) have mixed types. Specify dtype option on import or set low_memory=False.\n"
     ]
    },
    {
     "name": "stdout",
     "output_type": "stream",
     "text": [
      "(6830, 7)\n",
      "(6830, 7)\n",
      "(2743, 7)\n",
      "CPU times: total: 3.55 s\n",
      "Wall time: 3.55 s\n"
     ]
    }
   ],
   "source": [
    "%%time\n",
    "import glob\n",
    "import pandas as pd\n",
    "\n",
    "folder_csv = r\"E:\\app_data\\dropbox_13f_files\\processed_tables\"\n",
    "data_csv = (pd.concat([pd.read_csv(f, \n",
    "                                  parse_dates=['fdate']) for f in glob.glob(f\"{folder_csv}/*/*/*2230*.csv\")],\n",
    "                                  ignore_index=True))[['cik','cusip9', 'fdate','nameOfIssuer', 'titleOfClass','shrsOrPrnAmt', 'putCall']]\n",
    "\n",
    "data_csv = data_csv[data_csv.fdate <= '2013-12-31']\n",
    "data_csv['cusip9'] = data_csv['cusip9'].str.upper()\n",
    "data_csv = data_csv.drop_duplicates(subset=['cusip9', 'nameOfIssuer'], keep='first')\n",
    "print(data_csv.shape)\n",
    "data_csv = data_csv.sort_values(by=['cusip9', 'fdate', 'nameOfIssuer'], ascending=[True, False, True])\n",
    "\n",
    "\n",
    "data_csv = data_csv[data_csv['nameOfIssuer'].notna()]\n",
    "print(data_csv.shape)\n",
    "\n"
   ]
  },
  {
   "cell_type": "code",
   "execution_count": 87,
   "id": "46f8ce30-d55f-4da9-8c6f-616ac18718ec",
   "metadata": {
    "execution": {
     "iopub.execute_input": "2022-09-20T11:00:03.951852Z",
     "iopub.status.busy": "2022-09-20T11:00:03.950838Z",
     "iopub.status.idle": "2022-09-20T11:00:03.966882Z",
     "shell.execute_reply": "2022-09-20T11:00:03.965838Z",
     "shell.execute_reply.started": "2022-09-20T11:00:03.951852Z"
    },
    "tags": []
   },
   "outputs": [
    {
     "data": {
      "text/html": [
       "<div>\n",
       "<style scoped>\n",
       "    .dataframe tbody tr th:only-of-type {\n",
       "        vertical-align: middle;\n",
       "    }\n",
       "\n",
       "    .dataframe tbody tr th {\n",
       "        vertical-align: top;\n",
       "    }\n",
       "\n",
       "    .dataframe thead th {\n",
       "        text-align: right;\n",
       "    }\n",
       "</style>\n",
       "<table border=\"1\" class=\"dataframe\">\n",
       "  <thead>\n",
       "    <tr style=\"text-align: right;\">\n",
       "      <th></th>\n",
       "      <th>cik</th>\n",
       "      <th>cusip9</th>\n",
       "      <th>fdate</th>\n",
       "      <th>nameOfIssuer</th>\n",
       "      <th>titleOfClass</th>\n",
       "      <th>shrsOrPrnAmt</th>\n",
       "      <th>putCall</th>\n",
       "    </tr>\n",
       "  </thead>\n",
       "  <tbody>\n",
       "    <tr>\n",
       "      <th>268923</th>\n",
       "      <td>92230</td>\n",
       "      <td>000375204</td>\n",
       "      <td>2013-10-22</td>\n",
       "      <td>ABB LTD SPONS AD</td>\n",
       "      <td>FOREIGN STOCK</td>\n",
       "      <td>SH</td>\n",
       "      <td>NaN</td>\n",
       "    </tr>\n",
       "    <tr>\n",
       "      <th>267374</th>\n",
       "      <td>92230</td>\n",
       "      <td>000375204</td>\n",
       "      <td>2013-07-15</td>\n",
       "      <td>ABB LTD SPONS ADR</td>\n",
       "      <td>FOR</td>\n",
       "      <td>SH</td>\n",
       "      <td>NaN</td>\n",
       "    </tr>\n",
       "    <tr>\n",
       "      <th>268925</th>\n",
       "      <td>92230</td>\n",
       "      <td>00101J106</td>\n",
       "      <td>2013-10-22</td>\n",
       "      <td>ADT CORP</td>\n",
       "      <td>COMMON STOCK</td>\n",
       "      <td>SH</td>\n",
       "      <td>NaN</td>\n",
       "    </tr>\n",
       "    <tr>\n",
       "      <th>31085</th>\n",
       "      <td>1383161</td>\n",
       "      <td>00101J106</td>\n",
       "      <td>2013-10-16</td>\n",
       "      <td>*       THE ADT CORPORATION</td>\n",
       "      <td>COM</td>\n",
       "      <td>SH</td>\n",
       "      <td>NaN</td>\n",
       "    </tr>\n",
       "    <tr>\n",
       "      <th>30290</th>\n",
       "      <td>1383161</td>\n",
       "      <td>00101J106</td>\n",
       "      <td>2013-07-12</td>\n",
       "      <td>*      THE ADT CORPORATION</td>\n",
       "      <td>COM</td>\n",
       "      <td>SH</td>\n",
       "      <td>NaN</td>\n",
       "    </tr>\n",
       "  </tbody>\n",
       "</table>\n",
       "</div>"
      ],
      "text/plain": [
       "            cik     cusip9      fdate                 nameOfIssuer  \\\n",
       "268923    92230  000375204 2013-10-22             ABB LTD SPONS AD   \n",
       "267374    92230  000375204 2013-07-15            ABB LTD SPONS ADR   \n",
       "268925    92230  00101J106 2013-10-22                     ADT CORP   \n",
       "31085   1383161  00101J106 2013-10-16  *       THE ADT CORPORATION   \n",
       "30290   1383161  00101J106 2013-07-12   *      THE ADT CORPORATION   \n",
       "\n",
       "         titleOfClass shrsOrPrnAmt putCall  \n",
       "268923  FOREIGN STOCK           SH     NaN  \n",
       "267374            FOR           SH     NaN  \n",
       "268925   COMMON STOCK           SH     NaN  \n",
       "31085             COM           SH     NaN  \n",
       "30290             COM           SH     NaN  "
      ]
     },
     "execution_count": 87,
     "metadata": {},
     "output_type": "execute_result"
    }
   ],
   "source": [
    "data_csv.head()"
   ]
  },
  {
   "cell_type": "code",
   "execution_count": 36,
   "id": "4dfc72dc-616b-479a-837f-28286a5e09b5",
   "metadata": {
    "execution": {
     "iopub.execute_input": "2022-09-19T21:29:04.245461Z",
     "iopub.status.busy": "2022-09-19T21:29:04.244438Z",
     "iopub.status.idle": "2022-09-19T21:29:04.295435Z",
     "shell.execute_reply": "2022-09-19T21:29:04.294437Z",
     "shell.execute_reply.started": "2022-09-19T21:29:04.245461Z"
    },
    "tags": []
   },
   "outputs": [],
   "source": [
    "# data_csv.info()\n",
    "# data_csv.nameOfIssuer.isna().sum()\n",
    "empty = data_csv[data_csv.nameOfIssuer.isna()][['cusip8', 'cusip9', 'shrsOrPrnAmt', 'putCall','rdate', 'fdate','nameOfIssuer', 'titleOfClass']]\n"
   ]
  },
  {
   "cell_type": "code",
   "execution_count": null,
   "id": "2b598f50-bf04-48f2-b142-f3a210795cba",
   "metadata": {
    "tags": []
   },
   "outputs": [],
   "source": [
    "data_csv.shape\n",
    "\n",
    "unique_empty = data_csv.drop_duplicates(subset=['cusip9', 'nameOfIssuer'])\n",
    "(unique_empty[['cusip8', 'cusip9', 'shrsOrPrnAmt', 'putCall','rdate', 'fdate','nameOfIssuer', 'titleOfClass']]\n",
    "             [unique_empty[unique_empty['rdate'] <= '2013-12-31']]\n",
    "             .sort_values(by=['rdate','cusip9', 'nameOfIssuer'], ascending=[False, True, True])\n",
    ")\n",
    "# unique_empty.rdate.drop_duplicates().value_counts()"
   ]
  },
  {
   "cell_type": "code",
   "execution_count": null,
   "id": "ee0e36e5-6db3-47e6-997b-988c1dcfa266",
   "metadata": {},
   "outputs": [],
   "source": []
  },
  {
   "cell_type": "code",
   "execution_count": 44,
   "id": "84ba278e-4684-4b98-8d4e-f0aecbee1009",
   "metadata": {
    "execution": {
     "iopub.execute_input": "2022-09-19T20:36:27.087298Z",
     "iopub.status.busy": "2022-09-19T20:36:27.087298Z",
     "iopub.status.idle": "2022-09-19T20:36:27.096322Z",
     "shell.execute_reply": "2022-09-19T20:36:27.095299Z",
     "shell.execute_reply.started": "2022-09-19T20:36:27.087298Z"
    },
    "tags": []
   },
   "outputs": [
    {
     "data": {
      "text/plain": [
       "(45705, 27)"
      ]
     },
     "execution_count": 44,
     "metadata": {},
     "output_type": "execute_result"
    }
   ],
   "source": [
    "data.shape"
   ]
  },
  {
   "cell_type": "code",
   "execution_count": null,
   "id": "149b56ad-d6b1-4324-9c2b-35ff2d9442ce",
   "metadata": {},
   "outputs": [],
   "source": []
  },
  {
   "cell_type": "code",
   "execution_count": null,
   "id": "2dcf6eb7-ba7f-4b9a-84d4-7f6889e9bcc6",
   "metadata": {},
   "outputs": [],
   "source": []
  },
  {
   "cell_type": "code",
   "execution_count": 3,
   "id": "b034f4bb-8368-4b86-9e7d-4fe135bbf2e2",
   "metadata": {
    "execution": {
     "iopub.execute_input": "2022-09-19T20:56:44.972197Z",
     "iopub.status.busy": "2022-09-19T20:56:44.971196Z",
     "iopub.status.idle": "2022-09-19T20:56:47.952544Z",
     "shell.execute_reply": "2022-09-19T20:56:47.951793Z",
     "shell.execute_reply.started": "2022-09-19T20:56:44.972197Z"
    },
    "tags": []
   },
   "outputs": [],
   "source": [
    "import glob\n",
    "\n",
    "folder_csv = r\"E:\\app_data\\dropbox_13f_files\\processed_tables\"\n",
    "data_csv = pd.concat([pd.read_csv(f, low_memory=False) for f in glob.glob(f\"{folder_csv}/*/*/*2230*.csv\")], ignore_index=True)"
   ]
  }
 ],
 "metadata": {
  "kernelspec": {
   "display_name": "Python 3 (ipykernel)",
   "language": "python",
   "name": "python3"
  },
  "language_info": {
   "codemirror_mode": {
    "name": "ipython",
    "version": 3
   },
   "file_extension": ".py",
   "mimetype": "text/x-python",
   "name": "python",
   "nbconvert_exporter": "python",
   "pygments_lexer": "ipython3",
   "version": "3.9.7"
  }
 },
 "nbformat": 4,
 "nbformat_minor": 5
}
