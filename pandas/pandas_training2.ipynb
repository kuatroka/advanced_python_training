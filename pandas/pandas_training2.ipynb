{
 "cells": [
  {
   "cell_type": "code",
   "execution_count": 752,
   "id": "9ffe097c-2308-4711-b91a-ae8eb6f192ce",
   "metadata": {
    "execution": {
     "iopub.execute_input": "2022-11-01T14:00:44.427577Z",
     "iopub.status.busy": "2022-11-01T14:00:44.427577Z",
     "iopub.status.idle": "2022-11-01T14:00:45.219703Z",
     "shell.execute_reply": "2022-11-01T14:00:45.218713Z",
     "shell.execute_reply.started": "2022-11-01T14:00:44.427577Z"
    },
    "tags": []
   },
   "outputs": [],
   "source": [
    "import pandas as pd\n",
    "pd.set_option('display.max_columns', 30)\n",
    "pd.set_option(\"display.max_colwidth\",None)\n",
    "pd.set_option(\"display.max_rows\", None)\n",
    "# %load_ext nb_mypy"
   ]
  },
  {
   "cell_type": "code",
   "execution_count": null,
   "id": "c728c330-a73b-414f-8013-d5ae7bfba29d",
   "metadata": {
    "tags": []
   },
   "outputs": [],
   "source": [
    "!pip install nb_mypy"
   ]
  },
  {
   "cell_type": "code",
   "execution_count": 38,
   "id": "97ad6b8e-2731-48ff-b2bf-5f55969b48b0",
   "metadata": {
    "execution": {
     "iopub.execute_input": "2022-09-29T21:20:36.446023Z",
     "iopub.status.busy": "2022-09-29T21:20:36.445022Z",
     "iopub.status.idle": "2022-09-29T21:20:36.460024Z",
     "shell.execute_reply": "2022-09-29T21:20:36.459019Z",
     "shell.execute_reply.started": "2022-09-29T21:20:36.446023Z"
    },
    "tags": []
   },
   "outputs": [
    {
     "data": {
      "text/plain": [
       "Index(['Date', 'Rep'], dtype='object')"
      ]
     },
     "execution_count": 38,
     "metadata": {},
     "output_type": "execute_result"
    }
   ],
   "source": [
    "from io import StringIO\n",
    "import pandas as pd\n",
    "\n",
    "TESTDATA = StringIO(\"\"\"col1;col2;col3\n",
    "    1;4.4;99\n",
    "    2;4.5;200\n",
    "    3;4.7;65\n",
    "    4;3.2;140\n",
    "    \"\"\")\n",
    "test2 = StringIO(\"\"\"Date,Rep\n",
    "'2020-09-21', 'cusip1'\n",
    "'2021-09-21', 'cusip1'\n",
    "'2022-09-21', 'cusip2'\n",
    "'2022-03-21', 'cusip2'\n",
    "'2022-09-21', 'cusip3'\n",
    "'2023-09-21', 'cusip3'\n",
    "'2023-09-21', 'cusip3'\n",
    "\"\"\")\n",
    "\n",
    "df = pd.read_csv(test2, sep=\",\")\n",
    "df.columns"
   ]
  },
  {
   "cell_type": "code",
   "execution_count": 55,
   "id": "6cf5d832-022c-462b-b506-e73890358d59",
   "metadata": {
    "execution": {
     "iopub.execute_input": "2022-09-29T21:26:44.456300Z",
     "iopub.status.busy": "2022-09-29T21:26:44.456300Z",
     "iopub.status.idle": "2022-09-29T21:26:44.583299Z",
     "shell.execute_reply": "2022-09-29T21:26:44.582300Z",
     "shell.execute_reply.started": "2022-09-29T21:26:44.456300Z"
    },
    "tags": []
   },
   "outputs": [
    {
     "data": {
      "text/plain": [
       "<AxesSubplot:xlabel='Date'>"
      ]
     },
     "execution_count": 55,
     "metadata": {},
     "output_type": "execute_result"
    },
    {
     "data": {
      "image/png": "[encoded data removed]",
      "text/plain": [
       "<Figure size 432x288 with 1 Axes>"
      ]
     },
     "metadata": {
      "needs_background": "light"
     },
     "output_type": "display_data"
    }
   ],
   "source": [
    "# df.groupby((pd.to_datetime(df['Date']).dt.strftime('%b-%Y')[\"Rep\"].size().plot()\n",
    "\n",
    "df.groupby(pd.to_datetime(df['Date']).dt.strftime('%Y'), sort=False)['Rep'].size().plot(kind='line')"
   ]
  },
  {
   "cell_type": "markdown",
   "id": "cfd2fd1b-c64c-4ae7-9a55-13dfb0055552",
   "metadata": {},
   "source": []
  },
  {
   "cell_type": "markdown",
   "id": "d3b5c1c4-10cb-42bf-9e82-dd9105792b54",
   "metadata": {
    "execution": {
     "iopub.execute_input": "2022-10-17T15:27:28.316361Z",
     "iopub.status.busy": "2022-10-17T15:27:28.316361Z",
     "iopub.status.idle": "2022-10-17T15:27:30.930119Z",
     "shell.execute_reply": "2022-10-17T15:27:30.930119Z",
     "shell.execute_reply.started": "2022-10-17T15:27:28.316361Z"
    },
    "tags": []
   },
   "source": [
    "## pandas `pipe`\n",
    "#### `pipe` lets me to chain different transformations on the `df` I'm working on. I can create a pipeline of functions where a `raw df` comes in and a `transformed df` comes out"
   ]
  },
  {
   "cell_type": "code",
   "execution_count": 147,
   "id": "d703590f-1d46-4f7a-8898-c34668fa248b",
   "metadata": {
    "execution": {
     "iopub.execute_input": "2022-10-17T20:55:17.988082Z",
     "iopub.status.busy": "2022-10-17T20:55:17.988082Z",
     "iopub.status.idle": "2022-10-17T20:55:18.412617Z",
     "shell.execute_reply": "2022-10-17T20:55:18.411617Z",
     "shell.execute_reply.started": "2022-10-17T20:55:17.988082Z"
    },
    "tags": []
   },
   "outputs": [
    {
     "name": "stdout",
     "output_type": "stream",
     "text": [
      "CPU times: total: 422 ms\n",
      "Wall time: 414 ms\n"
     ]
    }
   ],
   "source": [
    "%%time\n",
    "\n",
    "from pathlib import Path\n",
    "import pandas as pd\n",
    "from typing import List\n",
    "import glob\n",
    "\n",
    "processed_tables_csv = Path(r\"E:\\app_data\\dropbox_13f_files\\processed_tables\\processed_tables\\2230\")\n",
    "df = (pd.concat((pd.read_csv(file, parse_dates=['rdate', 'fdate']) for file in glob.glob(f\"{processed_tables_csv}/*.csv\"))))\n",
    "\n",
    "def to_upper(df: pd.DataFrame,column_name: str) -> pd.DataFrame:\n",
    "    df[column_name] = df[column_name].astype(str).str.upper()\n",
    "    return df\n",
    "\n",
    "def to_lower(df: pd.DataFrame,column_name: str) -> pd.DataFrame:\n",
    "    df[column_name] = df[column_name].astype(str).str.lower()\n",
    "    return df\n",
    "\n",
    "def new_names(df: pd.DataFrame,new_fdate: str, new_rdate: str) -> pd.DataFrame:\n",
    "    df = df.rename(columns={'fdate': new_fdate, 'rdate': new_rdate})\n",
    "    return df\n",
    "\n",
    "def add_columns(df: pd.DataFrame, list_of_new_columns: List) -> pd.DataFrame:\n",
    "    df = df.rename(columns={'fdate': new_fdate, 'rdate': new_rdate})\n",
    "    return df\n",
    "\n",
    "def fill_missing_values(df):\n",
    "   for col in df.select_dtypes(exclude= [\"int\",\"float\"]).columns:\n",
    "      # val = df[col].mean()\n",
    "      val = \"NO_DATA\"\n",
    "        \n",
    "      df[col].fillna(val, inplace=True)\n",
    "   return df\n",
    "                    \n",
    "result = to_upper(df, 'cusip8')\n",
    "result2 = to_lower(df, 'cusip9')\n",
    "result3 = new_names(df, 'repoooort_date', 'ferral_date')\n",
    "# files = open_files(r'{processed_tables_csv}\\*.csv')\n",
    "# df = pd.concat((pd.read_csv(f) for f in all_files))\n"
   ]
  },
  {
   "cell_type": "code",
   "execution_count": 143,
   "id": "a4561140-448e-4b4b-bd0e-253f6e670ca7",
   "metadata": {
    "execution": {
     "iopub.execute_input": "2022-10-17T20:52:06.743044Z",
     "iopub.status.busy": "2022-10-17T20:52:06.743044Z",
     "iopub.status.idle": "2022-10-17T20:52:06.972290Z",
     "shell.execute_reply": "2022-10-17T20:52:06.972290Z",
     "shell.execute_reply.started": "2022-10-17T20:52:06.743044Z"
    },
    "tags": []
   },
   "outputs": [
    {
     "name": "stderr",
     "output_type": "stream",
     "text": [
      "<cell>2: error: Name \"result3\" is not defined\n"
     ]
    },
    {
     "data": {
      "text/html": [
       "<div>\n",
       "<style scoped>\n",
       "    .dataframe tbody tr th:only-of-type {\n",
       "        vertical-align: middle;\n",
       "    }\n",
       "\n",
       "    .dataframe tbody tr th {\n",
       "        vertical-align: top;\n",
       "    }\n",
       "\n",
       "    .dataframe thead th {\n",
       "        text-align: right;\n",
       "    }\n",
       "</style>\n",
       "<table border=\"1\" class=\"dataframe\">\n",
       "  <thead>\n",
       "    <tr style=\"text-align: right;\">\n",
       "      <th></th>\n",
       "      <th>cusip8</th>\n",
       "      <th>cusip9</th>\n",
       "      <th>shrsOrPrnAmt</th>\n",
       "      <th>putCall</th>\n",
       "      <th>investmentDiscretion</th>\n",
       "      <th>remainder</th>\n",
       "      <th>value</th>\n",
       "      <th>shares</th>\n",
       "      <th>permno</th>\n",
       "      <th>prc</th>\n",
       "      <th>shrout</th>\n",
       "      <th>split</th>\n",
       "      <th>deviation</th>\n",
       "      <th>address</th>\n",
       "      <th>ferral_date</th>\n",
       "      <th>repoooort_date</th>\n",
       "      <th>cik</th>\n",
       "      <th>form</th>\n",
       "      <th>type</th>\n",
       "      <th>num3</th>\n",
       "      <th>nameOfIssuer</th>\n",
       "      <th>titleOfClass</th>\n",
       "      <th>votingAuthority</th>\n",
       "      <th>in_universe</th>\n",
       "      <th>otherManager</th>\n",
       "    </tr>\n",
       "  </thead>\n",
       "  <tbody>\n",
       "    <tr>\n",
       "      <th>174</th>\n",
       "      <td>86791410</td>\n",
       "      <td>867914103</td>\n",
       "      <td>SH</td>\n",
       "      <td>NaN</td>\n",
       "      <td>SOLE</td>\n",
       "      <td>NaN</td>\n",
       "      <td>24962</td>\n",
       "      <td>378100.0</td>\n",
       "      <td>68144.0</td>\n",
       "      <td>66.019997</td>\n",
       "      <td>464827.0</td>\n",
       "      <td>False</td>\n",
       "      <td>0.001</td>\n",
       "      <td>2230/0001144204-18-040186.txt</td>\n",
       "      <td>2018-06-30</td>\n",
       "      <td>2018-07-26</td>\n",
       "      <td>2230</td>\n",
       "      <td>13F-HR</td>\n",
       "      <td>xml</td>\n",
       "      <td>NaN</td>\n",
       "      <td>SunTrust Banks, Inc.</td>\n",
       "      <td>COM</td>\n",
       "      <td>37810000.0</td>\n",
       "      <td>True</td>\n",
       "      <td>NaN</td>\n",
       "    </tr>\n",
       "    <tr>\n",
       "      <th>47</th>\n",
       "      <td>57708110</td>\n",
       "      <td>577081102</td>\n",
       "      <td>SH</td>\n",
       "      <td>NaN</td>\n",
       "      <td>SOLE</td>\n",
       "      <td>11,080    575,000</td>\n",
       "      <td>11080</td>\n",
       "      <td>575000.0</td>\n",
       "      <td>39538.0</td>\n",
       "      <td>19.270000</td>\n",
       "      <td>429886.0</td>\n",
       "      <td>False</td>\n",
       "      <td>0.001</td>\n",
       "      <td>2230/0000002230-04-000014.txt</td>\n",
       "      <td>2003-12-31</td>\n",
       "      <td>2004-02-02</td>\n",
       "      <td>2230</td>\n",
       "      <td>13F-HR</td>\n",
       "      <td>fwf</td>\n",
       "      <td>NaN</td>\n",
       "      <td>NaN</td>\n",
       "      <td>NaN</td>\n",
       "      <td>NaN</td>\n",
       "      <td>NaN</td>\n",
       "      <td>NaN</td>\n",
       "    </tr>\n",
       "    <tr>\n",
       "      <th>66</th>\n",
       "      <td>58550910</td>\n",
       "      <td>585509102</td>\n",
       "      <td>SH</td>\n",
       "      <td>NaN</td>\n",
       "      <td>SOLE</td>\n",
       "      <td>14,779   210,000</td>\n",
       "      <td>14779</td>\n",
       "      <td>210000.0</td>\n",
       "      <td>59379.0</td>\n",
       "      <td>70.375000</td>\n",
       "      <td>261793.0</td>\n",
       "      <td>False</td>\n",
       "      <td>0.001</td>\n",
       "      <td>2230/0000002230-99-000007.txt</td>\n",
       "      <td>1999-03-31</td>\n",
       "      <td>1999-05-17</td>\n",
       "      <td>2230</td>\n",
       "      <td>13F-HR</td>\n",
       "      <td>fwf</td>\n",
       "      <td>NaN</td>\n",
       "      <td>NaN</td>\n",
       "      <td>NaN</td>\n",
       "      <td>NaN</td>\n",
       "      <td>NaN</td>\n",
       "      <td>NaN</td>\n",
       "    </tr>\n",
       "  </tbody>\n",
       "</table>\n",
       "</div>"
      ],
      "text/plain": [
       "       cusip8     cusip9 shrsOrPrnAmt putCall investmentDiscretion  \\\n",
       "174  86791410  867914103           SH     NaN                 SOLE   \n",
       "47   57708110  577081102           SH     NaN                 SOLE   \n",
       "66   58550910  585509102           SH     NaN                 SOLE   \n",
       "\n",
       "                   remainder  value    shares   permno        prc    shrout  \\\n",
       "174                      NaN  24962  378100.0  68144.0  66.019997  464827.0   \n",
       "47       11,080    575,000    11080  575000.0  39538.0  19.270000  429886.0   \n",
       "66         14,779   210,000   14779  210000.0  59379.0  70.375000  261793.0   \n",
       "\n",
       "     split  deviation                        address ferral_date  \\\n",
       "174  False      0.001  2230/0001144204-18-040186.txt  2018-06-30   \n",
       "47   False      0.001  2230/0000002230-04-000014.txt  2003-12-31   \n",
       "66   False      0.001  2230/0000002230-99-000007.txt  1999-03-31   \n",
       "\n",
       "    repoooort_date   cik    form type  num3          nameOfIssuer  \\\n",
       "174     2018-07-26  2230  13F-HR  xml   NaN  SunTrust Banks, Inc.   \n",
       "47      2004-02-02  2230  13F-HR  fwf   NaN                   NaN   \n",
       "66      1999-05-17  2230  13F-HR  fwf   NaN                   NaN   \n",
       "\n",
       "    titleOfClass  votingAuthority in_universe  otherManager  \n",
       "174          COM       37810000.0        True           NaN  \n",
       "47           NaN              NaN         NaN           NaN  \n",
       "66           NaN              NaN         NaN           NaN  "
      ]
     },
     "execution_count": 143,
     "metadata": {},
     "output_type": "execute_result"
    }
   ],
   "source": [
    "# result\n",
    "result3.sample(3)"
   ]
  },
  {
   "cell_type": "code",
   "execution_count": 148,
   "id": "a52dc8ad-c224-4176-892a-364237c83e1a",
   "metadata": {
    "execution": {
     "iopub.execute_input": "2022-10-17T20:55:40.575234Z",
     "iopub.status.busy": "2022-10-17T20:55:40.574234Z",
     "iopub.status.idle": "2022-10-17T20:55:40.892699Z",
     "shell.execute_reply": "2022-10-17T20:55:40.892699Z",
     "shell.execute_reply.started": "2022-10-17T20:55:40.575234Z"
    },
    "tags": []
   },
   "outputs": [
    {
     "name": "stderr",
     "output_type": "stream",
     "text": [
      "<cell>1: error: Name \"df\" is not defined\n",
      "<cell>1: error: Name \"to_upper\" is not defined\n",
      "<cell>2: error: Name \"to_lower\" is not defined\n",
      "<cell>3: error: Name \"new_names\" is not defined\n",
      "<cell>4: error: Name \"fill_missing_values\" is not defined\n"
     ]
    }
   ],
   "source": [
    "df_transformed = (df.pipe(to_upper, 'cusip8')\n",
    "                  .pipe(to_lower, 'cusip9')\n",
    "                  .pipe(new_names, 'ffff', 'rrrrr')\n",
    "                  .pipe(fill_missing_values))\n"
   ]
  },
  {
   "cell_type": "code",
   "execution_count": 149,
   "id": "fe1f5d6a-5354-443c-84b4-baf69e470556",
   "metadata": {
    "execution": {
     "iopub.execute_input": "2022-10-17T20:55:48.308671Z",
     "iopub.status.busy": "2022-10-17T20:55:48.307674Z",
     "iopub.status.idle": "2022-10-17T20:55:48.716864Z",
     "shell.execute_reply": "2022-10-17T20:55:48.716864Z",
     "shell.execute_reply.started": "2022-10-17T20:55:48.308671Z"
    },
    "tags": []
   },
   "outputs": [
    {
     "data": {
      "text/html": [
       "<div>\n",
       "<style scoped>\n",
       "    .dataframe tbody tr th:only-of-type {\n",
       "        vertical-align: middle;\n",
       "    }\n",
       "\n",
       "    .dataframe tbody tr th {\n",
       "        vertical-align: top;\n",
       "    }\n",
       "\n",
       "    .dataframe thead th {\n",
       "        text-align: right;\n",
       "    }\n",
       "</style>\n",
       "<table border=\"1\" class=\"dataframe\">\n",
       "  <thead>\n",
       "    <tr style=\"text-align: right;\">\n",
       "      <th></th>\n",
       "      <th>cusip8</th>\n",
       "      <th>cusip9</th>\n",
       "      <th>shrsOrPrnAmt</th>\n",
       "      <th>putCall</th>\n",
       "      <th>investmentDiscretion</th>\n",
       "      <th>remainder</th>\n",
       "      <th>value</th>\n",
       "      <th>shares</th>\n",
       "      <th>permno</th>\n",
       "      <th>prc</th>\n",
       "      <th>shrout</th>\n",
       "      <th>split</th>\n",
       "      <th>deviation</th>\n",
       "      <th>address</th>\n",
       "      <th>rrrrr</th>\n",
       "      <th>ffff</th>\n",
       "      <th>cik</th>\n",
       "      <th>form</th>\n",
       "      <th>type</th>\n",
       "      <th>num3</th>\n",
       "      <th>nameOfIssuer</th>\n",
       "      <th>titleOfClass</th>\n",
       "      <th>votingAuthority</th>\n",
       "      <th>in_universe</th>\n",
       "      <th>otherManager</th>\n",
       "    </tr>\n",
       "  </thead>\n",
       "  <tbody>\n",
       "    <tr>\n",
       "      <th>6</th>\n",
       "      <td>00423910</td>\n",
       "      <td>004239109</td>\n",
       "      <td>SH</td>\n",
       "      <td>NO_DATA</td>\n",
       "      <td>DFND</td>\n",
       "      <td>NO_DATA</td>\n",
       "      <td>480</td>\n",
       "      <td>20200.0</td>\n",
       "      <td>79235.0</td>\n",
       "      <td>23.760000</td>\n",
       "      <td>81553.0</td>\n",
       "      <td>False</td>\n",
       "      <td>0.001000</td>\n",
       "      <td>2230/0001144204-19-008131.txt</td>\n",
       "      <td>2018-12-31</td>\n",
       "      <td>2019-02-14</td>\n",
       "      <td>2230</td>\n",
       "      <td>13F-HR</td>\n",
       "      <td>xml</td>\n",
       "      <td>NaN</td>\n",
       "      <td>Acadia Realty Trust</td>\n",
       "      <td>COM</td>\n",
       "      <td>20200.0</td>\n",
       "      <td>True</td>\n",
       "      <td>NaN</td>\n",
       "    </tr>\n",
       "    <tr>\n",
       "      <th>26</th>\n",
       "      <td>04532710</td>\n",
       "      <td>045327103</td>\n",
       "      <td>SH</td>\n",
       "      <td>NO_DATA</td>\n",
       "      <td>DFND</td>\n",
       "      <td>NO_DATA</td>\n",
       "      <td>334</td>\n",
       "      <td>3200.0</td>\n",
       "      <td>80957.0</td>\n",
       "      <td>104.260002</td>\n",
       "      <td>69109.0</td>\n",
       "      <td>False</td>\n",
       "      <td>0.001001</td>\n",
       "      <td>2230/0001144204-19-021569.txt</td>\n",
       "      <td>2019-03-31</td>\n",
       "      <td>2019-04-26</td>\n",
       "      <td>2230</td>\n",
       "      <td>13F-HR</td>\n",
       "      <td>xml</td>\n",
       "      <td>NaN</td>\n",
       "      <td>Aspen Technology, Inc.</td>\n",
       "      <td>COM</td>\n",
       "      <td>3200.0</td>\n",
       "      <td>True</td>\n",
       "      <td>NaN</td>\n",
       "    </tr>\n",
       "    <tr>\n",
       "      <th>28</th>\n",
       "      <td>19851610</td>\n",
       "      <td>198516106</td>\n",
       "      <td>SH</td>\n",
       "      <td>NO_DATA</td>\n",
       "      <td>SOLE</td>\n",
       "      <td>10,672     200,000</td>\n",
       "      <td>10672</td>\n",
       "      <td>200000.0</td>\n",
       "      <td>85863.0</td>\n",
       "      <td>53.360001</td>\n",
       "      <td>34075.0</td>\n",
       "      <td>False</td>\n",
       "      <td>0.001000</td>\n",
       "      <td>2230/0000002230-13-000028.txt</td>\n",
       "      <td>2012-12-31</td>\n",
       "      <td>2013-02-14</td>\n",
       "      <td>2230</td>\n",
       "      <td>13F-HR</td>\n",
       "      <td>fwf</td>\n",
       "      <td>NaN</td>\n",
       "      <td>NO_DATA</td>\n",
       "      <td>NO_DATA</td>\n",
       "      <td>NaN</td>\n",
       "      <td>NO_DATA</td>\n",
       "      <td>NaN</td>\n",
       "    </tr>\n",
       "    <tr>\n",
       "      <th>41</th>\n",
       "      <td>40411910</td>\n",
       "      <td>404119109</td>\n",
       "      <td>SH</td>\n",
       "      <td>NO_DATA</td>\n",
       "      <td>SOLE</td>\n",
       "      <td>15,031     390,000</td>\n",
       "      <td>15031</td>\n",
       "      <td>390000.0</td>\n",
       "      <td>76171.0</td>\n",
       "      <td>38.540001</td>\n",
       "      <td>494024.0</td>\n",
       "      <td>False</td>\n",
       "      <td>0.001000</td>\n",
       "      <td>2230/0000002230-02-000002.txt</td>\n",
       "      <td>2001-12-31</td>\n",
       "      <td>2002-02-08</td>\n",
       "      <td>2230</td>\n",
       "      <td>13F-HR</td>\n",
       "      <td>fwf</td>\n",
       "      <td>NaN</td>\n",
       "      <td>NO_DATA</td>\n",
       "      <td>NO_DATA</td>\n",
       "      <td>NaN</td>\n",
       "      <td>NO_DATA</td>\n",
       "      <td>NaN</td>\n",
       "    </tr>\n",
       "    <tr>\n",
       "      <th>1</th>\n",
       "      <td>00206R10</td>\n",
       "      <td>00206r102</td>\n",
       "      <td>SH</td>\n",
       "      <td>NO_DATA</td>\n",
       "      <td>SOLE</td>\n",
       "      <td>NO_DATA</td>\n",
       "      <td>18951</td>\n",
       "      <td>539000.0</td>\n",
       "      <td>66093.0</td>\n",
       "      <td>35.160000</td>\n",
       "      <td>5268000.0</td>\n",
       "      <td>False</td>\n",
       "      <td>0.001000</td>\n",
       "      <td>2230/0000002230-14-000035.txt</td>\n",
       "      <td>2013-12-31</td>\n",
       "      <td>2014-02-14</td>\n",
       "      <td>2230</td>\n",
       "      <td>13F-HR</td>\n",
       "      <td>xml</td>\n",
       "      <td>NaN</td>\n",
       "      <td>AT&amp;T CORP.</td>\n",
       "      <td>COM</td>\n",
       "      <td>53900000.0</td>\n",
       "      <td>True</td>\n",
       "      <td>NaN</td>\n",
       "    </tr>\n",
       "  </tbody>\n",
       "</table>\n",
       "</div>"
      ],
      "text/plain": [
       "      cusip8     cusip9 shrsOrPrnAmt  putCall investmentDiscretion  \\\n",
       "6   00423910  004239109           SH  NO_DATA                 DFND   \n",
       "26  04532710  045327103           SH  NO_DATA                 DFND   \n",
       "28  19851610  198516106           SH  NO_DATA                 SOLE   \n",
       "41  40411910  404119109           SH  NO_DATA                 SOLE   \n",
       "1   00206R10  00206r102           SH  NO_DATA                 SOLE   \n",
       "\n",
       "                     remainder  value    shares   permno         prc  \\\n",
       "6                      NO_DATA    480   20200.0  79235.0   23.760000   \n",
       "26                     NO_DATA    334    3200.0  80957.0  104.260002   \n",
       "28      10,672     200,000      10672  200000.0  85863.0   53.360001   \n",
       "41         15,031     390,000   15031  390000.0  76171.0   38.540001   \n",
       "1                      NO_DATA  18951  539000.0  66093.0   35.160000   \n",
       "\n",
       "       shrout  split  deviation                        address      rrrrr  \\\n",
       "6     81553.0  False   0.001000  2230/0001144204-19-008131.txt 2018-12-31   \n",
       "26    69109.0  False   0.001001  2230/0001144204-19-021569.txt 2019-03-31   \n",
       "28    34075.0  False   0.001000  2230/0000002230-13-000028.txt 2012-12-31   \n",
       "41   494024.0  False   0.001000  2230/0000002230-02-000002.txt 2001-12-31   \n",
       "1   5268000.0  False   0.001000  2230/0000002230-14-000035.txt 2013-12-31   \n",
       "\n",
       "         ffff   cik    form type  num3            nameOfIssuer titleOfClass  \\\n",
       "6  2019-02-14  2230  13F-HR  xml   NaN     Acadia Realty Trust          COM   \n",
       "26 2019-04-26  2230  13F-HR  xml   NaN  Aspen Technology, Inc.          COM   \n",
       "28 2013-02-14  2230  13F-HR  fwf   NaN                 NO_DATA      NO_DATA   \n",
       "41 2002-02-08  2230  13F-HR  fwf   NaN                 NO_DATA      NO_DATA   \n",
       "1  2014-02-14  2230  13F-HR  xml   NaN              AT&T CORP.          COM   \n",
       "\n",
       "    votingAuthority in_universe  otherManager  \n",
       "6           20200.0        True           NaN  \n",
       "26           3200.0        True           NaN  \n",
       "28              NaN     NO_DATA           NaN  \n",
       "41              NaN     NO_DATA           NaN  \n",
       "1        53900000.0        True           NaN  "
      ]
     },
     "execution_count": 149,
     "metadata": {},
     "output_type": "execute_result"
    }
   ],
   "source": [
    "df_transformed.sample(5)\n",
    "# df_transformed.select_dtypes(exclude= [\"int\",\"float\"]).columns"
   ]
  },
  {
   "cell_type": "code",
   "execution_count": 152,
   "id": "c0c299e3-c567-4b84-b1bf-f83945e23bb4",
   "metadata": {
    "execution": {
     "iopub.execute_input": "2022-10-17T21:04:01.177775Z",
     "iopub.status.busy": "2022-10-17T21:04:01.177775Z",
     "iopub.status.idle": "2022-10-17T21:04:01.424869Z",
     "shell.execute_reply": "2022-10-17T21:04:01.424869Z",
     "shell.execute_reply.started": "2022-10-17T21:04:01.177775Z"
    },
    "tags": []
   },
   "outputs": [
    {
     "name": "stderr",
     "output_type": "stream",
     "text": [
      "<cell>1: error: Name \"pd\" is not defined\n"
     ]
    },
    {
     "data": {
      "text/plain": [
       "0    9124\n",
       "2     149\n",
       "1     129\n",
       "Name: putCall_encoded, dtype: int64"
      ]
     },
     "execution_count": 152,
     "metadata": {},
     "output_type": "execute_result"
    }
   ],
   "source": [
    "df_transformed['putCall_encoded'] = pd.factorize(df_transformed.putCall)[0]\n",
    "df_transformed['putCall_encoded'].value_counts()"
   ]
  },
  {
   "cell_type": "code",
   "execution_count": 196,
   "id": "7f4fac5f-435b-440c-a04a-b8df0bd5ecb3",
   "metadata": {
    "execution": {
     "iopub.execute_input": "2022-10-17T21:21:24.336050Z",
     "iopub.status.busy": "2022-10-17T21:21:24.336050Z",
     "iopub.status.idle": "2022-10-17T21:21:24.352867Z",
     "shell.execute_reply": "2022-10-17T21:21:24.352867Z",
     "shell.execute_reply.started": "2022-10-17T21:21:24.336050Z"
    },
    "tags": []
   },
   "outputs": [
    {
     "name": "stdout",
     "output_type": "stream",
     "text": [
      "CPU times: total: 0 ns\n",
      "Wall time: 0 ns\n"
     ]
    },
    {
     "data": {
      "text/plain": [
       "0    00282410\n",
       "1    02261510\n",
       "2    02313910\n",
       "Name: cusip8, dtype: object"
      ]
     },
     "execution_count": 196,
     "metadata": {},
     "output_type": "execute_result"
    }
   ],
   "source": [
    "%%time\n",
    "subset = df_transformed.loc[df_transformed['putCall'] == 'NO_DATA',['cusip8']]\n",
    "subset.cusip8.head(3).squeeze()\n",
    "# .sample(4)\n",
    "                       "
   ]
  },
  {
   "cell_type": "code",
   "execution_count": 180,
   "id": "ac447de4-f210-429b-9516-15f3ac94c402",
   "metadata": {
    "execution": {
     "iopub.execute_input": "2022-10-17T21:18:00.381730Z",
     "iopub.status.busy": "2022-10-17T21:18:00.381730Z",
     "iopub.status.idle": "2022-10-17T21:18:00.629575Z",
     "shell.execute_reply": "2022-10-17T21:18:00.628577Z",
     "shell.execute_reply.started": "2022-10-17T21:18:00.381730Z"
    },
    "tags": []
   },
   "outputs": [
    {
     "data": {
      "text/html": [
       "<div>\n",
       "<style scoped>\n",
       "    .dataframe tbody tr th:only-of-type {\n",
       "        vertical-align: middle;\n",
       "    }\n",
       "\n",
       "    .dataframe tbody tr th {\n",
       "        vertical-align: top;\n",
       "    }\n",
       "\n",
       "    .dataframe thead th {\n",
       "        text-align: right;\n",
       "    }\n",
       "</style>\n",
       "<table border=\"1\" class=\"dataframe\">\n",
       "  <thead>\n",
       "    <tr style=\"text-align: right;\">\n",
       "      <th></th>\n",
       "      <th>cusip8</th>\n",
       "      <th>cusip9</th>\n",
       "      <th>shrsOrPrnAmt</th>\n",
       "      <th>putCall</th>\n",
       "      <th>investmentDiscretion</th>\n",
       "      <th>remainder</th>\n",
       "      <th>value</th>\n",
       "      <th>shares</th>\n",
       "      <th>permno</th>\n",
       "      <th>prc</th>\n",
       "      <th>shrout</th>\n",
       "      <th>split</th>\n",
       "      <th>deviation</th>\n",
       "      <th>address</th>\n",
       "      <th>rrrrr</th>\n",
       "      <th>ffff</th>\n",
       "      <th>cik</th>\n",
       "      <th>form</th>\n",
       "      <th>type</th>\n",
       "      <th>num3</th>\n",
       "      <th>nameOfIssuer</th>\n",
       "      <th>titleOfClass</th>\n",
       "      <th>votingAuthority</th>\n",
       "      <th>in_universe</th>\n",
       "      <th>otherManager</th>\n",
       "      <th>putCall_encoded</th>\n",
       "    </tr>\n",
       "  </thead>\n",
       "  <tbody>\n",
       "    <tr>\n",
       "      <th>48</th>\n",
       "      <td>39538410</td>\n",
       "      <td>395384100</td>\n",
       "      <td>SH</td>\n",
       "      <td>NO_DATA</td>\n",
       "      <td>SOLE</td>\n",
       "      <td>14,769   425,000</td>\n",
       "      <td>14769</td>\n",
       "      <td>425000.0</td>\n",
       "      <td>80127.0</td>\n",
       "      <td>34.750</td>\n",
       "      <td>108873.0</td>\n",
       "      <td>False</td>\n",
       "      <td>0.001</td>\n",
       "      <td>2230/0000002230-99-000007.txt</td>\n",
       "      <td>1999-03-31</td>\n",
       "      <td>1999-05-17</td>\n",
       "      <td>2230</td>\n",
       "      <td>13F-HR</td>\n",
       "      <td>fwf</td>\n",
       "      <td>NaN</td>\n",
       "      <td>NO_DATA</td>\n",
       "      <td>NO_DATA</td>\n",
       "      <td>NaN</td>\n",
       "      <td>NO_DATA</td>\n",
       "      <td>NaN</td>\n",
       "      <td>0</td>\n",
       "    </tr>\n",
       "    <tr>\n",
       "      <th>101</th>\n",
       "      <td>87237510</td>\n",
       "      <td>872375100</td>\n",
       "      <td>SH</td>\n",
       "      <td>NO_DATA</td>\n",
       "      <td>SOLE</td>\n",
       "      <td>5,963   300,000</td>\n",
       "      <td>5963</td>\n",
       "      <td>300000.0</td>\n",
       "      <td>37161.0</td>\n",
       "      <td>19.875</td>\n",
       "      <td>131957.0</td>\n",
       "      <td>False</td>\n",
       "      <td>0.001</td>\n",
       "      <td>2230/0000002230-99-000007.txt</td>\n",
       "      <td>1999-03-31</td>\n",
       "      <td>1999-05-17</td>\n",
       "      <td>2230</td>\n",
       "      <td>13F-HR</td>\n",
       "      <td>fwf</td>\n",
       "      <td>NaN</td>\n",
       "      <td>NO_DATA</td>\n",
       "      <td>NO_DATA</td>\n",
       "      <td>NaN</td>\n",
       "      <td>NO_DATA</td>\n",
       "      <td>NaN</td>\n",
       "      <td>0</td>\n",
       "    </tr>\n",
       "    <tr>\n",
       "      <th>84</th>\n",
       "      <td>71654910</td>\n",
       "      <td>716549100</td>\n",
       "      <td>SH</td>\n",
       "      <td>NO_DATA</td>\n",
       "      <td>SOLE</td>\n",
       "      <td>37,374 1,145,570</td>\n",
       "      <td>37374</td>\n",
       "      <td>1145570.0</td>\n",
       "      <td>18964.0</td>\n",
       "      <td>32.625</td>\n",
       "      <td>13841.0</td>\n",
       "      <td>False</td>\n",
       "      <td>0.001</td>\n",
       "      <td>2230/0000002230-99-000007.txt</td>\n",
       "      <td>1999-03-31</td>\n",
       "      <td>1999-05-17</td>\n",
       "      <td>2230</td>\n",
       "      <td>13F-HR</td>\n",
       "      <td>fwf</td>\n",
       "      <td>NaN</td>\n",
       "      <td>NO_DATA</td>\n",
       "      <td>NO_DATA</td>\n",
       "      <td>NaN</td>\n",
       "      <td>NO_DATA</td>\n",
       "      <td>NaN</td>\n",
       "      <td>0</td>\n",
       "    </tr>\n",
       "  </tbody>\n",
       "</table>\n",
       "</div>"
      ],
      "text/plain": [
       "       cusip8     cusip9 shrsOrPrnAmt  putCall investmentDiscretion  \\\n",
       "48   39538410  395384100           SH  NO_DATA                 SOLE   \n",
       "101  87237510  872375100           SH  NO_DATA                 SOLE   \n",
       "84   71654910  716549100           SH  NO_DATA                 SOLE   \n",
       "\n",
       "                   remainder  value     shares   permno     prc    shrout  \\\n",
       "48         14,769   425,000   14769   425000.0  80127.0  34.750  108873.0   \n",
       "101         5,963   300,000    5963   300000.0  37161.0  19.875  131957.0   \n",
       "84         37,374 1,145,570   37374  1145570.0  18964.0  32.625   13841.0   \n",
       "\n",
       "     split  deviation                        address      rrrrr       ffff  \\\n",
       "48   False      0.001  2230/0000002230-99-000007.txt 1999-03-31 1999-05-17   \n",
       "101  False      0.001  2230/0000002230-99-000007.txt 1999-03-31 1999-05-17   \n",
       "84   False      0.001  2230/0000002230-99-000007.txt 1999-03-31 1999-05-17   \n",
       "\n",
       "      cik    form type  num3 nameOfIssuer titleOfClass  votingAuthority  \\\n",
       "48   2230  13F-HR  fwf   NaN      NO_DATA      NO_DATA              NaN   \n",
       "101  2230  13F-HR  fwf   NaN      NO_DATA      NO_DATA              NaN   \n",
       "84   2230  13F-HR  fwf   NaN      NO_DATA      NO_DATA              NaN   \n",
       "\n",
       "    in_universe  otherManager  putCall_encoded  \n",
       "48      NO_DATA           NaN                0  \n",
       "101     NO_DATA           NaN                0  \n",
       "84      NO_DATA           NaN                0  "
      ]
     },
     "execution_count": 180,
     "metadata": {},
     "output_type": "execute_result"
    }
   ],
   "source": [
    "df_transformed.loc[df_transformed.ffff.between('1999-01-01', '1999-05-31', inclusive=\"both\")].sample(3)"
   ]
  },
  {
   "cell_type": "code",
   "execution_count": 197,
   "id": "4ff025f9-c8a2-417b-9bd7-e22e5076b127",
   "metadata": {
    "execution": {
     "iopub.execute_input": "2022-10-17T21:22:19.622938Z",
     "iopub.status.busy": "2022-10-17T21:22:19.622938Z",
     "iopub.status.idle": "2022-10-17T21:22:19.982664Z",
     "shell.execute_reply": "2022-10-17T21:22:19.982664Z",
     "shell.execute_reply.started": "2022-10-17T21:22:19.622938Z"
    },
    "tags": []
   },
   "outputs": [
    {
     "data": {
      "text/html": [
       "<div>\n",
       "<style scoped>\n",
       "    .dataframe tbody tr th:only-of-type {\n",
       "        vertical-align: middle;\n",
       "    }\n",
       "\n",
       "    .dataframe tbody tr th {\n",
       "        vertical-align: top;\n",
       "    }\n",
       "\n",
       "    .dataframe thead th {\n",
       "        text-align: right;\n",
       "    }\n",
       "</style>\n",
       "<table border=\"1\" class=\"dataframe\">\n",
       "  <thead>\n",
       "    <tr style=\"text-align: right;\">\n",
       "      <th></th>\n",
       "      <th>count</th>\n",
       "      <th>mean</th>\n",
       "      <th>std</th>\n",
       "      <th>min</th>\n",
       "      <th>25%</th>\n",
       "      <th>50%</th>\n",
       "      <th>75%</th>\n",
       "      <th>max</th>\n",
       "    </tr>\n",
       "  </thead>\n",
       "  <tbody>\n",
       "    <tr>\n",
       "      <th>value</th>\n",
       "      <td>9402.0</td>\n",
       "      <td>1.299787e+04</td>\n",
       "      <td>1.288646e+04</td>\n",
       "      <td>42.000000</td>\n",
       "      <td>4.463750e+03</td>\n",
       "      <td>1.108500e+04</td>\n",
       "      <td>1.732975e+04</td>\n",
       "      <td>1.536950e+05</td>\n",
       "    </tr>\n",
       "    <tr>\n",
       "      <th>shares</th>\n",
       "      <td>9402.0</td>\n",
       "      <td>3.173323e+05</td>\n",
       "      <td>5.798862e+05</td>\n",
       "      <td>400.000000</td>\n",
       "      <td>6.600000e+04</td>\n",
       "      <td>2.000000e+05</td>\n",
       "      <td>3.800000e+05</td>\n",
       "      <td>1.000000e+07</td>\n",
       "    </tr>\n",
       "    <tr>\n",
       "      <th>permno</th>\n",
       "      <td>9010.0</td>\n",
       "      <td>5.309459e+04</td>\n",
       "      <td>3.069031e+04</td>\n",
       "      <td>10078.000000</td>\n",
       "      <td>2.048200e+04</td>\n",
       "      <td>5.948300e+04</td>\n",
       "      <td>8.333200e+04</td>\n",
       "      <td>9.343600e+04</td>\n",
       "    </tr>\n",
       "    <tr>\n",
       "      <th>prc</th>\n",
       "      <td>9010.0</td>\n",
       "      <td>7.498232e+01</td>\n",
       "      <td>1.390626e+02</td>\n",
       "      <td>0.360000</td>\n",
       "      <td>2.845000e+01</td>\n",
       "      <td>4.811000e+01</td>\n",
       "      <td>7.716750e+01</td>\n",
       "      <td>4.083120e+03</td>\n",
       "    </tr>\n",
       "    <tr>\n",
       "      <th>shrout</th>\n",
       "      <td>9010.0</td>\n",
       "      <td>1.120376e+06</td>\n",
       "      <td>1.895632e+06</td>\n",
       "      <td>3702.000000</td>\n",
       "      <td>9.310525e+04</td>\n",
       "      <td>3.567005e+05</td>\n",
       "      <td>1.196690e+06</td>\n",
       "      <td>1.700180e+07</td>\n",
       "    </tr>\n",
       "    <tr>\n",
       "      <th>deviation</th>\n",
       "      <td>9010.0</td>\n",
       "      <td>1.111843e-03</td>\n",
       "      <td>1.052501e-02</td>\n",
       "      <td>0.000099</td>\n",
       "      <td>9.999783e-04</td>\n",
       "      <td>1.000000e-03</td>\n",
       "      <td>1.000020e-03</td>\n",
       "      <td>1.000000e+00</td>\n",
       "    </tr>\n",
       "    <tr>\n",
       "      <th>cik</th>\n",
       "      <td>9402.0</td>\n",
       "      <td>2.230000e+03</td>\n",
       "      <td>0.000000e+00</td>\n",
       "      <td>2230.000000</td>\n",
       "      <td>2.230000e+03</td>\n",
       "      <td>2.230000e+03</td>\n",
       "      <td>2.230000e+03</td>\n",
       "      <td>2.230000e+03</td>\n",
       "    </tr>\n",
       "    <tr>\n",
       "      <th>num3</th>\n",
       "      <td>3.0</td>\n",
       "      <td>1.833333e+05</td>\n",
       "      <td>1.588500e+05</td>\n",
       "      <td>0.000000</td>\n",
       "      <td>1.350000e+05</td>\n",
       "      <td>2.700000e+05</td>\n",
       "      <td>2.750000e+05</td>\n",
       "      <td>2.800000e+05</td>\n",
       "    </tr>\n",
       "    <tr>\n",
       "      <th>votingAuthority</th>\n",
       "      <td>4311.0</td>\n",
       "      <td>1.556444e+07</td>\n",
       "      <td>2.514305e+07</td>\n",
       "      <td>400.000000</td>\n",
       "      <td>1.505000e+06</td>\n",
       "      <td>8.500000e+06</td>\n",
       "      <td>2.000000e+07</td>\n",
       "      <td>2.186774e+08</td>\n",
       "    </tr>\n",
       "    <tr>\n",
       "      <th>otherManager</th>\n",
       "      <td>1215.0</td>\n",
       "      <td>7.242798e-01</td>\n",
       "      <td>4.470605e-01</td>\n",
       "      <td>0.000000</td>\n",
       "      <td>0.000000e+00</td>\n",
       "      <td>1.000000e+00</td>\n",
       "      <td>1.000000e+00</td>\n",
       "      <td>1.000000e+00</td>\n",
       "    </tr>\n",
       "  </tbody>\n",
       "</table>\n",
       "</div>"
      ],
      "text/plain": [
       "                  count          mean           std           min  \\\n",
       "value            9402.0  1.299787e+04  1.288646e+04     42.000000   \n",
       "shares           9402.0  3.173323e+05  5.798862e+05    400.000000   \n",
       "permno           9010.0  5.309459e+04  3.069031e+04  10078.000000   \n",
       "prc              9010.0  7.498232e+01  1.390626e+02      0.360000   \n",
       "shrout           9010.0  1.120376e+06  1.895632e+06   3702.000000   \n",
       "deviation        9010.0  1.111843e-03  1.052501e-02      0.000099   \n",
       "cik              9402.0  2.230000e+03  0.000000e+00   2230.000000   \n",
       "num3                3.0  1.833333e+05  1.588500e+05      0.000000   \n",
       "votingAuthority  4311.0  1.556444e+07  2.514305e+07    400.000000   \n",
       "otherManager     1215.0  7.242798e-01  4.470605e-01      0.000000   \n",
       "\n",
       "                          25%           50%           75%           max  \n",
       "value            4.463750e+03  1.108500e+04  1.732975e+04  1.536950e+05  \n",
       "shares           6.600000e+04  2.000000e+05  3.800000e+05  1.000000e+07  \n",
       "permno           2.048200e+04  5.948300e+04  8.333200e+04  9.343600e+04  \n",
       "prc              2.845000e+01  4.811000e+01  7.716750e+01  4.083120e+03  \n",
       "shrout           9.310525e+04  3.567005e+05  1.196690e+06  1.700180e+07  \n",
       "deviation        9.999783e-04  1.000000e-03  1.000020e-03  1.000000e+00  \n",
       "cik              2.230000e+03  2.230000e+03  2.230000e+03  2.230000e+03  \n",
       "num3             1.350000e+05  2.700000e+05  2.750000e+05  2.800000e+05  \n",
       "votingAuthority  1.505000e+06  8.500000e+06  2.000000e+07  2.186774e+08  \n",
       "otherManager     0.000000e+00  1.000000e+00  1.000000e+00  1.000000e+00  "
      ]
     },
     "execution_count": 197,
     "metadata": {},
     "output_type": "execute_result"
    }
   ],
   "source": [
    "df_transformed.describe().T.head(10)"
   ]
  },
  {
   "cell_type": "code",
   "execution_count": 209,
   "id": "9dd5cb9c-8c66-4b06-85ef-e0d2709ed2e4",
   "metadata": {
    "execution": {
     "iopub.execute_input": "2022-10-17T21:30:32.818047Z",
     "iopub.status.busy": "2022-10-17T21:30:32.818047Z",
     "iopub.status.idle": "2022-10-17T21:30:33.852575Z",
     "shell.execute_reply": "2022-10-17T21:30:33.852575Z",
     "shell.execute_reply.started": "2022-10-17T21:30:32.818047Z"
    },
    "tags": []
   },
   "outputs": [
    {
     "data": {
      "text/html": [
       "<style type=\"text/css\">\n",
       "#T_bca5e_row0_col0, #T_bca5e_row0_col4, #T_bca5e_row2_col0, #T_bca5e_row3_col0, #T_bca5e_row3_col4, #T_bca5e_row5_col0, #T_bca5e_row5_col4, #T_bca5e_row6_col0, #T_bca5e_row6_col4, #T_bca5e_row9_col0, #T_bca5e_row9_col4, #T_bca5e_row10_col0, #T_bca5e_row10_col4 {\n",
       "  background-color: #fff5f0;\n",
       "  color: #000000;\n",
       "}\n",
       "#T_bca5e_row1_col0 {\n",
       "  background-color: #fff2eb;\n",
       "  color: #000000;\n",
       "}\n",
       "#T_bca5e_row1_col4 {\n",
       "  background-color: #fff1ea;\n",
       "  color: #000000;\n",
       "}\n",
       "#T_bca5e_row2_col4 {\n",
       "  background-color: #fff4ef;\n",
       "  color: #000000;\n",
       "}\n",
       "#T_bca5e_row4_col0 {\n",
       "  background-color: #fee9df;\n",
       "  color: #000000;\n",
       "}\n",
       "#T_bca5e_row4_col4 {\n",
       "  background-color: #ffeee7;\n",
       "  color: #000000;\n",
       "}\n",
       "#T_bca5e_row7_col0 {\n",
       "  background-color: #fff3ed;\n",
       "  color: #000000;\n",
       "}\n",
       "#T_bca5e_row7_col4 {\n",
       "  background-color: #fff0e8;\n",
       "  color: #000000;\n",
       "}\n",
       "#T_bca5e_row8_col0, #T_bca5e_row8_col4 {\n",
       "  background-color: #67000d;\n",
       "  color: #f1f1f1;\n",
       "}\n",
       "</style>\n",
       "<table id=\"T_bca5e\">\n",
       "  <thead>\n",
       "    <tr>\n",
       "      <th class=\"blank level0\" >&nbsp;</th>\n",
       "      <th id=\"T_bca5e_level0_col0\" class=\"col_heading level0 col0\" >mean</th>\n",
       "      <th id=\"T_bca5e_level0_col1\" class=\"col_heading level0 col1\" >std</th>\n",
       "      <th id=\"T_bca5e_level0_col2\" class=\"col_heading level0 col2\" >min</th>\n",
       "      <th id=\"T_bca5e_level0_col3\" class=\"col_heading level0 col3\" >25%</th>\n",
       "      <th id=\"T_bca5e_level0_col4\" class=\"col_heading level0 col4\" >50%</th>\n",
       "      <th id=\"T_bca5e_level0_col5\" class=\"col_heading level0 col5\" >75%</th>\n",
       "      <th id=\"T_bca5e_level0_col6\" class=\"col_heading level0 col6\" >max</th>\n",
       "    </tr>\n",
       "  </thead>\n",
       "  <tbody>\n",
       "    <tr>\n",
       "      <th id=\"T_bca5e_level0_row0\" class=\"row_heading level0 row0\" >value</th>\n",
       "      <td id=\"T_bca5e_row0_col0\" class=\"data row0 col0\" >12997.870028</td>\n",
       "      <td id=\"T_bca5e_row0_col1\" class=\"data row0 col1\" >12886.460377</td>\n",
       "      <td id=\"T_bca5e_row0_col2\" class=\"data row0 col2\" >42.000000</td>\n",
       "      <td id=\"T_bca5e_row0_col3\" class=\"data row0 col3\" >4463.750000</td>\n",
       "      <td id=\"T_bca5e_row0_col4\" class=\"data row0 col4\" >11085.000000</td>\n",
       "      <td id=\"T_bca5e_row0_col5\" class=\"data row0 col5\" >17329.750000</td>\n",
       "      <td id=\"T_bca5e_row0_col6\" class=\"data row0 col6\" >153695.000000</td>\n",
       "    </tr>\n",
       "    <tr>\n",
       "      <th id=\"T_bca5e_level0_row1\" class=\"row_heading level0 row1\" >shares</th>\n",
       "      <td id=\"T_bca5e_row1_col0\" class=\"data row1 col0\" >317332.306743</td>\n",
       "      <td id=\"T_bca5e_row1_col1\" class=\"data row1 col1\" >579886.229411</td>\n",
       "      <td id=\"T_bca5e_row1_col2\" class=\"data row1 col2\" >400.000000</td>\n",
       "      <td id=\"T_bca5e_row1_col3\" class=\"data row1 col3\" >66000.000000</td>\n",
       "      <td id=\"T_bca5e_row1_col4\" class=\"data row1 col4\" >200000.000000</td>\n",
       "      <td id=\"T_bca5e_row1_col5\" class=\"data row1 col5\" >380000.000000</td>\n",
       "      <td id=\"T_bca5e_row1_col6\" class=\"data row1 col6\" >10000000.000000</td>\n",
       "    </tr>\n",
       "    <tr>\n",
       "      <th id=\"T_bca5e_level0_row2\" class=\"row_heading level0 row2\" >permno</th>\n",
       "      <td id=\"T_bca5e_row2_col0\" class=\"data row2 col0\" >53094.593008</td>\n",
       "      <td id=\"T_bca5e_row2_col1\" class=\"data row2 col1\" >30690.309841</td>\n",
       "      <td id=\"T_bca5e_row2_col2\" class=\"data row2 col2\" >10078.000000</td>\n",
       "      <td id=\"T_bca5e_row2_col3\" class=\"data row2 col3\" >20482.000000</td>\n",
       "      <td id=\"T_bca5e_row2_col4\" class=\"data row2 col4\" >59483.000000</td>\n",
       "      <td id=\"T_bca5e_row2_col5\" class=\"data row2 col5\" >83332.000000</td>\n",
       "      <td id=\"T_bca5e_row2_col6\" class=\"data row2 col6\" >93436.000000</td>\n",
       "    </tr>\n",
       "    <tr>\n",
       "      <th id=\"T_bca5e_level0_row3\" class=\"row_heading level0 row3\" >prc</th>\n",
       "      <td id=\"T_bca5e_row3_col0\" class=\"data row3 col0\" >74.982319</td>\n",
       "      <td id=\"T_bca5e_row3_col1\" class=\"data row3 col1\" >139.062598</td>\n",
       "      <td id=\"T_bca5e_row3_col2\" class=\"data row3 col2\" >0.360000</td>\n",
       "      <td id=\"T_bca5e_row3_col3\" class=\"data row3 col3\" >28.450001</td>\n",
       "      <td id=\"T_bca5e_row3_col4\" class=\"data row3 col4\" >48.109999</td>\n",
       "      <td id=\"T_bca5e_row3_col5\" class=\"data row3 col5\" >77.167500</td>\n",
       "      <td id=\"T_bca5e_row3_col6\" class=\"data row3 col6\" >4083.120117</td>\n",
       "    </tr>\n",
       "    <tr>\n",
       "      <th id=\"T_bca5e_level0_row4\" class=\"row_heading level0 row4\" >shrout</th>\n",
       "      <td id=\"T_bca5e_row4_col0\" class=\"data row4 col0\" >1120375.650943</td>\n",
       "      <td id=\"T_bca5e_row4_col1\" class=\"data row4 col1\" >1895632.481344</td>\n",
       "      <td id=\"T_bca5e_row4_col2\" class=\"data row4 col2\" >3702.000000</td>\n",
       "      <td id=\"T_bca5e_row4_col3\" class=\"data row4 col3\" >93105.250000</td>\n",
       "      <td id=\"T_bca5e_row4_col4\" class=\"data row4 col4\" >356700.500000</td>\n",
       "      <td id=\"T_bca5e_row4_col5\" class=\"data row4 col5\" >1196690.000000</td>\n",
       "      <td id=\"T_bca5e_row4_col6\" class=\"data row4 col6\" >17001802.000000</td>\n",
       "    </tr>\n",
       "    <tr>\n",
       "      <th id=\"T_bca5e_level0_row5\" class=\"row_heading level0 row5\" >deviation</th>\n",
       "      <td id=\"T_bca5e_row5_col0\" class=\"data row5 col0\" >0.001112</td>\n",
       "      <td id=\"T_bca5e_row5_col1\" class=\"data row5 col1\" >0.010525</td>\n",
       "      <td id=\"T_bca5e_row5_col2\" class=\"data row5 col2\" >0.000099</td>\n",
       "      <td id=\"T_bca5e_row5_col3\" class=\"data row5 col3\" >0.001000</td>\n",
       "      <td id=\"T_bca5e_row5_col4\" class=\"data row5 col4\" >0.001000</td>\n",
       "      <td id=\"T_bca5e_row5_col5\" class=\"data row5 col5\" >0.001000</td>\n",
       "      <td id=\"T_bca5e_row5_col6\" class=\"data row5 col6\" >1.000000</td>\n",
       "    </tr>\n",
       "    <tr>\n",
       "      <th id=\"T_bca5e_level0_row6\" class=\"row_heading level0 row6\" >cik</th>\n",
       "      <td id=\"T_bca5e_row6_col0\" class=\"data row6 col0\" >2230.000000</td>\n",
       "      <td id=\"T_bca5e_row6_col1\" class=\"data row6 col1\" >0.000000</td>\n",
       "      <td id=\"T_bca5e_row6_col2\" class=\"data row6 col2\" >2230.000000</td>\n",
       "      <td id=\"T_bca5e_row6_col3\" class=\"data row6 col3\" >2230.000000</td>\n",
       "      <td id=\"T_bca5e_row6_col4\" class=\"data row6 col4\" >2230.000000</td>\n",
       "      <td id=\"T_bca5e_row6_col5\" class=\"data row6 col5\" >2230.000000</td>\n",
       "      <td id=\"T_bca5e_row6_col6\" class=\"data row6 col6\" >2230.000000</td>\n",
       "    </tr>\n",
       "    <tr>\n",
       "      <th id=\"T_bca5e_level0_row7\" class=\"row_heading level0 row7\" >num3</th>\n",
       "      <td id=\"T_bca5e_row7_col0\" class=\"data row7 col0\" >183333.333333</td>\n",
       "      <td id=\"T_bca5e_row7_col1\" class=\"data row7 col1\" >158850.034099</td>\n",
       "      <td id=\"T_bca5e_row7_col2\" class=\"data row7 col2\" >0.000000</td>\n",
       "      <td id=\"T_bca5e_row7_col3\" class=\"data row7 col3\" >135000.000000</td>\n",
       "      <td id=\"T_bca5e_row7_col4\" class=\"data row7 col4\" >270000.000000</td>\n",
       "      <td id=\"T_bca5e_row7_col5\" class=\"data row7 col5\" >275000.000000</td>\n",
       "      <td id=\"T_bca5e_row7_col6\" class=\"data row7 col6\" >280000.000000</td>\n",
       "    </tr>\n",
       "    <tr>\n",
       "      <th id=\"T_bca5e_level0_row8\" class=\"row_heading level0 row8\" >votingAuthority</th>\n",
       "      <td id=\"T_bca5e_row8_col0\" class=\"data row8 col0\" >15564443.899559</td>\n",
       "      <td id=\"T_bca5e_row8_col1\" class=\"data row8 col1\" >25143049.079446</td>\n",
       "      <td id=\"T_bca5e_row8_col2\" class=\"data row8 col2\" >400.000000</td>\n",
       "      <td id=\"T_bca5e_row8_col3\" class=\"data row8 col3\" >1505000.000000</td>\n",
       "      <td id=\"T_bca5e_row8_col4\" class=\"data row8 col4\" >8500000.000000</td>\n",
       "      <td id=\"T_bca5e_row8_col5\" class=\"data row8 col5\" >20000000.000000</td>\n",
       "      <td id=\"T_bca5e_row8_col6\" class=\"data row8 col6\" >218677400.000000</td>\n",
       "    </tr>\n",
       "    <tr>\n",
       "      <th id=\"T_bca5e_level0_row9\" class=\"row_heading level0 row9\" >otherManager</th>\n",
       "      <td id=\"T_bca5e_row9_col0\" class=\"data row9 col0\" >0.724280</td>\n",
       "      <td id=\"T_bca5e_row9_col1\" class=\"data row9 col1\" >0.447060</td>\n",
       "      <td id=\"T_bca5e_row9_col2\" class=\"data row9 col2\" >0.000000</td>\n",
       "      <td id=\"T_bca5e_row9_col3\" class=\"data row9 col3\" >0.000000</td>\n",
       "      <td id=\"T_bca5e_row9_col4\" class=\"data row9 col4\" >1.000000</td>\n",
       "      <td id=\"T_bca5e_row9_col5\" class=\"data row9 col5\" >1.000000</td>\n",
       "      <td id=\"T_bca5e_row9_col6\" class=\"data row9 col6\" >1.000000</td>\n",
       "    </tr>\n",
       "    <tr>\n",
       "      <th id=\"T_bca5e_level0_row10\" class=\"row_heading level0 row10\" >putCall_encoded</th>\n",
       "      <td id=\"T_bca5e_row10_col0\" class=\"data row10 col0\" >0.045416</td>\n",
       "      <td id=\"T_bca5e_row10_col1\" class=\"data row10 col1\" >0.273965</td>\n",
       "      <td id=\"T_bca5e_row10_col2\" class=\"data row10 col2\" >0.000000</td>\n",
       "      <td id=\"T_bca5e_row10_col3\" class=\"data row10 col3\" >0.000000</td>\n",
       "      <td id=\"T_bca5e_row10_col4\" class=\"data row10 col4\" >0.000000</td>\n",
       "      <td id=\"T_bca5e_row10_col5\" class=\"data row10 col5\" >0.000000</td>\n",
       "      <td id=\"T_bca5e_row10_col6\" class=\"data row10 col6\" >2.000000</td>\n",
       "    </tr>\n",
       "  </tbody>\n",
       "</table>\n"
      ],
      "text/plain": [
       "<pandas.io.formats.style.Styler at 0x17501dce5e0>"
      ]
     },
     "execution_count": 209,
     "metadata": {},
     "output_type": "execute_result"
    }
   ],
   "source": [
    "df_transformed.describe().T.drop(\"count\", axis=1)\\\n",
    "              .style.background_gradient(subset=['mean', \"50%\"], cmap=\"Reds\")\n",
    "# .style.highlight_max(color=\"darkred\")\\"
   ]
  },
  {
   "cell_type": "code",
   "execution_count": 212,
   "id": "1711ad8e-76f6-4f9b-a98d-bcc093d09cc4",
   "metadata": {
    "execution": {
     "iopub.execute_input": "2022-10-17T21:34:07.533178Z",
     "iopub.status.busy": "2022-10-17T21:34:07.533178Z",
     "iopub.status.idle": "2022-10-17T21:34:08.234011Z",
     "shell.execute_reply": "2022-10-17T21:34:08.234011Z",
     "shell.execute_reply.started": "2022-10-17T21:34:07.533178Z"
    },
    "tags": []
   },
   "outputs": [
    {
     "data": {
      "text/html": [
       "<div>\n",
       "<style scoped>\n",
       "    .dataframe tbody tr th:only-of-type {\n",
       "        vertical-align: middle;\n",
       "    }\n",
       "\n",
       "    .dataframe tbody tr th {\n",
       "        vertical-align: top;\n",
       "    }\n",
       "\n",
       "    .dataframe thead th {\n",
       "        text-align: right;\n",
       "    }\n",
       "</style>\n",
       "<table border=\"1\" class=\"dataframe\">\n",
       "  <thead>\n",
       "    <tr style=\"text-align: right;\">\n",
       "      <th></th>\n",
       "      <th>value</th>\n",
       "      <th>shares</th>\n",
       "      <th>permno</th>\n",
       "      <th>prc</th>\n",
       "      <th>shrout</th>\n",
       "      <th>deviation</th>\n",
       "      <th>cik</th>\n",
       "      <th>num3</th>\n",
       "      <th>votingAuthority</th>\n",
       "      <th>otherManager</th>\n",
       "      <th>putCall_encoded</th>\n",
       "    </tr>\n",
       "  </thead>\n",
       "  <tbody>\n",
       "    <tr>\n",
       "      <th>0</th>\n",
       "      <td>9260</td>\n",
       "      <td>255000.0</td>\n",
       "      <td>20482.0</td>\n",
       "      <td>36.3125</td>\n",
       "      <td>1537311.0</td>\n",
       "      <td>0.001</td>\n",
       "      <td>2230</td>\n",
       "      <td>NaN</td>\n",
       "      <td>NaN</td>\n",
       "      <td>NaN</td>\n",
       "      <td>0</td>\n",
       "    </tr>\n",
       "    <tr>\n",
       "      <th>1</th>\n",
       "      <td>11772</td>\n",
       "      <td>340000.0</td>\n",
       "      <td>64856.0</td>\n",
       "      <td>34.6250</td>\n",
       "      <td>102125.0</td>\n",
       "      <td>0.001</td>\n",
       "      <td>2230</td>\n",
       "      <td>NaN</td>\n",
       "      <td>NaN</td>\n",
       "      <td>NaN</td>\n",
       "      <td>0</td>\n",
       "    </tr>\n",
       "    <tr>\n",
       "      <th>2</th>\n",
       "      <td>19810</td>\n",
       "      <td>379600.0</td>\n",
       "      <td>76757.0</td>\n",
       "      <td>52.1875</td>\n",
       "      <td>69920.0</td>\n",
       "      <td>0.001</td>\n",
       "      <td>2230</td>\n",
       "      <td>NaN</td>\n",
       "      <td>NaN</td>\n",
       "      <td>NaN</td>\n",
       "      <td>0</td>\n",
       "    </tr>\n",
       "    <tr>\n",
       "      <th>3</th>\n",
       "      <td>783</td>\n",
       "      <td>15000.0</td>\n",
       "      <td>NaN</td>\n",
       "      <td>NaN</td>\n",
       "      <td>NaN</td>\n",
       "      <td>NaN</td>\n",
       "      <td>2230</td>\n",
       "      <td>NaN</td>\n",
       "      <td>NaN</td>\n",
       "      <td>NaN</td>\n",
       "      <td>1</td>\n",
       "    </tr>\n",
       "    <tr>\n",
       "      <th>4</th>\n",
       "      <td>16681</td>\n",
       "      <td>425000.0</td>\n",
       "      <td>15667.0</td>\n",
       "      <td>39.2500</td>\n",
       "      <td>1306656.0</td>\n",
       "      <td>0.001</td>\n",
       "      <td>2230</td>\n",
       "      <td>NaN</td>\n",
       "      <td>NaN</td>\n",
       "      <td>NaN</td>\n",
       "      <td>0</td>\n",
       "    </tr>\n",
       "  </tbody>\n",
       "</table>\n",
       "</div>"
      ],
      "text/plain": [
       "   value    shares   permno      prc     shrout  deviation   cik  num3  \\\n",
       "0   9260  255000.0  20482.0  36.3125  1537311.0      0.001  2230   NaN   \n",
       "1  11772  340000.0  64856.0  34.6250   102125.0      0.001  2230   NaN   \n",
       "2  19810  379600.0  76757.0  52.1875    69920.0      0.001  2230   NaN   \n",
       "3    783   15000.0      NaN      NaN        NaN        NaN  2230   NaN   \n",
       "4  16681  425000.0  15667.0  39.2500  1306656.0      0.001  2230   NaN   \n",
       "\n",
       "   votingAuthority  otherManager  putCall_encoded  \n",
       "0              NaN           NaN                0  \n",
       "1              NaN           NaN                0  \n",
       "2              NaN           NaN                0  \n",
       "3              NaN           NaN                1  \n",
       "4              NaN           NaN                0  "
      ]
     },
     "execution_count": 212,
     "metadata": {},
     "output_type": "execute_result"
    }
   ],
   "source": [
    "import numpy as np\n",
    "# df_transformed.select_dtypes(include=np.number).head()\n",
    "# df_transformed.select_dtypes(exclude=np.number).head()\n",
    "df_transformed.select_dtypes(include=['int', 'float']).head()\n"
   ]
  },
  {
   "cell_type": "code",
   "execution_count": 242,
   "id": "095e13c9-c6d3-4a96-a879-23c75d4ebf45",
   "metadata": {
    "execution": {
     "iopub.execute_input": "2022-10-18T11:02:07.215230Z",
     "iopub.status.busy": "2022-10-18T11:02:07.214247Z",
     "iopub.status.idle": "2022-10-18T11:02:08.008297Z",
     "shell.execute_reply": "2022-10-18T11:02:08.008297Z",
     "shell.execute_reply.started": "2022-10-18T11:02:07.215230Z"
    },
    "tags": []
   },
   "outputs": [
    {
     "name": "stderr",
     "output_type": "stream",
     "text": [
      "<cell>2: error: Name \"pd\" is not defined\n"
     ]
    },
    {
     "data": {
      "text/html": [
       "<div>\n",
       "<style scoped>\n",
       "    .dataframe tbody tr th:only-of-type {\n",
       "        vertical-align: middle;\n",
       "    }\n",
       "\n",
       "    .dataframe tbody tr th {\n",
       "        vertical-align: top;\n",
       "    }\n",
       "\n",
       "    .dataframe thead th {\n",
       "        text-align: right;\n",
       "    }\n",
       "</style>\n",
       "<table border=\"1\" class=\"dataframe\">\n",
       "  <thead>\n",
       "    <tr style=\"text-align: right;\">\n",
       "      <th></th>\n",
       "      <th>ages</th>\n",
       "    </tr>\n",
       "  </thead>\n",
       "  <tbody>\n",
       "    <tr>\n",
       "      <th>0</th>\n",
       "      <td>green</td>\n",
       "    </tr>\n",
       "    <tr>\n",
       "      <th>1</th>\n",
       "      <td>blue</td>\n",
       "    </tr>\n",
       "    <tr>\n",
       "      <th>2</th>\n",
       "      <td>no data</td>\n",
       "    </tr>\n",
       "    <tr>\n",
       "      <th>3</th>\n",
       "      <td>yellow</td>\n",
       "    </tr>\n",
       "    <tr>\n",
       "      <th>4</th>\n",
       "      <td></td>\n",
       "    </tr>\n",
       "    <tr>\n",
       "      <th>5</th>\n",
       "      <td>no data</td>\n",
       "    </tr>\n",
       "    <tr>\n",
       "      <th>6</th>\n",
       "      <td>None</td>\n",
       "    </tr>\n",
       "    <tr>\n",
       "      <th>7</th>\n",
       "      <td>white</td>\n",
       "    </tr>\n",
       "  </tbody>\n",
       "</table>\n",
       "</div>"
      ],
      "text/plain": [
       "      ages\n",
       "0    green\n",
       "1     blue\n",
       "2  no data\n",
       "3   yellow\n",
       "4         \n",
       "5  no data\n",
       "6     None\n",
       "7    white"
      ]
     },
     "execution_count": 242,
     "metadata": {},
     "output_type": "execute_result"
    }
   ],
   "source": [
    "# Create sample data\n",
    "ages = pd.Series(['green', 'blue', 'no data', 'yellow', '', 'no data', None, 'white']).to_frame(\"ages\")\n",
    "# print(ages.convert_dtypes().dtypes.value_counts(normalize=True))\n",
    "ages"
   ]
  },
  {
   "cell_type": "code",
   "execution_count": 251,
   "id": "61f4deb7-6281-4a2a-a42b-8fd7e38fb659",
   "metadata": {
    "execution": {
     "iopub.execute_input": "2022-10-18T11:06:29.352801Z",
     "iopub.status.busy": "2022-10-18T11:06:29.352801Z",
     "iopub.status.idle": "2022-10-18T11:06:29.992200Z",
     "shell.execute_reply": "2022-10-18T11:06:29.991201Z",
     "shell.execute_reply.started": "2022-10-18T11:06:29.352801Z"
    },
    "tags": []
   },
   "outputs": [
    {
     "data": {
      "text/plain": [
       "NaN       0.500\n",
       "green     0.125\n",
       "blue      0.125\n",
       "yellow    0.125\n",
       "white     0.125\n",
       "Name: ages, dtype: float64"
      ]
     },
     "execution_count": 251,
     "metadata": {},
     "output_type": "execute_result"
    }
   ],
   "source": [
    "ages2 = ages.mask(cond=~ages[\"ages\"].isin(['green', 'blue', 'yellow', 'white']), other=np.nan)\n",
    "ages2.ages.value_counts(dropna=False, normalize=True)"
   ]
  },
  {
   "cell_type": "code",
   "execution_count": 278,
   "id": "cf3598ae-1091-4e41-bc26-3c0d0d97f22e",
   "metadata": {
    "execution": {
     "iopub.execute_input": "2022-10-18T17:13:55.415902Z",
     "iopub.status.busy": "2022-10-18T17:13:55.415902Z",
     "iopub.status.idle": "2022-10-18T17:13:57.189173Z",
     "shell.execute_reply": "2022-10-18T17:13:57.188173Z",
     "shell.execute_reply.started": "2022-10-18T17:13:55.415902Z"
    },
    "tags": []
   },
   "outputs": [
    {
     "data": {
      "text/plain": [
       "array(['green', 'blue', nan, 'yellow', nan, nan, nan, 'white'],\n",
       "      dtype=object)"
      ]
     },
     "execution_count": 278,
     "metadata": {},
     "output_type": "execute_result"
    }
   ],
   "source": [
    "# print(ages2.ages.value_counts())\n",
    "      # .memory_usage()\n",
    "      # ,ages2.convert_dtypes().memory_usage()\n",
    "ages2.ages.values"
   ]
  },
  {
   "cell_type": "code",
   "execution_count": 275,
   "id": "809c1bc8-14cc-4c21-acec-df456cc0a104",
   "metadata": {
    "execution": {
     "iopub.execute_input": "2022-10-18T16:15:02.526179Z",
     "iopub.status.busy": "2022-10-18T16:15:02.525178Z",
     "iopub.status.idle": "2022-10-18T16:15:04.257282Z",
     "shell.execute_reply": "2022-10-18T16:15:04.257282Z",
     "shell.execute_reply.started": "2022-10-18T16:15:02.526179Z"
    },
    "tags": []
   },
   "outputs": [
    {
     "name": "stderr",
     "output_type": "stream",
     "text": [
      "<cell>9: error: Name \"pd\" is not defined\n",
      "<cell>11: error: Name \"pd\" is not defined\n"
     ]
    },
    {
     "ename": "AttributeError",
     "evalue": "'bool' object has no attribute 'sum'",
     "output_type": "error",
     "traceback": [
      "\u001b[1;31m---------------------------------------------------------------------------\u001b[0m",
      "\u001b[1;31mAttributeError\u001b[0m                            Traceback (most recent call last)",
      "Input \u001b[1;32mIn [275]\u001b[0m, in \u001b[0;36m<cell line: 14>\u001b[1;34m()\u001b[0m\n\u001b[0;32m     11\u001b[0m df \u001b[38;5;241m=\u001b[39m pd\u001b[38;5;241m.\u001b[39mDataFrame(np\u001b[38;5;241m.\u001b[39mnan, index\u001b[38;5;241m=\u001b[39m\u001b[38;5;28mrange\u001b[39m(\u001b[38;5;241m84\u001b[39m), columns\u001b[38;5;241m=\u001b[39m[\u001b[38;5;124m'\u001b[39m\u001b[38;5;124mA\u001b[39m\u001b[38;5;124m'\u001b[39m, \u001b[38;5;124m'\u001b[39m\u001b[38;5;124mB\u001b[39m\u001b[38;5;124m'\u001b[39m])\n\u001b[0;32m     13\u001b[0m data\u001b[38;5;241m.\u001b[39mhead(\u001b[38;5;241m10\u001b[39m)\n\u001b[1;32m---> 14\u001b[0m \u001b[43mdf\u001b[49m\u001b[38;5;241;43m.\u001b[39;49m\u001b[43mA\u001b[49m\u001b[38;5;241;43m.\u001b[39;49m\u001b[43mhasnans\u001b[49m\u001b[38;5;241;43m.\u001b[39;49m\u001b[43msum\u001b[49m()\n",
      "\u001b[1;31mAttributeError\u001b[0m: 'bool' object has no attribute 'sum'"
     ]
    }
   ],
   "source": [
    "# %%time\n",
    "# index = pd.date_range(\"2021-08-01\", periods=100, freq=\"H\")\n",
    "# data = pd.DataFrame({\"col\": list(range(100))}, index=index)\n",
    "\n",
    "# data.head()\n",
    "\n",
    "# index = pd.DataFrame(range(100))\n",
    "\n",
    "quarter = pd.date_range(\"1999-01-01\", '2020-01-01', freq=\"Q\").to_period('Q')\n",
    "# data = pd.DataFrame({\"quarter\": quarter}, index=range(84))\n",
    "df = pd.DataFrame(np.nan, index=range(84), columns=['A', 'B'])\n",
    "\n",
    "data.head(10)"
   ]
  },
  {
   "cell_type": "code",
   "execution_count": 288,
   "id": "e935c090-99fa-4f89-84ca-abfef0853170",
   "metadata": {
    "execution": {
     "iopub.execute_input": "2022-10-18T19:19:02.600752Z",
     "iopub.status.busy": "2022-10-18T19:19:02.599752Z",
     "iopub.status.idle": "2022-10-18T19:19:03.439316Z",
     "shell.execute_reply": "2022-10-18T19:19:03.439316Z",
     "shell.execute_reply.started": "2022-10-18T19:19:02.599752Z"
    },
    "tags": []
   },
   "outputs": [
    {
     "name": "stderr",
     "output_type": "stream",
     "text": [
      "<cell>9: error: Name \"pd\" is not defined\n"
     ]
    },
    {
     "name": "stdout",
     "output_type": "stream",
     "text": [
      "Contains mixed values\n"
     ]
    },
    {
     "data": {
      "text/html": [
       "<div>\n",
       "<style scoped>\n",
       "    .dataframe tbody tr th:only-of-type {\n",
       "        vertical-align: middle;\n",
       "    }\n",
       "\n",
       "    .dataframe tbody tr th {\n",
       "        vertical-align: top;\n",
       "    }\n",
       "\n",
       "    .dataframe thead th {\n",
       "        text-align: right;\n",
       "    }\n",
       "</style>\n",
       "<table border=\"1\" class=\"dataframe\">\n",
       "  <thead>\n",
       "    <tr style=\"text-align: right;\">\n",
       "      <th></th>\n",
       "      <th>A</th>\n",
       "      <th>B</th>\n",
       "      <th>C</th>\n",
       "      <th>D</th>\n",
       "    </tr>\n",
       "  </thead>\n",
       "  <tbody>\n",
       "    <tr>\n",
       "      <th>0</th>\n",
       "      <td>0.0</td>\n",
       "      <td>0.0</td>\n",
       "      <td>foo1</td>\n",
       "      <td>2009-01-01</td>\n",
       "    </tr>\n",
       "    <tr>\n",
       "      <th>1</th>\n",
       "      <td>1.0</td>\n",
       "      <td>1.0</td>\n",
       "      <td>foo2</td>\n",
       "      <td>2009-01-02</td>\n",
       "    </tr>\n",
       "    <tr>\n",
       "      <th>2</th>\n",
       "      <td>2.0</td>\n",
       "      <td>0.0</td>\n",
       "      <td>foo3</td>\n",
       "      <td>2009-01-05</td>\n",
       "    </tr>\n",
       "    <tr>\n",
       "      <th>3</th>\n",
       "      <td>3.0</td>\n",
       "      <td>1.0</td>\n",
       "      <td>foo4</td>\n",
       "      <td>2009-01-06</td>\n",
       "    </tr>\n",
       "    <tr>\n",
       "      <th>4</th>\n",
       "      <td>4.0</td>\n",
       "      <td>0.0</td>\n",
       "      <td>foo5</td>\n",
       "      <td>2009-01-07</td>\n",
       "    </tr>\n",
       "  </tbody>\n",
       "</table>\n",
       "</div>"
      ],
      "text/plain": [
       "     A    B     C          D\n",
       "0  0.0  0.0  foo1 2009-01-01\n",
       "1  1.0  1.0  foo2 2009-01-02\n",
       "2  2.0  0.0  foo3 2009-01-05\n",
       "3  3.0  1.0  foo4 2009-01-06\n",
       "4  4.0  0.0  foo5 2009-01-07"
      ]
     },
     "execution_count": 288,
     "metadata": {},
     "output_type": "execute_result"
    }
   ],
   "source": [
    "# Create a sample df \n",
    "# print(\"Contains random values\")\n",
    "# df1 = pd.util.testing.makeDataFrame(); df1.sample(4) # contains random values\n",
    "# print(\"Contains missing values\")\n",
    "# df2 = pd.util.testing.makeMissingDataframe(); df2.sample(4) # contains missing values\n",
    "# print(\"Contains datetime values\")\n",
    "# df3 = pd.util.testing.makeTimeDataFrame(); df3.sample(4) # contains datetime values\n",
    "print(\"Contains mixed values\")\n",
    "df4 = pd.util.testing.makeMixedDataFrame(); df4.head() # contains mixed values\n"
   ]
  },
  {
   "cell_type": "code",
   "execution_count": 329,
   "id": "e96e9cfc-05a7-4bf2-8712-f96be444c90f",
   "metadata": {
    "execution": {
     "iopub.execute_input": "2022-10-18T19:59:49.139164Z",
     "iopub.status.busy": "2022-10-18T19:59:49.139164Z",
     "iopub.status.idle": "2022-10-18T19:59:49.855657Z",
     "shell.execute_reply": "2022-10-18T19:59:49.855657Z",
     "shell.execute_reply.started": "2022-10-18T19:59:49.139164Z"
    },
    "tags": []
   },
   "outputs": [
    {
     "name": "stderr",
     "output_type": "stream",
     "text": [
      "<cell>5: error: Name \"pd\" is not defined\n"
     ]
    },
    {
     "data": {
      "text/html": [
       "<div>\n",
       "<style scoped>\n",
       "    .dataframe tbody tr th:only-of-type {\n",
       "        vertical-align: middle;\n",
       "    }\n",
       "\n",
       "    .dataframe tbody tr th {\n",
       "        vertical-align: top;\n",
       "    }\n",
       "\n",
       "    .dataframe thead th {\n",
       "        text-align: right;\n",
       "    }\n",
       "</style>\n",
       "<table border=\"1\" class=\"dataframe\">\n",
       "  <thead>\n",
       "    <tr style=\"text-align: right;\">\n",
       "      <th></th>\n",
       "      <th>XGBoost</th>\n",
       "      <th>CatBoost</th>\n",
       "      <th>LightGBM</th>\n",
       "      <th>Sklearn GB</th>\n",
       "    </tr>\n",
       "  </thead>\n",
       "  <tbody>\n",
       "    <tr>\n",
       "      <th>Diamonds</th>\n",
       "      <td>99.145396</td>\n",
       "      <td>201.096560</td>\n",
       "      <td>52.399038</td>\n",
       "      <td>249.325410</td>\n",
       "    </tr>\n",
       "    <tr>\n",
       "      <th>Titanic</th>\n",
       "      <td>-24.659216</td>\n",
       "      <td>144.030658</td>\n",
       "      <td>195.592174</td>\n",
       "      <td>-45.791629</td>\n",
       "    </tr>\n",
       "    <tr>\n",
       "      <th>Iris</th>\n",
       "      <td>124.364787</td>\n",
       "      <td>26.595028</td>\n",
       "      <td>241.017014</td>\n",
       "      <td>315.516268</td>\n",
       "    </tr>\n",
       "    <tr>\n",
       "      <th>Heart Disease</th>\n",
       "      <td>468.045925</td>\n",
       "      <td>-115.653276</td>\n",
       "      <td>257.598375</td>\n",
       "      <td>182.327368</td>\n",
       "    </tr>\n",
       "    <tr>\n",
       "      <th>Loan Default</th>\n",
       "      <td>111.628611</td>\n",
       "      <td>27.118310</td>\n",
       "      <td>141.405719</td>\n",
       "      <td>36.343290</td>\n",
       "    </tr>\n",
       "  </tbody>\n",
       "</table>\n",
       "</div>"
      ],
      "text/plain": [
       "                  XGBoost    CatBoost    LightGBM  Sklearn GB\n",
       "Diamonds        99.145396  201.096560   52.399038  249.325410\n",
       "Titanic        -24.659216  144.030658  195.592174  -45.791629\n",
       "Iris           124.364787   26.595028  241.017014  315.516268\n",
       "Heart Disease  468.045925 -115.653276  257.598375  182.327368\n",
       "Loan Default   111.628611   27.118310  141.405719   36.343290"
      ]
     },
     "execution_count": 329,
     "metadata": {},
     "output_type": "execute_result"
    }
   ],
   "source": [
    "# Create a sample df by providing index and columns names\n",
    "index = [\"Diamonds\", \"Titanic\", \"Iris\", \"Heart Disease\", \"Loan Default\"]\n",
    "libraries = [\"XGBoost\", \"CatBoost\", \"LightGBM\", \"Sklearn GB\"]\n",
    "\n",
    "sample_df = pd.DataFrame(\n",
    "    {lib: np.random.normal(90, 180, 5) for lib in libraries}, index=index\n",
    ")\n",
    "# sample_df = pd.DataFrame(\n",
    "#     {lib: np.random.uniform(90, 180, 5) for lib in libraries}, index=index\n",
    "# )\n",
    "\n",
    "sample_df"
   ]
  },
  {
   "cell_type": "code",
   "execution_count": null,
   "id": "05bb5e29-0ddf-4c96-9be7-28b0a0d12f06",
   "metadata": {
    "execution": {
     "iopub.execute_input": "2022-10-18T19:32:29.339187Z",
     "iopub.status.busy": "2022-10-18T19:32:29.339187Z",
     "iopub.status.idle": "2022-10-18T19:32:30.546090Z"
    },
    "tags": []
   },
   "outputs": [
    {
     "name": "stderr",
     "output_type": "stream",
     "text": [
      "<cell>11: error: Cannot determine type of \"sample_df\"\n"
     ]
    },
    {
     "name": "stdout",
     "output_type": "stream",
     "text": [
      "ERROR! Session/line number was not unique in database. History logging moved to new session 734\n"
     ]
    }
   ],
   "source": [
    "# !pip install pandasvault\n",
    "import pandasvault as pv\n",
    "\n",
    "# \"\"\"TABLE PROCESSING\"\"\"\n",
    "# sample_df = pv.list_shuff([\"LightGBM\",\"CatBoost\",\"XGBoost\"],sample_df)\n",
    "# sample_df = pv.reduce_mem_usage(sample_df)\n",
    "\n",
    "\"\"\"TABLE EXPLORATION\"\"\"\n",
    "# sample_df = pv.corr_list(sample_df)\n",
    "# sample_df\n",
    "sample_df = pv.missing_data(sample_df)\n",
    "sample_df"
   ]
  },
  {
   "cell_type": "code",
   "execution_count": 299,
   "id": "7fef8462-65d5-4862-af97-78a36078f031",
   "metadata": {
    "execution": {
     "iopub.execute_input": "2022-10-18T19:42:12.191832Z",
     "iopub.status.busy": "2022-10-18T19:42:12.191832Z",
     "iopub.status.idle": "2022-10-18T19:42:12.973754Z",
     "shell.execute_reply": "2022-10-18T19:42:12.973754Z",
     "shell.execute_reply.started": "2022-10-18T19:42:12.191832Z"
    },
    "tags": []
   },
   "outputs": [
    {
     "data": {
      "text/plain": [
       "XGBoost   Sklearn GB    0.691746\n",
       "LightGBM  CatBoost      0.164117\n",
       "CatBoost  XGBoost       0.056022\n",
       "LightGBM  XGBoost      -0.284626\n",
       "          Sklearn GB   -0.599136\n",
       "CatBoost  Sklearn GB   -0.614279\n",
       "dtype: float64"
      ]
     },
     "execution_count": 299,
     "metadata": {},
     "output_type": "execute_result"
    }
   ],
   "source": [
    "sample_df"
   ]
  },
  {
   "cell_type": "code",
   "execution_count": 295,
   "id": "0565db1e-f343-4cb9-a8b8-b728fbfaf3a7",
   "metadata": {
    "execution": {
     "iopub.execute_input": "2022-10-18T19:35:00.905776Z",
     "iopub.status.busy": "2022-10-18T19:35:00.905776Z",
     "iopub.status.idle": "2022-10-18T19:35:01.589267Z",
     "shell.execute_reply": "2022-10-18T19:35:01.589267Z",
     "shell.execute_reply.started": "2022-10-18T19:35:00.905776Z"
    },
    "tags": []
   },
   "outputs": [
    {
     "name": "stderr",
     "output_type": "stream",
     "text": [
      "<cell>3: error: Name \"pd\" is not defined\n"
     ]
    },
    {
     "data": {
      "text/html": [
       "<div>\n",
       "<style scoped>\n",
       "    .dataframe tbody tr th:only-of-type {\n",
       "        vertical-align: middle;\n",
       "    }\n",
       "\n",
       "    .dataframe tbody tr th {\n",
       "        vertical-align: top;\n",
       "    }\n",
       "\n",
       "    .dataframe thead th {\n",
       "        text-align: right;\n",
       "    }\n",
       "</style>\n",
       "<table border=\"1\" class=\"dataframe\">\n",
       "  <thead>\n",
       "    <tr style=\"text-align: right;\">\n",
       "      <th></th>\n",
       "      <th>a</th>\n",
       "      <th>b</th>\n",
       "      <th>c</th>\n",
       "      <th>d</th>\n",
       "      <th>target</th>\n",
       "    </tr>\n",
       "  </thead>\n",
       "  <tbody>\n",
       "    <tr>\n",
       "      <th>0</th>\n",
       "      <td>1.624345</td>\n",
       "      <td>-0.611756</td>\n",
       "      <td>-0.528172</td>\n",
       "      <td>-1.072969</td>\n",
       "      <td>1.122701</td>\n",
       "    </tr>\n",
       "    <tr>\n",
       "      <th>1</th>\n",
       "      <td>0.865408</td>\n",
       "      <td>-2.301539</td>\n",
       "      <td>1.744812</td>\n",
       "      <td>-0.761207</td>\n",
       "      <td>-5.999409</td>\n",
       "    </tr>\n",
       "    <tr>\n",
       "      <th>2</th>\n",
       "      <td>0.319039</td>\n",
       "      <td>-0.249370</td>\n",
       "      <td>1.462108</td>\n",
       "      <td>-2.060141</td>\n",
       "      <td>-0.591032</td>\n",
       "    </tr>\n",
       "  </tbody>\n",
       "</table>\n",
       "</div>"
      ],
      "text/plain": [
       "          a         b         c         d    target\n",
       "0  1.624345 -0.611756 -0.528172 -1.072969  1.122701\n",
       "1  0.865408 -2.301539  1.744812 -0.761207 -5.999409\n",
       "2  0.319039 -0.249370  1.462108 -2.060141 -0.591032"
      ]
     },
     "execution_count": 295,
     "metadata": {},
     "output_type": "execute_result"
    }
   ],
   "source": [
    "np.random.seed(1)\n",
    "\"\"\"quick way to create a data frame for testing\"\"\" \n",
    "df_test = pd.DataFrame(np.random.randn(3, 4), columns=['a', 'b', 'c', 'd']) \\\n",
    "    .assign(target=lambda x: (x['b']+x['a']/x['d'])*x['c'])\n",
    "\n",
    "df_test"
   ]
  },
  {
   "cell_type": "code",
   "execution_count": 297,
   "id": "10089cd9-bc45-4635-8900-de43c5742fa4",
   "metadata": {
    "execution": {
     "iopub.execute_input": "2022-10-18T19:36:08.945643Z",
     "iopub.status.busy": "2022-10-18T19:36:08.945643Z",
     "iopub.status.idle": "2022-10-18T19:36:09.578184Z",
     "shell.execute_reply": "2022-10-18T19:36:09.577212Z",
     "shell.execute_reply.started": "2022-10-18T19:36:08.945643Z"
    },
    "tags": []
   },
   "outputs": [
    {
     "data": {
      "text/html": [
       "<div>\n",
       "<style scoped>\n",
       "    .dataframe tbody tr th:only-of-type {\n",
       "        vertical-align: middle;\n",
       "    }\n",
       "\n",
       "    .dataframe tbody tr th {\n",
       "        vertical-align: top;\n",
       "    }\n",
       "\n",
       "    .dataframe thead th {\n",
       "        text-align: right;\n",
       "    }\n",
       "</style>\n",
       "<table border=\"1\" class=\"dataframe\">\n",
       "  <thead>\n",
       "    <tr style=\"text-align: right;\">\n",
       "      <th></th>\n",
       "      <th>a</th>\n",
       "      <th>b</th>\n",
       "      <th>c</th>\n",
       "      <th>d</th>\n",
       "      <th>target</th>\n",
       "      <th>number</th>\n",
       "    </tr>\n",
       "  </thead>\n",
       "  <tbody>\n",
       "    <tr>\n",
       "      <th>0</th>\n",
       "      <td>1.624345</td>\n",
       "      <td>-0.611756</td>\n",
       "      <td>-0.528172</td>\n",
       "      <td>-1.072969</td>\n",
       "      <td>1.122701</td>\n",
       "      <td>3</td>\n",
       "    </tr>\n",
       "    <tr>\n",
       "      <th>1</th>\n",
       "      <td>0.865408</td>\n",
       "      <td>-2.301539</td>\n",
       "      <td>1.744812</td>\n",
       "      <td>-0.761207</td>\n",
       "      <td>-5.999409</td>\n",
       "      <td>10</td>\n",
       "    </tr>\n",
       "    <tr>\n",
       "      <th>2</th>\n",
       "      <td>0.319039</td>\n",
       "      <td>-0.249370</td>\n",
       "      <td>1.462108</td>\n",
       "      <td>-2.060141</td>\n",
       "      <td>-0.591032</td>\n",
       "      <td>1</td>\n",
       "    </tr>\n",
       "  </tbody>\n",
       "</table>\n",
       "</div>"
      ],
      "text/plain": [
       "          a         b         c         d    target  number\n",
       "0  1.624345 -0.611756 -0.528172 -1.072969  1.122701       3\n",
       "1  0.865408 -2.301539  1.744812 -0.761207 -5.999409      10\n",
       "2  0.319039 -0.249370  1.462108 -2.060141 -0.591032       1"
      ]
     },
     "execution_count": 297,
     "metadata": {},
     "output_type": "execute_result"
    }
   ],
   "source": [
    "df_test2 = df_test.copy()\n",
    "df_test2[\"number\"] = [3,10,1]\n",
    "df_test2"
   ]
  },
  {
   "cell_type": "code",
   "execution_count": 314,
   "id": "10d1b16f-edab-4c5f-a753-cdb7e3d4801f",
   "metadata": {
    "execution": {
     "iopub.execute_input": "2022-10-18T19:49:28.071536Z",
     "iopub.status.busy": "2022-10-18T19:49:28.071536Z",
     "iopub.status.idle": "2022-10-18T19:49:28.860894Z",
     "shell.execute_reply": "2022-10-18T19:49:28.860894Z",
     "shell.execute_reply.started": "2022-10-18T19:49:28.071536Z"
    },
    "tags": []
   },
   "outputs": [
    {
     "data": {
      "text/html": [
       "<style type=\"text/css\">\n",
       "#T_d45cf_row0_col0 {\n",
       "  background-color: green;\n",
       "}\n",
       "#T_d45cf_row0_col4 {\n",
       "  background-color: #08306b;\n",
       "  color: #f1f1f1;\n",
       "}\n",
       "#T_d45cf_row0_col5 {\n",
       "  width: 10em;\n",
       "  background: linear-gradient(90deg, transparent 50.0%, lightblue 50.0%, lightblue 65.0%, transparent 65.0%);\n",
       "}\n",
       "#T_d45cf_row1_col4 {\n",
       "  background-color: #f7fbff;\n",
       "  color: #000000;\n",
       "}\n",
       "#T_d45cf_row1_col5 {\n",
       "  width: 10em;\n",
       "  background: linear-gradient(90deg, transparent 50.0%, lightblue 50.0%, lightblue 100.0%, transparent 100.0%);\n",
       "}\n",
       "#T_d45cf_row2_col0 {\n",
       "  background-color: red;\n",
       "}\n",
       "#T_d45cf_row2_col4 {\n",
       "  background-color: #1f6eb3;\n",
       "  color: #f1f1f1;\n",
       "}\n",
       "#T_d45cf_row2_col5 {\n",
       "  width: 10em;\n",
       "  background: linear-gradient(90deg, transparent 50.0%, lightblue 50.0%, lightblue 55.0%, transparent 55.0%);\n",
       "}\n",
       "</style>\n",
       "<table id=\"T_d45cf\">\n",
       "  <caption>DF with different stylings</caption>\n",
       "  <thead>\n",
       "    <tr>\n",
       "      <th id=\"T_d45cf_level0_col0\" class=\"col_heading level0 col0\" >a</th>\n",
       "      <th id=\"T_d45cf_level0_col1\" class=\"col_heading level0 col1\" >b</th>\n",
       "      <th id=\"T_d45cf_level0_col2\" class=\"col_heading level0 col2\" >c</th>\n",
       "      <th id=\"T_d45cf_level0_col3\" class=\"col_heading level0 col3\" >d</th>\n",
       "      <th id=\"T_d45cf_level0_col4\" class=\"col_heading level0 col4\" >target</th>\n",
       "      <th id=\"T_d45cf_level0_col5\" class=\"col_heading level0 col5\" >number</th>\n",
       "    </tr>\n",
       "  </thead>\n",
       "  <tbody>\n",
       "    <tr>\n",
       "      <td id=\"T_d45cf_row0_col0\" class=\"data row0 col0\" >$1.62</td>\n",
       "      <td id=\"T_d45cf_row0_col1\" class=\"data row0 col1\" >-0.611756</td>\n",
       "      <td id=\"T_d45cf_row0_col2\" class=\"data row0 col2\" >-0.528172</td>\n",
       "      <td id=\"T_d45cf_row0_col3\" class=\"data row0 col3\" >-1.072969</td>\n",
       "      <td id=\"T_d45cf_row0_col4\" class=\"data row0 col4\" >$1.12270</td>\n",
       "      <td id=\"T_d45cf_row0_col5\" class=\"data row0 col5\" >3</td>\n",
       "    </tr>\n",
       "    <tr>\n",
       "      <td id=\"T_d45cf_row1_col0\" class=\"data row1 col0\" >$0.87</td>\n",
       "      <td id=\"T_d45cf_row1_col1\" class=\"data row1 col1\" >-2.301539</td>\n",
       "      <td id=\"T_d45cf_row1_col2\" class=\"data row1 col2\" >1.744812</td>\n",
       "      <td id=\"T_d45cf_row1_col3\" class=\"data row1 col3\" >-0.761207</td>\n",
       "      <td id=\"T_d45cf_row1_col4\" class=\"data row1 col4\" >$-5.99941</td>\n",
       "      <td id=\"T_d45cf_row1_col5\" class=\"data row1 col5\" >10</td>\n",
       "    </tr>\n",
       "    <tr>\n",
       "      <td id=\"T_d45cf_row2_col0\" class=\"data row2 col0\" >$0.32</td>\n",
       "      <td id=\"T_d45cf_row2_col1\" class=\"data row2 col1\" >-0.249370</td>\n",
       "      <td id=\"T_d45cf_row2_col2\" class=\"data row2 col2\" >1.462108</td>\n",
       "      <td id=\"T_d45cf_row2_col3\" class=\"data row2 col3\" >-2.060141</td>\n",
       "      <td id=\"T_d45cf_row2_col4\" class=\"data row2 col4\" >$-0.59103</td>\n",
       "      <td id=\"T_d45cf_row2_col5\" class=\"data row2 col5\" >1</td>\n",
       "    </tr>\n",
       "  </tbody>\n",
       "</table>\n"
      ],
      "text/plain": [
       "<pandas.io.formats.style.Styler at 0x17505f72130>"
      ]
     },
     "execution_count": 314,
     "metadata": {},
     "output_type": "execute_result"
    }
   ],
   "source": [
    "df_out = (\n",
    "  df_test2.style.format({\"a\":\"${:.2f}\", \"target\":\"${:.5f}\"})\n",
    " .hide(axis=0)\n",
    " .highlight_min(\"a\", color =\"red\")\n",
    " .highlight_max(\"a\", color =\"green\")\n",
    " .background_gradient(subset = \"target\", cmap =\"Blues\")\n",
    " .bar(\"number\", color = \"lightblue\", align = \"zero\")\n",
    " .set_caption(\"DF with different stylings\")\n",
    ") ; df_out\n"
   ]
  },
  {
   "cell_type": "code",
   "execution_count": 342,
   "id": "bd89035f-97ce-488c-8746-436580c0a0f0",
   "metadata": {
    "execution": {
     "iopub.execute_input": "2022-10-18T20:21:45.178006Z",
     "iopub.status.busy": "2022-10-18T20:21:45.178006Z",
     "iopub.status.idle": "2022-10-18T20:21:45.929663Z",
     "shell.execute_reply": "2022-10-18T20:21:45.928656Z",
     "shell.execute_reply.started": "2022-10-18T20:21:45.178006Z"
    },
    "tags": []
   },
   "outputs": [
    {
     "data": {
      "text/html": [
       "<style type=\"text/css\">\n",
       "#T_45a27_row0_col0 {\n",
       "  width: 10em;\n",
       "  background: linear-gradient(90deg, transparent 50.0%, lightblue 50.0%, lightblue 60.6%, transparent 60.6%);\n",
       "}\n",
       "#T_45a27_row1_col0 {\n",
       "  width: 10em;\n",
       "  background: linear-gradient(90deg, transparent 47.4%, lightblue 47.4%, lightblue 50.0%, transparent 50.0%);\n",
       "}\n",
       "#T_45a27_row2_col0 {\n",
       "  width: 10em;\n",
       "  background: linear-gradient(90deg, transparent 50.0%, lightblue 50.0%, lightblue 63.3%, transparent 63.3%);\n",
       "}\n",
       "#T_45a27_row3_col0 {\n",
       "  width: 10em;\n",
       "  background: linear-gradient(90deg, transparent 50.0%, lightblue 50.0%, lightblue 100.0%, transparent 100.0%);\n",
       "}\n",
       "#T_45a27_row4_col0 {\n",
       "  width: 10em;\n",
       "  background: linear-gradient(90deg, transparent 50.0%, lightblue 50.0%, lightblue 61.9%, transparent 61.9%);\n",
       "}\n",
       "</style>\n",
       "<table id=\"T_45a27\">\n",
       "  <caption>DF formating training</caption>\n",
       "  <thead>\n",
       "    <tr>\n",
       "      <th class=\"blank level0\" >&nbsp;</th>\n",
       "      <th id=\"T_45a27_level0_col0\" class=\"col_heading level0 col0\" >XGBoost</th>\n",
       "      <th id=\"T_45a27_level0_col1\" class=\"col_heading level0 col1\" >CatBoost</th>\n",
       "      <th id=\"T_45a27_level0_col2\" class=\"col_heading level0 col2\" >LightGBM</th>\n",
       "      <th id=\"T_45a27_level0_col3\" class=\"col_heading level0 col3\" >Sklearn GB</th>\n",
       "    </tr>\n",
       "  </thead>\n",
       "  <tbody>\n",
       "    <tr>\n",
       "      <th id=\"T_45a27_level0_row0\" class=\"row_heading level0 row0\" >Diamonds</th>\n",
       "      <td id=\"T_45a27_row0_col0\" class=\"data row0 col0\" >$99.1</td>\n",
       "      <td id=\"T_45a27_row0_col1\" class=\"data row0 col1\" >$201.10</td>\n",
       "      <td id=\"T_45a27_row0_col2\" class=\"data row0 col2\" >$52.399</td>\n",
       "      <td id=\"T_45a27_row0_col3\" class=\"data row0 col3\" >249.325410</td>\n",
       "    </tr>\n",
       "    <tr>\n",
       "      <th id=\"T_45a27_level0_row1\" class=\"row_heading level0 row1\" >Titanic</th>\n",
       "      <td id=\"T_45a27_row1_col0\" class=\"data row1 col0\" >$-24.7</td>\n",
       "      <td id=\"T_45a27_row1_col1\" class=\"data row1 col1\" >$144.03</td>\n",
       "      <td id=\"T_45a27_row1_col2\" class=\"data row1 col2\" >$195.592</td>\n",
       "      <td id=\"T_45a27_row1_col3\" class=\"data row1 col3\" >-45.791629</td>\n",
       "    </tr>\n",
       "    <tr>\n",
       "      <th id=\"T_45a27_level0_row2\" class=\"row_heading level0 row2\" >Iris</th>\n",
       "      <td id=\"T_45a27_row2_col0\" class=\"data row2 col0\" >$124.4</td>\n",
       "      <td id=\"T_45a27_row2_col1\" class=\"data row2 col1\" >$26.60</td>\n",
       "      <td id=\"T_45a27_row2_col2\" class=\"data row2 col2\" >$241.017</td>\n",
       "      <td id=\"T_45a27_row2_col3\" class=\"data row2 col3\" >315.516268</td>\n",
       "    </tr>\n",
       "    <tr>\n",
       "      <th id=\"T_45a27_level0_row3\" class=\"row_heading level0 row3\" >Heart Disease</th>\n",
       "      <td id=\"T_45a27_row3_col0\" class=\"data row3 col0\" >$468.0</td>\n",
       "      <td id=\"T_45a27_row3_col1\" class=\"data row3 col1\" >$-115.65</td>\n",
       "      <td id=\"T_45a27_row3_col2\" class=\"data row3 col2\" >$257.598</td>\n",
       "      <td id=\"T_45a27_row3_col3\" class=\"data row3 col3\" >182.327368</td>\n",
       "    </tr>\n",
       "    <tr>\n",
       "      <th id=\"T_45a27_level0_row4\" class=\"row_heading level0 row4\" >Loan Default</th>\n",
       "      <td id=\"T_45a27_row4_col0\" class=\"data row4 col0\" >$111.6</td>\n",
       "      <td id=\"T_45a27_row4_col1\" class=\"data row4 col1\" >$27.12</td>\n",
       "      <td id=\"T_45a27_row4_col2\" class=\"data row4 col2\" >$141.406</td>\n",
       "      <td id=\"T_45a27_row4_col3\" class=\"data row4 col3\" >36.343290</td>\n",
       "    </tr>\n",
       "  </tbody>\n",
       "</table>\n"
      ],
      "text/plain": [
       "<pandas.io.formats.style.Styler at 0x1750b72f760>"
      ]
     },
     "execution_count": 342,
     "metadata": {},
     "output_type": "execute_result"
    }
   ],
   "source": [
    "sample_df_out =(\n",
    "    sample_df.style.format({'XGBoost': '${:.1f}', 'CatBoost': '${:.2f}', 'LightGBM': '${:.3f}' })\n",
    "             # .hide(axis=0)\n",
    "             # .highlight_min(\"XGBoost\", color=\"coral\")\n",
    "             # .highlight_max(\"XGBoost\", color=\"turquoise\")\n",
    "               .bar('XGBoost', color='lightblue', align='zero')\n",
    "               .set_caption('DF formating training')\n",
    "             # .background_gradient(subset='Sklearn GB', cmap='Greens')\n",
    "             # .background_gradient(subset='Sklearn GB', axis=1) # comparison between columns of the same row\n",
    "             # .background_gradient(axis=0) # comparison between rows of the same column\n",
    "             # .background_gradient(axis=None) # comparison across all cells\n",
    "             # .background_gradient(axis=0, gmap=sample_df['Sklearn GB'], cmap='YlOrRd') # colors entire row, but based on value of one column\n",
    "             # .background_gradient(axis=0, cmap='YlOrRd')\n",
    ")\n",
    "sample_df_out\n",
    "    "
   ]
  },
  {
   "cell_type": "markdown",
   "id": "5fa6d570-2f54-4e0b-bca6-39efb4396a97",
   "metadata": {},
   "source": [
    "#### Lower Case Columns"
   ]
  },
  {
   "cell_type": "code",
   "execution_count": 350,
   "id": "00795139-3a35-43f3-8325-d043f937e944",
   "metadata": {
    "execution": {
     "iopub.execute_input": "2022-10-18T20:29:46.587950Z",
     "iopub.status.busy": "2022-10-18T20:29:46.587950Z",
     "iopub.status.idle": "2022-10-18T20:29:47.331293Z",
     "shell.execute_reply": "2022-10-18T20:29:47.331293Z",
     "shell.execute_reply.started": "2022-10-18T20:29:46.587950Z"
    },
    "tags": []
   },
   "outputs": [
    {
     "data": {
      "text/html": [
       "<div>\n",
       "<style scoped>\n",
       "    .dataframe tbody tr th:only-of-type {\n",
       "        vertical-align: middle;\n",
       "    }\n",
       "\n",
       "    .dataframe tbody tr th {\n",
       "        vertical-align: top;\n",
       "    }\n",
       "\n",
       "    .dataframe thead th {\n",
       "        text-align: right;\n",
       "    }\n",
       "</style>\n",
       "<table border=\"1\" class=\"dataframe\">\n",
       "  <thead>\n",
       "    <tr style=\"text-align: right;\">\n",
       "      <th></th>\n",
       "      <th>A</th>\n",
       "      <th>BGs</th>\n",
       "      <th>c</th>\n",
       "      <th>dag</th>\n",
       "      <th>Target</th>\n",
       "    </tr>\n",
       "  </thead>\n",
       "  <tbody>\n",
       "    <tr>\n",
       "      <th>0</th>\n",
       "      <td>1.624345</td>\n",
       "      <td>-0.611756</td>\n",
       "      <td>-0.528172</td>\n",
       "      <td>-1.072969</td>\n",
       "      <td>1.122701</td>\n",
       "    </tr>\n",
       "    <tr>\n",
       "      <th>1</th>\n",
       "      <td>0.865408</td>\n",
       "      <td>-2.301539</td>\n",
       "      <td>1.744812</td>\n",
       "      <td>-0.761207</td>\n",
       "      <td>-5.999409</td>\n",
       "    </tr>\n",
       "    <tr>\n",
       "      <th>2</th>\n",
       "      <td>0.319039</td>\n",
       "      <td>-0.249370</td>\n",
       "      <td>1.462108</td>\n",
       "      <td>-2.060141</td>\n",
       "      <td>-0.591032</td>\n",
       "    </tr>\n",
       "  </tbody>\n",
       "</table>\n",
       "</div>"
      ],
      "text/plain": [
       "          A       BGs         c       dag    Target\n",
       "0  1.624345 -0.611756 -0.528172 -1.072969  1.122701\n",
       "1  0.865408 -2.301539  1.744812 -0.761207 -5.999409\n",
       "2  0.319039 -0.249370  1.462108 -2.060141 -0.591032"
      ]
     },
     "execution_count": 350,
     "metadata": {},
     "output_type": "execute_result"
    }
   ],
   "source": [
    "\n",
    "## Lower-case all DataFrame column names \n",
    "df_test3 = df_test.copy() ; df_test3\n",
    "df_test3.columns = [\"A\",\"BGs\",\"c\",\"dag\",\"Target\"]\n",
    "df_test3"
   ]
  },
  {
   "cell_type": "code",
   "execution_count": 354,
   "id": "fd4094be-91c1-495d-b1c0-d95c0cc7e244",
   "metadata": {
    "execution": {
     "iopub.execute_input": "2022-10-18T20:30:59.049748Z",
     "iopub.status.busy": "2022-10-18T20:30:59.049748Z",
     "iopub.status.idle": "2022-10-18T20:30:59.753403Z",
     "shell.execute_reply": "2022-10-18T20:30:59.753403Z",
     "shell.execute_reply.started": "2022-10-18T20:30:59.049748Z"
    },
    "tags": []
   },
   "outputs": [
    {
     "data": {
      "text/html": [
       "<div>\n",
       "<style scoped>\n",
       "    .dataframe tbody tr th:only-of-type {\n",
       "        vertical-align: middle;\n",
       "    }\n",
       "\n",
       "    .dataframe tbody tr th {\n",
       "        vertical-align: top;\n",
       "    }\n",
       "\n",
       "    .dataframe thead th {\n",
       "        text-align: right;\n",
       "    }\n",
       "</style>\n",
       "<table border=\"1\" class=\"dataframe\">\n",
       "  <thead>\n",
       "    <tr style=\"text-align: right;\">\n",
       "      <th></th>\n",
       "      <th>a</th>\n",
       "      <th>bgs</th>\n",
       "      <th>c</th>\n",
       "      <th>dag</th>\n",
       "      <th>target</th>\n",
       "    </tr>\n",
       "  </thead>\n",
       "  <tbody>\n",
       "    <tr>\n",
       "      <th>0</th>\n",
       "      <td>1.624345</td>\n",
       "      <td>-0.611756</td>\n",
       "      <td>-0.528172</td>\n",
       "      <td>-1.072969</td>\n",
       "      <td>1.122701</td>\n",
       "    </tr>\n",
       "    <tr>\n",
       "      <th>1</th>\n",
       "      <td>0.865408</td>\n",
       "      <td>-2.301539</td>\n",
       "      <td>1.744812</td>\n",
       "      <td>-0.761207</td>\n",
       "      <td>-5.999409</td>\n",
       "    </tr>\n",
       "    <tr>\n",
       "      <th>2</th>\n",
       "      <td>0.319039</td>\n",
       "      <td>-0.249370</td>\n",
       "      <td>1.462108</td>\n",
       "      <td>-2.060141</td>\n",
       "      <td>-0.591032</td>\n",
       "    </tr>\n",
       "  </tbody>\n",
       "</table>\n",
       "</div>"
      ],
      "text/plain": [
       "          a       bgs         c       dag    target\n",
       "0  1.624345 -0.611756 -0.528172 -1.072969  1.122701\n",
       "1  0.865408 -2.301539  1.744812 -0.761207 -5.999409\n",
       "2  0.319039 -0.249370  1.462108 -2.060141 -0.591032"
      ]
     },
     "execution_count": 354,
     "metadata": {},
     "output_type": "execute_result"
    }
   ],
   "source": [
    "df_test3.columns # ['A', 'BGs', 'c', 'dag', 'Target']\n",
    "df_test3.columns = map(str.lower, df_test3.columns); df_test3"
   ]
  },
  {
   "cell_type": "markdown",
   "id": "2c58959e-03ec-490e-b3ce-bc90002b96ab",
   "metadata": {},
   "source": [
    "#### >>> Front and Back Column Selection"
   ]
  },
  {
   "cell_type": "code",
   "execution_count": 356,
   "id": "4738fff4-fc17-4b94-add3-997905ea922a",
   "metadata": {
    "execution": {
     "iopub.execute_input": "2022-10-18T20:32:53.973113Z",
     "iopub.status.busy": "2022-10-18T20:32:53.973113Z",
     "iopub.status.idle": "2022-10-18T20:32:54.723182Z",
     "shell.execute_reply": "2022-10-18T20:32:54.723182Z",
     "shell.execute_reply.started": "2022-10-18T20:32:53.973113Z"
    },
    "tags": []
   },
   "outputs": [
    {
     "data": {
      "text/html": [
       "<div>\n",
       "<style scoped>\n",
       "    .dataframe tbody tr th:only-of-type {\n",
       "        vertical-align: middle;\n",
       "    }\n",
       "\n",
       "    .dataframe tbody tr th {\n",
       "        vertical-align: top;\n",
       "    }\n",
       "\n",
       "    .dataframe thead th {\n",
       "        text-align: right;\n",
       "    }\n",
       "</style>\n",
       "<table border=\"1\" class=\"dataframe\">\n",
       "  <thead>\n",
       "    <tr style=\"text-align: right;\">\n",
       "      <th></th>\n",
       "      <th>a</th>\n",
       "      <th>b</th>\n",
       "      <th>c</th>\n",
       "      <th>d</th>\n",
       "      <th>target</th>\n",
       "    </tr>\n",
       "  </thead>\n",
       "  <tbody>\n",
       "    <tr>\n",
       "      <th>0</th>\n",
       "      <td>1.624345</td>\n",
       "      <td>-0.611756</td>\n",
       "      <td>-0.528172</td>\n",
       "      <td>-1.072969</td>\n",
       "      <td>1.122701</td>\n",
       "    </tr>\n",
       "    <tr>\n",
       "      <th>1</th>\n",
       "      <td>0.865408</td>\n",
       "      <td>-2.301539</td>\n",
       "      <td>1.744812</td>\n",
       "      <td>-0.761207</td>\n",
       "      <td>-5.999409</td>\n",
       "    </tr>\n",
       "    <tr>\n",
       "      <th>2</th>\n",
       "      <td>0.319039</td>\n",
       "      <td>-0.249370</td>\n",
       "      <td>1.462108</td>\n",
       "      <td>-2.060141</td>\n",
       "      <td>-0.591032</td>\n",
       "    </tr>\n",
       "  </tbody>\n",
       "</table>\n",
       "</div>"
      ],
      "text/plain": [
       "          a         b         c         d    target\n",
       "0  1.624345 -0.611756 -0.528172 -1.072969  1.122701\n",
       "1  0.865408 -2.301539  1.744812 -0.761207 -5.999409\n",
       "2  0.319039 -0.249370  1.462108 -2.060141 -0.591032"
      ]
     },
     "execution_count": 356,
     "metadata": {},
     "output_type": "execute_result"
    }
   ],
   "source": [
    "df_test4 = df_test.copy() ; df_test4"
   ]
  },
  {
   "cell_type": "code",
   "execution_count": null,
   "id": "a378aa92-b86a-40ea-b8a9-1cfad3d2725c",
   "metadata": {
    "tags": []
   },
   "outputs": [],
   "source": [
    "df_test4.iloc[:, :n]"
   ]
  },
  {
   "cell_type": "code",
   "execution_count": 366,
   "id": "ed429e09-6954-4a1a-83d8-f5d614357961",
   "metadata": {
    "execution": {
     "iopub.execute_input": "2022-10-18T20:38:51.382585Z",
     "iopub.status.busy": "2022-10-18T20:38:51.382585Z",
     "iopub.status.idle": "2022-10-18T20:38:52.089268Z",
     "shell.execute_reply": "2022-10-18T20:38:52.088268Z",
     "shell.execute_reply.started": "2022-10-18T20:38:51.382585Z"
    }
   },
   "outputs": [
    {
     "name": "stderr",
     "output_type": "stream",
     "text": [
      "<cell>4: error: Name \"pd\" is not defined\n"
     ]
    }
   ],
   "source": [
    "def front(self, n):\n",
    "    return self.iloc[:, :n]\n",
    "\n",
    "def back(self:pd.DataFrame, n:int) -> pd.DataFrame:\n",
    "    return self.iloc[:, -n:]"
   ]
  },
  {
   "cell_type": "code",
   "execution_count": 370,
   "id": "ab837e84-eb4c-4daf-904d-01492e2696a7",
   "metadata": {
    "execution": {
     "iopub.execute_input": "2022-10-18T20:40:32.632865Z",
     "iopub.status.busy": "2022-10-18T20:40:32.632865Z",
     "iopub.status.idle": "2022-10-18T20:40:33.407539Z",
     "shell.execute_reply": "2022-10-18T20:40:33.407539Z",
     "shell.execute_reply.started": "2022-10-18T20:40:32.632865Z"
    },
    "tags": []
   },
   "outputs": [
    {
     "name": "stderr",
     "output_type": "stream",
     "text": [
      "<cell>1: error: Name \"pd\" is not defined\n",
      "<cell>2: error: Name \"pd\" is not defined\n",
      "<cell>5: error: Name \"pd\" is not defined\n"
     ]
    },
    {
     "data": {
      "text/html": [
       "<div>\n",
       "<style scoped>\n",
       "    .dataframe tbody tr th:only-of-type {\n",
       "        vertical-align: middle;\n",
       "    }\n",
       "\n",
       "    .dataframe tbody tr th {\n",
       "        vertical-align: top;\n",
       "    }\n",
       "\n",
       "    .dataframe thead th {\n",
       "        text-align: right;\n",
       "    }\n",
       "</style>\n",
       "<table border=\"1\" class=\"dataframe\">\n",
       "  <thead>\n",
       "    <tr style=\"text-align: right;\">\n",
       "      <th></th>\n",
       "      <th>a</th>\n",
       "      <th>b</th>\n",
       "      <th>c</th>\n",
       "    </tr>\n",
       "  </thead>\n",
       "  <tbody>\n",
       "    <tr>\n",
       "      <th>0</th>\n",
       "      <td>1.624345</td>\n",
       "      <td>-0.611756</td>\n",
       "      <td>-0.528172</td>\n",
       "    </tr>\n",
       "    <tr>\n",
       "      <th>1</th>\n",
       "      <td>0.865408</td>\n",
       "      <td>-2.301539</td>\n",
       "      <td>1.744812</td>\n",
       "    </tr>\n",
       "    <tr>\n",
       "      <th>2</th>\n",
       "      <td>0.319039</td>\n",
       "      <td>-0.249370</td>\n",
       "      <td>1.462108</td>\n",
       "    </tr>\n",
       "  </tbody>\n",
       "</table>\n",
       "</div>"
      ],
      "text/plain": [
       "          a         b         c\n",
       "0  1.624345 -0.611756 -0.528172\n",
       "1  0.865408 -2.301539  1.744812\n",
       "2  0.319039 -0.249370  1.462108"
      ]
     },
     "execution_count": 370,
     "metadata": {},
     "output_type": "execute_result"
    }
   ],
   "source": [
    "pd.back = back\n",
    "pd.front = front\n",
    "\n",
    "# pd.back(df_test4, 2)\n",
    "pd.front(df_test4, 3)"
   ]
  },
  {
   "cell_type": "markdown",
   "id": "ecb1dcc9-5aa4-4506-b52b-cfb8e8a37e17",
   "metadata": {},
   "source": [
    "#### >>> Fast Data Frame Split"
   ]
  },
  {
   "cell_type": "code",
   "execution_count": 381,
   "id": "8ccf6217-7dca-47b0-aa33-e7e302007acd",
   "metadata": {
    "execution": {
     "iopub.execute_input": "2022-10-18T20:50:27.003339Z",
     "iopub.status.busy": "2022-10-18T20:50:27.003339Z",
     "iopub.status.idle": "2022-10-18T20:50:27.753044Z",
     "shell.execute_reply": "2022-10-18T20:50:27.753044Z",
     "shell.execute_reply.started": "2022-10-18T20:50:27.003339Z"
    },
    "tags": []
   },
   "outputs": [
    {
     "data": {
      "text/html": [
       "<div>\n",
       "<style scoped>\n",
       "    .dataframe tbody tr th:only-of-type {\n",
       "        vertical-align: middle;\n",
       "    }\n",
       "\n",
       "    .dataframe tbody tr th {\n",
       "        vertical-align: top;\n",
       "    }\n",
       "\n",
       "    .dataframe thead th {\n",
       "        text-align: right;\n",
       "    }\n",
       "</style>\n",
       "<table border=\"1\" class=\"dataframe\">\n",
       "  <thead>\n",
       "    <tr style=\"text-align: right;\">\n",
       "      <th></th>\n",
       "      <th>a</th>\n",
       "      <th>b</th>\n",
       "      <th>c</th>\n",
       "      <th>d</th>\n",
       "      <th>target</th>\n",
       "    </tr>\n",
       "  </thead>\n",
       "  <tbody>\n",
       "    <tr>\n",
       "      <th>0</th>\n",
       "      <td>1.624345</td>\n",
       "      <td>-0.611756</td>\n",
       "      <td>-0.528172</td>\n",
       "      <td>-1.072969</td>\n",
       "      <td>1.122701</td>\n",
       "    </tr>\n",
       "    <tr>\n",
       "      <th>1</th>\n",
       "      <td>0.865408</td>\n",
       "      <td>-2.301539</td>\n",
       "      <td>1.744812</td>\n",
       "      <td>-0.761207</td>\n",
       "      <td>-5.999409</td>\n",
       "    </tr>\n",
       "    <tr>\n",
       "      <th>2</th>\n",
       "      <td>0.319039</td>\n",
       "      <td>-0.249370</td>\n",
       "      <td>1.462108</td>\n",
       "      <td>-2.060141</td>\n",
       "      <td>-0.591032</td>\n",
       "    </tr>\n",
       "  </tbody>\n",
       "</table>\n",
       "</div>"
      ],
      "text/plain": [
       "          a         b         c         d    target\n",
       "0  1.624345 -0.611756 -0.528172 -1.072969  1.122701\n",
       "1  0.865408 -2.301539  1.744812 -0.761207 -5.999409\n",
       "2  0.319039 -0.249370  1.462108 -2.060141 -0.591032"
      ]
     },
     "execution_count": 381,
     "metadata": {},
     "output_type": "execute_result"
    }
   ],
   "source": [
    "df_test5 = df_test.copy()\n",
    "df_test5\n",
    "df_test"
   ]
  },
  {
   "cell_type": "code",
   "execution_count": 379,
   "id": "2f2f0684-63ba-4be8-ad6f-bbdb4d90208b",
   "metadata": {
    "execution": {
     "iopub.execute_input": "2022-10-18T20:46:55.044386Z",
     "iopub.status.busy": "2022-10-18T20:46:55.044386Z",
     "iopub.status.idle": "2022-10-18T20:46:55.711493Z",
     "shell.execute_reply": "2022-10-18T20:46:55.710690Z",
     "shell.execute_reply.started": "2022-10-18T20:46:55.044386Z"
    },
    "tags": []
   },
   "outputs": [
    {
     "data": {
      "text/html": [
       "<div>\n",
       "<style scoped>\n",
       "    .dataframe tbody tr th:only-of-type {\n",
       "        vertical-align: middle;\n",
       "    }\n",
       "\n",
       "    .dataframe tbody tr th {\n",
       "        vertical-align: top;\n",
       "    }\n",
       "\n",
       "    .dataframe thead th {\n",
       "        text-align: right;\n",
       "    }\n",
       "</style>\n",
       "<table border=\"1\" class=\"dataframe\">\n",
       "  <thead>\n",
       "    <tr style=\"text-align: right;\">\n",
       "      <th></th>\n",
       "      <th>a</th>\n",
       "      <th>b</th>\n",
       "      <th>c</th>\n",
       "      <th>d</th>\n",
       "      <th>target</th>\n",
       "    </tr>\n",
       "  </thead>\n",
       "  <tbody>\n",
       "    <tr>\n",
       "      <th>0</th>\n",
       "      <td>1.624345</td>\n",
       "      <td>-0.611756</td>\n",
       "      <td>-0.528172</td>\n",
       "      <td>-1.072969</td>\n",
       "      <td>1.122701</td>\n",
       "    </tr>\n",
       "    <tr>\n",
       "      <th>1</th>\n",
       "      <td>0.865408</td>\n",
       "      <td>-2.301539</td>\n",
       "      <td>1.744812</td>\n",
       "      <td>-0.761207</td>\n",
       "      <td>-5.999409</td>\n",
       "    </tr>\n",
       "  </tbody>\n",
       "</table>\n",
       "</div>"
      ],
      "text/plain": [
       "          a         b         c         d    target\n",
       "0  1.624345 -0.611756 -0.528172 -1.072969  1.122701\n",
       "1  0.865408 -2.301539  1.744812 -0.761207 -5.999409"
      ]
     },
     "execution_count": 379,
     "metadata": {},
     "output_type": "execute_result"
    }
   ],
   "source": [
    "# test = df_test5.sample(frac=0.4); test\n",
    "# df_test5, test\n",
    "train = df_test5[~df_test5.isin(test)].dropna(); train"
   ]
  },
  {
   "cell_type": "markdown",
   "id": "8aee355a-226b-4bb9-ae41-a96d193357db",
   "metadata": {},
   "source": [
    "#### >>> Create Features and Labels List"
   ]
  },
  {
   "cell_type": "code",
   "execution_count": 382,
   "id": "cc4d960b-f810-4fa4-940b-68c2fb319cbc",
   "metadata": {
    "execution": {
     "iopub.execute_input": "2022-10-18T20:50:57.528215Z",
     "iopub.status.busy": "2022-10-18T20:50:57.528215Z",
     "iopub.status.idle": "2022-10-18T20:50:58.212486Z",
     "shell.execute_reply": "2022-10-18T20:50:58.211484Z",
     "shell.execute_reply.started": "2022-10-18T20:50:57.528215Z"
    },
    "tags": []
   },
   "outputs": [
    {
     "name": "stdout",
     "output_type": "stream",
     "text": [
      "y = target\n",
      "X = ['a', 'b', 'c']\n"
     ]
    }
   ],
   "source": [
    "df_test6 = df_test.head()\n",
    "y = 'target'\n",
    "X = [name for name in df_test5.columns if name not in [y, 'd']]\n",
    "print('y =', y)\n",
    "print('X =', X)\n"
   ]
  },
  {
   "cell_type": "markdown",
   "id": "b981784b-ff6c-40ca-a2ba-9d4eca2d0faa",
   "metadata": {
    "execution": {
     "iopub.execute_input": "2022-10-18T20:51:50.908864Z",
     "iopub.status.busy": "2022-10-18T20:51:50.908864Z",
     "iopub.status.idle": "2022-10-18T20:51:54.996383Z",
     "shell.execute_reply": "2022-10-18T20:51:54.996383Z",
     "shell.execute_reply.started": "2022-10-18T20:51:50.908864Z"
    },
    "tags": []
   },
   "source": [
    "#### >>> Short Basic Commands"
   ]
  },
  {
   "cell_type": "code",
   "execution_count": 398,
   "id": "f4012ae2-947a-4599-89da-294bd00cdf35",
   "metadata": {
    "execution": {
     "iopub.execute_input": "2022-10-18T21:00:39.520065Z",
     "iopub.status.busy": "2022-10-18T21:00:39.520065Z",
     "iopub.status.idle": "2022-10-18T21:00:41.281221Z",
     "shell.execute_reply": "2022-10-18T21:00:41.280221Z",
     "shell.execute_reply.started": "2022-10-18T21:00:39.520065Z"
    },
    "tags": []
   },
   "outputs": [
    {
     "data": {
      "text/html": [
       "<div>\n",
       "<style scoped>\n",
       "    .dataframe tbody tr th:only-of-type {\n",
       "        vertical-align: middle;\n",
       "    }\n",
       "\n",
       "    .dataframe tbody tr th {\n",
       "        vertical-align: top;\n",
       "    }\n",
       "\n",
       "    .dataframe thead th {\n",
       "        text-align: right;\n",
       "    }\n",
       "</style>\n",
       "<table border=\"1\" class=\"dataframe\">\n",
       "  <thead>\n",
       "    <tr style=\"text-align: right;\">\n",
       "      <th></th>\n",
       "      <th>a</th>\n",
       "      <th>b</th>\n",
       "      <th>c</th>\n",
       "      <th>d</th>\n",
       "      <th>target</th>\n",
       "      <th>category</th>\n",
       "      <th>k</th>\n",
       "    </tr>\n",
       "  </thead>\n",
       "  <tbody>\n",
       "    <tr>\n",
       "      <th>0</th>\n",
       "      <td>1.624345</td>\n",
       "      <td>-0.611756</td>\n",
       "      <td>-0.528172</td>\n",
       "      <td>-1.072969</td>\n",
       "      <td>1.122701</td>\n",
       "      <td>1</td>\n",
       "      <td>1: -1.1</td>\n",
       "    </tr>\n",
       "    <tr>\n",
       "      <th>1</th>\n",
       "      <td>0.865408</td>\n",
       "      <td>-2.301539</td>\n",
       "      <td>1.744812</td>\n",
       "      <td>-0.761207</td>\n",
       "      <td>-5.999409</td>\n",
       "      <td>0</td>\n",
       "      <td>0: -0.8</td>\n",
       "    </tr>\n",
       "    <tr>\n",
       "      <th>2</th>\n",
       "      <td>0.319039</td>\n",
       "      <td>-0.249370</td>\n",
       "      <td>1.462108</td>\n",
       "      <td>-2.060141</td>\n",
       "      <td>-0.591032</td>\n",
       "      <td>0</td>\n",
       "      <td>0: -2.1</td>\n",
       "    </tr>\n",
       "  </tbody>\n",
       "</table>\n",
       "</div>"
      ],
      "text/plain": [
       "          a         b         c         d    target category        k\n",
       "0  1.624345 -0.611756 -0.528172 -1.072969  1.122701        1  1: -1.1\n",
       "1  0.865408 -2.301539  1.744812 -0.761207 -5.999409        0  0: -0.8\n",
       "2  0.319039 -0.249370  1.462108 -2.060141 -0.591032        0  0: -2.1"
      ]
     },
     "execution_count": 398,
     "metadata": {},
     "output_type": "execute_result"
    }
   ],
   "source": [
    "df_test7 = df_test.copy()\n",
    "df_test7['category'] = np.where(df_test7['target']>1, '1', '0'); df_test7\n",
    "df_test7['k'] = df_test7['category'].astype(str) + ': ' + df_test7['d'].round(1).astype(str); df_test7"
   ]
  },
  {
   "cell_type": "code",
   "execution_count": 399,
   "id": "4e56c4fa-481f-4daa-9dab-c58c1bdfd4cd",
   "metadata": {
    "execution": {
     "iopub.execute_input": "2022-10-18T21:00:56.315161Z",
     "iopub.status.busy": "2022-10-18T21:00:56.314230Z",
     "iopub.status.idle": "2022-10-18T21:00:56.998375Z",
     "shell.execute_reply": "2022-10-18T21:00:56.998375Z",
     "shell.execute_reply.started": "2022-10-18T21:00:56.315161Z"
    },
    "tags": []
   },
   "outputs": [
    {
     "name": "stderr",
     "output_type": "stream",
     "text": [
      "<cell>1: error: Name \"pd\" is not defined\n",
      "<cell>1: error: Cannot determine type of \"df_test7\"\n"
     ]
    },
    {
     "data": {
      "text/html": [
       "<div>\n",
       "<style scoped>\n",
       "    .dataframe tbody tr th:only-of-type {\n",
       "        vertical-align: middle;\n",
       "    }\n",
       "\n",
       "    .dataframe tbody tr th {\n",
       "        vertical-align: top;\n",
       "    }\n",
       "\n",
       "    .dataframe thead th {\n",
       "        text-align: right;\n",
       "    }\n",
       "</style>\n",
       "<table border=\"1\" class=\"dataframe\">\n",
       "  <thead>\n",
       "    <tr style=\"text-align: right;\">\n",
       "      <th></th>\n",
       "      <th>a</th>\n",
       "      <th>b</th>\n",
       "      <th>c</th>\n",
       "      <th>d</th>\n",
       "      <th>target</th>\n",
       "      <th>category</th>\n",
       "      <th>k</th>\n",
       "    </tr>\n",
       "  </thead>\n",
       "  <tbody>\n",
       "    <tr>\n",
       "      <th>0</th>\n",
       "      <td>1.624345</td>\n",
       "      <td>-0.611756</td>\n",
       "      <td>-0.528172</td>\n",
       "      <td>-1.072969</td>\n",
       "      <td>1.122701</td>\n",
       "      <td>1</td>\n",
       "      <td>1: -1.1</td>\n",
       "    </tr>\n",
       "    <tr>\n",
       "      <th>1</th>\n",
       "      <td>0.865408</td>\n",
       "      <td>-2.301539</td>\n",
       "      <td>1.744812</td>\n",
       "      <td>-0.761207</td>\n",
       "      <td>-5.999409</td>\n",
       "      <td>0</td>\n",
       "      <td>0: -0.8</td>\n",
       "    </tr>\n",
       "    <tr>\n",
       "      <th>2</th>\n",
       "      <td>0.319039</td>\n",
       "      <td>-0.249370</td>\n",
       "      <td>1.462108</td>\n",
       "      <td>-2.060141</td>\n",
       "      <td>-0.591032</td>\n",
       "      <td>0</td>\n",
       "      <td>0: -2.1</td>\n",
       "    </tr>\n",
       "    <tr>\n",
       "      <th>3</th>\n",
       "      <td>1.624345</td>\n",
       "      <td>-0.611756</td>\n",
       "      <td>-0.528172</td>\n",
       "      <td>-1.072969</td>\n",
       "      <td>1.122701</td>\n",
       "      <td>1</td>\n",
       "      <td>1: -1.1</td>\n",
       "    </tr>\n",
       "    <tr>\n",
       "      <th>4</th>\n",
       "      <td>0.865408</td>\n",
       "      <td>-2.301539</td>\n",
       "      <td>1.744812</td>\n",
       "      <td>-0.761207</td>\n",
       "      <td>-5.999409</td>\n",
       "      <td>0</td>\n",
       "      <td>0: -0.8</td>\n",
       "    </tr>\n",
       "  </tbody>\n",
       "</table>\n",
       "</div>"
      ],
      "text/plain": [
       "          a         b         c         d    target category        k\n",
       "0  1.624345 -0.611756 -0.528172 -1.072969  1.122701        1  1: -1.1\n",
       "1  0.865408 -2.301539  1.744812 -0.761207 -5.999409        0  0: -0.8\n",
       "2  0.319039 -0.249370  1.462108 -2.060141 -0.591032        0  0: -2.1\n",
       "3  1.624345 -0.611756 -0.528172 -1.072969  1.122701        1  1: -1.1\n",
       "4  0.865408 -2.301539  1.744812 -0.761207 -5.999409        0  0: -0.8"
      ]
     },
     "execution_count": 399,
     "metadata": {},
     "output_type": "execute_result"
    }
   ],
   "source": [
    "df_test7 = pd.concat([df_test7, df_test7], ignore_index=True); df_test7.head()"
   ]
  },
  {
   "cell_type": "code",
   "execution_count": 401,
   "id": "08039361-3a11-49bf-aba6-572c238d8fbd",
   "metadata": {
    "execution": {
     "iopub.execute_input": "2022-10-18T21:02:25.665244Z",
     "iopub.status.busy": "2022-10-18T21:02:25.664244Z",
     "iopub.status.idle": "2022-10-18T21:02:27.536643Z",
     "shell.execute_reply": "2022-10-18T21:02:27.535642Z",
     "shell.execute_reply.started": "2022-10-18T21:02:25.665244Z"
    },
    "tags": []
   },
   "outputs": [
    {
     "name": "stderr",
     "output_type": "stream",
     "text": [
      "<cell>2: error: Name \"pd\" is not defined\n",
      "<cell>3: error: Name \"pd\" is not defined\n",
      "<cell>4: error: Name \"pd\" is not defined\n"
     ]
    }
   ],
   "source": [
    "\"\"\"set display width, col_width etc for interactive pandas session\"\"\" \n",
    "pd.set_option('display.width', 200)\n",
    "pd.set_option('display.max_colwidth', 20)\n",
    "pd.set_option('display.max_rows', 100)"
   ]
  },
  {
   "cell_type": "code",
   "execution_count": 596,
   "id": "80367893-f998-4bef-b921-e9cdc8b6aa5a",
   "metadata": {
    "execution": {
     "iopub.execute_input": "2022-10-31T20:51:47.288986Z",
     "iopub.status.busy": "2022-10-31T20:51:47.288986Z",
     "iopub.status.idle": "2022-10-31T20:51:48.159670Z",
     "shell.execute_reply": "2022-10-31T20:51:48.158660Z",
     "shell.execute_reply.started": "2022-10-31T20:51:47.288986Z"
    },
    "tags": []
   },
   "outputs": [
    {
     "data": {
      "text/html": [
       "<div>\n",
       "<style scoped>\n",
       "    .dataframe tbody tr th:only-of-type {\n",
       "        vertical-align: middle;\n",
       "    }\n",
       "\n",
       "    .dataframe tbody tr th {\n",
       "        vertical-align: top;\n",
       "    }\n",
       "\n",
       "    .dataframe thead th {\n",
       "        text-align: right;\n",
       "    }\n",
       "</style>\n",
       "<table border=\"1\" class=\"dataframe\">\n",
       "  <thead>\n",
       "    <tr style=\"text-align: right;\">\n",
       "      <th></th>\n",
       "      <th>a</th>\n",
       "      <th>b</th>\n",
       "      <th>c</th>\n",
       "      <th>d</th>\n",
       "      <th>target</th>\n",
       "      <th>category</th>\n",
       "      <th>k</th>\n",
       "      <th>split_name</th>\n",
       "    </tr>\n",
       "  </thead>\n",
       "  <tbody>\n",
       "    <tr>\n",
       "      <th>0</th>\n",
       "      <td>1.624345</td>\n",
       "      <td>-0.611756</td>\n",
       "      <td>-0.528172</td>\n",
       "      <td>-1.072969</td>\n",
       "      <td>1.122701</td>\n",
       "      <td>1</td>\n",
       "      <td>1: -1.1</td>\n",
       "      <td>1</td>\n",
       "    </tr>\n",
       "    <tr>\n",
       "      <th>1</th>\n",
       "      <td>0.865408</td>\n",
       "      <td>-2.301539</td>\n",
       "      <td>1.744812</td>\n",
       "      <td>-0.761207</td>\n",
       "      <td>-5.999409</td>\n",
       "      <td>0</td>\n",
       "      <td>0: -0.8</td>\n",
       "      <td>0</td>\n",
       "    </tr>\n",
       "    <tr>\n",
       "      <th>2</th>\n",
       "      <td>0.319039</td>\n",
       "      <td>-0.249370</td>\n",
       "      <td>1.462108</td>\n",
       "      <td>-2.060141</td>\n",
       "      <td>-0.591032</td>\n",
       "      <td>0</td>\n",
       "      <td>0: -2.1</td>\n",
       "      <td>0</td>\n",
       "    </tr>\n",
       "  </tbody>\n",
       "</table>\n",
       "</div>"
      ],
      "text/plain": [
       "          a         b         c         d    target category        k split_name\n",
       "0  1.624345 -0.611756 -0.528172 -1.072969  1.122701        1  1: -1.1          1\n",
       "1  0.865408 -2.301539  1.744812 -0.761207 -5.999409        0  0: -0.8          0\n",
       "2  0.319039 -0.249370  1.462108 -2.060141 -0.591032        0  0: -2.1          0"
      ]
     },
     "execution_count": 596,
     "metadata": {},
     "output_type": "execute_result"
    }
   ],
   "source": [
    "\"\"\"when you have an excel sheet with spaces in column names\"\"\"\n",
    "df_test7 = df_test.copy()\n",
    "df_test7['category'] = np.where(df_test7['target']>1, '1', '0'); df_test7\n",
    "df_test7['k'] = df_test7['category'].astype(str) + ': ' + df_test7['d'].round(1).astype(str); df_test7\n",
    "df_test7['spliT Name'], df_test7['split name'] = df_test7['category'], df_test7['category']\n",
    "\n",
    "df_test7.columns = [column.lower().replace(' ', '_') for column in df_test7.columns]\n",
    "df_test7\n",
    "df_test7 = df_test7.iloc[:, :-1]\n",
    "df_test7"
   ]
  },
  {
   "cell_type": "code",
   "execution_count": 481,
   "id": "5f68b55f-786a-454b-9d00-e4a4029c1119",
   "metadata": {
    "execution": {
     "iopub.execute_input": "2022-10-31T18:59:00.174872Z",
     "iopub.status.busy": "2022-10-31T18:59:00.174872Z",
     "iopub.status.idle": "2022-10-31T18:59:00.983946Z",
     "shell.execute_reply": "2022-10-31T18:59:00.982931Z",
     "shell.execute_reply.started": "2022-10-31T18:59:00.174872Z"
    },
    "tags": []
   },
   "outputs": [
    {
     "data": {
      "text/html": [
       "<div>\n",
       "<style scoped>\n",
       "    .dataframe tbody tr th:only-of-type {\n",
       "        vertical-align: middle;\n",
       "    }\n",
       "\n",
       "    .dataframe tbody tr th {\n",
       "        vertical-align: top;\n",
       "    }\n",
       "\n",
       "    .dataframe thead th {\n",
       "        text-align: right;\n",
       "    }\n",
       "</style>\n",
       "<table border=\"1\" class=\"dataframe\">\n",
       "  <thead>\n",
       "    <tr style=\"text-align: right;\">\n",
       "      <th></th>\n",
       "      <th>A</th>\n",
       "      <th>B</th>\n",
       "      <th>C</th>\n",
       "      <th>D</th>\n",
       "      <th>TARGET</th>\n",
       "      <th>CATEGORY</th>\n",
       "      <th>K</th>\n",
       "      <th>SPLIT_NAME</th>\n",
       "    </tr>\n",
       "  </thead>\n",
       "  <tbody>\n",
       "    <tr>\n",
       "      <th>0</th>\n",
       "      <td>1.624345</td>\n",
       "      <td>-0.611756</td>\n",
       "      <td>-0.528172</td>\n",
       "      <td>-1.072969</td>\n",
       "      <td>1.122701</td>\n",
       "      <td>1</td>\n",
       "      <td>1: -1.1</td>\n",
       "      <td>1</td>\n",
       "    </tr>\n",
       "    <tr>\n",
       "      <th>1</th>\n",
       "      <td>0.865408</td>\n",
       "      <td>-2.301539</td>\n",
       "      <td>1.744812</td>\n",
       "      <td>-0.761207</td>\n",
       "      <td>-5.999409</td>\n",
       "      <td>0</td>\n",
       "      <td>0: -0.8</td>\n",
       "      <td>0</td>\n",
       "    </tr>\n",
       "    <tr>\n",
       "      <th>2</th>\n",
       "      <td>0.319039</td>\n",
       "      <td>-0.249370</td>\n",
       "      <td>1.462108</td>\n",
       "      <td>-2.060141</td>\n",
       "      <td>-0.591032</td>\n",
       "      <td>0</td>\n",
       "      <td>0: -2.1</td>\n",
       "      <td>0</td>\n",
       "    </tr>\n",
       "  </tbody>\n",
       "</table>\n",
       "</div>"
      ],
      "text/plain": [
       "          A         B         C         D    TARGET CATEGORY        K SPLIT_NAME\n",
       "0  1.624345 -0.611756 -0.528172 -1.072969  1.122701        1  1: -1.1          1\n",
       "1  0.865408 -2.301539  1.744812 -0.761207 -5.999409        0  0: -0.8          0\n",
       "2  0.319039 -0.249370  1.462108 -2.060141 -0.591032        0  0: -2.1          0"
      ]
     },
     "execution_count": 481,
     "metadata": {},
     "output_type": "execute_result"
    }
   ],
   "source": [
    "df_test7.columns = [column.upper() for column in df_test7.columns]; df_test7"
   ]
  },
  {
   "cell_type": "code",
   "execution_count": 482,
   "id": "154d6cfa-1e7e-4501-a550-4aaa0fa43d6f",
   "metadata": {
    "execution": {
     "iopub.execute_input": "2022-10-31T19:00:20.688443Z",
     "iopub.status.busy": "2022-10-31T19:00:20.688443Z",
     "iopub.status.idle": "2022-10-31T19:00:22.404603Z",
     "shell.execute_reply": "2022-10-31T19:00:22.404603Z",
     "shell.execute_reply.started": "2022-10-31T19:00:20.688443Z"
    },
    "tags": []
   },
   "outputs": [
    {
     "data": {
      "text/html": [
       "<div>\n",
       "<style scoped>\n",
       "    .dataframe tbody tr th:only-of-type {\n",
       "        vertical-align: middle;\n",
       "    }\n",
       "\n",
       "    .dataframe tbody tr th {\n",
       "        vertical-align: top;\n",
       "    }\n",
       "\n",
       "    .dataframe thead th {\n",
       "        text-align: right;\n",
       "    }\n",
       "</style>\n",
       "<table border=\"1\" class=\"dataframe\">\n",
       "  <thead>\n",
       "    <tr style=\"text-align: right;\">\n",
       "      <th></th>\n",
       "      <th>A</th>\n",
       "      <th>B</th>\n",
       "      <th>WOBBLE</th>\n",
       "      <th>D</th>\n",
       "      <th>TARGET</th>\n",
       "      <th>WOBBLEATEGORY</th>\n",
       "      <th>K</th>\n",
       "      <th>SPLIT_NAME</th>\n",
       "    </tr>\n",
       "  </thead>\n",
       "  <tbody>\n",
       "    <tr>\n",
       "      <th>0</th>\n",
       "      <td>1.624345</td>\n",
       "      <td>-0.611756</td>\n",
       "      <td>-0.528172</td>\n",
       "      <td>-1.072969</td>\n",
       "      <td>1.122701</td>\n",
       "      <td>1</td>\n",
       "      <td>1: -1.1</td>\n",
       "      <td>1</td>\n",
       "    </tr>\n",
       "    <tr>\n",
       "      <th>1</th>\n",
       "      <td>0.865408</td>\n",
       "      <td>-2.301539</td>\n",
       "      <td>1.744812</td>\n",
       "      <td>-0.761207</td>\n",
       "      <td>-5.999409</td>\n",
       "      <td>0</td>\n",
       "      <td>0: -0.8</td>\n",
       "      <td>0</td>\n",
       "    </tr>\n",
       "    <tr>\n",
       "      <th>2</th>\n",
       "      <td>0.319039</td>\n",
       "      <td>-0.249370</td>\n",
       "      <td>1.462108</td>\n",
       "      <td>-2.060141</td>\n",
       "      <td>-0.591032</td>\n",
       "      <td>0</td>\n",
       "      <td>0: -2.1</td>\n",
       "      <td>0</td>\n",
       "    </tr>\n",
       "  </tbody>\n",
       "</table>\n",
       "</div>"
      ],
      "text/plain": [
       "          A         B    WOBBLE         D    TARGET WOBBLEATEGORY        K SPLIT_NAME\n",
       "0  1.624345 -0.611756 -0.528172 -1.072969  1.122701             1  1: -1.1          1\n",
       "1  0.865408 -2.301539  1.744812 -0.761207 -5.999409             0  0: -0.8          0\n",
       "2  0.319039 -0.249370  1.462108 -2.060141 -0.591032             0  0: -2.1          0"
      ]
     },
     "execution_count": 482,
     "metadata": {},
     "output_type": "execute_result"
    }
   ],
   "source": [
    "df_test7.columns = [column.replace(\"C\", \"WOBBLE\") for column in df_test7.columns]; df_test7\n"
   ]
  },
  {
   "cell_type": "code",
   "execution_count": 483,
   "id": "62db52d9-f276-4438-a1f4-bdf6a618f24b",
   "metadata": {
    "execution": {
     "iopub.execute_input": "2022-10-31T19:01:33.215468Z",
     "iopub.status.busy": "2022-10-31T19:01:33.214468Z",
     "iopub.status.idle": "2022-10-31T19:01:34.122570Z",
     "shell.execute_reply": "2022-10-31T19:01:34.122570Z",
     "shell.execute_reply.started": "2022-10-31T19:01:33.215468Z"
    },
    "tags": []
   },
   "outputs": [
    {
     "data": {
      "text/html": [
       "<div>\n",
       "<style scoped>\n",
       "    .dataframe tbody tr th:only-of-type {\n",
       "        vertical-align: middle;\n",
       "    }\n",
       "\n",
       "    .dataframe tbody tr th {\n",
       "        vertical-align: top;\n",
       "    }\n",
       "\n",
       "    .dataframe thead th {\n",
       "        text-align: right;\n",
       "    }\n",
       "</style>\n",
       "<table border=\"1\" class=\"dataframe\">\n",
       "  <thead>\n",
       "    <tr style=\"text-align: right;\">\n",
       "      <th></th>\n",
       "      <th>A</th>\n",
       "      <th>B</th>\n",
       "      <th>_</th>\n",
       "      <th>D</th>\n",
       "      <th>TARGET</th>\n",
       "      <th>_ATEGORY</th>\n",
       "      <th>K</th>\n",
       "      <th>SPLIT_NAME</th>\n",
       "    </tr>\n",
       "  </thead>\n",
       "  <tbody>\n",
       "    <tr>\n",
       "      <th>0</th>\n",
       "      <td>1.624345</td>\n",
       "      <td>-0.611756</td>\n",
       "      <td>-0.528172</td>\n",
       "      <td>-1.072969</td>\n",
       "      <td>1.122701</td>\n",
       "      <td>1</td>\n",
       "      <td>1: -1.1</td>\n",
       "      <td>1</td>\n",
       "    </tr>\n",
       "    <tr>\n",
       "      <th>1</th>\n",
       "      <td>0.865408</td>\n",
       "      <td>-2.301539</td>\n",
       "      <td>1.744812</td>\n",
       "      <td>-0.761207</td>\n",
       "      <td>-5.999409</td>\n",
       "      <td>0</td>\n",
       "      <td>0: -0.8</td>\n",
       "      <td>0</td>\n",
       "    </tr>\n",
       "    <tr>\n",
       "      <th>2</th>\n",
       "      <td>0.319039</td>\n",
       "      <td>-0.249370</td>\n",
       "      <td>1.462108</td>\n",
       "      <td>-2.060141</td>\n",
       "      <td>-0.591032</td>\n",
       "      <td>0</td>\n",
       "      <td>0: -2.1</td>\n",
       "      <td>0</td>\n",
       "    </tr>\n",
       "  </tbody>\n",
       "</table>\n",
       "</div>"
      ],
      "text/plain": [
       "          A         B         _         D    TARGET _ATEGORY        K SPLIT_NAME\n",
       "0  1.624345 -0.611756 -0.528172 -1.072969  1.122701        1  1: -1.1          1\n",
       "1  0.865408 -2.301539  1.744812 -0.761207 -5.999409        0  0: -0.8          0\n",
       "2  0.319039 -0.249370  1.462108 -2.060141 -0.591032        0  0: -2.1          0"
      ]
     },
     "execution_count": 483,
     "metadata": {},
     "output_type": "execute_result"
    }
   ],
   "source": [
    "df_test7.columns = [column.replace(\"WOBBLE\", \"_\") for column in df_test7.columns]; df_test7"
   ]
  },
  {
   "cell_type": "code",
   "execution_count": 484,
   "id": "023c415e-95c2-4252-abcd-b73f64e44f19",
   "metadata": {
    "execution": {
     "iopub.execute_input": "2022-10-31T19:02:02.521345Z",
     "iopub.status.busy": "2022-10-31T19:02:02.520345Z",
     "iopub.status.idle": "2022-10-31T19:02:03.411987Z",
     "shell.execute_reply": "2022-10-31T19:02:03.411987Z",
     "shell.execute_reply.started": "2022-10-31T19:02:02.520345Z"
    },
    "tags": []
   },
   "outputs": [
    {
     "data": {
      "text/html": [
       "<div>\n",
       "<style scoped>\n",
       "    .dataframe tbody tr th:only-of-type {\n",
       "        vertical-align: middle;\n",
       "    }\n",
       "\n",
       "    .dataframe tbody tr th {\n",
       "        vertical-align: top;\n",
       "    }\n",
       "\n",
       "    .dataframe thead th {\n",
       "        text-align: right;\n",
       "    }\n",
       "</style>\n",
       "<table border=\"1\" class=\"dataframe\">\n",
       "  <thead>\n",
       "    <tr style=\"text-align: right;\">\n",
       "      <th></th>\n",
       "      <th>a</th>\n",
       "      <th>b</th>\n",
       "      <th>c</th>\n",
       "      <th>d</th>\n",
       "      <th>target</th>\n",
       "      <th>category</th>\n",
       "      <th>k</th>\n",
       "      <th>splitcname</th>\n",
       "    </tr>\n",
       "  </thead>\n",
       "  <tbody>\n",
       "    <tr>\n",
       "      <th>0</th>\n",
       "      <td>1.624345</td>\n",
       "      <td>-0.611756</td>\n",
       "      <td>-0.528172</td>\n",
       "      <td>-1.072969</td>\n",
       "      <td>1.122701</td>\n",
       "      <td>1</td>\n",
       "      <td>1: -1.1</td>\n",
       "      <td>1</td>\n",
       "    </tr>\n",
       "    <tr>\n",
       "      <th>1</th>\n",
       "      <td>0.865408</td>\n",
       "      <td>-2.301539</td>\n",
       "      <td>1.744812</td>\n",
       "      <td>-0.761207</td>\n",
       "      <td>-5.999409</td>\n",
       "      <td>0</td>\n",
       "      <td>0: -0.8</td>\n",
       "      <td>0</td>\n",
       "    </tr>\n",
       "    <tr>\n",
       "      <th>2</th>\n",
       "      <td>0.319039</td>\n",
       "      <td>-0.249370</td>\n",
       "      <td>1.462108</td>\n",
       "      <td>-2.060141</td>\n",
       "      <td>-0.591032</td>\n",
       "      <td>0</td>\n",
       "      <td>0: -2.1</td>\n",
       "      <td>0</td>\n",
       "    </tr>\n",
       "  </tbody>\n",
       "</table>\n",
       "</div>"
      ],
      "text/plain": [
       "          a         b         c         d    target category        k splitcname\n",
       "0  1.624345 -0.611756 -0.528172 -1.072969  1.122701        1  1: -1.1          1\n",
       "1  0.865408 -2.301539  1.744812 -0.761207 -5.999409        0  0: -0.8          0\n",
       "2  0.319039 -0.249370  1.462108 -2.060141 -0.591032        0  0: -2.1          0"
      ]
     },
     "execution_count": 484,
     "metadata": {},
     "output_type": "execute_result"
    }
   ],
   "source": [
    "df_test7.columns = [column.replace(\"_\", \"C\").lower() for column in df_test7.columns]; df_test7"
   ]
  },
  {
   "cell_type": "code",
   "execution_count": 513,
   "id": "1d7ae670-597b-4c93-85ba-ea51e6f4ee67",
   "metadata": {
    "execution": {
     "iopub.execute_input": "2022-10-31T19:16:54.394462Z",
     "iopub.status.busy": "2022-10-31T19:16:54.394462Z",
     "iopub.status.idle": "2022-10-31T19:16:55.157831Z",
     "shell.execute_reply": "2022-10-31T19:16:55.156831Z",
     "shell.execute_reply.started": "2022-10-31T19:16:54.394462Z"
    },
    "tags": []
   },
   "outputs": [
    {
     "data": {
      "text/html": [
       "<div>\n",
       "<style scoped>\n",
       "    .dataframe tbody tr th:only-of-type {\n",
       "        vertical-align: middle;\n",
       "    }\n",
       "\n",
       "    .dataframe tbody tr th {\n",
       "        vertical-align: top;\n",
       "    }\n",
       "\n",
       "    .dataframe thead th {\n",
       "        text-align: right;\n",
       "    }\n",
       "</style>\n",
       "<table border=\"1\" class=\"dataframe\">\n",
       "  <thead>\n",
       "    <tr style=\"text-align: right;\">\n",
       "      <th></th>\n",
       "      <th>left_a</th>\n",
       "      <th>left_b</th>\n",
       "      <th>...</th>\n",
       "      <th>left_k</th>\n",
       "      <th>left_splitcname</th>\n",
       "    </tr>\n",
       "  </thead>\n",
       "  <tbody>\n",
       "    <tr>\n",
       "      <th>0</th>\n",
       "      <td>1.624345</td>\n",
       "      <td>-0.611756</td>\n",
       "      <td>...</td>\n",
       "      <td>1: -1.1</td>\n",
       "      <td>1</td>\n",
       "    </tr>\n",
       "    <tr>\n",
       "      <th>1</th>\n",
       "      <td>0.865408</td>\n",
       "      <td>-2.301539</td>\n",
       "      <td>...</td>\n",
       "      <td>0: -0.8</td>\n",
       "      <td>0</td>\n",
       "    </tr>\n",
       "    <tr>\n",
       "      <th>2</th>\n",
       "      <td>0.319039</td>\n",
       "      <td>-0.249370</td>\n",
       "      <td>...</td>\n",
       "      <td>0: -2.1</td>\n",
       "      <td>0</td>\n",
       "    </tr>\n",
       "  </tbody>\n",
       "</table>\n",
       "<p>3 rows × 8 columns</p>\n",
       "</div>"
      ],
      "text/plain": [
       "     left_a    left_b  ...   left_k  left_splitcname\n",
       "0  1.624345 -0.611756  ...  1: -1.1                1\n",
       "1  0.865408 -2.301539  ...  0: -0.8                0\n",
       "2  0.319039 -0.249370  ...  0: -2.1                0\n",
       "\n",
       "[3 rows x 8 columns]"
      ]
     },
     "execution_count": 513,
     "metadata": {},
     "output_type": "execute_result"
    }
   ],
   "source": [
    "## Add prefix to all the columns\n",
    "df_test7.add_prefix(\"left_\")\n"
   ]
  },
  {
   "cell_type": "code",
   "execution_count": 534,
   "id": "b4295cbc-66a0-4a70-93fe-c192b4fe0cc3",
   "metadata": {
    "execution": {
     "iopub.execute_input": "2022-10-31T19:28:38.049274Z",
     "iopub.status.busy": "2022-10-31T19:28:38.048269Z",
     "iopub.status.idle": "2022-10-31T19:28:38.872073Z",
     "shell.execute_reply": "2022-10-31T19:28:38.872073Z",
     "shell.execute_reply.started": "2022-10-31T19:28:38.049274Z"
    },
    "tags": []
   },
   "outputs": [
    {
     "data": {
      "text/html": [
       "<div>\n",
       "<style scoped>\n",
       "    .dataframe tbody tr th:only-of-type {\n",
       "        vertical-align: middle;\n",
       "    }\n",
       "\n",
       "    .dataframe tbody tr th {\n",
       "        vertical-align: top;\n",
       "    }\n",
       "\n",
       "    .dataframe thead th {\n",
       "        text-align: right;\n",
       "    }\n",
       "</style>\n",
       "<table border=\"1\" class=\"dataframe\">\n",
       "  <thead>\n",
       "    <tr style=\"text-align: right;\">\n",
       "      <th></th>\n",
       "      <th>a</th>\n",
       "      <th>b</th>\n",
       "      <th>c</th>\n",
       "      <th>d</th>\n",
       "      <th>target</th>\n",
       "      <th>category</th>\n",
       "      <th>k</th>\n",
       "      <th>split_name</th>\n",
       "    </tr>\n",
       "  </thead>\n",
       "  <tbody>\n",
       "    <tr>\n",
       "      <th>0</th>\n",
       "      <td>1.624345</td>\n",
       "      <td>-0.611756</td>\n",
       "      <td>-0.528172</td>\n",
       "      <td>-1.072969</td>\n",
       "      <td>1.122701</td>\n",
       "      <td>1</td>\n",
       "      <td>1: -1.1</td>\n",
       "      <td>1</td>\n",
       "    </tr>\n",
       "    <tr>\n",
       "      <th>1</th>\n",
       "      <td>0.865408</td>\n",
       "      <td>-2.301539</td>\n",
       "      <td>1.744812</td>\n",
       "      <td>-0.761207</td>\n",
       "      <td>-5.999409</td>\n",
       "      <td>&lt;NA&gt;</td>\n",
       "      <td>0: -0.8</td>\n",
       "      <td>0</td>\n",
       "    </tr>\n",
       "    <tr>\n",
       "      <th>2</th>\n",
       "      <td>0.319039</td>\n",
       "      <td>-0.249370</td>\n",
       "      <td>1.462108</td>\n",
       "      <td>-2.060141</td>\n",
       "      <td>-0.591032</td>\n",
       "      <td>&lt;NA&gt;</td>\n",
       "      <td>0: -2.1</td>\n",
       "      <td>0</td>\n",
       "    </tr>\n",
       "  </tbody>\n",
       "</table>\n",
       "</div>"
      ],
      "text/plain": [
       "          a         b         c         d    target category        k split_name\n",
       "0  1.624345 -0.611756 -0.528172 -1.072969  1.122701        1  1: -1.1          1\n",
       "1  0.865408 -2.301539  1.744812 -0.761207 -5.999409     <NA>  0: -0.8          0\n",
       "2  0.319039 -0.249370  1.462108 -2.060141 -0.591032     <NA>  0: -2.1          0"
      ]
     },
     "execution_count": 534,
     "metadata": {},
     "output_type": "execute_result"
    }
   ],
   "source": [
    "# df_test7 = df_test7.add_suffix(\"_poo\")\n",
    "# df_test7.columns = [column.replace(\"_poo_poo\", \"\").lower() for column in df_test7.columns]\n",
    "df_test7\n",
    "# df_test7.category = df_test7.category.replace(\"0\", pd.NA)"
   ]
  },
  {
   "cell_type": "code",
   "execution_count": 711,
   "id": "ba66b46f-bb82-48b8-921e-52f4f249c7ff",
   "metadata": {
    "execution": {
     "iopub.execute_input": "2022-11-01T13:23:54.276773Z",
     "iopub.status.busy": "2022-11-01T13:23:54.275775Z",
     "iopub.status.idle": "2022-11-01T13:23:55.081323Z",
     "shell.execute_reply": "2022-11-01T13:23:55.080561Z",
     "shell.execute_reply.started": "2022-11-01T13:23:54.276773Z"
    },
    "tags": []
   },
   "outputs": [],
   "source": [
    "## set display options\n",
    "pd.set_option('display.width', 200)\n",
    "pd.set_option('display.max_colwidth', None) # width of one column\n",
    "pd.set_option('display.max_columns', 15) # max columns to display df\n",
    "pd.set_option('display.max_rows', 50)"
   ]
  },
  {
   "cell_type": "code",
   "execution_count": 540,
   "id": "640b0200-57d7-46a2-b347-ca2f1511d052",
   "metadata": {
    "execution": {
     "iopub.execute_input": "2022-10-31T19:32:21.410953Z",
     "iopub.status.busy": "2022-10-31T19:32:21.409953Z",
     "iopub.status.idle": "2022-10-31T19:32:22.304456Z",
     "shell.execute_reply": "2022-10-31T19:32:22.303457Z",
     "shell.execute_reply.started": "2022-10-31T19:32:21.410953Z"
    },
    "tags": []
   },
   "outputs": [
    {
     "data": {
      "text/html": [
       "<div>\n",
       "<style scoped>\n",
       "    .dataframe tbody tr th:only-of-type {\n",
       "        vertical-align: middle;\n",
       "    }\n",
       "\n",
       "    .dataframe tbody tr th {\n",
       "        vertical-align: top;\n",
       "    }\n",
       "\n",
       "    .dataframe thead th {\n",
       "        text-align: right;\n",
       "    }\n",
       "</style>\n",
       "<table border=\"1\" class=\"dataframe\">\n",
       "  <thead>\n",
       "    <tr style=\"text-align: right;\">\n",
       "      <th></th>\n",
       "    </tr>\n",
       "  </thead>\n",
       "  <tbody>\n",
       "    <tr>\n",
       "      <th>0</th>\n",
       "    </tr>\n",
       "    <tr>\n",
       "      <th>1</th>\n",
       "    </tr>\n",
       "    <tr>\n",
       "      <th>2</th>\n",
       "    </tr>\n",
       "  </tbody>\n",
       "</table>\n",
       "</div>"
      ],
      "text/plain": [
       "Empty DataFrame\n",
       "Columns: []\n",
       "Index: [0, 1, 2]"
      ]
     },
     "execution_count": 540,
     "metadata": {},
     "output_type": "execute_result"
    }
   ],
   "source": [
    "\n",
    "df_test7.dropna(thresh=len(df)*0.50, axis='columns')"
   ]
  },
  {
   "cell_type": "code",
   "execution_count": 547,
   "id": "f129b3c7-b2d8-434b-b1b5-119761d625f3",
   "metadata": {
    "execution": {
     "iopub.execute_input": "2022-10-31T19:36:32.365720Z",
     "iopub.status.busy": "2022-10-31T19:36:32.364718Z",
     "iopub.status.idle": "2022-10-31T19:36:33.155761Z",
     "shell.execute_reply": "2022-10-31T19:36:33.154761Z",
     "shell.execute_reply.started": "2022-10-31T19:36:32.365720Z"
    },
    "tags": []
   },
   "outputs": [
    {
     "data": {
      "text/html": [
       "<div>\n",
       "<style scoped>\n",
       "    .dataframe tbody tr th:only-of-type {\n",
       "        vertical-align: middle;\n",
       "    }\n",
       "\n",
       "    .dataframe tbody tr th {\n",
       "        vertical-align: top;\n",
       "    }\n",
       "\n",
       "    .dataframe thead th {\n",
       "        text-align: right;\n",
       "    }\n",
       "</style>\n",
       "<table border=\"1\" class=\"dataframe\">\n",
       "  <thead>\n",
       "    <tr style=\"text-align: right;\">\n",
       "      <th></th>\n",
       "      <th>a</th>\n",
       "      <th>b</th>\n",
       "      <th>c</th>\n",
       "      <th>d</th>\n",
       "      <th>target</th>\n",
       "      <th>category</th>\n",
       "      <th>k</th>\n",
       "      <th>split_name</th>\n",
       "    </tr>\n",
       "  </thead>\n",
       "  <tbody>\n",
       "    <tr>\n",
       "      <th>1</th>\n",
       "      <td>0.865408</td>\n",
       "      <td>-2.301539</td>\n",
       "      <td>1.744812</td>\n",
       "      <td>-0.761207</td>\n",
       "      <td>-5.999409</td>\n",
       "      <td>&lt;NA&gt;</td>\n",
       "      <td>0: -0.8</td>\n",
       "      <td>0</td>\n",
       "    </tr>\n",
       "    <tr>\n",
       "      <th>2</th>\n",
       "      <td>0.319039</td>\n",
       "      <td>-0.249370</td>\n",
       "      <td>1.462108</td>\n",
       "      <td>-2.060141</td>\n",
       "      <td>-0.591032</td>\n",
       "      <td>&lt;NA&gt;</td>\n",
       "      <td>0: -2.1</td>\n",
       "      <td>0</td>\n",
       "    </tr>\n",
       "  </tbody>\n",
       "</table>\n",
       "</div>"
      ],
      "text/plain": [
       "          a         b         c         d    target category        k split_name\n",
       "1  0.865408 -2.301539  1.744812 -0.761207 -5.999409     <NA>  0: -0.8          0\n",
       "2  0.319039 -0.249370  1.462108 -2.060141 -0.591032     <NA>  0: -2.1          0"
      ]
     },
     "execution_count": 547,
     "metadata": {},
     "output_type": "execute_result"
    }
   ],
   "source": [
    "## filtert df by values present in one of the columns/serie\n",
    "df_test7[df_test7['split_name'].isin(['1'])]\n",
    "df_test7[df_test7['split_name'].isin(df_test7.split_name.tail(1))]"
   ]
  },
  {
   "cell_type": "code",
   "execution_count": 556,
   "id": "9a7cfcfc-95e0-47a8-bdf2-578835e5dc32",
   "metadata": {
    "execution": {
     "iopub.execute_input": "2022-10-31T19:48:21.472538Z",
     "iopub.status.busy": "2022-10-31T19:48:21.471540Z",
     "iopub.status.idle": "2022-10-31T19:48:22.322384Z",
     "shell.execute_reply": "2022-10-31T19:48:22.322384Z",
     "shell.execute_reply.started": "2022-10-31T19:48:21.472538Z"
    },
    "tags": []
   },
   "outputs": [],
   "source": [
    "\"\"\"filter by multiple conditions in a dataframe df\"\"\"\n",
    "df_test7[(df_test7.a < 0.9) & (df_test7.split_name == '0')]\n",
    "\n",
    "\"\"\"filter by multiple conditions AND change value of one or multiple columns\"\"\"\n",
    "\n",
    "df_test7.loc[(df_test7.a < 0.9) & (df_test7.split_name == '0'), 'a'] = 0.5\n",
    "df_test7.loc[(df_test7.a < 0.9) & (df_test7.split_name == '0'), ['a', 'b']] = 0.5, 1"
   ]
  },
  {
   "cell_type": "code",
   "execution_count": 560,
   "id": "4a042abd-1378-49ee-b059-6bceb9b9aa11",
   "metadata": {
    "execution": {
     "iopub.execute_input": "2022-10-31T19:52:36.484476Z",
     "iopub.status.busy": "2022-10-31T19:52:36.484476Z",
     "iopub.status.idle": "2022-10-31T19:52:38.208081Z",
     "shell.execute_reply": "2022-10-31T19:52:38.207080Z",
     "shell.execute_reply.started": "2022-10-31T19:52:36.484476Z"
    },
    "tags": []
   },
   "outputs": [
    {
     "data": {
      "text/html": [
       "<div>\n",
       "<style scoped>\n",
       "    .dataframe tbody tr th:only-of-type {\n",
       "        vertical-align: middle;\n",
       "    }\n",
       "\n",
       "    .dataframe tbody tr th {\n",
       "        vertical-align: top;\n",
       "    }\n",
       "\n",
       "    .dataframe thead th {\n",
       "        text-align: right;\n",
       "    }\n",
       "</style>\n",
       "<table border=\"1\" class=\"dataframe\">\n",
       "  <thead>\n",
       "    <tr style=\"text-align: right;\">\n",
       "      <th></th>\n",
       "      <th>a</th>\n",
       "      <th>b</th>\n",
       "      <th>c</th>\n",
       "      <th>d</th>\n",
       "      <th>target</th>\n",
       "      <th>category</th>\n",
       "      <th>k</th>\n",
       "      <th>split_name</th>\n",
       "    </tr>\n",
       "  </thead>\n",
       "  <tbody>\n",
       "    <tr>\n",
       "      <th>0</th>\n",
       "      <td>1.624345</td>\n",
       "      <td>-0.611756</td>\n",
       "      <td>-0.528172</td>\n",
       "      <td>-1.072969</td>\n",
       "      <td>1.122701</td>\n",
       "      <td>1</td>\n",
       "      <td>1: -1.1</td>\n",
       "      <td>1</td>\n",
       "    </tr>\n",
       "    <tr>\n",
       "      <th>1</th>\n",
       "      <td>0.500000</td>\n",
       "      <td>1.000000</td>\n",
       "      <td>1.744812</td>\n",
       "      <td>-0.761207</td>\n",
       "      <td>-5.999409</td>\n",
       "      <td>&lt;NA&gt;</td>\n",
       "      <td>0: -0.8</td>\n",
       "      <td>0</td>\n",
       "    </tr>\n",
       "  </tbody>\n",
       "</table>\n",
       "</div>"
      ],
      "text/plain": [
       "          a         b         c         d    target category        k split_name\n",
       "0  1.624345 -0.611756 -0.528172 -1.072969  1.122701        1  1: -1.1          1\n",
       "1  0.500000  1.000000  1.744812 -0.761207 -5.999409     <NA>  0: -0.8          0"
      ]
     },
     "execution_count": 560,
     "metadata": {},
     "output_type": "execute_result"
    }
   ],
   "source": [
    "\"\"\"filter by conditions on rows and the condition index\"\"\"\n",
    "\n",
    "df_test7[(df_test7.a >= 0.5) & (df_test7.index.isin([1, 0]))]"
   ]
  },
  {
   "cell_type": "code",
   "execution_count": 561,
   "id": "52676881-4fab-4610-ab38-434dd1023c86",
   "metadata": {
    "execution": {
     "iopub.execute_input": "2022-10-31T19:54:07.469887Z",
     "iopub.status.busy": "2022-10-31T19:54:07.468875Z",
     "iopub.status.idle": "2022-10-31T19:54:08.254913Z",
     "shell.execute_reply": "2022-10-31T19:54:08.254913Z",
     "shell.execute_reply.started": "2022-10-31T19:54:07.469887Z"
    },
    "tags": []
   },
   "outputs": [
    {
     "data": {
      "text/html": [
       "<div>\n",
       "<style scoped>\n",
       "    .dataframe tbody tr th:only-of-type {\n",
       "        vertical-align: middle;\n",
       "    }\n",
       "\n",
       "    .dataframe tbody tr th {\n",
       "        vertical-align: top;\n",
       "    }\n",
       "\n",
       "    .dataframe thead th {\n",
       "        text-align: right;\n",
       "    }\n",
       "</style>\n",
       "<table border=\"1\" class=\"dataframe\">\n",
       "  <thead>\n",
       "    <tr style=\"text-align: right;\">\n",
       "      <th></th>\n",
       "      <th>a</th>\n",
       "      <th>b</th>\n",
       "      <th>c</th>\n",
       "      <th>d</th>\n",
       "      <th>target</th>\n",
       "      <th>category</th>\n",
       "      <th>k</th>\n",
       "      <th>split_name</th>\n",
       "    </tr>\n",
       "  </thead>\n",
       "  <tbody>\n",
       "    <tr>\n",
       "      <th>1</th>\n",
       "      <td>0.5</td>\n",
       "      <td>1.0</td>\n",
       "      <td>1.744812</td>\n",
       "      <td>-0.761207</td>\n",
       "      <td>-5.999409</td>\n",
       "      <td>&lt;NA&gt;</td>\n",
       "      <td>0: -0.8</td>\n",
       "      <td>0</td>\n",
       "    </tr>\n",
       "  </tbody>\n",
       "</table>\n",
       "</div>"
      ],
      "text/plain": [
       "     a    b         c         d    target category        k split_name\n",
       "1  0.5  1.0  1.744812 -0.761207 -5.999409     <NA>  0: -0.8          0"
      ]
     },
     "execution_count": 561,
     "metadata": {},
     "output_type": "execute_result"
    }
   ],
   "source": [
    "df_test7[(df_test7.category.isna()) & (df_test7.index.isin([1, 0]))]"
   ]
  },
  {
   "cell_type": "code",
   "execution_count": null,
   "id": "3a4612fa-40d3-45f0-8d71-95da34a3bf92",
   "metadata": {},
   "outputs": [],
   "source": []
  },
  {
   "cell_type": "code",
   "execution_count": null,
   "id": "7cc601da-f3ef-4116-a048-2fbb6df387ee",
   "metadata": {},
   "outputs": [],
   "source": []
  },
  {
   "cell_type": "code",
   "execution_count": 558,
   "id": "5f518c25-2ce7-4bda-8897-d3da9e494545",
   "metadata": {
    "execution": {
     "iopub.execute_input": "2022-10-31T19:50:03.264345Z",
     "iopub.status.busy": "2022-10-31T19:50:03.263347Z",
     "iopub.status.idle": "2022-10-31T19:50:04.154385Z",
     "shell.execute_reply": "2022-10-31T19:50:04.154385Z",
     "shell.execute_reply.started": "2022-10-31T19:50:03.263347Z"
    },
    "tags": []
   },
   "outputs": [
    {
     "data": {
      "text/html": [
       "<div>\n",
       "<style scoped>\n",
       "    .dataframe tbody tr th:only-of-type {\n",
       "        vertical-align: middle;\n",
       "    }\n",
       "\n",
       "    .dataframe tbody tr th {\n",
       "        vertical-align: top;\n",
       "    }\n",
       "\n",
       "    .dataframe thead th {\n",
       "        text-align: right;\n",
       "    }\n",
       "</style>\n",
       "<table border=\"1\" class=\"dataframe\">\n",
       "  <thead>\n",
       "    <tr style=\"text-align: right;\">\n",
       "      <th></th>\n",
       "      <th>a</th>\n",
       "      <th>b</th>\n",
       "      <th>c</th>\n",
       "      <th>d</th>\n",
       "      <th>target</th>\n",
       "      <th>category</th>\n",
       "      <th>k</th>\n",
       "      <th>split_name</th>\n",
       "    </tr>\n",
       "  </thead>\n",
       "  <tbody>\n",
       "    <tr>\n",
       "      <th>0</th>\n",
       "      <td>1.624345</td>\n",
       "      <td>-0.611756</td>\n",
       "      <td>-0.528172</td>\n",
       "      <td>-1.072969</td>\n",
       "      <td>1.122701</td>\n",
       "      <td>1</td>\n",
       "      <td>1: -1.1</td>\n",
       "      <td>1</td>\n",
       "    </tr>\n",
       "    <tr>\n",
       "      <th>1</th>\n",
       "      <td>0.500000</td>\n",
       "      <td>1.000000</td>\n",
       "      <td>1.744812</td>\n",
       "      <td>-0.761207</td>\n",
       "      <td>-5.999409</td>\n",
       "      <td>&lt;NA&gt;</td>\n",
       "      <td>0: -0.8</td>\n",
       "      <td>0</td>\n",
       "    </tr>\n",
       "    <tr>\n",
       "      <th>2</th>\n",
       "      <td>0.500000</td>\n",
       "      <td>1.000000</td>\n",
       "      <td>1.462108</td>\n",
       "      <td>-2.060141</td>\n",
       "      <td>-0.591032</td>\n",
       "      <td>&lt;NA&gt;</td>\n",
       "      <td>0: -2.1</td>\n",
       "      <td>0</td>\n",
       "    </tr>\n",
       "  </tbody>\n",
       "</table>\n",
       "</div>"
      ],
      "text/plain": [
       "          a         b         c         d    target category        k split_name\n",
       "0  1.624345 -0.611756 -0.528172 -1.072969  1.122701        1  1: -1.1          1\n",
       "1  0.500000  1.000000  1.744812 -0.761207 -5.999409     <NA>  0: -0.8          0\n",
       "2  0.500000  1.000000  1.462108 -2.060141 -0.591032     <NA>  0: -2.1          0"
      ]
     },
     "execution_count": 558,
     "metadata": {},
     "output_type": "execute_result"
    }
   ],
   "source": [
    "df_test7"
   ]
  },
  {
   "cell_type": "code",
   "execution_count": 563,
   "id": "5f6cb8b3-020a-49a1-97a2-f7dcb408def9",
   "metadata": {
    "execution": {
     "iopub.execute_input": "2022-10-31T20:34:31.323672Z",
     "iopub.status.busy": "2022-10-31T20:34:31.323672Z",
     "iopub.status.idle": "2022-10-31T20:34:32.124400Z",
     "shell.execute_reply": "2022-10-31T20:34:32.123278Z",
     "shell.execute_reply.started": "2022-10-31T20:34:31.323672Z"
    },
    "tags": []
   },
   "outputs": [
    {
     "data": {
      "text/html": [
       "<div>\n",
       "<style scoped>\n",
       "    .dataframe tbody tr th:only-of-type {\n",
       "        vertical-align: middle;\n",
       "    }\n",
       "\n",
       "    .dataframe tbody tr th {\n",
       "        vertical-align: top;\n",
       "    }\n",
       "\n",
       "    .dataframe thead th {\n",
       "        text-align: right;\n",
       "    }\n",
       "</style>\n",
       "<table border=\"1\" class=\"dataframe\">\n",
       "  <thead>\n",
       "    <tr style=\"text-align: right;\">\n",
       "      <th></th>\n",
       "      <th>a</th>\n",
       "      <th>b</th>\n",
       "      <th>c</th>\n",
       "      <th>d</th>\n",
       "      <th>target</th>\n",
       "      <th>category</th>\n",
       "      <th>k</th>\n",
       "      <th>split_name</th>\n",
       "      <th>make</th>\n",
       "    </tr>\n",
       "  </thead>\n",
       "  <tbody>\n",
       "    <tr>\n",
       "      <th>0</th>\n",
       "      <td>1.624345</td>\n",
       "      <td>-0.611756</td>\n",
       "      <td>-0.528172</td>\n",
       "      <td>-1.072969</td>\n",
       "      <td>1.122701</td>\n",
       "      <td>1</td>\n",
       "      <td>1: -1.1</td>\n",
       "      <td>1</td>\n",
       "      <td>bmw</td>\n",
       "    </tr>\n",
       "    <tr>\n",
       "      <th>1</th>\n",
       "      <td>0.500000</td>\n",
       "      <td>1.000000</td>\n",
       "      <td>1.744812</td>\n",
       "      <td>-0.761207</td>\n",
       "      <td>-5.999409</td>\n",
       "      <td>0</td>\n",
       "      <td>0: -0.8</td>\n",
       "      <td>0</td>\n",
       "      <td>mercedes</td>\n",
       "    </tr>\n",
       "    <tr>\n",
       "      <th>2</th>\n",
       "      <td>0.500000</td>\n",
       "      <td>1.000000</td>\n",
       "      <td>1.462108</td>\n",
       "      <td>-2.060141</td>\n",
       "      <td>-0.591032</td>\n",
       "      <td>0</td>\n",
       "      <td>0: -2.1</td>\n",
       "      <td>0</td>\n",
       "      <td>audi</td>\n",
       "    </tr>\n",
       "  </tbody>\n",
       "</table>\n",
       "</div>"
      ],
      "text/plain": [
       "          a         b         c         d    target category        k split_name      make\n",
       "0  1.624345 -0.611756 -0.528172 -1.072969  1.122701        1  1: -1.1          1       bmw\n",
       "1  0.500000  1.000000  1.744812 -0.761207 -5.999409        0  0: -0.8          0  mercedes\n",
       "2  0.500000  1.000000  1.462108 -2.060141 -0.591032        0  0: -2.1          0      audi"
      ]
     },
     "execution_count": 563,
     "metadata": {},
     "output_type": "execute_result"
    }
   ],
   "source": [
    "df_test7['make'] = pd.Series(['bmw', 'mercedes', 'audi'])\n",
    "df_test7['category'] = pd.Series(['1', '0', '0'])\n",
    "df_test7"
   ]
  },
  {
   "cell_type": "code",
   "execution_count": 577,
   "id": "31f8bed8-38e9-455d-8f01-5c5455c283ce",
   "metadata": {
    "execution": {
     "iopub.execute_input": "2022-10-31T20:41:23.386714Z",
     "iopub.status.busy": "2022-10-31T20:41:23.386714Z",
     "iopub.status.idle": "2022-10-31T20:41:23.403739Z",
     "shell.execute_reply": "2022-10-31T20:41:23.402730Z",
     "shell.execute_reply.started": "2022-10-31T20:41:23.386714Z"
    },
    "tags": []
   },
   "outputs": [
    {
     "name": "stdout",
     "output_type": "stream",
     "text": [
      "CPU times: total: 0 ns\n",
      "Wall time: 0 ns\n"
     ]
    },
    {
     "data": {
      "text/html": [
       "<div>\n",
       "<style scoped>\n",
       "    .dataframe tbody tr th:only-of-type {\n",
       "        vertical-align: middle;\n",
       "    }\n",
       "\n",
       "    .dataframe tbody tr th {\n",
       "        vertical-align: top;\n",
       "    }\n",
       "\n",
       "    .dataframe thead th {\n",
       "        text-align: right;\n",
       "    }\n",
       "</style>\n",
       "<table border=\"1\" class=\"dataframe\">\n",
       "  <thead>\n",
       "    <tr style=\"text-align: right;\">\n",
       "      <th></th>\n",
       "      <th>a</th>\n",
       "      <th>b</th>\n",
       "      <th>c</th>\n",
       "      <th>d</th>\n",
       "      <th>target</th>\n",
       "      <th>category</th>\n",
       "      <th>k</th>\n",
       "      <th>split_name</th>\n",
       "      <th>make</th>\n",
       "    </tr>\n",
       "  </thead>\n",
       "  <tbody>\n",
       "    <tr>\n",
       "      <th>0</th>\n",
       "      <td>1.624345</td>\n",
       "      <td>-0.611756</td>\n",
       "      <td>-0.528172</td>\n",
       "      <td>-1.072969</td>\n",
       "      <td>1.122701</td>\n",
       "      <td>1</td>\n",
       "      <td>1: -1.1</td>\n",
       "      <td>1</td>\n",
       "      <td>bmw</td>\n",
       "    </tr>\n",
       "    <tr>\n",
       "      <th>1</th>\n",
       "      <td>0.500000</td>\n",
       "      <td>1.000000</td>\n",
       "      <td>1.744812</td>\n",
       "      <td>-0.761207</td>\n",
       "      <td>-5.999409</td>\n",
       "      <td>0</td>\n",
       "      <td>0: -0.8</td>\n",
       "      <td>0</td>\n",
       "      <td>mercedes</td>\n",
       "    </tr>\n",
       "  </tbody>\n",
       "</table>\n",
       "</div>"
      ],
      "text/plain": [
       "          a         b         c         d    target category        k split_name      make\n",
       "0  1.624345 -0.611756 -0.528172 -1.072969  1.122701        1  1: -1.1          1       bmw\n",
       "1  0.500000  1.000000  1.744812 -0.761207 -5.999409        0  0: -0.8          0  mercedes"
      ]
     },
     "execution_count": 577,
     "metadata": {},
     "output_type": "execute_result"
    }
   ],
   "source": [
    "%%time\n",
    "\"\"\"regexp filters on strings (vectorized), use .* instead of *\"\"\"\n",
    "# df_test7[df_test7.category.str.contains(r'.*[1-9].*')]\n",
    "# df_test7[df_test7.make.str.contains(r'.*[ie].*')] # regex: check if the valule has a letter i or e in it\n",
    "# df_test7[df_test7.make.str.contains(r'[au].*')]\n",
    "\n",
    "## logical NOT\n",
    "df_test7[~df_test7.make.str.contains(r'[au].*')]"
   ]
  },
  {
   "cell_type": "code",
   "execution_count": 582,
   "id": "e3d25b64-16e8-40da-8672-08a712ed8dd8",
   "metadata": {
    "execution": {
     "iopub.execute_input": "2022-10-31T20:46:04.854324Z",
     "iopub.status.busy": "2022-10-31T20:46:04.854324Z",
     "iopub.status.idle": "2022-10-31T20:46:05.655086Z",
     "shell.execute_reply": "2022-10-31T20:46:05.654082Z",
     "shell.execute_reply.started": "2022-10-31T20:46:04.854324Z"
    },
    "tags": []
   },
   "outputs": [
    {
     "data": {
      "text/html": [
       "<div>\n",
       "<style scoped>\n",
       "    .dataframe tbody tr th:only-of-type {\n",
       "        vertical-align: middle;\n",
       "    }\n",
       "\n",
       "    .dataframe tbody tr th {\n",
       "        vertical-align: top;\n",
       "    }\n",
       "\n",
       "    .dataframe thead th {\n",
       "        text-align: right;\n",
       "    }\n",
       "</style>\n",
       "<table border=\"1\" class=\"dataframe\">\n",
       "  <thead>\n",
       "    <tr style=\"text-align: right;\">\n",
       "      <th></th>\n",
       "      <th>a</th>\n",
       "      <th>b</th>\n",
       "      <th>c</th>\n",
       "      <th>d</th>\n",
       "      <th>target</th>\n",
       "      <th>category</th>\n",
       "      <th>k</th>\n",
       "      <th>split_name</th>\n",
       "      <th>make</th>\n",
       "    </tr>\n",
       "  </thead>\n",
       "  <tbody>\n",
       "    <tr>\n",
       "      <th>0</th>\n",
       "      <td>NaN</td>\n",
       "      <td>NaN</td>\n",
       "      <td>NaN</td>\n",
       "      <td>NaN</td>\n",
       "      <td>NaN</td>\n",
       "      <td>NaN</td>\n",
       "      <td>NaN</td>\n",
       "      <td>NaN</td>\n",
       "      <td>NaN</td>\n",
       "    </tr>\n",
       "    <tr>\n",
       "      <th>1</th>\n",
       "      <td>NaN</td>\n",
       "      <td>NaN</td>\n",
       "      <td>NaN</td>\n",
       "      <td>NaN</td>\n",
       "      <td>NaN</td>\n",
       "      <td>NaN</td>\n",
       "      <td>NaN</td>\n",
       "      <td>NaN</td>\n",
       "      <td>NaN</td>\n",
       "    </tr>\n",
       "    <tr>\n",
       "      <th>2</th>\n",
       "      <td>0.5</td>\n",
       "      <td>1.0</td>\n",
       "      <td>1.462108</td>\n",
       "      <td>-2.060141</td>\n",
       "      <td>-0.591032</td>\n",
       "      <td>0</td>\n",
       "      <td>0: -2.1</td>\n",
       "      <td>0</td>\n",
       "      <td>audi</td>\n",
       "    </tr>\n",
       "  </tbody>\n",
       "</table>\n",
       "</div>"
      ],
      "text/plain": [
       "     a    b         c         d    target category        k split_name  make\n",
       "0  NaN  NaN       NaN       NaN       NaN      NaN      NaN        NaN   NaN\n",
       "1  NaN  NaN       NaN       NaN       NaN      NaN      NaN        NaN   NaN\n",
       "2  0.5  1.0  1.462108 -2.060141 -0.591032        0  0: -2.1          0  audi"
      ]
     },
     "execution_count": 582,
     "metadata": {},
     "output_type": "execute_result"
    }
   ],
   "source": [
    "\"\"\"creating complex filters using functions on rows\"\"\"\n",
    "# df_test7[(df_test7.a < 0.9) & (df_test7.split_name == '0')]\n",
    "df_test7[df_test7.apply(lambda x: x['d'] < x['target'], axis=1)  ]  # condition based on caparison between different colulmns\n",
    "\n",
    "df_test7[df_test7.apply(lambda x: x.index == 2, axis=0)  ]  # working with index - I need more practice and understanding of this"
   ]
  },
  {
   "cell_type": "code",
   "execution_count": 614,
   "id": "fb338d31-3fc2-4998-8c90-1902f4813956",
   "metadata": {
    "execution": {
     "iopub.execute_input": "2022-10-31T20:58:36.989726Z",
     "iopub.status.busy": "2022-10-31T20:58:36.989726Z",
     "iopub.status.idle": "2022-10-31T20:58:37.783313Z",
     "shell.execute_reply": "2022-10-31T20:58:37.783313Z",
     "shell.execute_reply.started": "2022-10-31T20:58:36.989726Z"
    },
    "tags": []
   },
   "outputs": [],
   "source": [
    "\"\"\"Pandas replace or assign value operation\"\"\"\n",
    "# df_test7['a'] = df_test7.a.round(2).replace(1.60, 17) # option 1\n",
    "df_test7.loc[df_test7['a'] <1, 'a' ] = 19  # option 2\n"
   ]
  },
  {
   "cell_type": "code",
   "execution_count": 623,
   "id": "7e3ededb-ff49-4163-bb24-a9617da56c6b",
   "metadata": {
    "execution": {
     "iopub.execute_input": "2022-10-31T21:05:06.263490Z",
     "iopub.status.busy": "2022-10-31T21:05:06.263490Z",
     "iopub.status.idle": "2022-10-31T21:05:07.092465Z",
     "shell.execute_reply": "2022-10-31T21:05:07.092465Z",
     "shell.execute_reply.started": "2022-10-31T21:05:06.263490Z"
    },
    "tags": []
   },
   "outputs": [],
   "source": [
    "\"\"\"Conditionals and selectors\"\"\"\n",
    "# df_test7.loc[(df_test7['b'] < -0.7) & (df_test7['target'] < 1), ['a', 'b', 'target']] # conditions, selection\n",
    "\n",
    "df_test7.loc[(df_test7['b'] < -0.7) & (df_test7['target'] < 1), ['a', 'b', 'target']] = 20, -1, -6 # condition, selection and multiple values setting"
   ]
  },
  {
   "cell_type": "code",
   "execution_count": 628,
   "id": "131b01fb-6609-492d-ad0f-0df923727bf2",
   "metadata": {
    "execution": {
     "iopub.execute_input": "2022-10-31T21:10:42.757159Z",
     "iopub.status.busy": "2022-10-31T21:10:42.757159Z",
     "iopub.status.idle": "2022-10-31T21:10:43.604754Z",
     "shell.execute_reply": "2022-10-31T21:10:43.603779Z",
     "shell.execute_reply.started": "2022-10-31T21:10:42.757159Z"
    },
    "tags": []
   },
   "outputs": [
    {
     "data": {
      "text/html": [
       "<div>\n",
       "<style scoped>\n",
       "    .dataframe tbody tr th:only-of-type {\n",
       "        vertical-align: middle;\n",
       "    }\n",
       "\n",
       "    .dataframe tbody tr th {\n",
       "        vertical-align: top;\n",
       "    }\n",
       "\n",
       "    .dataframe thead th {\n",
       "        text-align: right;\n",
       "    }\n",
       "</style>\n",
       "<table border=\"1\" class=\"dataframe\">\n",
       "  <thead>\n",
       "    <tr style=\"text-align: right;\">\n",
       "      <th></th>\n",
       "      <th>a</th>\n",
       "      <th>b</th>\n",
       "      <th>d</th>\n",
       "      <th>category</th>\n",
       "      <th>k</th>\n",
       "    </tr>\n",
       "  </thead>\n",
       "  <tbody>\n",
       "    <tr>\n",
       "      <th>0</th>\n",
       "      <td>19.0</td>\n",
       "      <td>-0.611756</td>\n",
       "      <td>-1.072969</td>\n",
       "      <td>1</td>\n",
       "      <td>1: -1.1</td>\n",
       "    </tr>\n",
       "    <tr>\n",
       "      <th>1</th>\n",
       "      <td>20.0</td>\n",
       "      <td>-1.000000</td>\n",
       "      <td>-0.761207</td>\n",
       "      <td>0</td>\n",
       "      <td>0: -0.8</td>\n",
       "    </tr>\n",
       "    <tr>\n",
       "      <th>2</th>\n",
       "      <td>19.0</td>\n",
       "      <td>-0.249370</td>\n",
       "      <td>-2.060141</td>\n",
       "      <td>0</td>\n",
       "      <td>0: -2.1</td>\n",
       "    </tr>\n",
       "  </tbody>\n",
       "</table>\n",
       "</div>"
      ],
      "text/plain": [
       "      a         b         d category        k\n",
       "0  19.0 -0.611756 -1.072969        1  1: -1.1\n",
       "1  20.0 -1.000000 -0.761207        0  0: -0.8\n",
       "2  19.0 -0.249370 -2.060141        0  0: -2.1"
      ]
     },
     "execution_count": 628,
     "metadata": {},
     "output_type": "execute_result"
    }
   ],
   "source": [
    "\"\"\"Selecting multiple column slices\"\"\"\n",
    "df_test7.iloc[:, np.r_[0:2, 4:5]] # selecting two ranges of columns. Result: 0, 1, 4\n",
    "df_test7.iloc[:, np.r_[0:2, 4:5, -1]]\n",
    "df_test7.iloc[:, np.r_[0:2, 3:4, -3:-1]]"
   ]
  },
  {
   "cell_type": "code",
   "execution_count": 642,
   "id": "17edf37d-eb7f-4b34-8f9c-66a3bcb2a2e4",
   "metadata": {
    "execution": {
     "iopub.execute_input": "2022-10-31T21:18:11.710543Z",
     "iopub.status.busy": "2022-10-31T21:18:11.710543Z",
     "iopub.status.idle": "2022-10-31T21:18:12.487144Z",
     "shell.execute_reply": "2022-10-31T21:18:12.486145Z",
     "shell.execute_reply.started": "2022-10-31T21:18:11.710543Z"
    },
    "tags": []
   },
   "outputs": [
    {
     "data": {
      "text/html": [
       "<div>\n",
       "<style scoped>\n",
       "    .dataframe tbody tr th:only-of-type {\n",
       "        vertical-align: middle;\n",
       "    }\n",
       "\n",
       "    .dataframe tbody tr th {\n",
       "        vertical-align: top;\n",
       "    }\n",
       "\n",
       "    .dataframe thead th {\n",
       "        text-align: right;\n",
       "    }\n",
       "</style>\n",
       "<table border=\"1\" class=\"dataframe\">\n",
       "  <thead>\n",
       "    <tr style=\"text-align: right;\">\n",
       "      <th></th>\n",
       "      <th>make</th>\n",
       "    </tr>\n",
       "  </thead>\n",
       "  <tbody>\n",
       "    <tr>\n",
       "      <th>0</th>\n",
       "      <td>3</td>\n",
       "    </tr>\n",
       "    <tr>\n",
       "      <th>1</th>\n",
       "      <td>8</td>\n",
       "    </tr>\n",
       "    <tr>\n",
       "      <th>2</th>\n",
       "      <td>4</td>\n",
       "    </tr>\n",
       "  </tbody>\n",
       "</table>\n",
       "</div>"
      ],
      "text/plain": [
       "   make\n",
       "0     3\n",
       "1     8\n",
       "2     4"
      ]
     },
     "execution_count": 642,
     "metadata": {},
     "output_type": "execute_result"
    }
   ],
   "source": [
    "\"\"\"apply and map examples\"\"\"\n",
    "# df_test7[['a', 'b', 'c']].applymap(lambda x: x+1)\n",
    "df_test7[['make']].applymap(lambda x: len(x))"
   ]
  },
  {
   "cell_type": "code",
   "execution_count": 646,
   "id": "ebbf1acf-9d9e-441f-ad4b-bbc63fe38f1a",
   "metadata": {
    "execution": {
     "iopub.execute_input": "2022-10-31T21:23:09.658946Z",
     "iopub.status.busy": "2022-10-31T21:23:09.657960Z",
     "iopub.status.idle": "2022-10-31T21:23:10.474734Z",
     "shell.execute_reply": "2022-10-31T21:23:10.473733Z",
     "shell.execute_reply.started": "2022-10-31T21:23:09.658946Z"
    },
    "tags": []
   },
   "outputs": [
    {
     "data": {
      "text/plain": [
       "a    38.000000\n",
       "b    -0.861127\n",
       "c     0.933936\n",
       "dtype: float64"
      ]
     },
     "execution_count": 646,
     "metadata": {},
     "output_type": "execute_result"
    }
   ],
   "source": [
    "\"\"\"add 2 to row 3 and return the series\"\"\"\n",
    "df_test7[['a', 'b', 'c']].apply(lambda x: x[0]+2, axis=0) # selecting row with index 0 and adding 2 to cells in columns a, b, c. \n",
    "## the result is three values presnted as a series\n",
    "\n",
    "df_test7[['a', 'b', 'c']].apply(lambda x: x[0]+x[2], axis=0) # selecting rows 0 and 2 and summing up columns a,b, c"
   ]
  },
  {
   "cell_type": "code",
   "execution_count": 648,
   "id": "0b1bc523-1f3a-4d57-bae3-da3722d65427",
   "metadata": {
    "execution": {
     "iopub.execute_input": "2022-10-31T21:25:15.721035Z",
     "iopub.status.busy": "2022-10-31T21:25:15.720033Z",
     "iopub.status.idle": "2022-10-31T21:25:17.501867Z",
     "shell.execute_reply": "2022-10-31T21:25:17.501867Z",
     "shell.execute_reply.started": "2022-10-31T21:25:15.721035Z"
    },
    "tags": []
   },
   "outputs": [
    {
     "data": {
      "text/plain": [
       "0    22.0\n",
       "1    23.0\n",
       "2    22.0\n",
       "dtype: float64"
      ]
     },
     "execution_count": 648,
     "metadata": {},
     "output_type": "execute_result"
    }
   ],
   "source": [
    "\"\"\"add 3 to col A and return the series\"\"\"\n",
    "# df_test7[['a']].apply(lambda x: x+3, axis=1)\n",
    "df_test7.apply(lambda x: x['a']+3, axis=1)"
   ]
  },
  {
   "cell_type": "code",
   "execution_count": 649,
   "id": "1ef1de32-5c55-4336-a3de-49db43f60f8d",
   "metadata": {
    "execution": {
     "iopub.execute_input": "2022-10-31T21:26:22.514005Z",
     "iopub.status.busy": "2022-10-31T21:26:22.514005Z",
     "iopub.status.idle": "2022-10-31T21:26:23.336331Z",
     "shell.execute_reply": "2022-10-31T21:26:23.336331Z",
     "shell.execute_reply.started": "2022-10-31T21:26:22.514005Z"
    },
    "tags": []
   },
   "outputs": [
    {
     "data": {
      "text/plain": [
       "0         bmw_\n",
       "1    mercedes_\n",
       "2        audi_\n",
       "dtype: object"
      ]
     },
     "execution_count": 649,
     "metadata": {},
     "output_type": "execute_result"
    }
   ],
   "source": [
    "\"\"\"appending something to a string column\"\"\"\n",
    "\n",
    "df_test7.apply(lambda x: x['make']+\"_\", axis=1)"
   ]
  },
  {
   "cell_type": "code",
   "execution_count": 701,
   "id": "c7279eb1-297e-44f8-b359-6bda2aab5e57",
   "metadata": {
    "execution": {
     "iopub.execute_input": "2022-10-31T21:43:56.598322Z",
     "iopub.status.busy": "2022-10-31T21:43:56.597321Z",
     "iopub.status.idle": "2022-10-31T21:43:57.430043Z",
     "shell.execute_reply": "2022-10-31T21:43:57.429080Z",
     "shell.execute_reply.started": "2022-10-31T21:43:56.598322Z"
    },
    "tags": []
   },
   "outputs": [],
   "source": [
    "\"\"\" Split delimited values in a DataFrame column into two new columns \"\"\"\n",
    "df_test7['new1'], df_test7['new2'] = zip(*df_test7['k'].apply(lambda x: x.split(\": \", 1)))"
   ]
  },
  {
   "cell_type": "code",
   "execution_count": 702,
   "id": "3b7fa6c1-cbf8-4758-8a13-39c10fa6ff1a",
   "metadata": {
    "execution": {
     "iopub.execute_input": "2022-10-31T21:43:59.615151Z",
     "iopub.status.busy": "2022-10-31T21:43:59.614166Z",
     "iopub.status.idle": "2022-10-31T21:44:00.428891Z",
     "shell.execute_reply": "2022-10-31T21:44:00.427920Z",
     "shell.execute_reply.started": "2022-10-31T21:43:59.615151Z"
    },
    "tags": []
   },
   "outputs": [
    {
     "data": {
      "text/html": [
       "<div>\n",
       "<style scoped>\n",
       "    .dataframe tbody tr th:only-of-type {\n",
       "        vertical-align: middle;\n",
       "    }\n",
       "\n",
       "    .dataframe tbody tr th {\n",
       "        vertical-align: top;\n",
       "    }\n",
       "\n",
       "    .dataframe thead th {\n",
       "        text-align: right;\n",
       "    }\n",
       "</style>\n",
       "<table border=\"1\" class=\"dataframe\">\n",
       "  <thead>\n",
       "    <tr style=\"text-align: right;\">\n",
       "      <th></th>\n",
       "      <th>a</th>\n",
       "      <th>b</th>\n",
       "      <th>c</th>\n",
       "      <th>d</th>\n",
       "      <th>target</th>\n",
       "      <th>make</th>\n",
       "      <th>category</th>\n",
       "      <th>k</th>\n",
       "      <th>new1</th>\n",
       "      <th>new2</th>\n",
       "    </tr>\n",
       "  </thead>\n",
       "  <tbody>\n",
       "    <tr>\n",
       "      <th>0</th>\n",
       "      <td>1.624345</td>\n",
       "      <td>-0.611756</td>\n",
       "      <td>-0.528172</td>\n",
       "      <td>-1.072969</td>\n",
       "      <td>1.122701</td>\n",
       "      <td>bmw</td>\n",
       "      <td>1</td>\n",
       "      <td>1: -1: 1</td>\n",
       "      <td>1</td>\n",
       "      <td>-1: 1</td>\n",
       "    </tr>\n",
       "    <tr>\n",
       "      <th>1</th>\n",
       "      <td>0.865408</td>\n",
       "      <td>-2.301539</td>\n",
       "      <td>1.744812</td>\n",
       "      <td>-0.761207</td>\n",
       "      <td>-5.999409</td>\n",
       "      <td>mercedes</td>\n",
       "      <td>0</td>\n",
       "      <td>0: -0: 8</td>\n",
       "      <td>0</td>\n",
       "      <td>-0: 8</td>\n",
       "    </tr>\n",
       "    <tr>\n",
       "      <th>2</th>\n",
       "      <td>0.319039</td>\n",
       "      <td>-0.249370</td>\n",
       "      <td>1.462108</td>\n",
       "      <td>-2.060141</td>\n",
       "      <td>-0.591032</td>\n",
       "      <td>audi</td>\n",
       "      <td>0</td>\n",
       "      <td>0: -2: 1</td>\n",
       "      <td>0</td>\n",
       "      <td>-2: 1</td>\n",
       "    </tr>\n",
       "  </tbody>\n",
       "</table>\n",
       "</div>"
      ],
      "text/plain": [
       "          a         b         c         d    target      make category         k new1   new2\n",
       "0  1.624345 -0.611756 -0.528172 -1.072969  1.122701       bmw        1  1: -1: 1    1  -1: 1\n",
       "1  0.865408 -2.301539  1.744812 -0.761207 -5.999409  mercedes        0  0: -0: 8    0  -0: 8\n",
       "2  0.319039 -0.249370  1.462108 -2.060141 -0.591032      audi        0  0: -2: 1    0  -2: 1"
      ]
     },
     "execution_count": 702,
     "metadata": {},
     "output_type": "execute_result"
    }
   ],
   "source": [
    "# df_test7 = df_test.copy()\n",
    "# df_test7['make'] = pd.Series(['bmw', 'mercedes', 'audi'])\n",
    "# df_test7['category'] = pd.Series(['1', '0', '0'])\n",
    "# df_test7['k'] = df_test7['category'].astype(str) + ': ' + df_test7['d'].round(1).astype(str)\n",
    "\n",
    "# df_test7['k'] = df_test7['k'].str.replace(\".\", \": \")\n",
    "df_test7"
   ]
  },
  {
   "cell_type": "code",
   "execution_count": 700,
   "id": "78558739-a973-4855-8dc5-8f801e7c28e0",
   "metadata": {
    "execution": {
     "iopub.execute_input": "2022-10-31T21:43:36.793988Z",
     "iopub.status.busy": "2022-10-31T21:43:36.792969Z",
     "iopub.status.idle": "2022-10-31T21:43:38.447214Z",
     "shell.execute_reply": "2022-10-31T21:43:38.447214Z",
     "shell.execute_reply.started": "2022-10-31T21:43:36.793988Z"
    },
    "tags": []
   },
   "outputs": [
    {
     "data": {
      "text/plain": [
       "0    [1, -1, 1]\n",
       "1    [0, -0, 8]\n",
       "2    [0, -2, 1]\n",
       "Name: k, dtype: object"
      ]
     },
     "execution_count": 700,
     "metadata": {},
     "output_type": "execute_result"
    }
   ],
   "source": [
    "df_test7['k'].apply(lambda x: x.split(\": \", 2))"
   ]
  },
  {
   "cell_type": "code",
   "execution_count": 882,
   "id": "c2312834-1c67-4fd3-8275-e2d0df304618",
   "metadata": {
    "execution": {
     "iopub.execute_input": "2022-11-01T21:48:17.154641Z",
     "iopub.status.busy": "2022-11-01T21:48:17.154641Z",
     "iopub.status.idle": "2022-11-01T21:48:17.909933Z",
     "shell.execute_reply": "2022-11-01T21:48:17.909933Z",
     "shell.execute_reply.started": "2022-11-01T21:48:17.154641Z"
    },
    "tags": []
   },
   "outputs": [],
   "source": [
    "## set display options\n",
    "pd.set_option('display.width', 200)\n",
    "pd.set_option('display.max_colwidth', 12) # width of one column\n",
    "pd.set_option('display.max_columns', 15) # max columns to display df\n",
    "pd.set_option('display.max_rows', 50)"
   ]
  },
  {
   "cell_type": "code",
   "execution_count": null,
   "id": "4984e805-a49b-4421-9abe-102c49472de0",
   "metadata": {
    "tags": []
   },
   "outputs": [],
   "source": [
    "# columns = ['cusip', 'quarter', 'tr_id', 'tr_type', 'tr_value', 'tr_shares', '13f_price', 'value', 'shares']\n",
    "# df_clip = pd.read_clipboard(header=None, names=columns)\n",
    "# df_clip = df_clip.sort_values(['tr_id','quarter'], ascending=True)\n",
    "\n",
    "\n",
    "# df_clip['open'] = df_clip.groupby(['tr_id'])['13f_price'].transform('first')\n",
    "# df_clip['max'] = df_clip.groupby(['tr_id'])['13f_price'].transform('max')\n",
    "# df_clip['min'] = df_clip.groupby(['tr_id'])['13f_price'].transform('min')\n",
    "# df_clip['close'] = df_clip.groupby(['tr_id'])['13f_price'].transform('last')\n",
    "\n",
    "# df_clip['change_close_open'] = (((df_clip['close'] / df_clip['open']) - 1)*100).round(2)\n",
    "# df_clip['change_max_open'] = (((df_clip['max'] / df_clip['open']) - 1)*100).round(2)\n",
    "# df_clip['change_min_open'] = (((df_clip['min'] / df_clip['open']) - 1)*100).round(2)\n",
    "# df_clip['change_quarter_open'] = (((df_clip['13f_price'] / df_clip['open']) - 1)*100).round(2)\n",
    "\n",
    "\n",
    "\n",
    "# df_clip = df_clip.drop(columns=['pnl'])\n",
    "df_clip"
   ]
  },
  {
   "cell_type": "code",
   "execution_count": 892,
   "id": "e01ef935-d198-4010-bea2-367d28d7706b",
   "metadata": {
    "execution": {
     "iopub.execute_input": "2022-11-02T23:27:07.371311Z",
     "iopub.status.busy": "2022-11-02T23:27:07.371311Z",
     "iopub.status.idle": "2022-11-02T23:27:08.259799Z",
     "shell.execute_reply": "2022-11-02T23:27:08.258798Z",
     "shell.execute_reply.started": "2022-11-02T23:27:07.371311Z"
    },
    "tags": []
   },
   "outputs": [],
   "source": [
    "# !pip install flytekit\n",
    "# !!! while installing it I got an error on arrow 7.0.0 it might have been uninstalled. MAKE SURE EVERYTHING WORKS as I rely very heavily on parquet/arrow\n"
   ]
  },
  {
   "cell_type": "code",
   "execution_count": null,
   "id": "60de377b-d411-48e6-8023-3420b2ea6bc3",
   "metadata": {
    "tags": []
   },
   "outputs": [],
   "source": [
    "%%time\n",
    "from flytekit import task, workflow\n",
    "\n",
    "@task\n",
    "def greet(name: str) -> str:\n",
    "    return f\"Welcome, {name}!\"\n",
    "\n",
    "@task\n",
    "def add_question(greeting: str) -> str:\n",
    "    return f\"{greeting} How are you?\"\n",
    "\n",
    "@workflow\n",
    "def welcome(name: str) -> str:\n",
    "    greeting = greet(name=name)\n",
    "    return add_question(greeting=greeting)\n",
    "\n",
    "welcome(name=\"Traveller\")\n",
    "# Output: \"Welcome, Traveller! How are you?\""
   ]
  },
  {
   "cell_type": "code",
   "execution_count": 2,
   "id": "1308d112-d003-4006-bf60-8d72461cbd8d",
   "metadata": {
    "execution": {
     "iopub.execute_input": "2022-11-03T14:43:45.941629Z",
     "iopub.status.busy": "2022-11-03T14:43:45.941629Z",
     "iopub.status.idle": "2022-11-03T14:43:45.950628Z",
     "shell.execute_reply": "2022-11-03T14:43:45.949628Z",
     "shell.execute_reply.started": "2022-11-03T14:43:45.941629Z"
    },
    "tags": []
   },
   "outputs": [
    {
     "name": "stdout",
     "output_type": "stream",
     "text": [
      "in minutes it's: 33.33 min\n"
     ]
    }
   ],
   "source": [
    "k = 2000\n",
    "print(f\"in minutes it's: {k/60 :0.2f} min\")"
   ]
  },
  {
   "cell_type": "code",
   "execution_count": 6,
   "id": "23a5eebb-4e3f-47b4-9fcf-57a4c81bd401",
   "metadata": {
    "execution": {
     "iopub.execute_input": "2022-11-04T22:52:58.609944Z",
     "iopub.status.busy": "2022-11-04T22:52:58.609944Z",
     "iopub.status.idle": "2022-11-04T22:52:58.621944Z",
     "shell.execute_reply": "2022-11-04T22:52:58.620966Z",
     "shell.execute_reply.started": "2022-11-04T22:52:58.609944Z"
    },
    "tags": []
   },
   "outputs": [],
   "source": [
    "import vegafusion as vf\n",
    "# vf.jupyter.disable()\n",
    "vf.jupyter.disable()"
   ]
  },
  {
   "cell_type": "code",
   "execution_count": 7,
   "id": "2e5b89f8-6201-48ef-b269-bf6e48383ddb",
   "metadata": {
    "execution": {
     "iopub.execute_input": "2022-11-04T22:53:01.594488Z",
     "iopub.status.busy": "2022-11-04T22:53:01.594488Z",
     "iopub.status.idle": "2022-11-04T22:53:01.705054Z",
     "shell.execute_reply": "2022-11-04T22:53:01.705054Z",
     "shell.execute_reply.started": "2022-11-04T22:53:01.594488Z"
    },
    "tags": []
   },
   "outputs": [
    {
     "data": {
      "text/html": [
       "\n",
       "<div id=\"altair-viz-35173f1c373f45ec8d85af7a3ba87d4d\"></div>\n",
       "<script type=\"text/javascript\">\n",
       "  var VEGA_DEBUG = (typeof VEGA_DEBUG == \"undefined\") ? {} : VEGA_DEBUG;\n",
       "  (function(spec, embedOpt){\n",
       "    let outputDiv = document.currentScript.previousElementSibling;\n",
       "    if (outputDiv.id !== \"altair-viz-35173f1c373f45ec8d85af7a3ba87d4d\") {\n",
       "      outputDiv = document.getElementById(\"altair-viz-35173f1c373f45ec8d85af7a3ba87d4d\");\n",
       "    }\n",
       "    const paths = {\n",
       "      \"vega\": \"https://cdn.jsdelivr.net/npm//vega@5?noext\",\n",
       "      \"vega-lib\": \"https://cdn.jsdelivr.net/npm//vega-lib?noext\",\n",
       "      \"vega-lite\": \"https://cdn.jsdelivr.net/npm//vega-lite@4.17.0?noext\",\n",
       "      \"vega-embed\": \"https://cdn.jsdelivr.net/npm//vega-embed@6?noext\",\n",
       "    };\n",
       "\n",
       "    function maybeLoadScript(lib, version) {\n",
       "      var key = `${lib.replace(\"-\", \"\")}_version`;\n",
       "      return (VEGA_DEBUG[key] == version) ?\n",
       "        Promise.resolve(paths[lib]) :\n",
       "        new Promise(function(resolve, reject) {\n",
       "          var s = document.createElement('script');\n",
       "          document.getElementsByTagName(\"head\")[0].appendChild(s);\n",
       "          s.async = true;\n",
       "          s.onload = () => {\n",
       "            VEGA_DEBUG[key] = version;\n",
       "            return resolve(paths[lib]);\n",
       "          };\n",
       "          s.onerror = () => reject(`Error loading script: ${paths[lib]}`);\n",
       "          s.src = paths[lib];\n",
       "        });\n",
       "    }\n",
       "\n",
       "    function showError(err) {\n",
       "      outputDiv.innerHTML = `<div class=\"error\" style=\"color:red;\">${err}</div>`;\n",
       "      throw err;\n",
       "    }\n",
       "\n",
       "    function displayChart(vegaEmbed) {\n",
       "      vegaEmbed(outputDiv, spec, embedOpt)\n",
       "        .catch(err => showError(`Javascript Error: ${err.message}<br>This usually means there's a typo in your chart specification. See the javascript console for the full traceback.`));\n",
       "    }\n",
       "\n",
       "    if(typeof define === \"function\" && define.amd) {\n",
       "      requirejs.config({paths});\n",
       "      require([\"vega-embed\"], displayChart, err => showError(`Error loading script: ${err.message}`));\n",
       "    } else {\n",
       "      maybeLoadScript(\"vega\", \"5\")\n",
       "        .then(() => maybeLoadScript(\"vega-lite\", \"4.17.0\"))\n",
       "        .then(() => maybeLoadScript(\"vega-embed\", \"6\"))\n",
       "        .catch(showError)\n",
       "        .then(() => displayChart(vegaEmbed));\n",
       "    }\n",
       "  })({\"config\": {\"view\": {\"continuousWidth\": 400, \"continuousHeight\": 300}}, \"layer\": [{\"mark\": \"bar\", \"encoding\": {\"opacity\": {\"condition\": {\"value\": 1, \"selection\": \"selector003\"}, \"value\": 0.7}, \"x\": {\"field\": \"date\", \"timeUnit\": \"month\", \"type\": \"ordinal\"}, \"y\": {\"aggregate\": \"mean\", \"field\": \"precipitation\", \"type\": \"quantitative\"}}, \"selection\": {\"selector003\": {\"type\": \"interval\", \"encodings\": [\"x\"]}}}, {\"mark\": {\"type\": \"rule\", \"color\": \"firebrick\"}, \"encoding\": {\"size\": {\"value\": 3}, \"y\": {\"aggregate\": \"mean\", \"field\": \"precipitation\", \"type\": \"quantitative\"}}, \"transform\": [{\"filter\": {\"selection\": \"selector003\"}}]}], \"data\": {\"name\": \"data-830c39fec90146253fb06a06c26374ef\"}, \"$schema\": \"https://vega.github.io/schema/vega-lite/v4.17.0.json\", \"datasets\": {\"data-830c39fec90146253fb06a06c26374ef\": [{\"date\": \"2012-01-01T00:00:00\", \"precipitation\": 0.0, \"temp_max\": 12.8, \"temp_min\": 5.0, \"wind\": 4.7, \"weather\": \"drizzle\"}, {\"date\": \"2012-01-02T00:00:00\", \"precipitation\": 10.9, \"temp_max\": 10.6, \"temp_min\": 2.8, \"wind\": 4.5, \"weather\": \"rain\"}, {\"date\": \"2012-01-03T00:00:00\", \"precipitation\": 0.8, \"temp_max\": 11.7, \"temp_min\": 7.2, \"wind\": 2.3, \"weather\": \"rain\"}, {\"date\": \"2012-01-04T00:00:00\", \"precipitation\": 20.3, \"temp_max\": 12.2, \"temp_min\": 5.6, \"wind\": 4.7, \"weather\": \"rain\"}, {\"date\": \"2012-01-05T00:00:00\", \"precipitation\": 1.3, \"temp_max\": 8.9, \"temp_min\": 2.8, \"wind\": 6.1, \"weather\": \"rain\"}, {\"date\": \"2012-01-06T00:00:00\", \"precipitation\": 2.5, \"temp_max\": 4.4, \"temp_min\": 2.2, \"wind\": 2.2, \"weather\": \"rain\"}, {\"date\": \"2012-01-07T00:00:00\", \"precipitation\": 0.0, \"temp_max\": 7.2, \"temp_min\": 2.8, \"wind\": 2.3, \"weather\": \"rain\"}, {\"date\": \"2012-01-08T00:00:00\", \"precipitation\": 0.0, \"temp_max\": 10.0, \"temp_min\": 2.8, \"wind\": 2.0, \"weather\": \"sun\"}, {\"date\": \"2012-01-09T00:00:00\", \"precipitation\": 4.3, \"temp_max\": 9.4, \"temp_min\": 5.0, \"wind\": 3.4, \"weather\": \"rain\"}, {\"date\": \"2012-01-10T00:00:00\", \"precipitation\": 1.0, \"temp_max\": 6.1, \"temp_min\": 0.6, \"wind\": 3.4, \"weather\": \"rain\"}, {\"date\": \"2012-01-11T00:00:00\", \"precipitation\": 0.0, \"temp_max\": 6.1, \"temp_min\": -1.1, \"wind\": 5.1, \"weather\": \"sun\"}, {\"date\": \"2012-01-12T00:00:00\", \"precipitation\": 0.0, \"temp_max\": 6.1, \"temp_min\": -1.7, \"wind\": 1.9, \"weather\": \"sun\"}, {\"date\": \"2012-01-13T00:00:00\", \"precipitation\": 0.0, \"temp_max\": 5.0, \"temp_min\": -2.8, \"wind\": 1.3, \"weather\": \"sun\"}, {\"date\": \"2012-01-14T00:00:00\", \"precipitation\": 4.1, \"temp_max\": 4.4, \"temp_min\": 0.6, \"wind\": 5.3, \"weather\": \"snow\"}, {\"date\": \"2012-01-15T00:00:00\", \"precipitation\": 5.3, \"temp_max\": 1.1, \"temp_min\": -3.3, \"wind\": 3.2, \"weather\": \"snow\"}, {\"date\": \"2012-01-16T00:00:00\", \"precipitation\": 2.5, \"temp_max\": 1.7, \"temp_min\": -2.8, \"wind\": 5.0, \"weather\": \"snow\"}, {\"date\": \"2012-01-17T00:00:00\", \"precipitation\": 8.1, \"temp_max\": 3.3, \"temp_min\": 0.0, \"wind\": 5.6, \"weather\": \"snow\"}, {\"date\": \"2012-01-18T00:00:00\", \"precipitation\": 19.8, \"temp_max\": 0.0, \"temp_min\": -2.8, \"wind\": 5.0, \"weather\": \"snow\"}, {\"date\": \"2012-01-19T00:00:00\", \"precipitation\": 15.2, \"temp_max\": -1.1, \"temp_min\": -2.8, \"wind\": 1.6, \"weather\": \"snow\"}, {\"date\": \"2012-01-20T00:00:00\", \"precipitation\": 13.5, \"temp_max\": 7.2, \"temp_min\": -1.1, \"wind\": 2.3, \"weather\": \"snow\"}, {\"date\": \"2012-01-21T00:00:00\", \"precipitation\": 3.0, \"temp_max\": 8.3, \"temp_min\": 3.3, \"wind\": 8.2, \"weather\": \"rain\"}, {\"date\": \"2012-01-22T00:00:00\", \"precipitation\": 6.1, \"temp_max\": 6.7, \"temp_min\": 2.2, \"wind\": 4.8, \"weather\": \"rain\"}, {\"date\": \"2012-01-23T00:00:00\", \"precipitation\": 0.0, \"temp_max\": 8.3, \"temp_min\": 1.1, \"wind\": 3.6, \"weather\": \"rain\"}, {\"date\": \"2012-01-24T00:00:00\", \"precipitation\": 8.6, \"temp_max\": 10.0, \"temp_min\": 2.2, \"wind\": 5.1, \"weather\": \"rain\"}, {\"date\": \"2012-01-25T00:00:00\", \"precipitation\": 8.1, \"temp_max\": 8.9, \"temp_min\": 4.4, \"wind\": 5.4, \"weather\": \"rain\"}, {\"date\": \"2012-01-26T00:00:00\", \"precipitation\": 4.8, \"temp_max\": 8.9, \"temp_min\": 1.1, \"wind\": 4.8, \"weather\": \"rain\"}, {\"date\": \"2012-01-27T00:00:00\", \"precipitation\": 0.0, \"temp_max\": 6.7, \"temp_min\": -2.2, \"wind\": 1.4, \"weather\": \"drizzle\"}, {\"date\": \"2012-01-28T00:00:00\", \"precipitation\": 0.0, \"temp_max\": 6.7, \"temp_min\": 0.6, \"wind\": 2.2, \"weather\": \"rain\"}, {\"date\": \"2012-01-29T00:00:00\", \"precipitation\": 27.7, \"temp_max\": 9.4, \"temp_min\": 3.9, \"wind\": 4.5, \"weather\": \"rain\"}, {\"date\": \"2012-01-30T00:00:00\", \"precipitation\": 3.6, \"temp_max\": 8.3, \"temp_min\": 6.1, \"wind\": 5.1, \"weather\": \"rain\"}, {\"date\": \"2012-01-31T00:00:00\", \"precipitation\": 1.8, \"temp_max\": 9.4, \"temp_min\": 6.1, \"wind\": 3.9, \"weather\": \"rain\"}, {\"date\": \"2012-02-01T00:00:00\", \"precipitation\": 13.5, \"temp_max\": 8.9, \"temp_min\": 3.3, \"wind\": 2.7, \"weather\": \"rain\"}, {\"date\": \"2012-02-02T00:00:00\", \"precipitation\": 0.0, \"temp_max\": 8.3, \"temp_min\": 1.7, \"wind\": 2.6, \"weather\": \"sun\"}, {\"date\": \"2012-02-03T00:00:00\", \"precipitation\": 0.0, \"temp_max\": 14.4, \"temp_min\": 2.2, \"wind\": 5.3, \"weather\": \"sun\"}, {\"date\": \"2012-02-04T00:00:00\", \"precipitation\": 0.0, \"temp_max\": 15.6, \"temp_min\": 5.0, \"wind\": 4.3, \"weather\": \"sun\"}, {\"date\": \"2012-02-05T00:00:00\", \"precipitation\": 0.0, \"temp_max\": 13.9, \"temp_min\": 1.7, \"wind\": 2.9, \"weather\": \"sun\"}, {\"date\": \"2012-02-06T00:00:00\", \"precipitation\": 0.0, \"temp_max\": 16.1, \"temp_min\": 1.7, \"wind\": 5.0, \"weather\": \"sun\"}, {\"date\": \"2012-02-07T00:00:00\", \"precipitation\": 0.3, \"temp_max\": 15.6, \"temp_min\": 7.8, \"wind\": 5.3, \"weather\": \"rain\"}, {\"date\": \"2012-02-08T00:00:00\", \"precipitation\": 2.8, \"temp_max\": 10.0, \"temp_min\": 5.0, \"wind\": 2.7, \"weather\": \"rain\"}, {\"date\": \"2012-02-09T00:00:00\", \"precipitation\": 2.5, \"temp_max\": 11.1, \"temp_min\": 7.8, \"wind\": 2.4, \"weather\": \"rain\"}, {\"date\": \"2012-02-10T00:00:00\", \"precipitation\": 2.5, \"temp_max\": 12.8, \"temp_min\": 6.7, \"wind\": 3.0, \"weather\": \"rain\"}, {\"date\": \"2012-02-11T00:00:00\", \"precipitation\": 0.8, \"temp_max\": 8.9, \"temp_min\": 5.6, \"wind\": 3.4, \"weather\": \"rain\"}, {\"date\": \"2012-02-12T00:00:00\", \"precipitation\": 1.0, \"temp_max\": 8.3, \"temp_min\": 5.0, \"wind\": 1.3, \"weather\": \"rain\"}, {\"date\": \"2012-02-13T00:00:00\", \"precipitation\": 11.4, \"temp_max\": 7.2, \"temp_min\": 4.4, \"wind\": 1.4, \"weather\": \"rain\"}, {\"date\": \"2012-02-14T00:00:00\", \"precipitation\": 2.5, \"temp_max\": 6.7, \"temp_min\": 1.1, \"wind\": 3.1, \"weather\": \"rain\"}, {\"date\": \"2012-02-15T00:00:00\", \"precipitation\": 0.0, \"temp_max\": 7.2, \"temp_min\": 0.6, \"wind\": 1.8, \"weather\": \"drizzle\"}, {\"date\": \"2012-02-16T00:00:00\", \"precipitation\": 1.8, \"temp_max\": 7.2, \"temp_min\": 3.3, \"wind\": 2.1, \"weather\": \"rain\"}, {\"date\": \"2012-02-17T00:00:00\", \"precipitation\": 17.3, \"temp_max\": 10.0, \"temp_min\": 4.4, \"wind\": 3.4, \"weather\": \"rain\"}, {\"date\": \"2012-02-18T00:00:00\", \"precipitation\": 6.4, \"temp_max\": 6.7, \"temp_min\": 3.9, \"wind\": 8.1, \"weather\": \"rain\"}, {\"date\": \"2012-02-19T00:00:00\", \"precipitation\": 0.0, \"temp_max\": 6.7, \"temp_min\": 2.2, \"wind\": 4.7, \"weather\": \"sun\"}, {\"date\": \"2012-02-20T00:00:00\", \"precipitation\": 3.0, \"temp_max\": 7.8, \"temp_min\": 1.7, \"wind\": 2.9, \"weather\": \"rain\"}, {\"date\": \"2012-02-21T00:00:00\", \"precipitation\": 0.8, \"temp_max\": 10.0, \"temp_min\": 7.8, \"wind\": 7.5, \"weather\": \"rain\"}, {\"date\": \"2012-02-22T00:00:00\", \"precipitation\": 8.6, \"temp_max\": 10.0, \"temp_min\": 2.8, \"wind\": 5.9, \"weather\": \"rain\"}, {\"date\": \"2012-02-23T00:00:00\", \"precipitation\": 0.0, \"temp_max\": 8.3, \"temp_min\": 2.8, \"wind\": 3.9, \"weather\": \"sun\"}, {\"date\": \"2012-02-24T00:00:00\", \"precipitation\": 11.4, \"temp_max\": 6.7, \"temp_min\": 4.4, \"wind\": 3.5, \"weather\": \"rain\"}, {\"date\": \"2012-02-25T00:00:00\", \"precipitation\": 0.0, \"temp_max\": 7.2, \"temp_min\": 2.8, \"wind\": 6.4, \"weather\": \"rain\"}, {\"date\": \"2012-02-26T00:00:00\", \"precipitation\": 1.3, \"temp_max\": 5.0, \"temp_min\": -1.1, \"wind\": 3.4, \"weather\": \"snow\"}, {\"date\": \"2012-02-27T00:00:00\", \"precipitation\": 0.0, \"temp_max\": 6.7, \"temp_min\": -2.2, \"wind\": 3.0, \"weather\": \"sun\"}, {\"date\": \"2012-02-28T00:00:00\", \"precipitation\": 3.6, \"temp_max\": 6.7, \"temp_min\": -0.6, \"wind\": 4.2, \"weather\": \"snow\"}, {\"date\": \"2012-02-29T00:00:00\", \"precipitation\": 0.8, \"temp_max\": 5.0, \"temp_min\": 1.1, \"wind\": 7.0, \"weather\": \"snow\"}, {\"date\": \"2012-03-01T00:00:00\", \"precipitation\": 0.0, \"temp_max\": 6.1, \"temp_min\": 1.1, \"wind\": 3.1, \"weather\": \"sun\"}, {\"date\": \"2012-03-02T00:00:00\", \"precipitation\": 2.0, \"temp_max\": 6.7, \"temp_min\": 3.9, \"wind\": 5.1, \"weather\": \"rain\"}, {\"date\": \"2012-03-03T00:00:00\", \"precipitation\": 0.0, \"temp_max\": 12.2, \"temp_min\": 6.7, \"wind\": 7.0, \"weather\": \"sun\"}, {\"date\": \"2012-03-04T00:00:00\", \"precipitation\": 0.0, \"temp_max\": 10.6, \"temp_min\": 6.7, \"wind\": 5.6, \"weather\": \"rain\"}, {\"date\": \"2012-03-05T00:00:00\", \"precipitation\": 6.9, \"temp_max\": 7.8, \"temp_min\": 1.1, \"wind\": 6.2, \"weather\": \"rain\"}, {\"date\": \"2012-03-06T00:00:00\", \"precipitation\": 0.5, \"temp_max\": 6.7, \"temp_min\": 0.0, \"wind\": 2.7, \"weather\": \"snow\"}, {\"date\": \"2012-03-07T00:00:00\", \"precipitation\": 0.0, \"temp_max\": 8.9, \"temp_min\": -1.7, \"wind\": 2.7, \"weather\": \"sun\"}, {\"date\": \"2012-03-08T00:00:00\", \"precipitation\": 0.0, \"temp_max\": 15.6, \"temp_min\": 0.6, \"wind\": 2.5, \"weather\": \"sun\"}, {\"date\": \"2012-03-09T00:00:00\", \"precipitation\": 3.6, \"temp_max\": 9.4, \"temp_min\": 5.0, \"wind\": 2.8, \"weather\": \"rain\"}, {\"date\": \"2012-03-10T00:00:00\", \"precipitation\": 10.4, \"temp_max\": 7.2, \"temp_min\": 6.1, \"wind\": 3.4, \"weather\": \"rain\"}, {\"date\": \"2012-03-11T00:00:00\", \"precipitation\": 13.7, \"temp_max\": 6.7, \"temp_min\": 2.8, \"wind\": 5.8, \"weather\": \"rain\"}, {\"date\": \"2012-03-12T00:00:00\", \"precipitation\": 19.3, \"temp_max\": 8.3, \"temp_min\": 0.6, \"wind\": 6.2, \"weather\": \"snow\"}, {\"date\": \"2012-03-13T00:00:00\", \"precipitation\": 9.4, \"temp_max\": 5.6, \"temp_min\": 0.6, \"wind\": 5.3, \"weather\": \"snow\"}, {\"date\": \"2012-03-14T00:00:00\", \"precipitation\": 8.6, \"temp_max\": 7.8, \"temp_min\": 1.1, \"wind\": 4.7, \"weather\": \"rain\"}, {\"date\": \"2012-03-15T00:00:00\", \"precipitation\": 23.9, \"temp_max\": 11.1, \"temp_min\": 5.6, \"wind\": 5.8, \"weather\": \"snow\"}, {\"date\": \"2012-03-16T00:00:00\", \"precipitation\": 8.4, \"temp_max\": 8.9, \"temp_min\": 3.9, \"wind\": 5.1, \"weather\": \"rain\"}, {\"date\": \"2012-03-17T00:00:00\", \"precipitation\": 9.4, \"temp_max\": 10.0, \"temp_min\": 0.6, \"wind\": 3.8, \"weather\": \"snow\"}, {\"date\": \"2012-03-18T00:00:00\", \"precipitation\": 3.6, \"temp_max\": 5.0, \"temp_min\": -0.6, \"wind\": 2.7, \"weather\": \"rain\"}, {\"date\": \"2012-03-19T00:00:00\", \"precipitation\": 2.0, \"temp_max\": 7.2, \"temp_min\": -1.1, \"wind\": 3.0, \"weather\": \"rain\"}, {\"date\": \"2012-03-20T00:00:00\", \"precipitation\": 3.6, \"temp_max\": 7.8, \"temp_min\": 2.2, \"wind\": 6.4, \"weather\": \"rain\"}, {\"date\": \"2012-03-21T00:00:00\", \"precipitation\": 1.3, \"temp_max\": 8.9, \"temp_min\": 1.1, \"wind\": 2.5, \"weather\": \"rain\"}, {\"date\": \"2012-03-22T00:00:00\", \"precipitation\": 4.1, \"temp_max\": 10.0, \"temp_min\": 1.7, \"wind\": 2.1, \"weather\": \"rain\"}, {\"date\": \"2012-03-23T00:00:00\", \"precipitation\": 0.0, \"temp_max\": 12.2, \"temp_min\": 0.6, \"wind\": 2.8, \"weather\": \"sun\"}, {\"date\": \"2012-03-24T00:00:00\", \"precipitation\": 0.0, \"temp_max\": 15.0, \"temp_min\": 3.3, \"wind\": 5.2, \"weather\": \"sun\"}, {\"date\": \"2012-03-25T00:00:00\", \"precipitation\": 0.0, \"temp_max\": 13.3, \"temp_min\": 2.2, \"wind\": 2.7, \"weather\": \"rain\"}, {\"date\": \"2012-03-26T00:00:00\", \"precipitation\": 0.0, \"temp_max\": 12.8, \"temp_min\": 6.1, \"wind\": 4.3, \"weather\": \"drizzle\"}, {\"date\": \"2012-03-27T00:00:00\", \"precipitation\": 4.8, \"temp_max\": 14.4, \"temp_min\": 6.7, \"wind\": 3.8, \"weather\": \"rain\"}, {\"date\": \"2012-03-28T00:00:00\", \"precipitation\": 1.3, \"temp_max\": 10.6, \"temp_min\": 7.2, \"wind\": 5.9, \"weather\": \"rain\"}, {\"date\": \"2012-03-29T00:00:00\", \"precipitation\": 27.4, \"temp_max\": 10.0, \"temp_min\": 6.1, \"wind\": 4.4, \"weather\": \"rain\"}, {\"date\": \"2012-03-30T00:00:00\", \"precipitation\": 5.6, \"temp_max\": 9.4, \"temp_min\": 5.0, \"wind\": 4.7, \"weather\": \"rain\"}, {\"date\": \"2012-03-31T00:00:00\", \"precipitation\": 13.2, \"temp_max\": 10.0, \"temp_min\": 2.8, \"wind\": 3.4, \"weather\": \"rain\"}, {\"date\": \"2012-04-01T00:00:00\", \"precipitation\": 1.5, \"temp_max\": 8.9, \"temp_min\": 4.4, \"wind\": 6.8, \"weather\": \"rain\"}, {\"date\": \"2012-04-02T00:00:00\", \"precipitation\": 0.0, \"temp_max\": 16.7, \"temp_min\": 4.4, \"wind\": 3.1, \"weather\": \"sun\"}, {\"date\": \"2012-04-03T00:00:00\", \"precipitation\": 1.5, \"temp_max\": 11.7, \"temp_min\": 3.3, \"wind\": 3.1, \"weather\": \"rain\"}, {\"date\": \"2012-04-04T00:00:00\", \"precipitation\": 0.0, \"temp_max\": 10.6, \"temp_min\": 2.8, \"wind\": 2.1, \"weather\": \"sun\"}, {\"date\": \"2012-04-05T00:00:00\", \"precipitation\": 4.6, \"temp_max\": 9.4, \"temp_min\": 2.8, \"wind\": 1.8, \"weather\": \"snow\"}, {\"date\": \"2012-04-06T00:00:00\", \"precipitation\": 0.3, \"temp_max\": 11.1, \"temp_min\": 3.3, \"wind\": 2.6, \"weather\": \"rain\"}, {\"date\": \"2012-04-07T00:00:00\", \"precipitation\": 0.0, \"temp_max\": 16.1, \"temp_min\": 1.7, \"wind\": 4.3, \"weather\": \"sun\"}, {\"date\": \"2012-04-08T00:00:00\", \"precipitation\": 0.0, \"temp_max\": 21.1, \"temp_min\": 7.2, \"wind\": 4.1, \"weather\": \"sun\"}, {\"date\": \"2012-04-09T00:00:00\", \"precipitation\": 0.0, \"temp_max\": 20.0, \"temp_min\": 6.1, \"wind\": 2.1, \"weather\": \"sun\"}, {\"date\": \"2012-04-10T00:00:00\", \"precipitation\": 0.0, \"temp_max\": 17.8, \"temp_min\": 8.9, \"wind\": 3.2, \"weather\": \"rain\"}, {\"date\": \"2012-04-11T00:00:00\", \"precipitation\": 2.3, \"temp_max\": 11.1, \"temp_min\": 7.2, \"wind\": 2.6, \"weather\": \"rain\"}, {\"date\": \"2012-04-12T00:00:00\", \"precipitation\": 0.5, \"temp_max\": 13.9, \"temp_min\": 5.6, \"wind\": 2.6, \"weather\": \"rain\"}, {\"date\": \"2012-04-13T00:00:00\", \"precipitation\": 0.0, \"temp_max\": 15.0, \"temp_min\": 3.9, \"wind\": 4.0, \"weather\": \"drizzle\"}, {\"date\": \"2012-04-14T00:00:00\", \"precipitation\": 0.0, \"temp_max\": 15.6, \"temp_min\": 3.3, \"wind\": 3.0, \"weather\": \"sun\"}, {\"date\": \"2012-04-15T00:00:00\", \"precipitation\": 0.0, \"temp_max\": 16.1, \"temp_min\": 7.2, \"wind\": 2.9, \"weather\": \"rain\"}, {\"date\": \"2012-04-16T00:00:00\", \"precipitation\": 8.1, \"temp_max\": 13.3, \"temp_min\": 6.7, \"wind\": 5.8, \"weather\": \"rain\"}, {\"date\": \"2012-04-17T00:00:00\", \"precipitation\": 1.8, \"temp_max\": 10.0, \"temp_min\": 4.4, \"wind\": 2.0, \"weather\": \"rain\"}, {\"date\": \"2012-04-18T00:00:00\", \"precipitation\": 1.8, \"temp_max\": 13.3, \"temp_min\": 7.2, \"wind\": 3.9, \"weather\": \"rain\"}, {\"date\": \"2012-04-19T00:00:00\", \"precipitation\": 10.9, \"temp_max\": 13.9, \"temp_min\": 5.0, \"wind\": 2.6, \"weather\": \"rain\"}, {\"date\": \"2012-04-20T00:00:00\", \"precipitation\": 6.6, \"temp_max\": 13.3, \"temp_min\": 6.7, \"wind\": 2.7, \"weather\": \"rain\"}, {\"date\": \"2012-04-21T00:00:00\", \"precipitation\": 0.0, \"temp_max\": 20.0, \"temp_min\": 4.4, \"wind\": 2.3, \"weather\": \"sun\"}, {\"date\": \"2012-04-22T00:00:00\", \"precipitation\": 0.0, \"temp_max\": 23.3, \"temp_min\": 8.3, \"wind\": 2.6, \"weather\": \"rain\"}, {\"date\": \"2012-04-23T00:00:00\", \"precipitation\": 0.0, \"temp_max\": 21.7, \"temp_min\": 8.9, \"wind\": 3.5, \"weather\": \"sun\"}, {\"date\": \"2012-04-24T00:00:00\", \"precipitation\": 4.3, \"temp_max\": 13.9, \"temp_min\": 10.0, \"wind\": 2.8, \"weather\": \"rain\"}, {\"date\": \"2012-04-25T00:00:00\", \"precipitation\": 10.7, \"temp_max\": 16.7, \"temp_min\": 8.9, \"wind\": 2.6, \"weather\": \"rain\"}, {\"date\": \"2012-04-26T00:00:00\", \"precipitation\": 3.8, \"temp_max\": 13.9, \"temp_min\": 6.7, \"wind\": 5.2, \"weather\": \"rain\"}, {\"date\": \"2012-04-27T00:00:00\", \"precipitation\": 0.8, \"temp_max\": 13.3, \"temp_min\": 6.1, \"wind\": 4.8, \"weather\": \"rain\"}, {\"date\": \"2012-04-28T00:00:00\", \"precipitation\": 0.0, \"temp_max\": 16.1, \"temp_min\": 8.3, \"wind\": 2.5, \"weather\": \"drizzle\"}, {\"date\": \"2012-04-29T00:00:00\", \"precipitation\": 4.3, \"temp_max\": 15.6, \"temp_min\": 8.9, \"wind\": 1.6, \"weather\": \"rain\"}, {\"date\": \"2012-04-30T00:00:00\", \"precipitation\": 4.3, \"temp_max\": 12.8, \"temp_min\": 7.2, \"wind\": 8.0, \"weather\": \"rain\"}, {\"date\": \"2012-05-01T00:00:00\", \"precipitation\": 0.5, \"temp_max\": 11.7, \"temp_min\": 6.1, \"wind\": 6.4, \"weather\": \"rain\"}, {\"date\": \"2012-05-02T00:00:00\", \"precipitation\": 0.5, \"temp_max\": 13.3, \"temp_min\": 5.6, \"wind\": 2.5, \"weather\": \"rain\"}, {\"date\": \"2012-05-03T00:00:00\", \"precipitation\": 18.5, \"temp_max\": 11.1, \"temp_min\": 7.2, \"wind\": 3.4, \"weather\": \"rain\"}, {\"date\": \"2012-05-04T00:00:00\", \"precipitation\": 1.8, \"temp_max\": 12.2, \"temp_min\": 6.1, \"wind\": 4.6, \"weather\": \"rain\"}, {\"date\": \"2012-05-05T00:00:00\", \"precipitation\": 0.0, \"temp_max\": 13.3, \"temp_min\": 5.0, \"wind\": 2.3, \"weather\": \"sun\"}, {\"date\": \"2012-05-06T00:00:00\", \"precipitation\": 0.0, \"temp_max\": 17.8, \"temp_min\": 5.0, \"wind\": 2.4, \"weather\": \"sun\"}, {\"date\": \"2012-05-07T00:00:00\", \"precipitation\": 0.0, \"temp_max\": 23.9, \"temp_min\": 6.1, \"wind\": 2.2, \"weather\": \"sun\"}, {\"date\": \"2012-05-08T00:00:00\", \"precipitation\": 0.0, \"temp_max\": 18.3, \"temp_min\": 9.4, \"wind\": 3.0, \"weather\": \"sun\"}, {\"date\": \"2012-05-09T00:00:00\", \"precipitation\": 0.0, \"temp_max\": 13.3, \"temp_min\": 6.7, \"wind\": 3.9, \"weather\": \"rain\"}, {\"date\": \"2012-05-10T00:00:00\", \"precipitation\": 0.0, \"temp_max\": 14.4, \"temp_min\": 3.9, \"wind\": 3.0, \"weather\": \"sun\"}, {\"date\": \"2012-05-11T00:00:00\", \"precipitation\": 0.0, \"temp_max\": 18.3, \"temp_min\": 4.4, \"wind\": 4.3, \"weather\": \"sun\"}, {\"date\": \"2012-05-12T00:00:00\", \"precipitation\": 0.0, \"temp_max\": 24.4, \"temp_min\": 6.7, \"wind\": 3.4, \"weather\": \"sun\"}, {\"date\": \"2012-05-13T00:00:00\", \"precipitation\": 0.0, \"temp_max\": 25.6, \"temp_min\": 9.4, \"wind\": 4.2, \"weather\": \"sun\"}, {\"date\": \"2012-05-14T00:00:00\", \"precipitation\": 0.0, \"temp_max\": 26.7, \"temp_min\": 12.8, \"wind\": 3.8, \"weather\": \"sun\"}, {\"date\": \"2012-05-15T00:00:00\", \"precipitation\": 0.0, \"temp_max\": 24.4, \"temp_min\": 9.4, \"wind\": 4.1, \"weather\": \"drizzle\"}, {\"date\": \"2012-05-16T00:00:00\", \"precipitation\": 0.0, \"temp_max\": 19.4, \"temp_min\": 9.4, \"wind\": 3.5, \"weather\": \"sun\"}, {\"date\": \"2012-05-17T00:00:00\", \"precipitation\": 0.0, \"temp_max\": 17.8, \"temp_min\": 6.7, \"wind\": 2.9, \"weather\": \"rain\"}, {\"date\": \"2012-05-18T00:00:00\", \"precipitation\": 0.0, \"temp_max\": 15.6, \"temp_min\": 7.8, \"wind\": 3.1, \"weather\": \"rain\"}, {\"date\": \"2012-05-19T00:00:00\", \"precipitation\": 0.0, \"temp_max\": 19.4, \"temp_min\": 7.2, \"wind\": 1.5, \"weather\": \"sun\"}, {\"date\": \"2012-05-20T00:00:00\", \"precipitation\": 6.4, \"temp_max\": 14.4, \"temp_min\": 11.7, \"wind\": 1.3, \"weather\": \"rain\"}, {\"date\": \"2012-05-21T00:00:00\", \"precipitation\": 14.0, \"temp_max\": 16.7, \"temp_min\": 10.0, \"wind\": 4.0, \"weather\": \"rain\"}, {\"date\": \"2012-05-22T00:00:00\", \"precipitation\": 6.1, \"temp_max\": 12.8, \"temp_min\": 8.9, \"wind\": 4.8, \"weather\": \"rain\"}, {\"date\": \"2012-05-23T00:00:00\", \"precipitation\": 0.3, \"temp_max\": 14.4, \"temp_min\": 8.9, \"wind\": 6.3, \"weather\": \"rain\"}, {\"date\": \"2012-05-24T00:00:00\", \"precipitation\": 0.0, \"temp_max\": 17.2, \"temp_min\": 8.9, \"wind\": 3.3, \"weather\": \"rain\"}, {\"date\": \"2012-05-25T00:00:00\", \"precipitation\": 0.0, \"temp_max\": 22.2, \"temp_min\": 8.9, \"wind\": 3.1, \"weather\": \"rain\"}, {\"date\": \"2012-05-26T00:00:00\", \"precipitation\": 0.0, \"temp_max\": 22.2, \"temp_min\": 8.9, \"wind\": 3.6, \"weather\": \"sun\"}, {\"date\": \"2012-05-27T00:00:00\", \"precipitation\": 0.0, \"temp_max\": 17.2, \"temp_min\": 11.7, \"wind\": 3.7, \"weather\": \"sun\"}, {\"date\": \"2012-05-28T00:00:00\", \"precipitation\": 0.0, \"temp_max\": 16.7, \"temp_min\": 10.0, \"wind\": 3.4, \"weather\": \"rain\"}, {\"date\": \"2012-05-29T00:00:00\", \"precipitation\": 0.0, \"temp_max\": 16.1, \"temp_min\": 7.8, \"wind\": 1.8, \"weather\": \"sun\"}, {\"date\": \"2012-05-30T00:00:00\", \"precipitation\": 0.3, \"temp_max\": 18.9, \"temp_min\": 11.1, \"wind\": 1.5, \"weather\": \"rain\"}, {\"date\": \"2012-05-31T00:00:00\", \"precipitation\": 3.8, \"temp_max\": 17.8, \"temp_min\": 12.2, \"wind\": 2.7, \"weather\": \"rain\"}, {\"date\": \"2012-06-01T00:00:00\", \"precipitation\": 6.6, \"temp_max\": 20.0, \"temp_min\": 12.8, \"wind\": 3.7, \"weather\": \"rain\"}, {\"date\": \"2012-06-02T00:00:00\", \"precipitation\": 0.3, \"temp_max\": 18.9, \"temp_min\": 10.6, \"wind\": 3.7, \"weather\": \"rain\"}, {\"date\": \"2012-06-03T00:00:00\", \"precipitation\": 0.0, \"temp_max\": 17.2, \"temp_min\": 9.4, \"wind\": 2.9, \"weather\": \"sun\"}, {\"date\": \"2012-06-04T00:00:00\", \"precipitation\": 1.3, \"temp_max\": 12.8, \"temp_min\": 8.9, \"wind\": 3.1, \"weather\": \"rain\"}, {\"date\": \"2012-06-05T00:00:00\", \"precipitation\": 16.0, \"temp_max\": 13.3, \"temp_min\": 8.3, \"wind\": 3.3, \"weather\": \"rain\"}, {\"date\": \"2012-06-06T00:00:00\", \"precipitation\": 0.0, \"temp_max\": 16.1, \"temp_min\": 6.1, \"wind\": 3.4, \"weather\": \"sun\"}, {\"date\": \"2012-06-07T00:00:00\", \"precipitation\": 16.5, \"temp_max\": 16.1, \"temp_min\": 8.9, \"wind\": 3.5, \"weather\": \"rain\"}, {\"date\": \"2012-06-08T00:00:00\", \"precipitation\": 1.5, \"temp_max\": 15.0, \"temp_min\": 8.3, \"wind\": 3.0, \"weather\": \"rain\"}, {\"date\": \"2012-06-09T00:00:00\", \"precipitation\": 0.0, \"temp_max\": 17.2, \"temp_min\": 8.3, \"wind\": 4.7, \"weather\": \"rain\"}, {\"date\": \"2012-06-10T00:00:00\", \"precipitation\": 0.0, \"temp_max\": 18.9, \"temp_min\": 10.0, \"wind\": 2.9, \"weather\": \"sun\"}, {\"date\": \"2012-06-11T00:00:00\", \"precipitation\": 0.0, \"temp_max\": 23.3, \"temp_min\": 10.0, \"wind\": 1.8, \"weather\": \"rain\"}, {\"date\": \"2012-06-12T00:00:00\", \"precipitation\": 0.8, \"temp_max\": 18.3, \"temp_min\": 12.8, \"wind\": 3.9, \"weather\": \"rain\"}, {\"date\": \"2012-06-13T00:00:00\", \"precipitation\": 0.0, \"temp_max\": 16.1, \"temp_min\": 11.1, \"wind\": 4.3, \"weather\": \"sun\"}, {\"date\": \"2012-06-14T00:00:00\", \"precipitation\": 0.0, \"temp_max\": 17.2, \"temp_min\": 10.0, \"wind\": 2.7, \"weather\": \"sun\"}, {\"date\": \"2012-06-15T00:00:00\", \"precipitation\": 0.0, \"temp_max\": 22.2, \"temp_min\": 9.4, \"wind\": 1.7, \"weather\": \"sun\"}, {\"date\": \"2012-06-16T00:00:00\", \"precipitation\": 0.0, \"temp_max\": 21.1, \"temp_min\": 15.0, \"wind\": 4.1, \"weather\": \"rain\"}, {\"date\": \"2012-06-17T00:00:00\", \"precipitation\": 0.0, \"temp_max\": 18.9, \"temp_min\": 11.7, \"wind\": 6.4, \"weather\": \"sun\"}, {\"date\": \"2012-06-18T00:00:00\", \"precipitation\": 3.0, \"temp_max\": 17.2, \"temp_min\": 10.0, \"wind\": 3.8, \"weather\": \"rain\"}, {\"date\": \"2012-06-19T00:00:00\", \"precipitation\": 1.0, \"temp_max\": 19.4, \"temp_min\": 10.0, \"wind\": 3.0, \"weather\": \"rain\"}, {\"date\": \"2012-06-20T00:00:00\", \"precipitation\": 0.0, \"temp_max\": 24.4, \"temp_min\": 10.0, \"wind\": 3.0, \"weather\": \"sun\"}, {\"date\": \"2012-06-21T00:00:00\", \"precipitation\": 0.0, \"temp_max\": 23.9, \"temp_min\": 11.7, \"wind\": 2.1, \"weather\": \"sun\"}, {\"date\": \"2012-06-22T00:00:00\", \"precipitation\": 15.7, \"temp_max\": 13.9, \"temp_min\": 11.7, \"wind\": 1.9, \"weather\": \"rain\"}, {\"date\": \"2012-06-23T00:00:00\", \"precipitation\": 8.6, \"temp_max\": 15.6, \"temp_min\": 9.4, \"wind\": 2.5, \"weather\": \"rain\"}, {\"date\": \"2012-06-24T00:00:00\", \"precipitation\": 0.0, \"temp_max\": 19.4, \"temp_min\": 9.4, \"wind\": 2.0, \"weather\": \"drizzle\"}, {\"date\": \"2012-06-25T00:00:00\", \"precipitation\": 0.5, \"temp_max\": 19.4, \"temp_min\": 11.1, \"wind\": 3.1, \"weather\": \"rain\"}, {\"date\": \"2012-06-26T00:00:00\", \"precipitation\": 0.0, \"temp_max\": 18.3, \"temp_min\": 10.6, \"wind\": 3.4, \"weather\": \"rain\"}, {\"date\": \"2012-06-27T00:00:00\", \"precipitation\": 0.0, \"temp_max\": 22.8, \"temp_min\": 8.9, \"wind\": 1.8, \"weather\": \"sun\"}, {\"date\": \"2012-06-28T00:00:00\", \"precipitation\": 0.0, \"temp_max\": 22.2, \"temp_min\": 11.7, \"wind\": 2.5, \"weather\": \"rain\"}, {\"date\": \"2012-06-29T00:00:00\", \"precipitation\": 0.3, \"temp_max\": 21.7, \"temp_min\": 15.0, \"wind\": 1.9, \"weather\": \"rain\"}, {\"date\": \"2012-06-30T00:00:00\", \"precipitation\": 3.0, \"temp_max\": 20.0, \"temp_min\": 13.3, \"wind\": 2.4, \"weather\": \"rain\"}, {\"date\": \"2012-07-01T00:00:00\", \"precipitation\": 0.0, \"temp_max\": 20.0, \"temp_min\": 12.2, \"wind\": 2.3, \"weather\": \"rain\"}, {\"date\": \"2012-07-02T00:00:00\", \"precipitation\": 2.0, \"temp_max\": 18.9, \"temp_min\": 11.7, \"wind\": 2.1, \"weather\": \"rain\"}, {\"date\": \"2012-07-03T00:00:00\", \"precipitation\": 5.8, \"temp_max\": 18.3, \"temp_min\": 10.6, \"wind\": 6.0, \"weather\": \"rain\"}, {\"date\": \"2012-07-04T00:00:00\", \"precipitation\": 0.0, \"temp_max\": 20.6, \"temp_min\": 9.4, \"wind\": 3.8, \"weather\": \"sun\"}, {\"date\": \"2012-07-05T00:00:00\", \"precipitation\": 0.0, \"temp_max\": 24.4, \"temp_min\": 10.6, \"wind\": 3.1, \"weather\": \"drizzle\"}, {\"date\": \"2012-07-06T00:00:00\", \"precipitation\": 0.0, \"temp_max\": 25.0, \"temp_min\": 11.1, \"wind\": 2.1, \"weather\": \"sun\"}, {\"date\": \"2012-07-07T00:00:00\", \"precipitation\": 0.0, \"temp_max\": 26.7, \"temp_min\": 12.8, \"wind\": 3.8, \"weather\": \"sun\"}, {\"date\": \"2012-07-08T00:00:00\", \"precipitation\": 0.0, \"temp_max\": 28.3, \"temp_min\": 14.4, \"wind\": 2.8, \"weather\": \"rain\"}, {\"date\": \"2012-07-09T00:00:00\", \"precipitation\": 1.5, \"temp_max\": 25.0, \"temp_min\": 12.8, \"wind\": 2.0, \"weather\": \"rain\"}, {\"date\": \"2012-07-10T00:00:00\", \"precipitation\": 0.0, \"temp_max\": 23.9, \"temp_min\": 11.1, \"wind\": 2.3, \"weather\": \"drizzle\"}, {\"date\": \"2012-07-11T00:00:00\", \"precipitation\": 0.0, \"temp_max\": 27.8, \"temp_min\": 13.3, \"wind\": 2.9, \"weather\": \"fog\"}, {\"date\": \"2012-07-12T00:00:00\", \"precipitation\": 0.0, \"temp_max\": 25.6, \"temp_min\": 13.3, \"wind\": 2.7, \"weather\": \"drizzle\"}, {\"date\": \"2012-07-13T00:00:00\", \"precipitation\": 0.5, \"temp_max\": 23.3, \"temp_min\": 13.9, \"wind\": 2.2, \"weather\": \"rain\"}, {\"date\": \"2012-07-14T00:00:00\", \"precipitation\": 0.0, \"temp_max\": 25.0, \"temp_min\": 15.0, \"wind\": 2.2, \"weather\": \"rain\"}, {\"date\": \"2012-07-15T00:00:00\", \"precipitation\": 0.0, \"temp_max\": 18.9, \"temp_min\": 13.3, \"wind\": 3.8, \"weather\": \"rain\"}, {\"date\": \"2012-07-16T00:00:00\", \"precipitation\": 0.3, \"temp_max\": 26.1, \"temp_min\": 13.3, \"wind\": 2.5, \"weather\": \"rain\"}, {\"date\": \"2012-07-17T00:00:00\", \"precipitation\": 0.0, \"temp_max\": 21.7, \"temp_min\": 15.0, \"wind\": 2.6, \"weather\": \"sun\"}, {\"date\": \"2012-07-18T00:00:00\", \"precipitation\": 0.0, \"temp_max\": 21.1, \"temp_min\": 14.4, \"wind\": 2.9, \"weather\": \"sun\"}, {\"date\": \"2012-07-19T00:00:00\", \"precipitation\": 0.0, \"temp_max\": 25.0, \"temp_min\": 14.4, \"wind\": 2.2, \"weather\": \"sun\"}, {\"date\": \"2012-07-20T00:00:00\", \"precipitation\": 15.2, \"temp_max\": 19.4, \"temp_min\": 13.9, \"wind\": 4.0, \"weather\": \"rain\"}, {\"date\": \"2012-07-21T00:00:00\", \"precipitation\": 0.0, \"temp_max\": 23.9, \"temp_min\": 13.9, \"wind\": 2.3, \"weather\": \"sun\"}, {\"date\": \"2012-07-22T00:00:00\", \"precipitation\": 1.0, \"temp_max\": 20.6, \"temp_min\": 12.2, \"wind\": 3.9, \"weather\": \"rain\"}, {\"date\": \"2012-07-23T00:00:00\", \"precipitation\": 0.0, \"temp_max\": 18.9, \"temp_min\": 11.1, \"wind\": 3.3, \"weather\": \"rain\"}, {\"date\": \"2012-07-24T00:00:00\", \"precipitation\": 0.0, \"temp_max\": 23.3, \"temp_min\": 12.2, \"wind\": 4.3, \"weather\": \"sun\"}, {\"date\": \"2012-07-25T00:00:00\", \"precipitation\": 0.0, \"temp_max\": 26.7, \"temp_min\": 12.8, \"wind\": 2.6, \"weather\": \"sun\"}, {\"date\": \"2012-07-26T00:00:00\", \"precipitation\": 0.0, \"temp_max\": 25.6, \"temp_min\": 12.8, \"wind\": 2.2, \"weather\": \"drizzle\"}, {\"date\": \"2012-07-27T00:00:00\", \"precipitation\": 0.0, \"temp_max\": 18.9, \"temp_min\": 13.9, \"wind\": 2.8, \"weather\": \"drizzle\"}, {\"date\": \"2012-07-28T00:00:00\", \"precipitation\": 0.0, \"temp_max\": 22.2, \"temp_min\": 13.3, \"wind\": 1.7, \"weather\": \"drizzle\"}, {\"date\": \"2012-07-29T00:00:00\", \"precipitation\": 0.0, \"temp_max\": 22.8, \"temp_min\": 15.0, \"wind\": 2.0, \"weather\": \"sun\"}, {\"date\": \"2012-07-30T00:00:00\", \"precipitation\": 0.0, \"temp_max\": 19.4, \"temp_min\": 13.3, \"wind\": 3.0, \"weather\": \"sun\"}, {\"date\": \"2012-07-31T00:00:00\", \"precipitation\": 0.0, \"temp_max\": 22.8, \"temp_min\": 13.9, \"wind\": 2.8, \"weather\": \"sun\"}, {\"date\": \"2012-08-01T00:00:00\", \"precipitation\": 0.0, \"temp_max\": 23.9, \"temp_min\": 13.3, \"wind\": 2.2, \"weather\": \"drizzle\"}, {\"date\": \"2012-08-02T00:00:00\", \"precipitation\": 0.0, \"temp_max\": 23.3, \"temp_min\": 12.2, \"wind\": 2.5, \"weather\": \"sun\"}, {\"date\": \"2012-08-03T00:00:00\", \"precipitation\": 0.0, \"temp_max\": 27.2, \"temp_min\": 12.8, \"wind\": 3.9, \"weather\": \"sun\"}, {\"date\": \"2012-08-04T00:00:00\", \"precipitation\": 0.0, \"temp_max\": 33.9, \"temp_min\": 16.7, \"wind\": 3.7, \"weather\": \"sun\"}, {\"date\": \"2012-08-05T00:00:00\", \"precipitation\": 0.0, \"temp_max\": 33.9, \"temp_min\": 17.8, \"wind\": 1.9, \"weather\": \"sun\"}, {\"date\": \"2012-08-06T00:00:00\", \"precipitation\": 0.0, \"temp_max\": 28.3, \"temp_min\": 15.6, \"wind\": 2.5, \"weather\": \"rain\"}, {\"date\": \"2012-08-07T00:00:00\", \"precipitation\": 0.0, \"temp_max\": 21.1, \"temp_min\": 15.0, \"wind\": 2.6, \"weather\": \"drizzle\"}, {\"date\": \"2012-08-08T00:00:00\", \"precipitation\": 0.0, \"temp_max\": 22.2, \"temp_min\": 15.0, \"wind\": 3.1, \"weather\": \"sun\"}, {\"date\": \"2012-08-09T00:00:00\", \"precipitation\": 0.0, \"temp_max\": 24.4, \"temp_min\": 14.4, \"wind\": 3.8, \"weather\": \"drizzle\"}, {\"date\": \"2012-08-10T00:00:00\", \"precipitation\": 0.0, \"temp_max\": 25.6, \"temp_min\": 12.2, \"wind\": 2.3, \"weather\": \"sun\"}, {\"date\": \"2012-08-11T00:00:00\", \"precipitation\": 0.0, \"temp_max\": 28.3, \"temp_min\": 13.3, \"wind\": 2.5, \"weather\": \"sun\"}, {\"date\": \"2012-08-12T00:00:00\", \"precipitation\": 0.0, \"temp_max\": 30.6, \"temp_min\": 15.0, \"wind\": 3.0, \"weather\": \"sun\"}, {\"date\": \"2012-08-13T00:00:00\", \"precipitation\": 0.0, \"temp_max\": 30.6, \"temp_min\": 15.0, \"wind\": 2.8, \"weather\": \"sun\"}, {\"date\": \"2012-08-14T00:00:00\", \"precipitation\": 0.0, \"temp_max\": 28.9, \"temp_min\": 13.9, \"wind\": 2.8, \"weather\": \"sun\"}, {\"date\": \"2012-08-15T00:00:00\", \"precipitation\": 0.0, \"temp_max\": 31.1, \"temp_min\": 16.7, \"wind\": 4.7, \"weather\": \"sun\"}, {\"date\": \"2012-08-16T00:00:00\", \"precipitation\": 0.0, \"temp_max\": 34.4, \"temp_min\": 18.3, \"wind\": 2.8, \"weather\": \"sun\"}, {\"date\": \"2012-08-17T00:00:00\", \"precipitation\": 0.0, \"temp_max\": 32.8, \"temp_min\": 16.1, \"wind\": 1.8, \"weather\": \"sun\"}, {\"date\": \"2012-08-18T00:00:00\", \"precipitation\": 0.0, \"temp_max\": 21.7, \"temp_min\": 14.4, \"wind\": 3.0, \"weather\": \"drizzle\"}, {\"date\": \"2012-08-19T00:00:00\", \"precipitation\": 0.0, \"temp_max\": 23.3, \"temp_min\": 15.0, \"wind\": 2.7, \"weather\": \"drizzle\"}, {\"date\": \"2012-08-20T00:00:00\", \"precipitation\": 0.0, \"temp_max\": 25.6, \"temp_min\": 15.0, \"wind\": 1.9, \"weather\": \"sun\"}, {\"date\": \"2012-08-21T00:00:00\", \"precipitation\": 0.0, \"temp_max\": 23.3, \"temp_min\": 13.3, \"wind\": 3.0, \"weather\": \"rain\"}, {\"date\": \"2012-08-22T00:00:00\", \"precipitation\": 0.0, \"temp_max\": 22.2, \"temp_min\": 13.3, \"wind\": 2.3, \"weather\": \"sun\"}, {\"date\": \"2012-08-23T00:00:00\", \"precipitation\": 0.0, \"temp_max\": 21.1, \"temp_min\": 13.9, \"wind\": 3.8, \"weather\": \"sun\"}, {\"date\": \"2012-08-24T00:00:00\", \"precipitation\": 0.0, \"temp_max\": 22.2, \"temp_min\": 10.0, \"wind\": 3.3, \"weather\": \"sun\"}, {\"date\": \"2012-08-25T00:00:00\", \"precipitation\": 0.0, \"temp_max\": 26.1, \"temp_min\": 11.7, \"wind\": 3.2, \"weather\": \"sun\"}, {\"date\": \"2012-08-26T00:00:00\", \"precipitation\": 0.0, \"temp_max\": 21.1, \"temp_min\": 12.2, \"wind\": 3.4, \"weather\": \"sun\"}, {\"date\": \"2012-08-27T00:00:00\", \"precipitation\": 0.0, \"temp_max\": 23.9, \"temp_min\": 13.3, \"wind\": 1.8, \"weather\": \"sun\"}, {\"date\": \"2012-08-28T00:00:00\", \"precipitation\": 0.0, \"temp_max\": 22.8, \"temp_min\": 12.2, \"wind\": 3.2, \"weather\": \"sun\"}, {\"date\": \"2012-08-29T00:00:00\", \"precipitation\": 0.0, \"temp_max\": 22.8, \"temp_min\": 13.3, \"wind\": 2.4, \"weather\": \"sun\"}, {\"date\": \"2012-08-30T00:00:00\", \"precipitation\": 0.0, \"temp_max\": 22.8, \"temp_min\": 12.8, \"wind\": 1.9, \"weather\": \"sun\"}, {\"date\": \"2012-08-31T00:00:00\", \"precipitation\": 0.0, \"temp_max\": 22.2, \"temp_min\": 10.6, \"wind\": 2.9, \"weather\": \"sun\"}, {\"date\": \"2012-09-01T00:00:00\", \"precipitation\": 0.0, \"temp_max\": 21.7, \"temp_min\": 10.6, \"wind\": 2.1, \"weather\": \"sun\"}, {\"date\": \"2012-09-02T00:00:00\", \"precipitation\": 0.0, \"temp_max\": 21.1, \"temp_min\": 10.0, \"wind\": 2.0, \"weather\": \"sun\"}, {\"date\": \"2012-09-03T00:00:00\", \"precipitation\": 0.0, \"temp_max\": 22.8, \"temp_min\": 12.8, \"wind\": 3.3, \"weather\": \"sun\"}, {\"date\": \"2012-09-04T00:00:00\", \"precipitation\": 0.0, \"temp_max\": 24.4, \"temp_min\": 11.1, \"wind\": 3.1, \"weather\": \"sun\"}, {\"date\": \"2012-09-05T00:00:00\", \"precipitation\": 0.0, \"temp_max\": 26.1, \"temp_min\": 11.7, \"wind\": 2.6, \"weather\": \"sun\"}, {\"date\": \"2012-09-06T00:00:00\", \"precipitation\": 0.0, \"temp_max\": 28.3, \"temp_min\": 14.4, \"wind\": 4.2, \"weather\": \"sun\"}, {\"date\": \"2012-09-07T00:00:00\", \"precipitation\": 0.0, \"temp_max\": 32.2, \"temp_min\": 13.3, \"wind\": 3.1, \"weather\": \"sun\"}, {\"date\": \"2012-09-08T00:00:00\", \"precipitation\": 0.0, \"temp_max\": 25.0, \"temp_min\": 13.3, \"wind\": 3.0, \"weather\": \"sun\"}, {\"date\": \"2012-09-09T00:00:00\", \"precipitation\": 0.3, \"temp_max\": 18.9, \"temp_min\": 13.9, \"wind\": 5.0, \"weather\": \"rain\"}, {\"date\": \"2012-09-10T00:00:00\", \"precipitation\": 0.3, \"temp_max\": 20.0, \"temp_min\": 11.7, \"wind\": 3.9, \"weather\": \"rain\"}, {\"date\": \"2012-09-11T00:00:00\", \"precipitation\": 0.0, \"temp_max\": 20.0, \"temp_min\": 8.9, \"wind\": 4.2, \"weather\": \"sun\"}, {\"date\": \"2012-09-12T00:00:00\", \"precipitation\": 0.0, \"temp_max\": 22.2, \"temp_min\": 10.0, \"wind\": 5.6, \"weather\": \"sun\"}, {\"date\": \"2012-09-13T00:00:00\", \"precipitation\": 0.0, \"temp_max\": 27.8, \"temp_min\": 11.7, \"wind\": 3.6, \"weather\": \"sun\"}, {\"date\": \"2012-09-14T00:00:00\", \"precipitation\": 0.0, \"temp_max\": 26.1, \"temp_min\": 11.1, \"wind\": 1.5, \"weather\": \"sun\"}, {\"date\": \"2012-09-15T00:00:00\", \"precipitation\": 0.0, \"temp_max\": 22.2, \"temp_min\": 11.1, \"wind\": 1.9, \"weather\": \"sun\"}, {\"date\": \"2012-09-16T00:00:00\", \"precipitation\": 0.0, \"temp_max\": 24.4, \"temp_min\": 9.4, \"wind\": 2.3, \"weather\": \"sun\"}, {\"date\": \"2012-09-17T00:00:00\", \"precipitation\": 0.0, \"temp_max\": 27.8, \"temp_min\": 11.7, \"wind\": 2.2, \"weather\": \"fog\"}, {\"date\": \"2012-09-18T00:00:00\", \"precipitation\": 0.0, \"temp_max\": 27.8, \"temp_min\": 11.7, \"wind\": 1.4, \"weather\": \"sun\"}, {\"date\": \"2012-09-19T00:00:00\", \"precipitation\": 0.0, \"temp_max\": 23.9, \"temp_min\": 11.7, \"wind\": 1.9, \"weather\": \"drizzle\"}, {\"date\": \"2012-09-20T00:00:00\", \"precipitation\": 0.0, \"temp_max\": 19.4, \"temp_min\": 10.0, \"wind\": 2.5, \"weather\": \"drizzle\"}, {\"date\": \"2012-09-21T00:00:00\", \"precipitation\": 0.0, \"temp_max\": 16.1, \"temp_min\": 12.8, \"wind\": 2.1, \"weather\": \"drizzle\"}, {\"date\": \"2012-09-22T00:00:00\", \"precipitation\": 0.3, \"temp_max\": 19.4, \"temp_min\": 11.7, \"wind\": 1.1, \"weather\": \"rain\"}, {\"date\": \"2012-09-23T00:00:00\", \"precipitation\": 0.0, \"temp_max\": 19.4, \"temp_min\": 10.0, \"wind\": 1.4, \"weather\": \"fog\"}, {\"date\": \"2012-09-24T00:00:00\", \"precipitation\": 0.0, \"temp_max\": 21.1, \"temp_min\": 10.0, \"wind\": 1.8, \"weather\": \"fog\"}, {\"date\": \"2012-09-25T00:00:00\", \"precipitation\": 0.0, \"temp_max\": 19.4, \"temp_min\": 11.1, \"wind\": 1.7, \"weather\": \"sun\"}, {\"date\": \"2012-09-26T00:00:00\", \"precipitation\": 0.0, \"temp_max\": 19.4, \"temp_min\": 9.4, \"wind\": 1.7, \"weather\": \"drizzle\"}, {\"date\": \"2012-09-27T00:00:00\", \"precipitation\": 0.0, \"temp_max\": 22.8, \"temp_min\": 10.0, \"wind\": 1.7, \"weather\": \"drizzle\"}, {\"date\": \"2012-09-28T00:00:00\", \"precipitation\": 0.0, \"temp_max\": 25.0, \"temp_min\": 12.2, \"wind\": 1.1, \"weather\": \"rain\"}, {\"date\": \"2012-09-29T00:00:00\", \"precipitation\": 0.0, \"temp_max\": 20.6, \"temp_min\": 12.2, \"wind\": 4.3, \"weather\": \"sun\"}, {\"date\": \"2012-09-30T00:00:00\", \"precipitation\": 0.0, \"temp_max\": 21.1, \"temp_min\": 7.8, \"wind\": 3.1, \"weather\": \"sun\"}, {\"date\": \"2012-10-01T00:00:00\", \"precipitation\": 0.0, \"temp_max\": 23.3, \"temp_min\": 8.9, \"wind\": 3.0, \"weather\": \"sun\"}, {\"date\": \"2012-10-02T00:00:00\", \"precipitation\": 0.0, \"temp_max\": 17.8, \"temp_min\": 10.0, \"wind\": 4.1, \"weather\": \"sun\"}, {\"date\": \"2012-10-03T00:00:00\", \"precipitation\": 0.0, \"temp_max\": 18.9, \"temp_min\": 7.8, \"wind\": 7.3, \"weather\": \"sun\"}, {\"date\": \"2012-10-04T00:00:00\", \"precipitation\": 0.0, \"temp_max\": 18.9, \"temp_min\": 8.3, \"wind\": 6.5, \"weather\": \"sun\"}, {\"date\": \"2012-10-05T00:00:00\", \"precipitation\": 0.0, \"temp_max\": 21.7, \"temp_min\": 8.9, \"wind\": 5.7, \"weather\": \"sun\"}, {\"date\": \"2012-10-06T00:00:00\", \"precipitation\": 0.0, \"temp_max\": 23.9, \"temp_min\": 7.8, \"wind\": 5.1, \"weather\": \"sun\"}, {\"date\": \"2012-10-07T00:00:00\", \"precipitation\": 0.0, \"temp_max\": 23.9, \"temp_min\": 7.8, \"wind\": 1.3, \"weather\": \"sun\"}, {\"date\": \"2012-10-08T00:00:00\", \"precipitation\": 0.0, \"temp_max\": 21.1, \"temp_min\": 7.8, \"wind\": 1.9, \"weather\": \"sun\"}, {\"date\": \"2012-10-09T00:00:00\", \"precipitation\": 0.0, \"temp_max\": 16.1, \"temp_min\": 8.9, \"wind\": 1.6, \"weather\": \"drizzle\"}, {\"date\": \"2012-10-10T00:00:00\", \"precipitation\": 0.0, \"temp_max\": 12.2, \"temp_min\": 8.3, \"wind\": 1.4, \"weather\": \"drizzle\"}, {\"date\": \"2012-10-11T00:00:00\", \"precipitation\": 0.0, \"temp_max\": 13.9, \"temp_min\": 7.2, \"wind\": 1.3, \"weather\": \"drizzle\"}, {\"date\": \"2012-10-12T00:00:00\", \"precipitation\": 2.0, \"temp_max\": 13.9, \"temp_min\": 8.9, \"wind\": 4.6, \"weather\": \"rain\"}, {\"date\": \"2012-10-13T00:00:00\", \"precipitation\": 4.8, \"temp_max\": 15.6, \"temp_min\": 12.2, \"wind\": 3.9, \"weather\": \"rain\"}, {\"date\": \"2012-10-14T00:00:00\", \"precipitation\": 16.5, \"temp_max\": 17.8, \"temp_min\": 13.3, \"wind\": 3.4, \"weather\": \"rain\"}, {\"date\": \"2012-10-15T00:00:00\", \"precipitation\": 7.9, \"temp_max\": 17.2, \"temp_min\": 11.1, \"wind\": 4.6, \"weather\": \"rain\"}, {\"date\": \"2012-10-16T00:00:00\", \"precipitation\": 0.0, \"temp_max\": 16.1, \"temp_min\": 8.3, \"wind\": 5.5, \"weather\": \"sun\"}, {\"date\": \"2012-10-17T00:00:00\", \"precipitation\": 0.0, \"temp_max\": 14.4, \"temp_min\": 6.1, \"wind\": 1.6, \"weather\": \"sun\"}, {\"date\": \"2012-10-18T00:00:00\", \"precipitation\": 20.8, \"temp_max\": 17.8, \"temp_min\": 6.7, \"wind\": 2.0, \"weather\": \"rain\"}, {\"date\": \"2012-10-19T00:00:00\", \"precipitation\": 4.8, \"temp_max\": 15.0, \"temp_min\": 9.4, \"wind\": 5.3, \"weather\": \"rain\"}, {\"date\": \"2012-10-20T00:00:00\", \"precipitation\": 0.5, \"temp_max\": 11.1, \"temp_min\": 6.1, \"wind\": 5.7, \"weather\": \"rain\"}, {\"date\": \"2012-10-21T00:00:00\", \"precipitation\": 6.4, \"temp_max\": 11.7, \"temp_min\": 4.4, \"wind\": 2.7, \"weather\": \"rain\"}, {\"date\": \"2012-10-22T00:00:00\", \"precipitation\": 8.9, \"temp_max\": 7.8, \"temp_min\": 3.3, \"wind\": 2.6, \"weather\": \"rain\"}, {\"date\": \"2012-10-23T00:00:00\", \"precipitation\": 0.0, \"temp_max\": 11.1, \"temp_min\": 5.6, \"wind\": 3.0, \"weather\": \"rain\"}, {\"date\": \"2012-10-24T00:00:00\", \"precipitation\": 7.1, \"temp_max\": 11.7, \"temp_min\": 6.1, \"wind\": 2.1, \"weather\": \"rain\"}, {\"date\": \"2012-10-25T00:00:00\", \"precipitation\": 0.0, \"temp_max\": 11.7, \"temp_min\": 6.7, \"wind\": 1.5, \"weather\": \"sun\"}, {\"date\": \"2012-10-26T00:00:00\", \"precipitation\": 1.5, \"temp_max\": 11.1, \"temp_min\": 7.2, \"wind\": 2.5, \"weather\": \"rain\"}, {\"date\": \"2012-10-27T00:00:00\", \"precipitation\": 23.1, \"temp_max\": 14.4, \"temp_min\": 9.4, \"wind\": 5.1, \"weather\": \"rain\"}, {\"date\": \"2012-10-28T00:00:00\", \"precipitation\": 6.1, \"temp_max\": 14.4, \"temp_min\": 10.0, \"wind\": 3.8, \"weather\": \"rain\"}, {\"date\": \"2012-10-29T00:00:00\", \"precipitation\": 10.9, \"temp_max\": 15.6, \"temp_min\": 10.0, \"wind\": 4.9, \"weather\": \"rain\"}, {\"date\": \"2012-10-30T00:00:00\", \"precipitation\": 34.5, \"temp_max\": 15.0, \"temp_min\": 12.2, \"wind\": 2.8, \"weather\": \"rain\"}, {\"date\": \"2012-10-31T00:00:00\", \"precipitation\": 14.5, \"temp_max\": 15.6, \"temp_min\": 11.1, \"wind\": 2.7, \"weather\": \"rain\"}, {\"date\": \"2012-11-01T00:00:00\", \"precipitation\": 9.7, \"temp_max\": 15.0, \"temp_min\": 10.6, \"wind\": 3.0, \"weather\": \"rain\"}, {\"date\": \"2012-11-02T00:00:00\", \"precipitation\": 5.6, \"temp_max\": 15.0, \"temp_min\": 10.6, \"wind\": 1.0, \"weather\": \"rain\"}, {\"date\": \"2012-11-03T00:00:00\", \"precipitation\": 0.5, \"temp_max\": 15.6, \"temp_min\": 11.1, \"wind\": 3.6, \"weather\": \"rain\"}, {\"date\": \"2012-11-04T00:00:00\", \"precipitation\": 8.1, \"temp_max\": 17.8, \"temp_min\": 12.8, \"wind\": 3.8, \"weather\": \"rain\"}, {\"date\": \"2012-11-05T00:00:00\", \"precipitation\": 0.8, \"temp_max\": 15.0, \"temp_min\": 7.8, \"wind\": 4.0, \"weather\": \"rain\"}, {\"date\": \"2012-11-06T00:00:00\", \"precipitation\": 0.3, \"temp_max\": 12.8, \"temp_min\": 6.7, \"wind\": 3.5, \"weather\": \"rain\"}, {\"date\": \"2012-11-07T00:00:00\", \"precipitation\": 0.0, \"temp_max\": 12.2, \"temp_min\": 3.9, \"wind\": 3.4, \"weather\": \"rain\"}, {\"date\": \"2012-11-08T00:00:00\", \"precipitation\": 0.0, \"temp_max\": 10.0, \"temp_min\": 1.1, \"wind\": 3.4, \"weather\": \"rain\"}, {\"date\": \"2012-11-09T00:00:00\", \"precipitation\": 0.0, \"temp_max\": 8.9, \"temp_min\": 1.1, \"wind\": 2.0, \"weather\": \"rain\"}, {\"date\": \"2012-11-10T00:00:00\", \"precipitation\": 0.0, \"temp_max\": 7.8, \"temp_min\": -0.6, \"wind\": 2.2, \"weather\": \"sun\"}, {\"date\": \"2012-11-11T00:00:00\", \"precipitation\": 15.2, \"temp_max\": 8.9, \"temp_min\": 1.1, \"wind\": 3.0, \"weather\": \"rain\"}, {\"date\": \"2012-11-12T00:00:00\", \"precipitation\": 3.6, \"temp_max\": 12.8, \"temp_min\": 6.1, \"wind\": 3.0, \"weather\": \"rain\"}, {\"date\": \"2012-11-13T00:00:00\", \"precipitation\": 5.3, \"temp_max\": 11.1, \"temp_min\": 7.8, \"wind\": 2.5, \"weather\": \"rain\"}, {\"date\": \"2012-11-14T00:00:00\", \"precipitation\": 0.8, \"temp_max\": 11.1, \"temp_min\": 5.0, \"wind\": 2.6, \"weather\": \"rain\"}, {\"date\": \"2012-11-15T00:00:00\", \"precipitation\": 0.0, \"temp_max\": 9.4, \"temp_min\": 2.8, \"wind\": 2.4, \"weather\": \"drizzle\"}, {\"date\": \"2012-11-16T00:00:00\", \"precipitation\": 5.6, \"temp_max\": 9.4, \"temp_min\": 2.2, \"wind\": 1.6, \"weather\": \"rain\"}, {\"date\": \"2012-11-17T00:00:00\", \"precipitation\": 6.1, \"temp_max\": 12.2, \"temp_min\": 6.1, \"wind\": 5.3, \"weather\": \"rain\"}, {\"date\": \"2012-11-18T00:00:00\", \"precipitation\": 7.9, \"temp_max\": 10.0, \"temp_min\": 6.1, \"wind\": 4.9, \"weather\": \"rain\"}, {\"date\": \"2012-11-19T00:00:00\", \"precipitation\": 54.1, \"temp_max\": 13.3, \"temp_min\": 8.3, \"wind\": 6.0, \"weather\": \"rain\"}, {\"date\": \"2012-11-20T00:00:00\", \"precipitation\": 3.8, \"temp_max\": 11.1, \"temp_min\": 7.2, \"wind\": 4.2, \"weather\": \"rain\"}, {\"date\": \"2012-11-21T00:00:00\", \"precipitation\": 11.2, \"temp_max\": 8.3, \"temp_min\": 3.9, \"wind\": 5.5, \"weather\": \"rain\"}, {\"date\": \"2012-11-22T00:00:00\", \"precipitation\": 0.0, \"temp_max\": 8.9, \"temp_min\": 2.8, \"wind\": 1.5, \"weather\": \"rain\"}, {\"date\": \"2012-11-23T00:00:00\", \"precipitation\": 32.0, \"temp_max\": 9.4, \"temp_min\": 6.1, \"wind\": 2.4, \"weather\": \"rain\"}, {\"date\": \"2012-11-24T00:00:00\", \"precipitation\": 0.0, \"temp_max\": 8.9, \"temp_min\": 3.9, \"wind\": 1.2, \"weather\": \"rain\"}, {\"date\": \"2012-11-25T00:00:00\", \"precipitation\": 0.0, \"temp_max\": 8.3, \"temp_min\": 1.1, \"wind\": 3.6, \"weather\": \"drizzle\"}, {\"date\": \"2012-11-26T00:00:00\", \"precipitation\": 0.0, \"temp_max\": 9.4, \"temp_min\": 1.7, \"wind\": 3.8, \"weather\": \"fog\"}, {\"date\": \"2012-11-27T00:00:00\", \"precipitation\": 0.0, \"temp_max\": 10.0, \"temp_min\": 1.7, \"wind\": 1.5, \"weather\": \"sun\"}, {\"date\": \"2012-11-28T00:00:00\", \"precipitation\": 2.8, \"temp_max\": 9.4, \"temp_min\": 2.2, \"wind\": 2.9, \"weather\": \"rain\"}, {\"date\": \"2012-11-29T00:00:00\", \"precipitation\": 1.5, \"temp_max\": 12.8, \"temp_min\": 7.8, \"wind\": 4.2, \"weather\": \"rain\"}, {\"date\": \"2012-11-30T00:00:00\", \"precipitation\": 35.6, \"temp_max\": 15.0, \"temp_min\": 7.8, \"wind\": 4.6, \"weather\": \"rain\"}, {\"date\": \"2012-12-01T00:00:00\", \"precipitation\": 4.1, \"temp_max\": 13.3, \"temp_min\": 8.3, \"wind\": 5.5, \"weather\": \"rain\"}, {\"date\": \"2012-12-02T00:00:00\", \"precipitation\": 19.6, \"temp_max\": 8.3, \"temp_min\": 7.2, \"wind\": 6.2, \"weather\": \"rain\"}, {\"date\": \"2012-12-03T00:00:00\", \"precipitation\": 13.0, \"temp_max\": 9.4, \"temp_min\": 7.2, \"wind\": 4.4, \"weather\": \"rain\"}, {\"date\": \"2012-12-04T00:00:00\", \"precipitation\": 14.2, \"temp_max\": 11.7, \"temp_min\": 7.2, \"wind\": 6.2, \"weather\": \"rain\"}, {\"date\": \"2012-12-05T00:00:00\", \"precipitation\": 1.5, \"temp_max\": 8.9, \"temp_min\": 4.4, \"wind\": 5.0, \"weather\": \"rain\"}, {\"date\": \"2012-12-06T00:00:00\", \"precipitation\": 1.5, \"temp_max\": 7.2, \"temp_min\": 6.1, \"wind\": 5.1, \"weather\": \"rain\"}, {\"date\": \"2012-12-07T00:00:00\", \"precipitation\": 1.0, \"temp_max\": 7.8, \"temp_min\": 3.3, \"wind\": 4.6, \"weather\": \"rain\"}, {\"date\": \"2012-12-08T00:00:00\", \"precipitation\": 0.0, \"temp_max\": 6.7, \"temp_min\": 3.3, \"wind\": 2.0, \"weather\": \"sun\"}, {\"date\": \"2012-12-09T00:00:00\", \"precipitation\": 1.5, \"temp_max\": 6.7, \"temp_min\": 2.8, \"wind\": 2.1, \"weather\": \"rain\"}, {\"date\": \"2012-12-10T00:00:00\", \"precipitation\": 0.5, \"temp_max\": 7.2, \"temp_min\": 5.6, \"wind\": 1.8, \"weather\": \"rain\"}, {\"date\": \"2012-12-11T00:00:00\", \"precipitation\": 3.0, \"temp_max\": 7.8, \"temp_min\": 5.6, \"wind\": 4.5, \"weather\": \"rain\"}, {\"date\": \"2012-12-12T00:00:00\", \"precipitation\": 8.1, \"temp_max\": 6.7, \"temp_min\": 4.4, \"wind\": 2.0, \"weather\": \"rain\"}, {\"date\": \"2012-12-13T00:00:00\", \"precipitation\": 2.3, \"temp_max\": 7.2, \"temp_min\": 3.3, \"wind\": 2.8, \"weather\": \"rain\"}, {\"date\": \"2012-12-14T00:00:00\", \"precipitation\": 7.9, \"temp_max\": 6.1, \"temp_min\": 1.1, \"wind\": 1.7, \"weather\": \"rain\"}, {\"date\": \"2012-12-15T00:00:00\", \"precipitation\": 5.3, \"temp_max\": 4.4, \"temp_min\": 0.6, \"wind\": 5.1, \"weather\": \"snow\"}, {\"date\": \"2012-12-16T00:00:00\", \"precipitation\": 22.6, \"temp_max\": 6.7, \"temp_min\": 3.3, \"wind\": 5.5, \"weather\": \"snow\"}, {\"date\": \"2012-12-17T00:00:00\", \"precipitation\": 2.0, \"temp_max\": 8.3, \"temp_min\": 1.7, \"wind\": 9.5, \"weather\": \"rain\"}, {\"date\": \"2012-12-18T00:00:00\", \"precipitation\": 3.3, \"temp_max\": 3.9, \"temp_min\": 0.6, \"wind\": 5.3, \"weather\": \"snow\"}, {\"date\": \"2012-12-19T00:00:00\", \"precipitation\": 13.7, \"temp_max\": 8.3, \"temp_min\": 1.7, \"wind\": 5.8, \"weather\": \"snow\"}, {\"date\": \"2012-12-20T00:00:00\", \"precipitation\": 13.2, \"temp_max\": 7.2, \"temp_min\": 0.6, \"wind\": 3.7, \"weather\": \"rain\"}, {\"date\": \"2012-12-21T00:00:00\", \"precipitation\": 1.8, \"temp_max\": 8.3, \"temp_min\": -1.7, \"wind\": 1.7, \"weather\": \"rain\"}, {\"date\": \"2012-12-22T00:00:00\", \"precipitation\": 3.3, \"temp_max\": 8.3, \"temp_min\": 3.9, \"wind\": 3.5, \"weather\": \"rain\"}, {\"date\": \"2012-12-23T00:00:00\", \"precipitation\": 6.6, \"temp_max\": 7.2, \"temp_min\": 3.3, \"wind\": 2.5, \"weather\": \"rain\"}, {\"date\": \"2012-12-24T00:00:00\", \"precipitation\": 0.3, \"temp_max\": 5.6, \"temp_min\": 2.8, \"wind\": 2.8, \"weather\": \"rain\"}, {\"date\": \"2012-12-25T00:00:00\", \"precipitation\": 13.5, \"temp_max\": 5.6, \"temp_min\": 2.8, \"wind\": 4.2, \"weather\": \"snow\"}, {\"date\": \"2012-12-26T00:00:00\", \"precipitation\": 4.6, \"temp_max\": 6.7, \"temp_min\": 3.3, \"wind\": 4.9, \"weather\": \"rain\"}, {\"date\": \"2012-12-27T00:00:00\", \"precipitation\": 4.1, \"temp_max\": 7.8, \"temp_min\": 3.3, \"wind\": 3.2, \"weather\": \"rain\"}, {\"date\": \"2012-12-28T00:00:00\", \"precipitation\": 0.0, \"temp_max\": 8.3, \"temp_min\": 3.9, \"wind\": 1.7, \"weather\": \"rain\"}, {\"date\": \"2012-12-29T00:00:00\", \"precipitation\": 1.5, \"temp_max\": 5.0, \"temp_min\": 3.3, \"wind\": 1.7, \"weather\": \"rain\"}, {\"date\": \"2012-12-30T00:00:00\", \"precipitation\": 0.0, \"temp_max\": 4.4, \"temp_min\": 0.0, \"wind\": 1.8, \"weather\": \"drizzle\"}, {\"date\": \"2012-12-31T00:00:00\", \"precipitation\": 0.0, \"temp_max\": 3.3, \"temp_min\": -1.1, \"wind\": 2.0, \"weather\": \"drizzle\"}, {\"date\": \"2013-01-01T00:00:00\", \"precipitation\": 0.0, \"temp_max\": 5.0, \"temp_min\": -2.8, \"wind\": 2.7, \"weather\": \"sun\"}, {\"date\": \"2013-01-02T00:00:00\", \"precipitation\": 0.0, \"temp_max\": 6.1, \"temp_min\": -1.1, \"wind\": 3.2, \"weather\": \"sun\"}, {\"date\": \"2013-01-03T00:00:00\", \"precipitation\": 4.1, \"temp_max\": 6.7, \"temp_min\": -1.7, \"wind\": 3.0, \"weather\": \"rain\"}, {\"date\": \"2013-01-04T00:00:00\", \"precipitation\": 2.5, \"temp_max\": 10.0, \"temp_min\": 2.2, \"wind\": 2.8, \"weather\": \"rain\"}, {\"date\": \"2013-01-05T00:00:00\", \"precipitation\": 3.0, \"temp_max\": 6.7, \"temp_min\": 4.4, \"wind\": 3.1, \"weather\": \"rain\"}, {\"date\": \"2013-01-06T00:00:00\", \"precipitation\": 2.0, \"temp_max\": 7.2, \"temp_min\": 2.8, \"wind\": 3.0, \"weather\": \"rain\"}, {\"date\": \"2013-01-07T00:00:00\", \"precipitation\": 2.3, \"temp_max\": 10.0, \"temp_min\": 4.4, \"wind\": 7.3, \"weather\": \"rain\"}, {\"date\": \"2013-01-08T00:00:00\", \"precipitation\": 16.3, \"temp_max\": 11.7, \"temp_min\": 5.6, \"wind\": 6.3, \"weather\": \"rain\"}, {\"date\": \"2013-01-09T00:00:00\", \"precipitation\": 38.4, \"temp_max\": 10.0, \"temp_min\": 1.7, \"wind\": 5.1, \"weather\": \"rain\"}, {\"date\": \"2013-01-10T00:00:00\", \"precipitation\": 0.3, \"temp_max\": 3.3, \"temp_min\": -0.6, \"wind\": 2.1, \"weather\": \"snow\"}, {\"date\": \"2013-01-11T00:00:00\", \"precipitation\": 0.0, \"temp_max\": 2.8, \"temp_min\": -2.8, \"wind\": 1.9, \"weather\": \"drizzle\"}, {\"date\": \"2013-01-12T00:00:00\", \"precipitation\": 0.0, \"temp_max\": 2.8, \"temp_min\": -3.9, \"wind\": 2.0, \"weather\": \"sun\"}, {\"date\": \"2013-01-13T00:00:00\", \"precipitation\": 0.0, \"temp_max\": 2.2, \"temp_min\": -4.4, \"wind\": 1.5, \"weather\": \"sun\"}, {\"date\": \"2013-01-14T00:00:00\", \"precipitation\": 0.0, \"temp_max\": 3.3, \"temp_min\": -2.2, \"wind\": 1.3, \"weather\": \"sun\"}, {\"date\": \"2013-01-15T00:00:00\", \"precipitation\": 0.0, \"temp_max\": 6.7, \"temp_min\": -0.6, \"wind\": 2.3, \"weather\": \"sun\"}, {\"date\": \"2013-01-16T00:00:00\", \"precipitation\": 0.0, \"temp_max\": 6.1, \"temp_min\": -3.9, \"wind\": 1.8, \"weather\": \"drizzle\"}, {\"date\": \"2013-01-17T00:00:00\", \"precipitation\": 0.0, \"temp_max\": 3.9, \"temp_min\": -2.8, \"wind\": 1.0, \"weather\": \"drizzle\"}, {\"date\": \"2013-01-18T00:00:00\", \"precipitation\": 0.0, \"temp_max\": 3.3, \"temp_min\": -1.1, \"wind\": 1.3, \"weather\": \"drizzle\"}, {\"date\": \"2013-01-19T00:00:00\", \"precipitation\": 0.0, \"temp_max\": 1.1, \"temp_min\": -0.6, \"wind\": 1.9, \"weather\": \"drizzle\"}, {\"date\": \"2013-01-20T00:00:00\", \"precipitation\": 0.0, \"temp_max\": 3.3, \"temp_min\": -0.6, \"wind\": 2.1, \"weather\": \"drizzle\"}, {\"date\": \"2013-01-21T00:00:00\", \"precipitation\": 0.0, \"temp_max\": 2.2, \"temp_min\": -1.7, \"wind\": 1.1, \"weather\": \"drizzle\"}, {\"date\": \"2013-01-22T00:00:00\", \"precipitation\": 0.0, \"temp_max\": 3.3, \"temp_min\": -1.7, \"wind\": 0.6, \"weather\": \"drizzle\"}, {\"date\": \"2013-01-23T00:00:00\", \"precipitation\": 5.1, \"temp_max\": 7.2, \"temp_min\": 2.2, \"wind\": 3.1, \"weather\": \"rain\"}, {\"date\": \"2013-01-24T00:00:00\", \"precipitation\": 5.8, \"temp_max\": 7.2, \"temp_min\": 1.1, \"wind\": 2.6, \"weather\": \"rain\"}, {\"date\": \"2013-01-25T00:00:00\", \"precipitation\": 3.0, \"temp_max\": 10.6, \"temp_min\": 2.8, \"wind\": 2.1, \"weather\": \"rain\"}, {\"date\": \"2013-01-26T00:00:00\", \"precipitation\": 2.3, \"temp_max\": 8.3, \"temp_min\": 3.9, \"wind\": 4.5, \"weather\": \"rain\"}, {\"date\": \"2013-01-27T00:00:00\", \"precipitation\": 1.8, \"temp_max\": 5.6, \"temp_min\": 3.9, \"wind\": 4.5, \"weather\": \"rain\"}, {\"date\": \"2013-01-28T00:00:00\", \"precipitation\": 7.9, \"temp_max\": 6.1, \"temp_min\": 3.3, \"wind\": 3.2, \"weather\": \"rain\"}, {\"date\": \"2013-01-29T00:00:00\", \"precipitation\": 4.3, \"temp_max\": 8.3, \"temp_min\": 5.0, \"wind\": 3.9, \"weather\": \"rain\"}, {\"date\": \"2013-01-30T00:00:00\", \"precipitation\": 3.6, \"temp_max\": 8.9, \"temp_min\": 6.7, \"wind\": 3.9, \"weather\": \"rain\"}, {\"date\": \"2013-01-31T00:00:00\", \"precipitation\": 3.0, \"temp_max\": 9.4, \"temp_min\": 7.2, \"wind\": 4.0, \"weather\": \"rain\"}, {\"date\": \"2013-02-01T00:00:00\", \"precipitation\": 0.3, \"temp_max\": 11.7, \"temp_min\": 5.0, \"wind\": 2.9, \"weather\": \"rain\"}, {\"date\": \"2013-02-02T00:00:00\", \"precipitation\": 0.0, \"temp_max\": 6.1, \"temp_min\": 2.8, \"wind\": 2.0, \"weather\": \"drizzle\"}, {\"date\": \"2013-02-03T00:00:00\", \"precipitation\": 2.3, \"temp_max\": 8.9, \"temp_min\": 2.8, \"wind\": 2.9, \"weather\": \"rain\"}, {\"date\": \"2013-02-04T00:00:00\", \"precipitation\": 0.0, \"temp_max\": 10.6, \"temp_min\": 6.7, \"wind\": 2.6, \"weather\": \"rain\"}, {\"date\": \"2013-02-05T00:00:00\", \"precipitation\": 3.3, \"temp_max\": 10.0, \"temp_min\": 6.7, \"wind\": 5.1, \"weather\": \"rain\"}, {\"date\": \"2013-02-06T00:00:00\", \"precipitation\": 1.0, \"temp_max\": 10.6, \"temp_min\": 6.1, \"wind\": 4.5, \"weather\": \"rain\"}, {\"date\": \"2013-02-07T00:00:00\", \"precipitation\": 1.3, \"temp_max\": 9.4, \"temp_min\": 3.3, \"wind\": 4.1, \"weather\": \"rain\"}, {\"date\": \"2013-02-08T00:00:00\", \"precipitation\": 0.0, \"temp_max\": 7.8, \"temp_min\": 2.2, \"wind\": 1.3, \"weather\": \"sun\"}, {\"date\": \"2013-02-09T00:00:00\", \"precipitation\": 0.3, \"temp_max\": 8.3, \"temp_min\": 4.4, \"wind\": 1.3, \"weather\": \"rain\"}, {\"date\": \"2013-02-10T00:00:00\", \"precipitation\": 0.0, \"temp_max\": 8.9, \"temp_min\": 1.7, \"wind\": 2.0, \"weather\": \"drizzle\"}, {\"date\": \"2013-02-11T00:00:00\", \"precipitation\": 0.3, \"temp_max\": 8.3, \"temp_min\": 4.4, \"wind\": 1.4, \"weather\": \"rain\"}, {\"date\": \"2013-02-12T00:00:00\", \"precipitation\": 1.0, \"temp_max\": 11.1, \"temp_min\": 7.2, \"wind\": 5.6, \"weather\": \"rain\"}, {\"date\": \"2013-02-13T00:00:00\", \"precipitation\": 2.3, \"temp_max\": 9.4, \"temp_min\": 7.2, \"wind\": 4.1, \"weather\": \"rain\"}, {\"date\": \"2013-02-14T00:00:00\", \"precipitation\": 1.0, \"temp_max\": 9.4, \"temp_min\": 5.6, \"wind\": 2.2, \"weather\": \"rain\"}, {\"date\": \"2013-02-15T00:00:00\", \"precipitation\": 0.0, \"temp_max\": 13.3, \"temp_min\": 5.0, \"wind\": 2.4, \"weather\": \"drizzle\"}, {\"date\": \"2013-02-16T00:00:00\", \"precipitation\": 0.0, \"temp_max\": 11.1, \"temp_min\": 3.9, \"wind\": 5.6, \"weather\": \"rain\"}, {\"date\": \"2013-02-17T00:00:00\", \"precipitation\": 0.0, \"temp_max\": 9.4, \"temp_min\": 4.4, \"wind\": 3.4, \"weather\": \"rain\"}, {\"date\": \"2013-02-18T00:00:00\", \"precipitation\": 0.0, \"temp_max\": 7.8, \"temp_min\": 3.9, \"wind\": 1.9, \"weather\": \"rain\"}, {\"date\": \"2013-02-19T00:00:00\", \"precipitation\": 0.0, \"temp_max\": 10.6, \"temp_min\": 1.7, \"wind\": 3.4, \"weather\": \"sun\"}, {\"date\": \"2013-02-20T00:00:00\", \"precipitation\": 1.5, \"temp_max\": 7.8, \"temp_min\": 1.1, \"wind\": 2.1, \"weather\": \"rain\"}, {\"date\": \"2013-02-21T00:00:00\", \"precipitation\": 0.5, \"temp_max\": 6.7, \"temp_min\": 3.9, \"wind\": 6.2, \"weather\": \"rain\"}, {\"date\": \"2013-02-22T00:00:00\", \"precipitation\": 9.4, \"temp_max\": 7.8, \"temp_min\": 3.9, \"wind\": 8.1, \"weather\": \"rain\"}, {\"date\": \"2013-02-23T00:00:00\", \"precipitation\": 0.3, \"temp_max\": 10.0, \"temp_min\": 3.9, \"wind\": 4.6, \"weather\": \"rain\"}, {\"date\": \"2013-02-24T00:00:00\", \"precipitation\": 0.0, \"temp_max\": 8.9, \"temp_min\": 5.0, \"wind\": 5.5, \"weather\": \"rain\"}, {\"date\": \"2013-02-25T00:00:00\", \"precipitation\": 2.3, \"temp_max\": 10.6, \"temp_min\": 3.3, \"wind\": 7.1, \"weather\": \"rain\"}, {\"date\": \"2013-02-26T00:00:00\", \"precipitation\": 0.5, \"temp_max\": 8.9, \"temp_min\": 3.9, \"wind\": 3.8, \"weather\": \"rain\"}, {\"date\": \"2013-02-27T00:00:00\", \"precipitation\": 4.6, \"temp_max\": 10.0, \"temp_min\": 4.4, \"wind\": 1.8, \"weather\": \"rain\"}, {\"date\": \"2013-02-28T00:00:00\", \"precipitation\": 8.1, \"temp_max\": 11.7, \"temp_min\": 6.7, \"wind\": 3.8, \"weather\": \"rain\"}, {\"date\": \"2013-03-01T00:00:00\", \"precipitation\": 4.1, \"temp_max\": 15.0, \"temp_min\": 11.1, \"wind\": 5.4, \"weather\": \"rain\"}, {\"date\": \"2013-03-02T00:00:00\", \"precipitation\": 0.8, \"temp_max\": 13.9, \"temp_min\": 5.0, \"wind\": 4.5, \"weather\": \"rain\"}, {\"date\": \"2013-03-03T00:00:00\", \"precipitation\": 0.0, \"temp_max\": 11.1, \"temp_min\": 2.2, \"wind\": 2.8, \"weather\": \"sun\"}, {\"date\": \"2013-03-04T00:00:00\", \"precipitation\": 0.0, \"temp_max\": 13.3, \"temp_min\": 0.0, \"wind\": 3.9, \"weather\": \"sun\"}, {\"date\": \"2013-03-05T00:00:00\", \"precipitation\": 0.0, \"temp_max\": 9.4, \"temp_min\": 6.1, \"wind\": 2.4, \"weather\": \"rain\"}, {\"date\": \"2013-03-06T00:00:00\", \"precipitation\": 11.9, \"temp_max\": 7.2, \"temp_min\": 5.0, \"wind\": 4.1, \"weather\": \"rain\"}, {\"date\": \"2013-03-07T00:00:00\", \"precipitation\": 7.4, \"temp_max\": 12.2, \"temp_min\": 5.0, \"wind\": 2.5, \"weather\": \"rain\"}, {\"date\": \"2013-03-08T00:00:00\", \"precipitation\": 0.0, \"temp_max\": 11.7, \"temp_min\": 2.2, \"wind\": 2.6, \"weather\": \"drizzle\"}, {\"date\": \"2013-03-09T00:00:00\", \"precipitation\": 0.0, \"temp_max\": 12.8, \"temp_min\": 1.1, \"wind\": 1.3, \"weather\": \"fog\"}, {\"date\": \"2013-03-10T00:00:00\", \"precipitation\": 0.8, \"temp_max\": 7.8, \"temp_min\": 3.9, \"wind\": 1.6, \"weather\": \"rain\"}, {\"date\": \"2013-03-11T00:00:00\", \"precipitation\": 1.3, \"temp_max\": 10.6, \"temp_min\": 6.1, \"wind\": 1.1, \"weather\": \"rain\"}, {\"date\": \"2013-03-12T00:00:00\", \"precipitation\": 2.0, \"temp_max\": 12.8, \"temp_min\": 10.0, \"wind\": 5.7, \"weather\": \"rain\"}, {\"date\": \"2013-03-13T00:00:00\", \"precipitation\": 2.3, \"temp_max\": 11.7, \"temp_min\": 9.4, \"wind\": 3.7, \"weather\": \"rain\"}, {\"date\": \"2013-03-14T00:00:00\", \"precipitation\": 2.8, \"temp_max\": 11.7, \"temp_min\": 9.4, \"wind\": 3.0, \"weather\": \"rain\"}, {\"date\": \"2013-03-15T00:00:00\", \"precipitation\": 0.0, \"temp_max\": 14.4, \"temp_min\": 8.9, \"wind\": 4.3, \"weather\": \"rain\"}, {\"date\": \"2013-03-16T00:00:00\", \"precipitation\": 4.3, \"temp_max\": 10.6, \"temp_min\": 4.4, \"wind\": 6.4, \"weather\": \"rain\"}, {\"date\": \"2013-03-17T00:00:00\", \"precipitation\": 0.0, \"temp_max\": 8.9, \"temp_min\": 3.9, \"wind\": 6.1, \"weather\": \"sun\"}, {\"date\": \"2013-03-18T00:00:00\", \"precipitation\": 0.0, \"temp_max\": 11.7, \"temp_min\": 3.9, \"wind\": 5.9, \"weather\": \"rain\"}, {\"date\": \"2013-03-19T00:00:00\", \"precipitation\": 11.7, \"temp_max\": 12.8, \"temp_min\": 1.7, \"wind\": 3.4, \"weather\": \"rain\"}, {\"date\": \"2013-03-20T00:00:00\", \"precipitation\": 9.9, \"temp_max\": 11.1, \"temp_min\": 4.4, \"wind\": 7.6, \"weather\": \"rain\"}, {\"date\": \"2013-03-21T00:00:00\", \"precipitation\": 8.1, \"temp_max\": 10.0, \"temp_min\": 2.2, \"wind\": 4.9, \"weather\": \"snow\"}, {\"date\": \"2013-03-22T00:00:00\", \"precipitation\": 0.0, \"temp_max\": 9.4, \"temp_min\": 0.6, \"wind\": 2.2, \"weather\": \"sun\"}, {\"date\": \"2013-03-23T00:00:00\", \"precipitation\": 0.0, \"temp_max\": 10.0, \"temp_min\": 1.1, \"wind\": 2.6, \"weather\": \"sun\"}, {\"date\": \"2013-03-24T00:00:00\", \"precipitation\": 0.0, \"temp_max\": 12.2, \"temp_min\": 0.6, \"wind\": 2.1, \"weather\": \"sun\"}, {\"date\": \"2013-03-25T00:00:00\", \"precipitation\": 0.0, \"temp_max\": 16.7, \"temp_min\": 4.4, \"wind\": 2.8, \"weather\": \"sun\"}, {\"date\": \"2013-03-26T00:00:00\", \"precipitation\": 0.0, \"temp_max\": 16.7, \"temp_min\": 6.1, \"wind\": 1.7, \"weather\": \"sun\"}, {\"date\": \"2013-03-27T00:00:00\", \"precipitation\": 0.3, \"temp_max\": 13.3, \"temp_min\": 7.2, \"wind\": 1.6, \"weather\": \"rain\"}, {\"date\": \"2013-03-28T00:00:00\", \"precipitation\": 2.0, \"temp_max\": 16.1, \"temp_min\": 8.3, \"wind\": 1.3, \"weather\": \"rain\"}, {\"date\": \"2013-03-29T00:00:00\", \"precipitation\": 0.0, \"temp_max\": 18.3, \"temp_min\": 7.8, \"wind\": 2.5, \"weather\": \"rain\"}, {\"date\": \"2013-03-30T00:00:00\", \"precipitation\": 0.0, \"temp_max\": 20.0, \"temp_min\": 5.6, \"wind\": 4.4, \"weather\": \"drizzle\"}, {\"date\": \"2013-03-31T00:00:00\", \"precipitation\": 0.0, \"temp_max\": 20.6, \"temp_min\": 6.7, \"wind\": 2.9, \"weather\": \"sun\"}, {\"date\": \"2013-04-01T00:00:00\", \"precipitation\": 0.0, \"temp_max\": 17.2, \"temp_min\": 8.3, \"wind\": 3.6, \"weather\": \"sun\"}, {\"date\": \"2013-04-02T00:00:00\", \"precipitation\": 0.0, \"temp_max\": 13.9, \"temp_min\": 8.9, \"wind\": 2.2, \"weather\": \"sun\"}, {\"date\": \"2013-04-03T00:00:00\", \"precipitation\": 0.0, \"temp_max\": 16.7, \"temp_min\": 7.8, \"wind\": 1.6, \"weather\": \"sun\"}, {\"date\": \"2013-04-04T00:00:00\", \"precipitation\": 8.4, \"temp_max\": 14.4, \"temp_min\": 10.0, \"wind\": 3.0, \"weather\": \"fog\"}, {\"date\": \"2013-04-05T00:00:00\", \"precipitation\": 18.5, \"temp_max\": 13.9, \"temp_min\": 10.0, \"wind\": 5.6, \"weather\": \"fog\"}, {\"date\": \"2013-04-06T00:00:00\", \"precipitation\": 12.7, \"temp_max\": 12.2, \"temp_min\": 7.2, \"wind\": 5.0, \"weather\": \"fog\"}, {\"date\": \"2013-04-07T00:00:00\", \"precipitation\": 39.1, \"temp_max\": 8.3, \"temp_min\": 5.0, \"wind\": 3.9, \"weather\": \"fog\"}, {\"date\": \"2013-04-08T00:00:00\", \"precipitation\": 0.8, \"temp_max\": 13.3, \"temp_min\": 6.1, \"wind\": 3.1, \"weather\": \"fog\"}, {\"date\": \"2013-04-09T00:00:00\", \"precipitation\": 0.0, \"temp_max\": 12.2, \"temp_min\": 6.1, \"wind\": 2.4, \"weather\": \"sun\"}, {\"date\": \"2013-04-10T00:00:00\", \"precipitation\": 9.4, \"temp_max\": 15.0, \"temp_min\": 8.9, \"wind\": 6.4, \"weather\": \"sun\"}, {\"date\": \"2013-04-11T00:00:00\", \"precipitation\": 1.5, \"temp_max\": 12.2, \"temp_min\": 6.7, \"wind\": 3.8, \"weather\": \"fog\"}, {\"date\": \"2013-04-12T00:00:00\", \"precipitation\": 9.7, \"temp_max\": 7.8, \"temp_min\": 4.4, \"wind\": 4.6, \"weather\": \"fog\"}, {\"date\": \"2013-04-13T00:00:00\", \"precipitation\": 9.4, \"temp_max\": 10.6, \"temp_min\": 3.3, \"wind\": 5.7, \"weather\": \"fog\"}, {\"date\": \"2013-04-14T00:00:00\", \"precipitation\": 5.8, \"temp_max\": 12.8, \"temp_min\": 4.4, \"wind\": 2.3, \"weather\": \"fog\"}, {\"date\": \"2013-04-15T00:00:00\", \"precipitation\": 0.0, \"temp_max\": 13.9, \"temp_min\": 4.4, \"wind\": 2.4, \"weather\": \"fog\"}, {\"date\": \"2013-04-16T00:00:00\", \"precipitation\": 0.3, \"temp_max\": 13.9, \"temp_min\": 3.3, \"wind\": 2.6, \"weather\": \"sun\"}, {\"date\": \"2013-04-17T00:00:00\", \"precipitation\": 0.0, \"temp_max\": 15.0, \"temp_min\": 3.9, \"wind\": 3.3, \"weather\": \"drizzle\"}, {\"date\": \"2013-04-18T00:00:00\", \"precipitation\": 5.3, \"temp_max\": 11.7, \"temp_min\": 6.7, \"wind\": 4.0, \"weather\": \"fog\"}, {\"date\": \"2013-04-19T00:00:00\", \"precipitation\": 20.6, \"temp_max\": 13.3, \"temp_min\": 9.4, \"wind\": 4.9, \"weather\": \"fog\"}, {\"date\": \"2013-04-20T00:00:00\", \"precipitation\": 0.0, \"temp_max\": 13.9, \"temp_min\": 8.3, \"wind\": 5.8, \"weather\": \"sun\"}, {\"date\": \"2013-04-21T00:00:00\", \"precipitation\": 3.3, \"temp_max\": 12.2, \"temp_min\": 6.7, \"wind\": 4.1, \"weather\": \"sun\"}, {\"date\": \"2013-04-22T00:00:00\", \"precipitation\": 0.0, \"temp_max\": 16.1, \"temp_min\": 5.0, \"wind\": 4.3, \"weather\": \"sun\"}, {\"date\": \"2013-04-23T00:00:00\", \"precipitation\": 0.0, \"temp_max\": 17.8, \"temp_min\": 3.9, \"wind\": 2.8, \"weather\": \"sun\"}, {\"date\": \"2013-04-24T00:00:00\", \"precipitation\": 0.0, \"temp_max\": 21.1, \"temp_min\": 6.1, \"wind\": 3.0, \"weather\": \"sun\"}, {\"date\": \"2013-04-25T00:00:00\", \"precipitation\": 0.0, \"temp_max\": 21.7, \"temp_min\": 6.7, \"wind\": 1.1, \"weather\": \"sun\"}, {\"date\": \"2013-04-26T00:00:00\", \"precipitation\": 0.0, \"temp_max\": 20.6, \"temp_min\": 8.3, \"wind\": 2.2, \"weather\": \"fog\"}, {\"date\": \"2013-04-27T00:00:00\", \"precipitation\": 0.0, \"temp_max\": 13.9, \"temp_min\": 10.6, \"wind\": 5.9, \"weather\": \"sun\"}, {\"date\": \"2013-04-28T00:00:00\", \"precipitation\": 1.0, \"temp_max\": 15.0, \"temp_min\": 9.4, \"wind\": 5.2, \"weather\": \"drizzle\"}, {\"date\": \"2013-04-29T00:00:00\", \"precipitation\": 3.8, \"temp_max\": 13.9, \"temp_min\": 6.7, \"wind\": 4.2, \"weather\": \"fog\"}, {\"date\": \"2013-04-30T00:00:00\", \"precipitation\": 0.0, \"temp_max\": 12.8, \"temp_min\": 4.4, \"wind\": 2.4, \"weather\": \"sun\"}, {\"date\": \"2013-05-01T00:00:00\", \"precipitation\": 0.0, \"temp_max\": 18.3, \"temp_min\": 3.3, \"wind\": 3.1, \"weather\": \"sun\"}, {\"date\": \"2013-05-02T00:00:00\", \"precipitation\": 0.0, \"temp_max\": 20.6, \"temp_min\": 6.7, \"wind\": 4.0, \"weather\": \"sun\"}, {\"date\": \"2013-05-03T00:00:00\", \"precipitation\": 0.0, \"temp_max\": 21.7, \"temp_min\": 9.4, \"wind\": 4.9, \"weather\": \"sun\"}, {\"date\": \"2013-05-04T00:00:00\", \"precipitation\": 0.0, \"temp_max\": 25.0, \"temp_min\": 11.1, \"wind\": 6.5, \"weather\": \"sun\"}, {\"date\": \"2013-05-05T00:00:00\", \"precipitation\": 0.0, \"temp_max\": 28.9, \"temp_min\": 11.7, \"wind\": 5.3, \"weather\": \"sun\"}, {\"date\": \"2013-05-06T00:00:00\", \"precipitation\": 0.0, \"temp_max\": 30.6, \"temp_min\": 12.2, \"wind\": 2.0, \"weather\": \"sun\"}, {\"date\": \"2013-05-07T00:00:00\", \"precipitation\": 0.0, \"temp_max\": 20.6, \"temp_min\": 11.1, \"wind\": 3.3, \"weather\": \"sun\"}, {\"date\": \"2013-05-08T00:00:00\", \"precipitation\": 0.0, \"temp_max\": 19.4, \"temp_min\": 11.1, \"wind\": 1.9, \"weather\": \"sun\"}, {\"date\": \"2013-05-09T00:00:00\", \"precipitation\": 0.0, \"temp_max\": 22.8, \"temp_min\": 10.0, \"wind\": 1.3, \"weather\": \"sun\"}, {\"date\": \"2013-05-10T00:00:00\", \"precipitation\": 0.0, \"temp_max\": 26.1, \"temp_min\": 9.4, \"wind\": 1.0, \"weather\": \"sun\"}, {\"date\": \"2013-05-11T00:00:00\", \"precipitation\": 0.0, \"temp_max\": 27.2, \"temp_min\": 12.2, \"wind\": 2.6, \"weather\": \"sun\"}, {\"date\": \"2013-05-12T00:00:00\", \"precipitation\": 6.6, \"temp_max\": 21.7, \"temp_min\": 13.9, \"wind\": 3.9, \"weather\": \"fog\"}, {\"date\": \"2013-05-13T00:00:00\", \"precipitation\": 3.3, \"temp_max\": 18.9, \"temp_min\": 9.4, \"wind\": 5.0, \"weather\": \"sun\"}, {\"date\": \"2013-05-14T00:00:00\", \"precipitation\": 0.0, \"temp_max\": 18.3, \"temp_min\": 7.8, \"wind\": 2.4, \"weather\": \"sun\"}, {\"date\": \"2013-05-15T00:00:00\", \"precipitation\": 1.0, \"temp_max\": 17.2, \"temp_min\": 8.9, \"wind\": 2.3, \"weather\": \"fog\"}, {\"date\": \"2013-05-16T00:00:00\", \"precipitation\": 0.0, \"temp_max\": 21.7, \"temp_min\": 12.2, \"wind\": 2.7, \"weather\": \"fog\"}, {\"date\": \"2013-05-17T00:00:00\", \"precipitation\": 0.5, \"temp_max\": 17.2, \"temp_min\": 11.7, \"wind\": 3.7, \"weather\": \"sun\"}, {\"date\": \"2013-05-18T00:00:00\", \"precipitation\": 0.0, \"temp_max\": 16.7, \"temp_min\": 11.1, \"wind\": 2.9, \"weather\": \"sun\"}, {\"date\": \"2013-05-19T00:00:00\", \"precipitation\": 0.0, \"temp_max\": 18.3, \"temp_min\": 10.6, \"wind\": 2.3, \"weather\": \"sun\"}, {\"date\": \"2013-05-20T00:00:00\", \"precipitation\": 0.0, \"temp_max\": 19.4, \"temp_min\": 9.4, \"wind\": 1.8, \"weather\": \"sun\"}, {\"date\": \"2013-05-21T00:00:00\", \"precipitation\": 13.7, \"temp_max\": 15.6, \"temp_min\": 8.3, \"wind\": 4.8, \"weather\": \"fog\"}, {\"date\": \"2013-05-22T00:00:00\", \"precipitation\": 13.7, \"temp_max\": 11.1, \"temp_min\": 7.2, \"wind\": 3.0, \"weather\": \"fog\"}, {\"date\": \"2013-05-23T00:00:00\", \"precipitation\": 4.1, \"temp_max\": 12.2, \"temp_min\": 6.7, \"wind\": 1.9, \"weather\": \"fog\"}, {\"date\": \"2013-05-24T00:00:00\", \"precipitation\": 0.3, \"temp_max\": 16.7, \"temp_min\": 8.9, \"wind\": 2.7, \"weather\": \"sun\"}, {\"date\": \"2013-05-25T00:00:00\", \"precipitation\": 0.0, \"temp_max\": 17.8, \"temp_min\": 10.0, \"wind\": 2.7, \"weather\": \"sun\"}, {\"date\": \"2013-05-26T00:00:00\", \"precipitation\": 1.5, \"temp_max\": 18.3, \"temp_min\": 10.6, \"wind\": 2.2, \"weather\": \"fog\"}, {\"date\": \"2013-05-27T00:00:00\", \"precipitation\": 9.7, \"temp_max\": 16.7, \"temp_min\": 11.1, \"wind\": 3.1, \"weather\": \"fog\"}, {\"date\": \"2013-05-28T00:00:00\", \"precipitation\": 0.5, \"temp_max\": 17.2, \"temp_min\": 11.7, \"wind\": 2.8, \"weather\": \"fog\"}, {\"date\": \"2013-05-29T00:00:00\", \"precipitation\": 5.6, \"temp_max\": 16.1, \"temp_min\": 9.4, \"wind\": 4.0, \"weather\": \"fog\"}, {\"date\": \"2013-05-30T00:00:00\", \"precipitation\": 0.0, \"temp_max\": 16.7, \"temp_min\": 9.4, \"wind\": 5.3, \"weather\": \"sun\"}, {\"date\": \"2013-05-31T00:00:00\", \"precipitation\": 0.0, \"temp_max\": 19.4, \"temp_min\": 11.1, \"wind\": 2.5, \"weather\": \"sun\"}, {\"date\": \"2013-06-01T00:00:00\", \"precipitation\": 0.0, \"temp_max\": 22.8, \"temp_min\": 12.2, \"wind\": 2.5, \"weather\": \"sun\"}, {\"date\": \"2013-06-02T00:00:00\", \"precipitation\": 1.0, \"temp_max\": 20.6, \"temp_min\": 12.2, \"wind\": 3.1, \"weather\": \"sun\"}, {\"date\": \"2013-06-03T00:00:00\", \"precipitation\": 0.0, \"temp_max\": 22.2, \"temp_min\": 11.1, \"wind\": 2.9, \"weather\": \"sun\"}, {\"date\": \"2013-06-04T00:00:00\", \"precipitation\": 0.0, \"temp_max\": 26.1, \"temp_min\": 12.2, \"wind\": 3.4, \"weather\": \"sun\"}, {\"date\": \"2013-06-05T00:00:00\", \"precipitation\": 0.0, \"temp_max\": 26.7, \"temp_min\": 14.4, \"wind\": 3.1, \"weather\": \"sun\"}, {\"date\": \"2013-06-06T00:00:00\", \"precipitation\": 0.0, \"temp_max\": 26.7, \"temp_min\": 12.2, \"wind\": 2.5, \"weather\": \"sun\"}, {\"date\": \"2013-06-07T00:00:00\", \"precipitation\": 0.0, \"temp_max\": 21.7, \"temp_min\": 13.3, \"wind\": 3.2, \"weather\": \"sun\"}, {\"date\": \"2013-06-08T00:00:00\", \"precipitation\": 0.0, \"temp_max\": 20.6, \"temp_min\": 12.8, \"wind\": 3.1, \"weather\": \"sun\"}, {\"date\": \"2013-06-09T00:00:00\", \"precipitation\": 0.0, \"temp_max\": 20.6, \"temp_min\": 11.1, \"wind\": 3.7, \"weather\": \"sun\"}, {\"date\": \"2013-06-10T00:00:00\", \"precipitation\": 0.0, \"temp_max\": 21.7, \"temp_min\": 11.7, \"wind\": 3.2, \"weather\": \"sun\"}, {\"date\": \"2013-06-11T00:00:00\", \"precipitation\": 0.0, \"temp_max\": 20.0, \"temp_min\": 10.0, \"wind\": 5.7, \"weather\": \"sun\"}, {\"date\": \"2013-06-12T00:00:00\", \"precipitation\": 0.3, \"temp_max\": 20.6, \"temp_min\": 11.7, \"wind\": 4.2, \"weather\": \"sun\"}, {\"date\": \"2013-06-13T00:00:00\", \"precipitation\": 0.0, \"temp_max\": 21.1, \"temp_min\": 11.7, \"wind\": 2.6, \"weather\": \"sun\"}, {\"date\": \"2013-06-14T00:00:00\", \"precipitation\": 0.0, \"temp_max\": 20.0, \"temp_min\": 12.2, \"wind\": 3.7, \"weather\": \"sun\"}, {\"date\": \"2013-06-15T00:00:00\", \"precipitation\": 0.0, \"temp_max\": 25.6, \"temp_min\": 10.0, \"wind\": 2.9, \"weather\": \"sun\"}, {\"date\": \"2013-06-16T00:00:00\", \"precipitation\": 0.0, \"temp_max\": 23.9, \"temp_min\": 12.8, \"wind\": 3.4, \"weather\": \"sun\"}, {\"date\": \"2013-06-17T00:00:00\", \"precipitation\": 0.0, \"temp_max\": 25.6, \"temp_min\": 13.9, \"wind\": 3.0, \"weather\": \"sun\"}, {\"date\": \"2013-06-18T00:00:00\", \"precipitation\": 0.3, \"temp_max\": 23.3, \"temp_min\": 13.3, \"wind\": 3.4, \"weather\": \"fog\"}, {\"date\": \"2013-06-19T00:00:00\", \"precipitation\": 0.0, \"temp_max\": 20.0, \"temp_min\": 12.8, \"wind\": 3.7, \"weather\": \"sun\"}, {\"date\": \"2013-06-20T00:00:00\", \"precipitation\": 3.0, \"temp_max\": 17.2, \"temp_min\": 12.8, \"wind\": 5.0, \"weather\": \"sun\"}, {\"date\": \"2013-06-21T00:00:00\", \"precipitation\": 0.3, \"temp_max\": 20.6, \"temp_min\": 12.2, \"wind\": 1.5, \"weather\": \"sun\"}, {\"date\": \"2013-06-22T00:00:00\", \"precipitation\": 0.0, \"temp_max\": 25.6, \"temp_min\": 11.7, \"wind\": 1.7, \"weather\": \"sun\"}, {\"date\": \"2013-06-23T00:00:00\", \"precipitation\": 7.9, \"temp_max\": 22.2, \"temp_min\": 15.0, \"wind\": 2.1, \"weather\": \"fog\"}, {\"date\": \"2013-06-24T00:00:00\", \"precipitation\": 4.8, \"temp_max\": 21.1, \"temp_min\": 13.9, \"wind\": 3.7, \"weather\": \"fog\"}, {\"date\": \"2013-06-25T00:00:00\", \"precipitation\": 9.9, \"temp_max\": 23.3, \"temp_min\": 14.4, \"wind\": 2.8, \"weather\": \"sun\"}, {\"date\": \"2013-06-26T00:00:00\", \"precipitation\": 2.0, \"temp_max\": 22.2, \"temp_min\": 15.0, \"wind\": 2.3, \"weather\": \"fog\"}, {\"date\": \"2013-06-27T00:00:00\", \"precipitation\": 3.6, \"temp_max\": 21.1, \"temp_min\": 16.7, \"wind\": 1.3, \"weather\": \"fog\"}, {\"date\": \"2013-06-28T00:00:00\", \"precipitation\": 0.0, \"temp_max\": 30.6, \"temp_min\": 16.1, \"wind\": 2.2, \"weather\": \"sun\"}, {\"date\": \"2013-06-29T00:00:00\", \"precipitation\": 0.0, \"temp_max\": 30.0, \"temp_min\": 18.3, \"wind\": 1.7, \"weather\": \"sun\"}, {\"date\": \"2013-06-30T00:00:00\", \"precipitation\": 0.0, \"temp_max\": 33.9, \"temp_min\": 17.2, \"wind\": 2.5, \"weather\": \"sun\"}, {\"date\": \"2013-07-01T00:00:00\", \"precipitation\": 0.0, \"temp_max\": 31.7, \"temp_min\": 18.3, \"wind\": 2.3, \"weather\": \"sun\"}, {\"date\": \"2013-07-02T00:00:00\", \"precipitation\": 0.0, \"temp_max\": 28.3, \"temp_min\": 15.6, \"wind\": 3.0, \"weather\": \"sun\"}, {\"date\": \"2013-07-03T00:00:00\", \"precipitation\": 0.0, \"temp_max\": 26.1, \"temp_min\": 16.7, \"wind\": 3.2, \"weather\": \"sun\"}, {\"date\": \"2013-07-04T00:00:00\", \"precipitation\": 0.0, \"temp_max\": 21.7, \"temp_min\": 13.9, \"wind\": 2.2, \"weather\": \"fog\"}, {\"date\": \"2013-07-05T00:00:00\", \"precipitation\": 0.0, \"temp_max\": 23.3, \"temp_min\": 13.9, \"wind\": 2.6, \"weather\": \"sun\"}, {\"date\": \"2013-07-06T00:00:00\", \"precipitation\": 0.0, \"temp_max\": 26.1, \"temp_min\": 13.3, \"wind\": 2.2, \"weather\": \"sun\"}, {\"date\": \"2013-07-07T00:00:00\", \"precipitation\": 0.0, \"temp_max\": 23.9, \"temp_min\": 13.9, \"wind\": 2.9, \"weather\": \"sun\"}, {\"date\": \"2013-07-08T00:00:00\", \"precipitation\": 0.0, \"temp_max\": 26.7, \"temp_min\": 13.3, \"wind\": 2.8, \"weather\": \"sun\"}, {\"date\": \"2013-07-09T00:00:00\", \"precipitation\": 0.0, \"temp_max\": 30.0, \"temp_min\": 15.0, \"wind\": 2.5, \"weather\": \"sun\"}, {\"date\": \"2013-07-10T00:00:00\", \"precipitation\": 0.0, \"temp_max\": 22.2, \"temp_min\": 13.9, \"wind\": 2.6, \"weather\": \"sun\"}, {\"date\": \"2013-07-11T00:00:00\", \"precipitation\": 0.0, \"temp_max\": 22.8, \"temp_min\": 12.2, \"wind\": 3.0, \"weather\": \"sun\"}, {\"date\": \"2013-07-12T00:00:00\", \"precipitation\": 0.0, \"temp_max\": 19.4, \"temp_min\": 13.3, \"wind\": 2.2, \"weather\": \"sun\"}, {\"date\": \"2013-07-13T00:00:00\", \"precipitation\": 0.0, \"temp_max\": 26.1, \"temp_min\": 11.1, \"wind\": 3.1, \"weather\": \"sun\"}, {\"date\": \"2013-07-14T00:00:00\", \"precipitation\": 0.0, \"temp_max\": 27.8, \"temp_min\": 12.8, \"wind\": 3.0, \"weather\": \"sun\"}, {\"date\": \"2013-07-15T00:00:00\", \"precipitation\": 0.0, \"temp_max\": 27.8, \"temp_min\": 14.4, \"wind\": 4.6, \"weather\": \"sun\"}, {\"date\": \"2013-07-16T00:00:00\", \"precipitation\": 0.0, \"temp_max\": 31.1, \"temp_min\": 18.3, \"wind\": 4.1, \"weather\": \"sun\"}, {\"date\": \"2013-07-17T00:00:00\", \"precipitation\": 0.0, \"temp_max\": 22.2, \"temp_min\": 15.0, \"wind\": 3.7, \"weather\": \"rain\"}, {\"date\": \"2013-07-18T00:00:00\", \"precipitation\": 0.0, \"temp_max\": 26.1, \"temp_min\": 13.9, \"wind\": 2.0, \"weather\": \"sun\"}, {\"date\": \"2013-07-19T00:00:00\", \"precipitation\": 0.0, \"temp_max\": 27.8, \"temp_min\": 13.3, \"wind\": 1.9, \"weather\": \"sun\"}, {\"date\": \"2013-07-20T00:00:00\", \"precipitation\": 0.0, \"temp_max\": 25.0, \"temp_min\": 13.3, \"wind\": 2.0, \"weather\": \"sun\"}, {\"date\": \"2013-07-21T00:00:00\", \"precipitation\": 0.0, \"temp_max\": 23.9, \"temp_min\": 12.8, \"wind\": 2.3, \"weather\": \"sun\"}, {\"date\": \"2013-07-22T00:00:00\", \"precipitation\": 0.0, \"temp_max\": 26.1, \"temp_min\": 13.3, \"wind\": 2.4, \"weather\": \"fog\"}, {\"date\": \"2013-07-23T00:00:00\", \"precipitation\": 0.0, \"temp_max\": 31.1, \"temp_min\": 13.9, \"wind\": 3.0, \"weather\": \"sun\"}, {\"date\": \"2013-07-24T00:00:00\", \"precipitation\": 0.0, \"temp_max\": 31.1, \"temp_min\": 14.4, \"wind\": 2.5, \"weather\": \"sun\"}, {\"date\": \"2013-07-25T00:00:00\", \"precipitation\": 0.0, \"temp_max\": 31.1, \"temp_min\": 12.8, \"wind\": 2.3, \"weather\": \"sun\"}, {\"date\": \"2013-07-26T00:00:00\", \"precipitation\": 0.0, \"temp_max\": 31.1, \"temp_min\": 14.4, \"wind\": 2.9, \"weather\": \"sun\"}, {\"date\": \"2013-07-27T00:00:00\", \"precipitation\": 0.0, \"temp_max\": 25.6, \"temp_min\": 12.8, \"wind\": 2.6, \"weather\": \"sun\"}, {\"date\": \"2013-07-28T00:00:00\", \"precipitation\": 0.0, \"temp_max\": 21.1, \"temp_min\": 12.2, \"wind\": 3.4, \"weather\": \"fog\"}, {\"date\": \"2013-07-29T00:00:00\", \"precipitation\": 0.0, \"temp_max\": 25.0, \"temp_min\": 13.3, \"wind\": 1.4, \"weather\": \"sun\"}, {\"date\": \"2013-07-30T00:00:00\", \"precipitation\": 0.0, \"temp_max\": 25.0, \"temp_min\": 13.3, \"wind\": 2.8, \"weather\": \"sun\"}, {\"date\": \"2013-07-31T00:00:00\", \"precipitation\": 0.0, \"temp_max\": 21.7, \"temp_min\": 13.3, \"wind\": 1.8, \"weather\": \"sun\"}, {\"date\": \"2013-08-01T00:00:00\", \"precipitation\": 0.0, \"temp_max\": 20.6, \"temp_min\": 13.3, \"wind\": 3.9, \"weather\": \"sun\"}, {\"date\": \"2013-08-02T00:00:00\", \"precipitation\": 2.0, \"temp_max\": 17.2, \"temp_min\": 15.0, \"wind\": 2.0, \"weather\": \"sun\"}, {\"date\": \"2013-08-03T00:00:00\", \"precipitation\": 0.0, \"temp_max\": 25.0, \"temp_min\": 15.6, \"wind\": 2.4, \"weather\": \"fog\"}, {\"date\": \"2013-08-04T00:00:00\", \"precipitation\": 0.0, \"temp_max\": 28.9, \"temp_min\": 15.0, \"wind\": 3.4, \"weather\": \"sun\"}, {\"date\": \"2013-08-05T00:00:00\", \"precipitation\": 0.0, \"temp_max\": 30.0, \"temp_min\": 15.0, \"wind\": 2.1, \"weather\": \"sun\"}, {\"date\": \"2013-08-06T00:00:00\", \"precipitation\": 0.0, \"temp_max\": 30.6, \"temp_min\": 13.9, \"wind\": 1.4, \"weather\": \"sun\"}, {\"date\": \"2013-08-07T00:00:00\", \"precipitation\": 0.0, \"temp_max\": 31.1, \"temp_min\": 13.9, \"wind\": 1.9, \"weather\": \"sun\"}, {\"date\": \"2013-08-08T00:00:00\", \"precipitation\": 0.0, \"temp_max\": 28.3, \"temp_min\": 14.4, \"wind\": 2.5, \"weather\": \"sun\"}, {\"date\": \"2013-08-09T00:00:00\", \"precipitation\": 0.0, \"temp_max\": 28.3, \"temp_min\": 14.4, \"wind\": 2.1, \"weather\": \"rain\"}, {\"date\": \"2013-08-10T00:00:00\", \"precipitation\": 2.3, \"temp_max\": 25.6, \"temp_min\": 15.0, \"wind\": 2.9, \"weather\": \"sun\"}, {\"date\": \"2013-08-11T00:00:00\", \"precipitation\": 0.0, \"temp_max\": 25.0, \"temp_min\": 14.4, \"wind\": 2.9, \"weather\": \"sun\"}, {\"date\": \"2013-08-12T00:00:00\", \"precipitation\": 0.0, \"temp_max\": 25.6, \"temp_min\": 16.1, \"wind\": 1.9, \"weather\": \"sun\"}, {\"date\": \"2013-08-13T00:00:00\", \"precipitation\": 0.0, \"temp_max\": 27.8, \"temp_min\": 15.0, \"wind\": 1.8, \"weather\": \"sun\"}, {\"date\": \"2013-08-14T00:00:00\", \"precipitation\": 0.8, \"temp_max\": 27.2, \"temp_min\": 15.0, \"wind\": 2.0, \"weather\": \"sun\"}, {\"date\": \"2013-08-15T00:00:00\", \"precipitation\": 1.8, \"temp_max\": 21.1, \"temp_min\": 17.2, \"wind\": 1.0, \"weather\": \"sun\"}, {\"date\": \"2013-08-16T00:00:00\", \"precipitation\": 0.0, \"temp_max\": 28.9, \"temp_min\": 16.1, \"wind\": 2.2, \"weather\": \"fog\"}, {\"date\": \"2013-08-17T00:00:00\", \"precipitation\": 0.0, \"temp_max\": 25.6, \"temp_min\": 17.2, \"wind\": 3.0, \"weather\": \"sun\"}, {\"date\": \"2013-08-18T00:00:00\", \"precipitation\": 0.0, \"temp_max\": 26.1, \"temp_min\": 15.6, \"wind\": 3.1, \"weather\": \"sun\"}, {\"date\": \"2013-08-19T00:00:00\", \"precipitation\": 0.0, \"temp_max\": 26.7, \"temp_min\": 15.6, \"wind\": 3.0, \"weather\": \"sun\"}, {\"date\": \"2013-08-20T00:00:00\", \"precipitation\": 0.0, \"temp_max\": 25.6, \"temp_min\": 16.1, \"wind\": 4.6, \"weather\": \"sun\"}, {\"date\": \"2013-08-21T00:00:00\", \"precipitation\": 0.0, \"temp_max\": 27.8, \"temp_min\": 15.0, \"wind\": 4.3, \"weather\": \"sun\"}, {\"date\": \"2013-08-22T00:00:00\", \"precipitation\": 0.0, \"temp_max\": 28.9, \"temp_min\": 15.0, \"wind\": 1.9, \"weather\": \"sun\"}, {\"date\": \"2013-08-23T00:00:00\", \"precipitation\": 0.0, \"temp_max\": 25.0, \"temp_min\": 16.1, \"wind\": 4.1, \"weather\": \"sun\"}, {\"date\": \"2013-08-24T00:00:00\", \"precipitation\": 0.0, \"temp_max\": 25.0, \"temp_min\": 16.7, \"wind\": 2.7, \"weather\": \"sun\"}, {\"date\": \"2013-08-25T00:00:00\", \"precipitation\": 0.3, \"temp_max\": 22.2, \"temp_min\": 16.1, \"wind\": 2.6, \"weather\": \"sun\"}, {\"date\": \"2013-08-26T00:00:00\", \"precipitation\": 1.0, \"temp_max\": 24.4, \"temp_min\": 16.1, \"wind\": 1.9, \"weather\": \"sun\"}, {\"date\": \"2013-08-27T00:00:00\", \"precipitation\": 1.3, \"temp_max\": 26.7, \"temp_min\": 17.2, \"wind\": 1.4, \"weather\": \"sun\"}, {\"date\": \"2013-08-28T00:00:00\", \"precipitation\": 5.6, \"temp_max\": 26.7, \"temp_min\": 15.6, \"wind\": 1.3, \"weather\": \"fog\"}, {\"date\": \"2013-08-29T00:00:00\", \"precipitation\": 19.3, \"temp_max\": 23.9, \"temp_min\": 18.3, \"wind\": 3.0, \"weather\": \"sun\"}, {\"date\": \"2013-08-30T00:00:00\", \"precipitation\": 0.0, \"temp_max\": 26.1, \"temp_min\": 16.1, \"wind\": 2.9, \"weather\": \"sun\"}, {\"date\": \"2013-08-31T00:00:00\", \"precipitation\": 0.0, \"temp_max\": 27.8, \"temp_min\": 13.9, \"wind\": 2.6, \"weather\": \"sun\"}, {\"date\": \"2013-09-01T00:00:00\", \"precipitation\": 0.0, \"temp_max\": 27.8, \"temp_min\": 15.6, \"wind\": 2.5, \"weather\": \"sun\"}, {\"date\": \"2013-09-02T00:00:00\", \"precipitation\": 0.0, \"temp_max\": 27.8, \"temp_min\": 17.2, \"wind\": 2.1, \"weather\": \"sun\"}, {\"date\": \"2013-09-03T00:00:00\", \"precipitation\": 2.3, \"temp_max\": 25.0, \"temp_min\": 16.7, \"wind\": 1.7, \"weather\": \"fog\"}, {\"date\": \"2013-09-04T00:00:00\", \"precipitation\": 0.3, \"temp_max\": 22.8, \"temp_min\": 16.1, \"wind\": 2.4, \"weather\": \"fog\"}, {\"date\": \"2013-09-05T00:00:00\", \"precipitation\": 27.7, \"temp_max\": 20.0, \"temp_min\": 15.6, \"wind\": 2.5, \"weather\": \"sun\"}, {\"date\": \"2013-09-06T00:00:00\", \"precipitation\": 21.3, \"temp_max\": 21.7, \"temp_min\": 16.1, \"wind\": 2.6, \"weather\": \"fog\"}, {\"date\": \"2013-09-07T00:00:00\", \"precipitation\": 0.0, \"temp_max\": 23.3, \"temp_min\": 17.2, \"wind\": 2.0, \"weather\": \"sun\"}, {\"date\": \"2013-09-08T00:00:00\", \"precipitation\": 0.0, \"temp_max\": 26.7, \"temp_min\": 14.4, \"wind\": 1.5, \"weather\": \"fog\"}, {\"date\": \"2013-09-09T00:00:00\", \"precipitation\": 0.0, \"temp_max\": 26.1, \"temp_min\": 13.9, \"wind\": 2.1, \"weather\": \"sun\"}, {\"date\": \"2013-09-10T00:00:00\", \"precipitation\": 0.0, \"temp_max\": 26.7, \"temp_min\": 15.0, \"wind\": 3.7, \"weather\": \"sun\"}, {\"date\": \"2013-09-11T00:00:00\", \"precipitation\": 0.0, \"temp_max\": 33.9, \"temp_min\": 16.1, \"wind\": 2.4, \"weather\": \"sun\"}, {\"date\": \"2013-09-12T00:00:00\", \"precipitation\": 0.0, \"temp_max\": 25.6, \"temp_min\": 15.0, \"wind\": 1.7, \"weather\": \"sun\"}, {\"date\": \"2013-09-13T00:00:00\", \"precipitation\": 0.0, \"temp_max\": 18.9, \"temp_min\": 15.6, \"wind\": 2.0, \"weather\": \"sun\"}, {\"date\": \"2013-09-14T00:00:00\", \"precipitation\": 0.0, \"temp_max\": 21.7, \"temp_min\": 15.6, \"wind\": 1.4, \"weather\": \"fog\"}, {\"date\": \"2013-09-15T00:00:00\", \"precipitation\": 3.3, \"temp_max\": 18.9, \"temp_min\": 14.4, \"wind\": 2.2, \"weather\": \"sun\"}, {\"date\": \"2013-09-16T00:00:00\", \"precipitation\": 0.3, \"temp_max\": 21.7, \"temp_min\": 15.0, \"wind\": 4.3, \"weather\": \"fog\"}, {\"date\": \"2013-09-17T00:00:00\", \"precipitation\": 0.0, \"temp_max\": 17.8, \"temp_min\": 13.9, \"wind\": 2.3, \"weather\": \"sun\"}, {\"date\": \"2013-09-18T00:00:00\", \"precipitation\": 0.0, \"temp_max\": 21.1, \"temp_min\": 13.3, \"wind\": 2.5, \"weather\": \"sun\"}, {\"date\": \"2013-09-19T00:00:00\", \"precipitation\": 0.0, \"temp_max\": 25.6, \"temp_min\": 10.0, \"wind\": 1.5, \"weather\": \"sun\"}, {\"date\": \"2013-09-20T00:00:00\", \"precipitation\": 3.6, \"temp_max\": 23.3, \"temp_min\": 13.3, \"wind\": 3.0, \"weather\": \"fog\"}, {\"date\": \"2013-09-21T00:00:00\", \"precipitation\": 0.0, \"temp_max\": 21.1, \"temp_min\": 13.3, \"wind\": 2.5, \"weather\": \"sun\"}, {\"date\": \"2013-09-22T00:00:00\", \"precipitation\": 13.5, \"temp_max\": 17.2, \"temp_min\": 13.3, \"wind\": 5.5, \"weather\": \"fog\"}, {\"date\": \"2013-09-23T00:00:00\", \"precipitation\": 2.8, \"temp_max\": 16.1, \"temp_min\": 11.1, \"wind\": 4.5, \"weather\": \"fog\"}, {\"date\": \"2013-09-24T00:00:00\", \"precipitation\": 0.0, \"temp_max\": 17.8, \"temp_min\": 10.0, \"wind\": 2.6, \"weather\": \"sun\"}, {\"date\": \"2013-09-25T00:00:00\", \"precipitation\": 2.0, \"temp_max\": 16.1, \"temp_min\": 9.4, \"wind\": 3.0, \"weather\": \"fog\"}, {\"date\": \"2013-09-26T00:00:00\", \"precipitation\": 0.0, \"temp_max\": 17.2, \"temp_min\": 7.2, \"wind\": 2.2, \"weather\": \"sun\"}, {\"date\": \"2013-09-27T00:00:00\", \"precipitation\": 1.0, \"temp_max\": 13.9, \"temp_min\": 10.6, \"wind\": 4.3, \"weather\": \"fog\"}, {\"date\": \"2013-09-28T00:00:00\", \"precipitation\": 43.4, \"temp_max\": 16.7, \"temp_min\": 11.7, \"wind\": 6.0, \"weather\": \"fog\"}, {\"date\": \"2013-09-29T00:00:00\", \"precipitation\": 16.8, \"temp_max\": 14.4, \"temp_min\": 11.1, \"wind\": 7.1, \"weather\": \"sun\"}, {\"date\": \"2013-09-30T00:00:00\", \"precipitation\": 18.5, \"temp_max\": 13.9, \"temp_min\": 10.0, \"wind\": 6.3, \"weather\": \"fog\"}, {\"date\": \"2013-10-01T00:00:00\", \"precipitation\": 7.9, \"temp_max\": 14.4, \"temp_min\": 8.9, \"wind\": 4.7, \"weather\": \"fog\"}, {\"date\": \"2013-10-02T00:00:00\", \"precipitation\": 5.3, \"temp_max\": 12.8, \"temp_min\": 9.4, \"wind\": 2.4, \"weather\": \"fog\"}, {\"date\": \"2013-10-03T00:00:00\", \"precipitation\": 0.8, \"temp_max\": 14.4, \"temp_min\": 8.9, \"wind\": 0.9, \"weather\": \"fog\"}, {\"date\": \"2013-10-04T00:00:00\", \"precipitation\": 0.0, \"temp_max\": 17.8, \"temp_min\": 5.6, \"wind\": 1.1, \"weather\": \"sun\"}, {\"date\": \"2013-10-05T00:00:00\", \"precipitation\": 0.0, \"temp_max\": 20.0, \"temp_min\": 8.3, \"wind\": 1.6, \"weather\": \"sun\"}, {\"date\": \"2013-10-06T00:00:00\", \"precipitation\": 4.1, \"temp_max\": 22.8, \"temp_min\": 7.8, \"wind\": 2.6, \"weather\": \"fog\"}, {\"date\": \"2013-10-07T00:00:00\", \"precipitation\": 0.5, \"temp_max\": 16.1, \"temp_min\": 11.7, \"wind\": 6.3, \"weather\": \"fog\"}, {\"date\": \"2013-10-08T00:00:00\", \"precipitation\": 6.9, \"temp_max\": 13.9, \"temp_min\": 7.8, \"wind\": 3.0, \"weather\": \"rain\"}, {\"date\": \"2013-10-09T00:00:00\", \"precipitation\": 0.0, \"temp_max\": 15.0, \"temp_min\": 5.6, \"wind\": 1.6, \"weather\": \"sun\"}, {\"date\": \"2013-10-10T00:00:00\", \"precipitation\": 1.0, \"temp_max\": 14.4, \"temp_min\": 8.3, \"wind\": 1.7, \"weather\": \"fog\"}, {\"date\": \"2013-10-11T00:00:00\", \"precipitation\": 9.1, \"temp_max\": 13.9, \"temp_min\": 10.6, \"wind\": 1.0, \"weather\": \"sun\"}, {\"date\": \"2013-10-12T00:00:00\", \"precipitation\": 1.0, \"temp_max\": 14.4, \"temp_min\": 8.9, \"wind\": 2.2, \"weather\": \"fog\"}, {\"date\": \"2013-10-13T00:00:00\", \"precipitation\": 0.0, \"temp_max\": 15.0, \"temp_min\": 6.7, \"wind\": 1.8, \"weather\": \"fog\"}, {\"date\": \"2013-10-14T00:00:00\", \"precipitation\": 0.0, \"temp_max\": 15.6, \"temp_min\": 3.9, \"wind\": 1.6, \"weather\": \"sun\"}, {\"date\": \"2013-10-15T00:00:00\", \"precipitation\": 0.0, \"temp_max\": 15.6, \"temp_min\": 5.0, \"wind\": 0.9, \"weather\": \"sun\"}, {\"date\": \"2013-10-16T00:00:00\", \"precipitation\": 0.0, \"temp_max\": 12.8, \"temp_min\": 8.9, \"wind\": 2.7, \"weather\": \"fog\"}, {\"date\": \"2013-10-17T00:00:00\", \"precipitation\": 0.0, \"temp_max\": 14.4, \"temp_min\": 8.9, \"wind\": 1.7, \"weather\": \"fog\"}, {\"date\": \"2013-10-18T00:00:00\", \"precipitation\": 0.0, \"temp_max\": 12.8, \"temp_min\": 7.2, \"wind\": 1.2, \"weather\": \"sun\"}, {\"date\": \"2013-10-19T00:00:00\", \"precipitation\": 0.0, \"temp_max\": 10.6, \"temp_min\": 7.8, \"wind\": 1.4, \"weather\": \"sun\"}, {\"date\": \"2013-10-20T00:00:00\", \"precipitation\": 0.0, \"temp_max\": 10.6, \"temp_min\": 7.8, \"wind\": 2.4, \"weather\": \"sun\"}, {\"date\": \"2013-10-21T00:00:00\", \"precipitation\": 0.0, \"temp_max\": 11.7, \"temp_min\": 8.3, \"wind\": 2.5, \"weather\": \"sun\"}, {\"date\": \"2013-10-22T00:00:00\", \"precipitation\": 0.0, \"temp_max\": 14.4, \"temp_min\": 7.2, \"wind\": 1.9, \"weather\": \"sun\"}, {\"date\": \"2013-10-23T00:00:00\", \"precipitation\": 0.0, \"temp_max\": 12.8, \"temp_min\": 6.1, \"wind\": 0.4, \"weather\": \"sun\"}, {\"date\": \"2013-10-24T00:00:00\", \"precipitation\": 0.0, \"temp_max\": 10.0, \"temp_min\": 6.1, \"wind\": 0.6, \"weather\": \"sun\"}, {\"date\": \"2013-10-25T00:00:00\", \"precipitation\": 0.0, \"temp_max\": 12.2, \"temp_min\": 7.8, \"wind\": 1.8, \"weather\": \"sun\"}, {\"date\": \"2013-10-26T00:00:00\", \"precipitation\": 0.0, \"temp_max\": 11.7, \"temp_min\": 8.3, \"wind\": 2.7, \"weather\": \"sun\"}, {\"date\": \"2013-10-27T00:00:00\", \"precipitation\": 1.8, \"temp_max\": 13.9, \"temp_min\": 8.3, \"wind\": 4.4, \"weather\": \"fog\"}, {\"date\": \"2013-10-28T00:00:00\", \"precipitation\": 0.0, \"temp_max\": 14.4, \"temp_min\": 7.2, \"wind\": 5.1, \"weather\": \"sun\"}, {\"date\": \"2013-10-29T00:00:00\", \"precipitation\": 0.0, \"temp_max\": 13.3, \"temp_min\": 3.3, \"wind\": 2.2, \"weather\": \"sun\"}, {\"date\": \"2013-10-30T00:00:00\", \"precipitation\": 0.5, \"temp_max\": 15.0, \"temp_min\": 5.6, \"wind\": 3.9, \"weather\": \"sun\"}, {\"date\": \"2013-10-31T00:00:00\", \"precipitation\": 0.3, \"temp_max\": 14.4, \"temp_min\": 10.6, \"wind\": 2.2, \"weather\": \"fog\"}, {\"date\": \"2013-11-01T00:00:00\", \"precipitation\": 1.3, \"temp_max\": 17.8, \"temp_min\": 11.7, \"wind\": 1.4, \"weather\": \"sun\"}, {\"date\": \"2013-11-02T00:00:00\", \"precipitation\": 12.7, \"temp_max\": 14.4, \"temp_min\": 8.3, \"wind\": 7.9, \"weather\": \"fog\"}, {\"date\": \"2013-11-03T00:00:00\", \"precipitation\": 0.5, \"temp_max\": 12.2, \"temp_min\": 4.4, \"wind\": 2.4, \"weather\": \"sun\"}, {\"date\": \"2013-11-04T00:00:00\", \"precipitation\": 0.0, \"temp_max\": 10.6, \"temp_min\": 3.9, \"wind\": 1.6, \"weather\": \"drizzle\"}, {\"date\": \"2013-11-05T00:00:00\", \"precipitation\": 2.5, \"temp_max\": 13.3, \"temp_min\": 7.2, \"wind\": 3.1, \"weather\": \"fog\"}, {\"date\": \"2013-11-06T00:00:00\", \"precipitation\": 3.8, \"temp_max\": 12.8, \"temp_min\": 7.8, \"wind\": 1.7, \"weather\": \"sun\"}, {\"date\": \"2013-11-07T00:00:00\", \"precipitation\": 30.0, \"temp_max\": 11.1, \"temp_min\": 10.0, \"wind\": 7.2, \"weather\": \"fog\"}, {\"date\": \"2013-11-08T00:00:00\", \"precipitation\": 0.0, \"temp_max\": 13.3, \"temp_min\": 7.2, \"wind\": 4.1, \"weather\": \"sun\"}, {\"date\": \"2013-11-09T00:00:00\", \"precipitation\": 1.8, \"temp_max\": 11.1, \"temp_min\": 5.0, \"wind\": 1.4, \"weather\": \"sun\"}, {\"date\": \"2013-11-10T00:00:00\", \"precipitation\": 0.0, \"temp_max\": 11.1, \"temp_min\": 8.3, \"wind\": 4.4, \"weather\": \"sun\"}, {\"date\": \"2013-11-11T00:00:00\", \"precipitation\": 0.0, \"temp_max\": 16.1, \"temp_min\": 6.1, \"wind\": 2.6, \"weather\": \"fog\"}, {\"date\": \"2013-11-12T00:00:00\", \"precipitation\": 4.1, \"temp_max\": 15.6, \"temp_min\": 8.9, \"wind\": 2.2, \"weather\": \"fog\"}, {\"date\": \"2013-11-13T00:00:00\", \"precipitation\": 0.0, \"temp_max\": 13.9, \"temp_min\": 10.6, \"wind\": 3.8, \"weather\": \"sun\"}, {\"date\": \"2013-11-14T00:00:00\", \"precipitation\": 1.3, \"temp_max\": 11.1, \"temp_min\": 6.1, \"wind\": 1.1, \"weather\": \"fog\"}, {\"date\": \"2013-11-15T00:00:00\", \"precipitation\": 3.0, \"temp_max\": 10.6, \"temp_min\": 7.2, \"wind\": 6.0, \"weather\": \"sun\"}, {\"date\": \"2013-11-16T00:00:00\", \"precipitation\": 0.0, \"temp_max\": 10.0, \"temp_min\": 5.0, \"wind\": 4.6, \"weather\": \"sun\"}, {\"date\": \"2013-11-17T00:00:00\", \"precipitation\": 5.3, \"temp_max\": 11.7, \"temp_min\": 7.2, \"wind\": 5.4, \"weather\": \"fog\"}, {\"date\": \"2013-11-18T00:00:00\", \"precipitation\": 26.2, \"temp_max\": 12.8, \"temp_min\": 9.4, \"wind\": 3.9, \"weather\": \"fog\"}, {\"date\": \"2013-11-19T00:00:00\", \"precipitation\": 1.0, \"temp_max\": 13.3, \"temp_min\": 4.4, \"wind\": 5.1, \"weather\": \"fog\"}, {\"date\": \"2013-11-20T00:00:00\", \"precipitation\": 0.0, \"temp_max\": 7.8, \"temp_min\": 1.7, \"wind\": 4.3, \"weather\": \"sun\"}, {\"date\": \"2013-11-21T00:00:00\", \"precipitation\": 0.0, \"temp_max\": 7.8, \"temp_min\": -0.5, \"wind\": 3.6, \"weather\": \"sun\"}, {\"date\": \"2013-11-22T00:00:00\", \"precipitation\": 0.0, \"temp_max\": 9.4, \"temp_min\": 0.0, \"wind\": 4.6, \"weather\": \"sun\"}, {\"date\": \"2013-11-23T00:00:00\", \"precipitation\": 0.0, \"temp_max\": 11.1, \"temp_min\": 1.1, \"wind\": 2.6, \"weather\": \"sun\"}, {\"date\": \"2013-11-24T00:00:00\", \"precipitation\": 0.0, \"temp_max\": 11.7, \"temp_min\": 0.6, \"wind\": 0.9, \"weather\": \"fog\"}, {\"date\": \"2013-11-25T00:00:00\", \"precipitation\": 0.0, \"temp_max\": 12.2, \"temp_min\": 2.2, \"wind\": 0.5, \"weather\": \"sun\"}, {\"date\": \"2013-11-26T00:00:00\", \"precipitation\": 0.0, \"temp_max\": 12.2, \"temp_min\": 2.8, \"wind\": 1.0, \"weather\": \"sun\"}, {\"date\": \"2013-11-27T00:00:00\", \"precipitation\": 0.0, \"temp_max\": 14.4, \"temp_min\": 5.6, \"wind\": 1.3, \"weather\": \"sun\"}, {\"date\": \"2013-11-28T00:00:00\", \"precipitation\": 0.0, \"temp_max\": 11.7, \"temp_min\": 3.3, \"wind\": 0.7, \"weather\": \"sun\"}, {\"date\": \"2013-11-29T00:00:00\", \"precipitation\": 0.5, \"temp_max\": 9.4, \"temp_min\": 5.0, \"wind\": 2.1, \"weather\": \"fog\"}, {\"date\": \"2013-11-30T00:00:00\", \"precipitation\": 2.3, \"temp_max\": 11.1, \"temp_min\": 7.2, \"wind\": 3.9, \"weather\": \"fog\"}, {\"date\": \"2013-12-01T00:00:00\", \"precipitation\": 3.0, \"temp_max\": 13.3, \"temp_min\": 7.8, \"wind\": 8.8, \"weather\": \"fog\"}, {\"date\": \"2013-12-02T00:00:00\", \"precipitation\": 4.6, \"temp_max\": 7.8, \"temp_min\": 1.7, \"wind\": 3.5, \"weather\": \"sun\"}, {\"date\": \"2013-12-03T00:00:00\", \"precipitation\": 0.0, \"temp_max\": 5.0, \"temp_min\": -0.5, \"wind\": 5.6, \"weather\": \"sun\"}, {\"date\": \"2013-12-04T00:00:00\", \"precipitation\": 0.0, \"temp_max\": 4.4, \"temp_min\": -2.1, \"wind\": 1.6, \"weather\": \"sun\"}, {\"date\": \"2013-12-05T00:00:00\", \"precipitation\": 0.0, \"temp_max\": 1.1, \"temp_min\": -4.9, \"wind\": 2.6, \"weather\": \"sun\"}, {\"date\": \"2013-12-06T00:00:00\", \"precipitation\": 0.0, \"temp_max\": 1.1, \"temp_min\": -4.3, \"wind\": 4.7, \"weather\": \"sun\"}, {\"date\": \"2013-12-07T00:00:00\", \"precipitation\": 0.0, \"temp_max\": 0.0, \"temp_min\": -7.1, \"wind\": 3.1, \"weather\": \"sun\"}, {\"date\": \"2013-12-08T00:00:00\", \"precipitation\": 0.0, \"temp_max\": 2.2, \"temp_min\": -6.6, \"wind\": 2.2, \"weather\": \"sun\"}, {\"date\": \"2013-12-09T00:00:00\", \"precipitation\": 0.0, \"temp_max\": 1.1, \"temp_min\": -4.9, \"wind\": 1.3, \"weather\": \"sun\"}, {\"date\": \"2013-12-10T00:00:00\", \"precipitation\": 0.0, \"temp_max\": 5.6, \"temp_min\": 0.6, \"wind\": 1.5, \"weather\": \"sun\"}, {\"date\": \"2013-12-11T00:00:00\", \"precipitation\": 0.0, \"temp_max\": 5.0, \"temp_min\": -1.6, \"wind\": 0.8, \"weather\": \"sun\"}, {\"date\": \"2013-12-12T00:00:00\", \"precipitation\": 6.9, \"temp_max\": 5.6, \"temp_min\": -0.5, \"wind\": 2.3, \"weather\": \"sun\"}, {\"date\": \"2013-12-13T00:00:00\", \"precipitation\": 0.5, \"temp_max\": 9.4, \"temp_min\": 5.6, \"wind\": 2.9, \"weather\": \"fog\"}, {\"date\": \"2013-12-14T00:00:00\", \"precipitation\": 0.0, \"temp_max\": 9.4, \"temp_min\": 6.1, \"wind\": 3.7, \"weather\": \"sun\"}, {\"date\": \"2013-12-15T00:00:00\", \"precipitation\": 1.3, \"temp_max\": 11.7, \"temp_min\": 8.3, \"wind\": 3.9, \"weather\": \"fog\"}, {\"date\": \"2013-12-16T00:00:00\", \"precipitation\": 0.3, \"temp_max\": 10.0, \"temp_min\": 4.4, \"wind\": 1.0, \"weather\": \"sun\"}, {\"date\": \"2013-12-17T00:00:00\", \"precipitation\": 0.0, \"temp_max\": 8.3, \"temp_min\": 4.4, \"wind\": 2.7, \"weather\": \"sun\"}, {\"date\": \"2013-12-18T00:00:00\", \"precipitation\": 1.3, \"temp_max\": 7.8, \"temp_min\": 2.2, \"wind\": 2.8, \"weather\": \"fog\"}, {\"date\": \"2013-12-19T00:00:00\", \"precipitation\": 0.0, \"temp_max\": 5.0, \"temp_min\": 0.0, \"wind\": 2.1, \"weather\": \"sun\"}, {\"date\": \"2013-12-20T00:00:00\", \"precipitation\": 5.6, \"temp_max\": 8.3, \"temp_min\": 0.6, \"wind\": 3.7, \"weather\": \"fog\"}, {\"date\": \"2013-12-21T00:00:00\", \"precipitation\": 5.6, \"temp_max\": 8.9, \"temp_min\": 5.6, \"wind\": 2.3, \"weather\": \"fog\"}, {\"date\": \"2013-12-22T00:00:00\", \"precipitation\": 10.7, \"temp_max\": 10.6, \"temp_min\": 8.3, \"wind\": 4.0, \"weather\": \"fog\"}, {\"date\": \"2013-12-23T00:00:00\", \"precipitation\": 1.5, \"temp_max\": 11.7, \"temp_min\": 6.1, \"wind\": 5.9, \"weather\": \"fog\"}, {\"date\": \"2013-12-24T00:00:00\", \"precipitation\": 0.0, \"temp_max\": 8.3, \"temp_min\": 2.8, \"wind\": 1.7, \"weather\": \"sun\"}, {\"date\": \"2013-12-25T00:00:00\", \"precipitation\": 0.0, \"temp_max\": 6.7, \"temp_min\": 1.7, \"wind\": 0.8, \"weather\": \"sun\"}, {\"date\": \"2013-12-26T00:00:00\", \"precipitation\": 0.0, \"temp_max\": 6.7, \"temp_min\": 0.6, \"wind\": 0.5, \"weather\": \"sun\"}, {\"date\": \"2013-12-27T00:00:00\", \"precipitation\": 0.3, \"temp_max\": 8.9, \"temp_min\": 0.0, \"wind\": 2.1, \"weather\": \"fog\"}, {\"date\": \"2013-12-28T00:00:00\", \"precipitation\": 0.0, \"temp_max\": 9.4, \"temp_min\": 3.3, \"wind\": 1.3, \"weather\": \"sun\"}, {\"date\": \"2013-12-29T00:00:00\", \"precipitation\": 0.0, \"temp_max\": 7.2, \"temp_min\": 1.7, \"wind\": 1.1, \"weather\": \"sun\"}, {\"date\": \"2013-12-30T00:00:00\", \"precipitation\": 0.3, \"temp_max\": 8.9, \"temp_min\": 4.4, \"wind\": 2.6, \"weather\": \"sun\"}, {\"date\": \"2013-12-31T00:00:00\", \"precipitation\": 0.5, \"temp_max\": 8.3, \"temp_min\": 5.0, \"wind\": 1.7, \"weather\": \"sun\"}, {\"date\": \"2014-01-01T00:00:00\", \"precipitation\": 0.0, \"temp_max\": 7.2, \"temp_min\": 3.3, \"wind\": 1.2, \"weather\": \"sun\"}, {\"date\": \"2014-01-02T00:00:00\", \"precipitation\": 4.1, \"temp_max\": 10.6, \"temp_min\": 6.1, \"wind\": 3.2, \"weather\": \"sun\"}, {\"date\": \"2014-01-03T00:00:00\", \"precipitation\": 1.5, \"temp_max\": 8.9, \"temp_min\": 2.8, \"wind\": 2.6, \"weather\": \"fog\"}, {\"date\": \"2014-01-04T00:00:00\", \"precipitation\": 0.0, \"temp_max\": 7.8, \"temp_min\": 0.6, \"wind\": 2.7, \"weather\": \"fog\"}, {\"date\": \"2014-01-05T00:00:00\", \"precipitation\": 0.0, \"temp_max\": 8.3, \"temp_min\": -0.5, \"wind\": 3.7, \"weather\": \"sun\"}, {\"date\": \"2014-01-06T00:00:00\", \"precipitation\": 0.3, \"temp_max\": 7.8, \"temp_min\": -0.5, \"wind\": 2.6, \"weather\": \"fog\"}, {\"date\": \"2014-01-07T00:00:00\", \"precipitation\": 12.2, \"temp_max\": 8.3, \"temp_min\": 5.0, \"wind\": 1.6, \"weather\": \"sun\"}, {\"date\": \"2014-01-08T00:00:00\", \"precipitation\": 9.7, \"temp_max\": 10.0, \"temp_min\": 7.2, \"wind\": 4.6, \"weather\": \"fog\"}, {\"date\": \"2014-01-09T00:00:00\", \"precipitation\": 5.8, \"temp_max\": 9.4, \"temp_min\": 5.6, \"wind\": 6.3, \"weather\": \"fog\"}, {\"date\": \"2014-01-10T00:00:00\", \"precipitation\": 4.3, \"temp_max\": 12.8, \"temp_min\": 8.3, \"wind\": 7.0, \"weather\": \"sun\"}, {\"date\": \"2014-01-11T00:00:00\", \"precipitation\": 21.3, \"temp_max\": 14.4, \"temp_min\": 7.2, \"wind\": 8.8, \"weather\": \"fog\"}, {\"date\": \"2014-01-12T00:00:00\", \"precipitation\": 1.5, \"temp_max\": 11.1, \"temp_min\": 5.6, \"wind\": 8.1, \"weather\": \"fog\"}, {\"date\": \"2014-01-13T00:00:00\", \"precipitation\": 0.0, \"temp_max\": 10.6, \"temp_min\": 10.0, \"wind\": 7.1, \"weather\": \"sun\"}, {\"date\": \"2014-01-14T00:00:00\", \"precipitation\": 0.0, \"temp_max\": 11.1, \"temp_min\": 7.2, \"wind\": 1.3, \"weather\": \"sun\"}, {\"date\": \"2014-01-15T00:00:00\", \"precipitation\": 0.0, \"temp_max\": 11.1, \"temp_min\": 5.6, \"wind\": 2.5, \"weather\": \"sun\"}, {\"date\": \"2014-01-16T00:00:00\", \"precipitation\": 0.0, \"temp_max\": 6.7, \"temp_min\": 4.4, \"wind\": 2.7, \"weather\": \"sun\"}, {\"date\": \"2014-01-17T00:00:00\", \"precipitation\": 0.0, \"temp_max\": 5.6, \"temp_min\": 2.8, \"wind\": 2.3, \"weather\": \"sun\"}, {\"date\": \"2014-01-18T00:00:00\", \"precipitation\": 0.0, \"temp_max\": 9.4, \"temp_min\": 0.6, \"wind\": 2.2, \"weather\": \"sun\"}, {\"date\": \"2014-01-19T00:00:00\", \"precipitation\": 0.0, \"temp_max\": 6.1, \"temp_min\": 3.3, \"wind\": 2.5, \"weather\": \"sun\"}, {\"date\": \"2014-01-20T00:00:00\", \"precipitation\": 0.0, \"temp_max\": 10.0, \"temp_min\": 2.8, \"wind\": 2.2, \"weather\": \"sun\"}, {\"date\": \"2014-01-21T00:00:00\", \"precipitation\": 0.0, \"temp_max\": 10.0, \"temp_min\": 1.7, \"wind\": 1.5, \"weather\": \"sun\"}, {\"date\": \"2014-01-22T00:00:00\", \"precipitation\": 0.5, \"temp_max\": 9.4, \"temp_min\": 5.6, \"wind\": 2.6, \"weather\": \"sun\"}, {\"date\": \"2014-01-23T00:00:00\", \"precipitation\": 0.0, \"temp_max\": 10.0, \"temp_min\": 2.8, \"wind\": 5.2, \"weather\": \"fog\"}, {\"date\": \"2014-01-24T00:00:00\", \"precipitation\": 0.0, \"temp_max\": 12.8, \"temp_min\": 1.1, \"wind\": 1.9, \"weather\": \"sun\"}, {\"date\": \"2014-01-25T00:00:00\", \"precipitation\": 0.0, \"temp_max\": 12.2, \"temp_min\": 1.1, \"wind\": 0.8, \"weather\": \"sun\"}, {\"date\": \"2014-01-26T00:00:00\", \"precipitation\": 0.0, \"temp_max\": 8.3, \"temp_min\": 0.6, \"wind\": 1.3, \"weather\": \"sun\"}, {\"date\": \"2014-01-27T00:00:00\", \"precipitation\": 0.0, \"temp_max\": 9.4, \"temp_min\": 1.7, \"wind\": 1.3, \"weather\": \"sun\"}, {\"date\": \"2014-01-28T00:00:00\", \"precipitation\": 8.9, \"temp_max\": 11.1, \"temp_min\": 6.1, \"wind\": 1.6, \"weather\": \"fog\"}, {\"date\": \"2014-01-29T00:00:00\", \"precipitation\": 21.6, \"temp_max\": 11.1, \"temp_min\": 7.2, \"wind\": 3.4, \"weather\": \"fog\"}, {\"date\": \"2014-01-30T00:00:00\", \"precipitation\": 0.0, \"temp_max\": 8.3, \"temp_min\": 6.1, \"wind\": 6.4, \"weather\": \"sun\"}, {\"date\": \"2014-01-31T00:00:00\", \"precipitation\": 2.3, \"temp_max\": 7.8, \"temp_min\": 5.6, \"wind\": 2.6, \"weather\": \"fog\"}, {\"date\": \"2014-02-01T00:00:00\", \"precipitation\": 2.0, \"temp_max\": 7.8, \"temp_min\": 2.8, \"wind\": 0.8, \"weather\": \"sun\"}, {\"date\": \"2014-02-02T00:00:00\", \"precipitation\": 0.0, \"temp_max\": 8.9, \"temp_min\": 1.1, \"wind\": 2.5, \"weather\": \"sun\"}, {\"date\": \"2014-02-03T00:00:00\", \"precipitation\": 0.0, \"temp_max\": 5.0, \"temp_min\": 0.0, \"wind\": 4.3, \"weather\": \"sun\"}, {\"date\": \"2014-02-04T00:00:00\", \"precipitation\": 0.0, \"temp_max\": 2.8, \"temp_min\": -2.1, \"wind\": 4.7, \"weather\": \"sun\"}, {\"date\": \"2014-02-05T00:00:00\", \"precipitation\": 0.0, \"temp_max\": -0.5, \"temp_min\": -5.5, \"wind\": 6.6, \"weather\": \"sun\"}, {\"date\": \"2014-02-06T00:00:00\", \"precipitation\": 0.0, \"temp_max\": -1.6, \"temp_min\": -6.0, \"wind\": 4.5, \"weather\": \"sun\"}, {\"date\": \"2014-02-07T00:00:00\", \"precipitation\": 0.0, \"temp_max\": 3.3, \"temp_min\": -4.9, \"wind\": 4.2, \"weather\": \"sun\"}, {\"date\": \"2014-02-08T00:00:00\", \"precipitation\": 5.1, \"temp_max\": 5.6, \"temp_min\": -0.5, \"wind\": 4.6, \"weather\": \"fog\"}, {\"date\": \"2014-02-09T00:00:00\", \"precipitation\": 0.5, \"temp_max\": 3.9, \"temp_min\": 0.0, \"wind\": 2.4, \"weather\": \"fog\"}, {\"date\": \"2014-02-10T00:00:00\", \"precipitation\": 18.3, \"temp_max\": 10.0, \"temp_min\": 2.2, \"wind\": 4.7, \"weather\": \"fog\"}, {\"date\": \"2014-02-11T00:00:00\", \"precipitation\": 17.0, \"temp_max\": 12.2, \"temp_min\": 5.6, \"wind\": 3.8, \"weather\": \"fog\"}, {\"date\": \"2014-02-12T00:00:00\", \"precipitation\": 4.6, \"temp_max\": 12.2, \"temp_min\": 7.2, \"wind\": 6.4, \"weather\": \"fog\"}, {\"date\": \"2014-02-13T00:00:00\", \"precipitation\": 1.8, \"temp_max\": 12.8, \"temp_min\": 7.8, \"wind\": 6.3, \"weather\": \"fog\"}, {\"date\": \"2014-02-14T00:00:00\", \"precipitation\": 9.4, \"temp_max\": 11.7, \"temp_min\": 6.1, \"wind\": 6.4, \"weather\": \"fog\"}, {\"date\": \"2014-02-15T00:00:00\", \"precipitation\": 11.7, \"temp_max\": 11.1, \"temp_min\": 5.0, \"wind\": 5.1, \"weather\": \"fog\"}, {\"date\": \"2014-02-16T00:00:00\", \"precipitation\": 26.4, \"temp_max\": 9.4, \"temp_min\": 3.9, \"wind\": 7.9, \"weather\": \"fog\"}, {\"date\": \"2014-02-17T00:00:00\", \"precipitation\": 14.5, \"temp_max\": 8.3, \"temp_min\": 4.4, \"wind\": 5.5, \"weather\": \"fog\"}, {\"date\": \"2014-02-18T00:00:00\", \"precipitation\": 15.2, \"temp_max\": 8.9, \"temp_min\": 5.0, \"wind\": 6.2, \"weather\": \"fog\"}, {\"date\": \"2014-02-19T00:00:00\", \"precipitation\": 1.0, \"temp_max\": 8.3, \"temp_min\": 3.9, \"wind\": 6.0, \"weather\": \"sun\"}, {\"date\": \"2014-02-20T00:00:00\", \"precipitation\": 3.0, \"temp_max\": 10.0, \"temp_min\": 5.6, \"wind\": 6.9, \"weather\": \"fog\"}, {\"date\": \"2014-02-21T00:00:00\", \"precipitation\": 2.8, \"temp_max\": 6.7, \"temp_min\": 3.9, \"wind\": 2.9, \"weather\": \"fog\"}, {\"date\": \"2014-02-22T00:00:00\", \"precipitation\": 2.5, \"temp_max\": 5.6, \"temp_min\": 2.8, \"wind\": 3.1, \"weather\": \"fog\"}, {\"date\": \"2014-02-23T00:00:00\", \"precipitation\": 6.1, \"temp_max\": 7.2, \"temp_min\": 3.9, \"wind\": 2.6, \"weather\": \"fog\"}, {\"date\": \"2014-02-24T00:00:00\", \"precipitation\": 13.0, \"temp_max\": 6.7, \"temp_min\": 3.3, \"wind\": 3.2, \"weather\": \"fog\"}, {\"date\": \"2014-02-25T00:00:00\", \"precipitation\": 0.3, \"temp_max\": 12.2, \"temp_min\": 3.9, \"wind\": 4.5, \"weather\": \"fog\"}, {\"date\": \"2014-02-26T00:00:00\", \"precipitation\": 0.0, \"temp_max\": 13.9, \"temp_min\": 5.6, \"wind\": 2.5, \"weather\": \"sun\"}, {\"date\": \"2014-02-27T00:00:00\", \"precipitation\": 0.0, \"temp_max\": 12.8, \"temp_min\": 4.4, \"wind\": 2.3, \"weather\": \"sun\"}, {\"date\": \"2014-02-28T00:00:00\", \"precipitation\": 0.0, \"temp_max\": 14.4, \"temp_min\": 4.4, \"wind\": 5.9, \"weather\": \"sun\"}, {\"date\": \"2014-03-01T00:00:00\", \"precipitation\": 0.5, \"temp_max\": 7.2, \"temp_min\": 4.4, \"wind\": 4.7, \"weather\": \"sun\"}, {\"date\": \"2014-03-02T00:00:00\", \"precipitation\": 19.1, \"temp_max\": 11.1, \"temp_min\": 2.8, \"wind\": 5.7, \"weather\": \"fog\"}, {\"date\": \"2014-03-03T00:00:00\", \"precipitation\": 10.7, \"temp_max\": 14.4, \"temp_min\": 8.9, \"wind\": 5.1, \"weather\": \"fog\"}, {\"date\": \"2014-03-04T00:00:00\", \"precipitation\": 16.5, \"temp_max\": 13.9, \"temp_min\": 7.8, \"wind\": 3.9, \"weather\": \"fog\"}, {\"date\": \"2014-03-05T00:00:00\", \"precipitation\": 46.7, \"temp_max\": 15.6, \"temp_min\": 10.6, \"wind\": 3.9, \"weather\": \"fog\"}, {\"date\": \"2014-03-06T00:00:00\", \"precipitation\": 3.0, \"temp_max\": 13.3, \"temp_min\": 10.0, \"wind\": 6.2, \"weather\": \"fog\"}, {\"date\": \"2014-03-07T00:00:00\", \"precipitation\": 0.0, \"temp_max\": 15.6, \"temp_min\": 8.9, \"wind\": 4.2, \"weather\": \"sun\"}, {\"date\": \"2014-03-08T00:00:00\", \"precipitation\": 32.3, \"temp_max\": 12.8, \"temp_min\": 6.7, \"wind\": 2.7, \"weather\": \"fog\"}, {\"date\": \"2014-03-09T00:00:00\", \"precipitation\": 4.3, \"temp_max\": 15.0, \"temp_min\": 9.4, \"wind\": 4.3, \"weather\": \"fog\"}, {\"date\": \"2014-03-10T00:00:00\", \"precipitation\": 18.8, \"temp_max\": 12.2, \"temp_min\": 6.1, \"wind\": 2.2, \"weather\": \"fog\"}, {\"date\": \"2014-03-11T00:00:00\", \"precipitation\": 0.0, \"temp_max\": 14.4, \"temp_min\": 4.4, \"wind\": 2.3, \"weather\": \"fog\"}, {\"date\": \"2014-03-12T00:00:00\", \"precipitation\": 0.0, \"temp_max\": 16.1, \"temp_min\": 3.3, \"wind\": 1.9, \"weather\": \"fog\"}, {\"date\": \"2014-03-13T00:00:00\", \"precipitation\": 0.5, \"temp_max\": 13.9, \"temp_min\": 5.0, \"wind\": 2.5, \"weather\": \"fog\"}, {\"date\": \"2014-03-14T00:00:00\", \"precipitation\": 6.9, \"temp_max\": 14.4, \"temp_min\": 8.3, \"wind\": 6.1, \"weather\": \"fog\"}, {\"date\": \"2014-03-15T00:00:00\", \"precipitation\": 8.1, \"temp_max\": 16.7, \"temp_min\": 4.4, \"wind\": 3.0, \"weather\": \"fog\"}, {\"date\": \"2014-03-16T00:00:00\", \"precipitation\": 27.7, \"temp_max\": 10.6, \"temp_min\": 4.4, \"wind\": 3.8, \"weather\": \"fog\"}, {\"date\": \"2014-03-17T00:00:00\", \"precipitation\": 0.3, \"temp_max\": 10.0, \"temp_min\": 2.8, \"wind\": 3.2, \"weather\": \"fog\"}, {\"date\": \"2014-03-18T00:00:00\", \"precipitation\": 0.0, \"temp_max\": 10.0, \"temp_min\": 3.3, \"wind\": 1.6, \"weather\": \"sun\"}, {\"date\": \"2014-03-19T00:00:00\", \"precipitation\": 0.5, \"temp_max\": 11.1, \"temp_min\": 3.3, \"wind\": 5.1, \"weather\": \"sun\"}, {\"date\": \"2014-03-20T00:00:00\", \"precipitation\": 0.0, \"temp_max\": 11.1, \"temp_min\": 1.7, \"wind\": 3.0, \"weather\": \"sun\"}, {\"date\": \"2014-03-21T00:00:00\", \"precipitation\": 0.0, \"temp_max\": 10.6, \"temp_min\": 2.8, \"wind\": 3.8, \"weather\": \"sun\"}, {\"date\": \"2014-03-22T00:00:00\", \"precipitation\": 0.0, \"temp_max\": 11.1, \"temp_min\": 1.1, \"wind\": 1.8, \"weather\": \"sun\"}, {\"date\": \"2014-03-23T00:00:00\", \"precipitation\": 0.0, \"temp_max\": 12.8, \"temp_min\": 4.4, \"wind\": 3.3, \"weather\": \"sun\"}, {\"date\": \"2014-03-24T00:00:00\", \"precipitation\": 0.0, \"temp_max\": 18.9, \"temp_min\": 2.8, \"wind\": 2.2, \"weather\": \"sun\"}, {\"date\": \"2014-03-25T00:00:00\", \"precipitation\": 4.1, \"temp_max\": 13.9, \"temp_min\": 6.7, \"wind\": 4.4, \"weather\": \"fog\"}, {\"date\": \"2014-03-26T00:00:00\", \"precipitation\": 3.6, \"temp_max\": 11.1, \"temp_min\": 5.6, \"wind\": 2.4, \"weather\": \"fog\"}, {\"date\": \"2014-03-27T00:00:00\", \"precipitation\": 0.3, \"temp_max\": 12.2, \"temp_min\": 6.7, \"wind\": 2.8, \"weather\": \"fog\"}, {\"date\": \"2014-03-28T00:00:00\", \"precipitation\": 22.1, \"temp_max\": 11.7, \"temp_min\": 7.2, \"wind\": 3.9, \"weather\": \"fog\"}, {\"date\": \"2014-03-29T00:00:00\", \"precipitation\": 14.0, \"temp_max\": 11.7, \"temp_min\": 7.2, \"wind\": 5.1, \"weather\": \"fog\"}, {\"date\": \"2014-03-30T00:00:00\", \"precipitation\": 0.0, \"temp_max\": 11.1, \"temp_min\": 5.0, \"wind\": 5.1, \"weather\": \"sun\"}, {\"date\": \"2014-03-31T00:00:00\", \"precipitation\": 0.0, \"temp_max\": 15.6, \"temp_min\": 2.2, \"wind\": 3.8, \"weather\": \"sun\"}, {\"date\": \"2014-04-01T00:00:00\", \"precipitation\": 0.0, \"temp_max\": 14.4, \"temp_min\": 6.7, \"wind\": 2.8, \"weather\": \"sun\"}, {\"date\": \"2014-04-02T00:00:00\", \"precipitation\": 0.0, \"temp_max\": 14.4, \"temp_min\": 5.6, \"wind\": 4.2, \"weather\": \"sun\"}, {\"date\": \"2014-04-03T00:00:00\", \"precipitation\": 2.5, \"temp_max\": 13.3, \"temp_min\": 6.1, \"wind\": 3.9, \"weather\": \"sun\"}, {\"date\": \"2014-04-04T00:00:00\", \"precipitation\": 0.0, \"temp_max\": 12.8, \"temp_min\": 6.1, \"wind\": 4.7, \"weather\": \"sun\"}, {\"date\": \"2014-04-05T00:00:00\", \"precipitation\": 4.6, \"temp_max\": 11.7, \"temp_min\": 7.8, \"wind\": 4.3, \"weather\": \"fog\"}, {\"date\": \"2014-04-06T00:00:00\", \"precipitation\": 0.0, \"temp_max\": 13.9, \"temp_min\": 8.3, \"wind\": 2.6, \"weather\": \"sun\"}, {\"date\": \"2014-04-07T00:00:00\", \"precipitation\": 0.0, \"temp_max\": 21.1, \"temp_min\": 9.4, \"wind\": 2.5, \"weather\": \"sun\"}, {\"date\": \"2014-04-08T00:00:00\", \"precipitation\": 4.6, \"temp_max\": 15.6, \"temp_min\": 8.3, \"wind\": 4.2, \"weather\": \"fog\"}, {\"date\": \"2014-04-09T00:00:00\", \"precipitation\": 0.0, \"temp_max\": 14.4, \"temp_min\": 6.7, \"wind\": 2.9, \"weather\": \"sun\"}, {\"date\": \"2014-04-10T00:00:00\", \"precipitation\": 0.0, \"temp_max\": 15.0, \"temp_min\": 6.7, \"wind\": 3.6, \"weather\": \"sun\"}, {\"date\": \"2014-04-11T00:00:00\", \"precipitation\": 0.0, \"temp_max\": 17.2, \"temp_min\": 5.0, \"wind\": 2.8, \"weather\": \"sun\"}, {\"date\": \"2014-04-12T00:00:00\", \"precipitation\": 0.0, \"temp_max\": 16.1, \"temp_min\": 7.8, \"wind\": 4.4, \"weather\": \"sun\"}, {\"date\": \"2014-04-13T00:00:00\", \"precipitation\": 0.0, \"temp_max\": 20.6, \"temp_min\": 5.6, \"wind\": 3.1, \"weather\": \"sun\"}, {\"date\": \"2014-04-14T00:00:00\", \"precipitation\": 0.0, \"temp_max\": 20.0, \"temp_min\": 5.6, \"wind\": 2.6, \"weather\": \"sun\"}, {\"date\": \"2014-04-15T00:00:00\", \"precipitation\": 0.5, \"temp_max\": 14.4, \"temp_min\": 7.8, \"wind\": 4.0, \"weather\": \"sun\"}, {\"date\": \"2014-04-16T00:00:00\", \"precipitation\": 10.9, \"temp_max\": 11.1, \"temp_min\": 8.9, \"wind\": 4.6, \"weather\": \"fog\"}, {\"date\": \"2014-04-17T00:00:00\", \"precipitation\": 18.5, \"temp_max\": 11.7, \"temp_min\": 7.2, \"wind\": 4.7, \"weather\": \"fog\"}, {\"date\": \"2014-04-18T00:00:00\", \"precipitation\": 0.0, \"temp_max\": 14.4, \"temp_min\": 5.6, \"wind\": 3.8, \"weather\": \"sun\"}, {\"date\": \"2014-04-19T00:00:00\", \"precipitation\": 13.7, \"temp_max\": 11.7, \"temp_min\": 5.6, \"wind\": 4.7, \"weather\": \"fog\"}, {\"date\": \"2014-04-20T00:00:00\", \"precipitation\": 0.0, \"temp_max\": 15.6, \"temp_min\": 5.6, \"wind\": 2.7, \"weather\": \"sun\"}, {\"date\": \"2014-04-21T00:00:00\", \"precipitation\": 5.1, \"temp_max\": 17.2, \"temp_min\": 7.8, \"wind\": 2.5, \"weather\": \"fog\"}, {\"date\": \"2014-04-22T00:00:00\", \"precipitation\": 14.2, \"temp_max\": 12.2, \"temp_min\": 5.0, \"wind\": 4.2, \"weather\": \"fog\"}, {\"date\": \"2014-04-23T00:00:00\", \"precipitation\": 8.9, \"temp_max\": 11.7, \"temp_min\": 6.1, \"wind\": 5.0, \"weather\": \"fog\"}, {\"date\": \"2014-04-24T00:00:00\", \"precipitation\": 12.4, \"temp_max\": 13.9, \"temp_min\": 6.1, \"wind\": 5.3, \"weather\": \"fog\"}, {\"date\": \"2014-04-25T00:00:00\", \"precipitation\": 0.0, \"temp_max\": 14.4, \"temp_min\": 5.6, \"wind\": 2.3, \"weather\": \"sun\"}, {\"date\": \"2014-04-26T00:00:00\", \"precipitation\": 3.3, \"temp_max\": 15.0, \"temp_min\": 5.6, \"wind\": 3.9, \"weather\": \"sun\"}, {\"date\": \"2014-04-27T00:00:00\", \"precipitation\": 6.9, \"temp_max\": 11.1, \"temp_min\": 6.1, \"wind\": 5.8, \"weather\": \"fog\"}, {\"date\": \"2014-04-28T00:00:00\", \"precipitation\": 0.0, \"temp_max\": 16.1, \"temp_min\": 4.4, \"wind\": 2.6, \"weather\": \"sun\"}, {\"date\": \"2014-04-29T00:00:00\", \"precipitation\": 0.0, \"temp_max\": 25.0, \"temp_min\": 9.4, \"wind\": 2.3, \"weather\": \"sun\"}, {\"date\": \"2014-04-30T00:00:00\", \"precipitation\": 0.0, \"temp_max\": 27.8, \"temp_min\": 9.4, \"wind\": 3.9, \"weather\": \"sun\"}, {\"date\": \"2014-05-01T00:00:00\", \"precipitation\": 0.0, \"temp_max\": 29.4, \"temp_min\": 11.1, \"wind\": 3.0, \"weather\": \"sun\"}, {\"date\": \"2014-05-02T00:00:00\", \"precipitation\": 0.0, \"temp_max\": 18.3, \"temp_min\": 10.6, \"wind\": 4.7, \"weather\": \"sun\"}, {\"date\": \"2014-05-03T00:00:00\", \"precipitation\": 33.3, \"temp_max\": 15.0, \"temp_min\": 8.9, \"wind\": 3.4, \"weather\": \"fog\"}, {\"date\": \"2014-05-04T00:00:00\", \"precipitation\": 16.0, \"temp_max\": 14.4, \"temp_min\": 8.9, \"wind\": 4.2, \"weather\": \"fog\"}, {\"date\": \"2014-05-05T00:00:00\", \"precipitation\": 5.1, \"temp_max\": 15.6, \"temp_min\": 9.4, \"wind\": 3.8, \"weather\": \"fog\"}, {\"date\": \"2014-05-06T00:00:00\", \"precipitation\": 0.0, \"temp_max\": 16.7, \"temp_min\": 8.3, \"wind\": 2.6, \"weather\": \"sun\"}, {\"date\": \"2014-05-07T00:00:00\", \"precipitation\": 0.0, \"temp_max\": 18.3, \"temp_min\": 7.2, \"wind\": 1.7, \"weather\": \"sun\"}, {\"date\": \"2014-05-08T00:00:00\", \"precipitation\": 13.7, \"temp_max\": 13.9, \"temp_min\": 9.4, \"wind\": 3.4, \"weather\": \"fog\"}, {\"date\": \"2014-05-09T00:00:00\", \"precipitation\": 2.0, \"temp_max\": 13.3, \"temp_min\": 7.2, \"wind\": 5.6, \"weather\": \"sun\"}, {\"date\": \"2014-05-10T00:00:00\", \"precipitation\": 0.5, \"temp_max\": 15.6, \"temp_min\": 7.2, \"wind\": 2.1, \"weather\": \"fog\"}, {\"date\": \"2014-05-11T00:00:00\", \"precipitation\": 0.0, \"temp_max\": 18.9, \"temp_min\": 8.3, \"wind\": 1.7, \"weather\": \"sun\"}, {\"date\": \"2014-05-12T00:00:00\", \"precipitation\": 0.0, \"temp_max\": 24.4, \"temp_min\": 9.4, \"wind\": 2.7, \"weather\": \"sun\"}, {\"date\": \"2014-05-13T00:00:00\", \"precipitation\": 0.0, \"temp_max\": 26.7, \"temp_min\": 12.8, \"wind\": 3.8, \"weather\": \"sun\"}, {\"date\": \"2014-05-14T00:00:00\", \"precipitation\": 0.0, \"temp_max\": 27.8, \"temp_min\": 13.3, \"wind\": 3.3, \"weather\": \"sun\"}, {\"date\": \"2014-05-15T00:00:00\", \"precipitation\": 0.0, \"temp_max\": 26.7, \"temp_min\": 12.8, \"wind\": 3.0, \"weather\": \"sun\"}, {\"date\": \"2014-05-16T00:00:00\", \"precipitation\": 0.0, \"temp_max\": 20.0, \"temp_min\": 11.7, \"wind\": 4.1, \"weather\": \"sun\"}, {\"date\": \"2014-05-17T00:00:00\", \"precipitation\": 0.0, \"temp_max\": 20.0, \"temp_min\": 11.7, \"wind\": 3.2, \"weather\": \"sun\"}, {\"date\": \"2014-05-18T00:00:00\", \"precipitation\": 0.0, \"temp_max\": 20.0, \"temp_min\": 10.6, \"wind\": 3.2, \"weather\": \"sun\"}, {\"date\": \"2014-05-19T00:00:00\", \"precipitation\": 0.0, \"temp_max\": 21.1, \"temp_min\": 10.0, \"wind\": 2.2, \"weather\": \"sun\"}, {\"date\": \"2014-05-20T00:00:00\", \"precipitation\": 0.0, \"temp_max\": 22.2, \"temp_min\": 10.0, \"wind\": 2.7, \"weather\": \"sun\"}, {\"date\": \"2014-05-21T00:00:00\", \"precipitation\": 0.0, \"temp_max\": 20.0, \"temp_min\": 10.6, \"wind\": 1.7, \"weather\": \"sun\"}, {\"date\": \"2014-05-22T00:00:00\", \"precipitation\": 0.0, \"temp_max\": 24.4, \"temp_min\": 11.7, \"wind\": 2.5, \"weather\": \"sun\"}, {\"date\": \"2014-05-23T00:00:00\", \"precipitation\": 3.8, \"temp_max\": 20.0, \"temp_min\": 12.8, \"wind\": 4.0, \"weather\": \"fog\"}, {\"date\": \"2014-05-24T00:00:00\", \"precipitation\": 0.0, \"temp_max\": 18.3, \"temp_min\": 11.1, \"wind\": 2.4, \"weather\": \"sun\"}, {\"date\": \"2014-05-25T00:00:00\", \"precipitation\": 5.6, \"temp_max\": 15.0, \"temp_min\": 10.6, \"wind\": 1.4, \"weather\": \"fog\"}, {\"date\": \"2014-05-26T00:00:00\", \"precipitation\": 0.0, \"temp_max\": 18.3, \"temp_min\": 11.1, \"wind\": 4.5, \"weather\": \"sun\"}, {\"date\": \"2014-05-27T00:00:00\", \"precipitation\": 0.0, \"temp_max\": 20.0, \"temp_min\": 10.0, \"wind\": 2.5, \"weather\": \"sun\"}, {\"date\": \"2014-05-28T00:00:00\", \"precipitation\": 0.0, \"temp_max\": 18.9, \"temp_min\": 10.0, \"wind\": 3.4, \"weather\": \"sun\"}, {\"date\": \"2014-05-29T00:00:00\", \"precipitation\": 0.0, \"temp_max\": 18.9, \"temp_min\": 11.1, \"wind\": 4.3, \"weather\": \"sun\"}, {\"date\": \"2014-05-30T00:00:00\", \"precipitation\": 0.0, \"temp_max\": 20.6, \"temp_min\": 8.9, \"wind\": 4.5, \"weather\": \"sun\"}, {\"date\": \"2014-05-31T00:00:00\", \"precipitation\": 0.0, \"temp_max\": 23.3, \"temp_min\": 10.0, \"wind\": 2.2, \"weather\": \"sun\"}, {\"date\": \"2014-06-01T00:00:00\", \"precipitation\": 0.0, \"temp_max\": 22.2, \"temp_min\": 10.6, \"wind\": 2.3, \"weather\": \"sun\"}, {\"date\": \"2014-06-02T00:00:00\", \"precipitation\": 0.0, \"temp_max\": 23.3, \"temp_min\": 11.1, \"wind\": 2.4, \"weather\": \"sun\"}, {\"date\": \"2014-06-03T00:00:00\", \"precipitation\": 0.0, \"temp_max\": 18.3, \"temp_min\": 11.1, \"wind\": 3.2, \"weather\": \"sun\"}, {\"date\": \"2014-06-04T00:00:00\", \"precipitation\": 0.0, \"temp_max\": 19.4, \"temp_min\": 10.0, \"wind\": 2.6, \"weather\": \"sun\"}, {\"date\": \"2014-06-05T00:00:00\", \"precipitation\": 0.0, \"temp_max\": 22.2, \"temp_min\": 10.0, \"wind\": 2.4, \"weather\": \"sun\"}, {\"date\": \"2014-06-06T00:00:00\", \"precipitation\": 0.0, \"temp_max\": 25.0, \"temp_min\": 10.6, \"wind\": 3.2, \"weather\": \"sun\"}, {\"date\": \"2014-06-07T00:00:00\", \"precipitation\": 0.0, \"temp_max\": 24.4, \"temp_min\": 13.3, \"wind\": 3.1, \"weather\": \"sun\"}, {\"date\": \"2014-06-08T00:00:00\", \"precipitation\": 0.0, \"temp_max\": 23.3, \"temp_min\": 12.2, \"wind\": 2.1, \"weather\": \"sun\"}, {\"date\": \"2014-06-09T00:00:00\", \"precipitation\": 0.0, \"temp_max\": 21.1, \"temp_min\": 13.3, \"wind\": 3.6, \"weather\": \"sun\"}, {\"date\": \"2014-06-10T00:00:00\", \"precipitation\": 0.0, \"temp_max\": 20.0, \"temp_min\": 12.2, \"wind\": 2.9, \"weather\": \"sun\"}, {\"date\": \"2014-06-11T00:00:00\", \"precipitation\": 0.0, \"temp_max\": 23.9, \"temp_min\": 11.1, \"wind\": 2.7, \"weather\": \"sun\"}, {\"date\": \"2014-06-12T00:00:00\", \"precipitation\": 1.8, \"temp_max\": 21.7, \"temp_min\": 12.2, \"wind\": 4.0, \"weather\": \"sun\"}, {\"date\": \"2014-06-13T00:00:00\", \"precipitation\": 6.4, \"temp_max\": 15.6, \"temp_min\": 11.1, \"wind\": 5.0, \"weather\": \"fog\"}, {\"date\": \"2014-06-14T00:00:00\", \"precipitation\": 0.0, \"temp_max\": 17.8, \"temp_min\": 11.7, \"wind\": 3.2, \"weather\": \"sun\"}, {\"date\": \"2014-06-15T00:00:00\", \"precipitation\": 0.5, \"temp_max\": 18.3, \"temp_min\": 10.0, \"wind\": 3.6, \"weather\": \"fog\"}, {\"date\": \"2014-06-16T00:00:00\", \"precipitation\": 3.6, \"temp_max\": 17.8, \"temp_min\": 8.9, \"wind\": 2.4, \"weather\": \"fog\"}, {\"date\": \"2014-06-17T00:00:00\", \"precipitation\": 1.3, \"temp_max\": 17.8, \"temp_min\": 10.0, \"wind\": 3.0, \"weather\": \"fog\"}, {\"date\": \"2014-06-18T00:00:00\", \"precipitation\": 0.0, \"temp_max\": 18.9, \"temp_min\": 11.1, \"wind\": 2.7, \"weather\": \"sun\"}, {\"date\": \"2014-06-19T00:00:00\", \"precipitation\": 0.8, \"temp_max\": 25.6, \"temp_min\": 11.7, \"wind\": 3.7, \"weather\": \"sun\"}, {\"date\": \"2014-06-20T00:00:00\", \"precipitation\": 0.3, \"temp_max\": 20.0, \"temp_min\": 10.0, \"wind\": 3.4, \"weather\": \"sun\"}, {\"date\": \"2014-06-21T00:00:00\", \"precipitation\": 0.0, \"temp_max\": 22.2, \"temp_min\": 10.6, \"wind\": 3.6, \"weather\": \"sun\"}, {\"date\": \"2014-06-22T00:00:00\", \"precipitation\": 0.0, \"temp_max\": 25.0, \"temp_min\": 11.1, \"wind\": 2.7, \"weather\": \"sun\"}, {\"date\": \"2014-06-23T00:00:00\", \"precipitation\": 0.0, \"temp_max\": 25.0, \"temp_min\": 13.3, \"wind\": 2.5, \"weather\": \"sun\"}, {\"date\": \"2014-06-24T00:00:00\", \"precipitation\": 0.0, \"temp_max\": 24.4, \"temp_min\": 14.4, \"wind\": 2.5, \"weather\": \"sun\"}, {\"date\": \"2014-06-25T00:00:00\", \"precipitation\": 0.0, \"temp_max\": 26.1, \"temp_min\": 13.9, \"wind\": 2.4, \"weather\": \"sun\"}, {\"date\": \"2014-06-26T00:00:00\", \"precipitation\": 0.0, \"temp_max\": 21.1, \"temp_min\": 14.4, \"wind\": 4.1, \"weather\": \"sun\"}, {\"date\": \"2014-06-27T00:00:00\", \"precipitation\": 1.8, \"temp_max\": 21.1, \"temp_min\": 13.9, \"wind\": 4.5, \"weather\": \"fog\"}, {\"date\": \"2014-06-28T00:00:00\", \"precipitation\": 2.3, \"temp_max\": 20.0, \"temp_min\": 13.3, \"wind\": 4.3, \"weather\": \"fog\"}, {\"date\": \"2014-06-29T00:00:00\", \"precipitation\": 0.0, \"temp_max\": 20.6, \"temp_min\": 12.8, \"wind\": 3.2, \"weather\": \"sun\"}, {\"date\": \"2014-06-30T00:00:00\", \"precipitation\": 0.0, \"temp_max\": 25.6, \"temp_min\": 12.8, \"wind\": 4.4, \"weather\": \"sun\"}, {\"date\": \"2014-07-01T00:00:00\", \"precipitation\": 0.0, \"temp_max\": 34.4, \"temp_min\": 15.6, \"wind\": 3.5, \"weather\": \"sun\"}, {\"date\": \"2014-07-02T00:00:00\", \"precipitation\": 0.0, \"temp_max\": 27.2, \"temp_min\": 14.4, \"wind\": 3.6, \"weather\": \"sun\"}, {\"date\": \"2014-07-03T00:00:00\", \"precipitation\": 0.0, \"temp_max\": 21.7, \"temp_min\": 13.9, \"wind\": 3.1, \"weather\": \"sun\"}, {\"date\": \"2014-07-04T00:00:00\", \"precipitation\": 0.0, \"temp_max\": 23.9, \"temp_min\": 13.9, \"wind\": 3.6, \"weather\": \"sun\"}, {\"date\": \"2014-07-05T00:00:00\", \"precipitation\": 0.0, \"temp_max\": 24.4, \"temp_min\": 13.3, \"wind\": 2.2, \"weather\": \"fog\"}, {\"date\": \"2014-07-06T00:00:00\", \"precipitation\": 0.0, \"temp_max\": 28.9, \"temp_min\": 15.0, \"wind\": 3.0, \"weather\": \"sun\"}, {\"date\": \"2014-07-07T00:00:00\", \"precipitation\": 0.0, \"temp_max\": 27.2, \"temp_min\": 17.8, \"wind\": 4.1, \"weather\": \"fog\"}, {\"date\": \"2014-07-08T00:00:00\", \"precipitation\": 0.0, \"temp_max\": 30.0, \"temp_min\": 15.6, \"wind\": 3.5, \"weather\": \"sun\"}, {\"date\": \"2014-07-09T00:00:00\", \"precipitation\": 0.0, \"temp_max\": 26.7, \"temp_min\": 13.9, \"wind\": 2.3, \"weather\": \"sun\"}, {\"date\": \"2014-07-10T00:00:00\", \"precipitation\": 0.0, \"temp_max\": 28.9, \"temp_min\": 12.8, \"wind\": 2.2, \"weather\": \"fog\"}, {\"date\": \"2014-07-11T00:00:00\", \"precipitation\": 0.0, \"temp_max\": 31.1, \"temp_min\": 15.0, \"wind\": 2.2, \"weather\": \"sun\"}, {\"date\": \"2014-07-12T00:00:00\", \"precipitation\": 0.0, \"temp_max\": 32.2, \"temp_min\": 16.7, \"wind\": 2.2, \"weather\": \"sun\"}, {\"date\": \"2014-07-13T00:00:00\", \"precipitation\": 0.0, \"temp_max\": 29.4, \"temp_min\": 15.0, \"wind\": 2.6, \"weather\": \"rain\"}, {\"date\": \"2014-07-14T00:00:00\", \"precipitation\": 0.0, \"temp_max\": 27.8, \"temp_min\": 15.0, \"wind\": 2.8, \"weather\": \"sun\"}, {\"date\": \"2014-07-15T00:00:00\", \"precipitation\": 0.0, \"temp_max\": 31.1, \"temp_min\": 13.9, \"wind\": 2.3, \"weather\": \"sun\"}, {\"date\": \"2014-07-16T00:00:00\", \"precipitation\": 0.0, \"temp_max\": 31.1, \"temp_min\": 14.4, \"wind\": 2.4, \"weather\": \"sun\"}, {\"date\": \"2014-07-17T00:00:00\", \"precipitation\": 0.0, \"temp_max\": 26.7, \"temp_min\": 13.9, \"wind\": 3.7, \"weather\": \"sun\"}, {\"date\": \"2014-07-18T00:00:00\", \"precipitation\": 0.0, \"temp_max\": 23.9, \"temp_min\": 11.7, \"wind\": 2.8, \"weather\": \"sun\"}, {\"date\": \"2014-07-19T00:00:00\", \"precipitation\": 0.0, \"temp_max\": 25.6, \"temp_min\": 15.0, \"wind\": 5.4, \"weather\": \"fog\"}, {\"date\": \"2014-07-20T00:00:00\", \"precipitation\": 0.0, \"temp_max\": 19.4, \"temp_min\": 14.4, \"wind\": 2.8, \"weather\": \"sun\"}, {\"date\": \"2014-07-21T00:00:00\", \"precipitation\": 0.0, \"temp_max\": 23.9, \"temp_min\": 13.3, \"wind\": 2.2, \"weather\": \"sun\"}, {\"date\": \"2014-07-22T00:00:00\", \"precipitation\": 0.3, \"temp_max\": 21.1, \"temp_min\": 13.3, \"wind\": 1.1, \"weather\": \"fog\"}, {\"date\": \"2014-07-23T00:00:00\", \"precipitation\": 19.3, \"temp_max\": 18.9, \"temp_min\": 13.3, \"wind\": 3.3, \"weather\": \"sun\"}, {\"date\": \"2014-07-24T00:00:00\", \"precipitation\": 0.0, \"temp_max\": 20.6, \"temp_min\": 12.8, \"wind\": 4.7, \"weather\": \"sun\"}, {\"date\": \"2014-07-25T00:00:00\", \"precipitation\": 0.0, \"temp_max\": 22.8, \"temp_min\": 12.2, \"wind\": 2.7, \"weather\": \"sun\"}, {\"date\": \"2014-07-26T00:00:00\", \"precipitation\": 0.0, \"temp_max\": 26.1, \"temp_min\": 13.3, \"wind\": 3.6, \"weather\": \"sun\"}, {\"date\": \"2014-07-27T00:00:00\", \"precipitation\": 0.0, \"temp_max\": 28.3, \"temp_min\": 15.0, \"wind\": 4.1, \"weather\": \"sun\"}, {\"date\": \"2014-07-28T00:00:00\", \"precipitation\": 0.0, \"temp_max\": 30.6, \"temp_min\": 15.0, \"wind\": 3.7, \"weather\": \"sun\"}, {\"date\": \"2014-07-29T00:00:00\", \"precipitation\": 0.0, \"temp_max\": 30.0, \"temp_min\": 15.6, \"wind\": 2.8, \"weather\": \"sun\"}, {\"date\": \"2014-07-30T00:00:00\", \"precipitation\": 0.0, \"temp_max\": 29.4, \"temp_min\": 14.4, \"wind\": 3.4, \"weather\": \"sun\"}, {\"date\": \"2014-07-31T00:00:00\", \"precipitation\": 0.0, \"temp_max\": 30.6, \"temp_min\": 17.8, \"wind\": 4.1, \"weather\": \"sun\"}, {\"date\": \"2014-08-01T00:00:00\", \"precipitation\": 0.0, \"temp_max\": 28.9, \"temp_min\": 15.0, \"wind\": 3.3, \"weather\": \"sun\"}, {\"date\": \"2014-08-02T00:00:00\", \"precipitation\": 0.5, \"temp_max\": 29.4, \"temp_min\": 15.6, \"wind\": 1.7, \"weather\": \"sun\"}, {\"date\": \"2014-08-03T00:00:00\", \"precipitation\": 0.0, \"temp_max\": 31.7, \"temp_min\": 14.4, \"wind\": 2.6, \"weather\": \"sun\"}, {\"date\": \"2014-08-04T00:00:00\", \"precipitation\": 0.0, \"temp_max\": 32.8, \"temp_min\": 16.1, \"wind\": 2.6, \"weather\": \"sun\"}, {\"date\": \"2014-08-05T00:00:00\", \"precipitation\": 0.0, \"temp_max\": 25.0, \"temp_min\": 13.9, \"wind\": 2.7, \"weather\": \"sun\"}, {\"date\": \"2014-08-06T00:00:00\", \"precipitation\": 0.0, \"temp_max\": 26.1, \"temp_min\": 15.0, \"wind\": 2.2, \"weather\": \"fog\"}, {\"date\": \"2014-08-07T00:00:00\", \"precipitation\": 0.0, \"temp_max\": 25.6, \"temp_min\": 13.3, \"wind\": 2.4, \"weather\": \"fog\"}, {\"date\": \"2014-08-08T00:00:00\", \"precipitation\": 0.0, \"temp_max\": 25.6, \"temp_min\": 13.3, \"wind\": 2.9, \"weather\": \"sun\"}, {\"date\": \"2014-08-09T00:00:00\", \"precipitation\": 0.0, \"temp_max\": 27.2, \"temp_min\": 15.6, \"wind\": 4.1, \"weather\": \"sun\"}, {\"date\": \"2014-08-10T00:00:00\", \"precipitation\": 0.0, \"temp_max\": 30.6, \"temp_min\": 13.9, \"wind\": 3.4, \"weather\": \"sun\"}, {\"date\": \"2014-08-11T00:00:00\", \"precipitation\": 0.5, \"temp_max\": 35.6, \"temp_min\": 17.8, \"wind\": 2.6, \"weather\": \"rain\"}, {\"date\": \"2014-08-12T00:00:00\", \"precipitation\": 12.7, \"temp_max\": 27.2, \"temp_min\": 17.2, \"wind\": 3.1, \"weather\": \"fog\"}, {\"date\": \"2014-08-13T00:00:00\", \"precipitation\": 21.6, \"temp_max\": 23.3, \"temp_min\": 15.0, \"wind\": 2.7, \"weather\": \"fog\"}, {\"date\": \"2014-08-14T00:00:00\", \"precipitation\": 0.0, \"temp_max\": 21.1, \"temp_min\": 17.2, \"wind\": 0.6, \"weather\": \"sun\"}, {\"date\": \"2014-08-15T00:00:00\", \"precipitation\": 1.0, \"temp_max\": 24.4, \"temp_min\": 16.7, \"wind\": 1.5, \"weather\": \"fog\"}, {\"date\": \"2014-08-16T00:00:00\", \"precipitation\": 0.0, \"temp_max\": 25.6, \"temp_min\": 15.6, \"wind\": 2.2, \"weather\": \"sun\"}, {\"date\": \"2014-08-17T00:00:00\", \"precipitation\": 0.0, \"temp_max\": 27.8, \"temp_min\": 15.0, \"wind\": 2.8, \"weather\": \"sun\"}, {\"date\": \"2014-08-18T00:00:00\", \"precipitation\": 0.0, \"temp_max\": 29.4, \"temp_min\": 15.6, \"wind\": 3.3, \"weather\": \"sun\"}, {\"date\": \"2014-08-19T00:00:00\", \"precipitation\": 0.0, \"temp_max\": 27.2, \"temp_min\": 15.6, \"wind\": 2.4, \"weather\": \"sun\"}, {\"date\": \"2014-08-20T00:00:00\", \"precipitation\": 0.0, \"temp_max\": 21.7, \"temp_min\": 13.9, \"wind\": 3.6, \"weather\": \"sun\"}, {\"date\": \"2014-08-21T00:00:00\", \"precipitation\": 0.0, \"temp_max\": 21.1, \"temp_min\": 11.1, \"wind\": 1.7, \"weather\": \"sun\"}, {\"date\": \"2014-08-22T00:00:00\", \"precipitation\": 0.0, \"temp_max\": 23.9, \"temp_min\": 13.3, \"wind\": 2.9, \"weather\": \"sun\"}, {\"date\": \"2014-08-23T00:00:00\", \"precipitation\": 0.0, \"temp_max\": 27.8, \"temp_min\": 13.9, \"wind\": 2.0, \"weather\": \"sun\"}, {\"date\": \"2014-08-24T00:00:00\", \"precipitation\": 0.0, \"temp_max\": 25.0, \"temp_min\": 13.3, \"wind\": 2.3, \"weather\": \"sun\"}, {\"date\": \"2014-08-25T00:00:00\", \"precipitation\": 0.0, \"temp_max\": 28.9, \"temp_min\": 14.4, \"wind\": 2.0, \"weather\": \"sun\"}, {\"date\": \"2014-08-26T00:00:00\", \"precipitation\": 0.0, \"temp_max\": 31.1, \"temp_min\": 15.6, \"wind\": 1.8, \"weather\": \"sun\"}, {\"date\": \"2014-08-27T00:00:00\", \"precipitation\": 0.0, \"temp_max\": 28.9, \"temp_min\": 16.1, \"wind\": 1.6, \"weather\": \"sun\"}, {\"date\": \"2014-08-28T00:00:00\", \"precipitation\": 0.0, \"temp_max\": 23.3, \"temp_min\": 14.4, \"wind\": 2.3, \"weather\": \"sun\"}, {\"date\": \"2014-08-29T00:00:00\", \"precipitation\": 0.0, \"temp_max\": 22.8, \"temp_min\": 15.0, \"wind\": 3.4, \"weather\": \"sun\"}, {\"date\": \"2014-08-30T00:00:00\", \"precipitation\": 8.4, \"temp_max\": 17.8, \"temp_min\": 15.0, \"wind\": 2.2, \"weather\": \"fog\"}, {\"date\": \"2014-08-31T00:00:00\", \"precipitation\": 1.3, \"temp_max\": 21.1, \"temp_min\": 13.9, \"wind\": 1.9, \"weather\": \"fog\"}, {\"date\": \"2014-09-01T00:00:00\", \"precipitation\": 0.0, \"temp_max\": 23.3, \"temp_min\": 12.8, \"wind\": 2.5, \"weather\": \"sun\"}, {\"date\": \"2014-09-02T00:00:00\", \"precipitation\": 3.0, \"temp_max\": 20.0, \"temp_min\": 13.9, \"wind\": 4.3, \"weather\": \"fog\"}, {\"date\": \"2014-09-03T00:00:00\", \"precipitation\": 0.0, \"temp_max\": 20.6, \"temp_min\": 12.8, \"wind\": 2.7, \"weather\": \"sun\"}, {\"date\": \"2014-09-04T00:00:00\", \"precipitation\": 0.0, \"temp_max\": 23.9, \"temp_min\": 11.1, \"wind\": 3.1, \"weather\": \"fog\"}, {\"date\": \"2014-09-05T00:00:00\", \"precipitation\": 0.0, \"temp_max\": 27.8, \"temp_min\": 13.9, \"wind\": 6.5, \"weather\": \"fog\"}, {\"date\": \"2014-09-06T00:00:00\", \"precipitation\": 0.0, \"temp_max\": 32.2, \"temp_min\": 15.0, \"wind\": 2.9, \"weather\": \"sun\"}, {\"date\": \"2014-09-07T00:00:00\", \"precipitation\": 0.0, \"temp_max\": 28.3, \"temp_min\": 13.3, \"wind\": 2.1, \"weather\": \"sun\"}, {\"date\": \"2014-09-08T00:00:00\", \"precipitation\": 0.0, \"temp_max\": 21.1, \"temp_min\": 13.3, \"wind\": 2.8, \"weather\": \"sun\"}, {\"date\": \"2014-09-09T00:00:00\", \"precipitation\": 0.0, \"temp_max\": 21.7, \"temp_min\": 13.3, \"wind\": 2.3, \"weather\": \"sun\"}, {\"date\": \"2014-09-10T00:00:00\", \"precipitation\": 0.0, \"temp_max\": 22.2, \"temp_min\": 12.2, \"wind\": 3.9, \"weather\": \"sun\"}, {\"date\": \"2014-09-11T00:00:00\", \"precipitation\": 0.0, \"temp_max\": 24.4, \"temp_min\": 12.8, \"wind\": 5.3, \"weather\": \"sun\"}, {\"date\": \"2014-09-12T00:00:00\", \"precipitation\": 0.0, \"temp_max\": 24.4, \"temp_min\": 12.8, \"wind\": 5.9, \"weather\": \"sun\"}, {\"date\": \"2014-09-13T00:00:00\", \"precipitation\": 0.0, \"temp_max\": 28.3, \"temp_min\": 10.0, \"wind\": 4.2, \"weather\": \"sun\"}, {\"date\": \"2014-09-14T00:00:00\", \"precipitation\": 0.0, \"temp_max\": 30.0, \"temp_min\": 11.7, \"wind\": 1.8, \"weather\": \"sun\"}, {\"date\": \"2014-09-15T00:00:00\", \"precipitation\": 0.0, \"temp_max\": 30.6, \"temp_min\": 12.2, \"wind\": 1.2, \"weather\": \"sun\"}, {\"date\": \"2014-09-16T00:00:00\", \"precipitation\": 0.0, \"temp_max\": 22.2, \"temp_min\": 13.9, \"wind\": 2.8, \"weather\": \"sun\"}, {\"date\": \"2014-09-17T00:00:00\", \"precipitation\": 0.5, \"temp_max\": 22.8, \"temp_min\": 14.4, \"wind\": 2.3, \"weather\": \"sun\"}, {\"date\": \"2014-09-18T00:00:00\", \"precipitation\": 0.3, \"temp_max\": 19.4, \"temp_min\": 15.0, \"wind\": 3.1, \"weather\": \"fog\"}, {\"date\": \"2014-09-19T00:00:00\", \"precipitation\": 0.0, \"temp_max\": 23.9, \"temp_min\": 16.1, \"wind\": 2.8, \"weather\": \"sun\"}, {\"date\": \"2014-09-20T00:00:00\", \"precipitation\": 0.0, \"temp_max\": 24.4, \"temp_min\": 14.4, \"wind\": 4.4, \"weather\": \"fog\"}, {\"date\": \"2014-09-21T00:00:00\", \"precipitation\": 0.0, \"temp_max\": 26.1, \"temp_min\": 12.8, \"wind\": 3.0, \"weather\": \"sun\"}, {\"date\": \"2014-09-22T00:00:00\", \"precipitation\": 0.3, \"temp_max\": 22.2, \"temp_min\": 15.0, \"wind\": 2.1, \"weather\": \"fog\"}, {\"date\": \"2014-09-23T00:00:00\", \"precipitation\": 18.3, \"temp_max\": 18.9, \"temp_min\": 14.4, \"wind\": 2.5, \"weather\": \"fog\"}, {\"date\": \"2014-09-24T00:00:00\", \"precipitation\": 20.3, \"temp_max\": 18.9, \"temp_min\": 14.4, \"wind\": 2.7, \"weather\": \"fog\"}, {\"date\": \"2014-09-25T00:00:00\", \"precipitation\": 4.3, \"temp_max\": 21.7, \"temp_min\": 14.4, \"wind\": 2.5, \"weather\": \"fog\"}, {\"date\": \"2014-09-26T00:00:00\", \"precipitation\": 8.9, \"temp_max\": 20.0, \"temp_min\": 13.9, \"wind\": 3.3, \"weather\": \"fog\"}, {\"date\": \"2014-09-27T00:00:00\", \"precipitation\": 0.0, \"temp_max\": 20.6, \"temp_min\": 11.7, \"wind\": 3.2, \"weather\": \"fog\"}, {\"date\": \"2014-09-28T00:00:00\", \"precipitation\": 0.0, \"temp_max\": 18.9, \"temp_min\": 12.2, \"wind\": 2.0, \"weather\": \"fog\"}, {\"date\": \"2014-09-29T00:00:00\", \"precipitation\": 0.8, \"temp_max\": 16.7, \"temp_min\": 11.1, \"wind\": 3.5, \"weather\": \"fog\"}, {\"date\": \"2014-09-30T00:00:00\", \"precipitation\": 0.0, \"temp_max\": 19.4, \"temp_min\": 12.2, \"wind\": 2.6, \"weather\": \"sun\"}, {\"date\": \"2014-10-01T00:00:00\", \"precipitation\": 0.0, \"temp_max\": 18.3, \"temp_min\": 11.1, \"wind\": 2.1, \"weather\": \"sun\"}, {\"date\": \"2014-10-02T00:00:00\", \"precipitation\": 0.0, \"temp_max\": 19.4, \"temp_min\": 10.0, \"wind\": 2.0, \"weather\": \"sun\"}, {\"date\": \"2014-10-03T00:00:00\", \"precipitation\": 0.0, \"temp_max\": 22.2, \"temp_min\": 8.9, \"wind\": 1.0, \"weather\": \"sun\"}, {\"date\": \"2014-10-04T00:00:00\", \"precipitation\": 0.0, \"temp_max\": 21.7, \"temp_min\": 12.2, \"wind\": 1.2, \"weather\": \"sun\"}, {\"date\": \"2014-10-05T00:00:00\", \"precipitation\": 0.0, \"temp_max\": 23.9, \"temp_min\": 11.7, \"wind\": 1.4, \"weather\": \"fog\"}, {\"date\": \"2014-10-06T00:00:00\", \"precipitation\": 0.0, \"temp_max\": 25.6, \"temp_min\": 13.3, \"wind\": 2.5, \"weather\": \"fog\"}, {\"date\": \"2014-10-07T00:00:00\", \"precipitation\": 0.0, \"temp_max\": 18.9, \"temp_min\": 13.9, \"wind\": 1.0, \"weather\": \"fog\"}, {\"date\": \"2014-10-08T00:00:00\", \"precipitation\": 0.0, \"temp_max\": 20.6, \"temp_min\": 12.8, \"wind\": 1.8, \"weather\": \"fog\"}, {\"date\": \"2014-10-09T00:00:00\", \"precipitation\": 0.0, \"temp_max\": 17.2, \"temp_min\": 11.1, \"wind\": 1.0, \"weather\": \"fog\"}, {\"date\": \"2014-10-10T00:00:00\", \"precipitation\": 0.3, \"temp_max\": 18.3, \"temp_min\": 10.0, \"wind\": 3.8, \"weather\": \"fog\"}, {\"date\": \"2014-10-11T00:00:00\", \"precipitation\": 7.4, \"temp_max\": 18.3, \"temp_min\": 11.7, \"wind\": 3.5, \"weather\": \"rain\"}, {\"date\": \"2014-10-12T00:00:00\", \"precipitation\": 0.0, \"temp_max\": 17.8, \"temp_min\": 11.7, \"wind\": 2.1, \"weather\": \"sun\"}, {\"date\": \"2014-10-13T00:00:00\", \"precipitation\": 7.6, \"temp_max\": 21.1, \"temp_min\": 10.0, \"wind\": 3.1, \"weather\": \"fog\"}, {\"date\": \"2014-10-14T00:00:00\", \"precipitation\": 7.1, \"temp_max\": 16.7, \"temp_min\": 11.7, \"wind\": 2.2, \"weather\": \"fog\"}, {\"date\": \"2014-10-15T00:00:00\", \"precipitation\": 8.6, \"temp_max\": 16.1, \"temp_min\": 11.7, \"wind\": 4.7, \"weather\": \"fog\"}, {\"date\": \"2014-10-16T00:00:00\", \"precipitation\": 0.0, \"temp_max\": 20.6, \"temp_min\": 11.1, \"wind\": 3.3, \"weather\": \"sun\"}, {\"date\": \"2014-10-17T00:00:00\", \"precipitation\": 3.3, \"temp_max\": 16.7, \"temp_min\": 11.7, \"wind\": 3.0, \"weather\": \"fog\"}, {\"date\": \"2014-10-18T00:00:00\", \"precipitation\": 15.0, \"temp_max\": 19.4, \"temp_min\": 13.9, \"wind\": 1.9, \"weather\": \"fog\"}, {\"date\": \"2014-10-19T00:00:00\", \"precipitation\": 0.0, \"temp_max\": 22.2, \"temp_min\": 12.8, \"wind\": 3.2, \"weather\": \"sun\"}, {\"date\": \"2014-10-20T00:00:00\", \"precipitation\": 11.7, \"temp_max\": 16.1, \"temp_min\": 12.2, \"wind\": 3.1, \"weather\": \"fog\"}, {\"date\": \"2014-10-21T00:00:00\", \"precipitation\": 1.0, \"temp_max\": 16.1, \"temp_min\": 11.7, \"wind\": 4.7, \"weather\": \"sun\"}, {\"date\": \"2014-10-22T00:00:00\", \"precipitation\": 32.0, \"temp_max\": 15.6, \"temp_min\": 11.7, \"wind\": 5.0, \"weather\": \"fog\"}, {\"date\": \"2014-10-23T00:00:00\", \"precipitation\": 9.4, \"temp_max\": 14.4, \"temp_min\": 8.3, \"wind\": 4.6, \"weather\": \"sun\"}, {\"date\": \"2014-10-24T00:00:00\", \"precipitation\": 4.1, \"temp_max\": 14.4, \"temp_min\": 8.9, \"wind\": 3.2, \"weather\": \"sun\"}, {\"date\": \"2014-10-25T00:00:00\", \"precipitation\": 6.1, \"temp_max\": 16.7, \"temp_min\": 8.3, \"wind\": 5.4, \"weather\": \"fog\"}, {\"date\": \"2014-10-26T00:00:00\", \"precipitation\": 1.5, \"temp_max\": 12.8, \"temp_min\": 7.8, \"wind\": 5.0, \"weather\": \"fog\"}, {\"date\": \"2014-10-27T00:00:00\", \"precipitation\": 0.8, \"temp_max\": 15.6, \"temp_min\": 6.7, \"wind\": 2.4, \"weather\": \"sun\"}, {\"date\": \"2014-10-28T00:00:00\", \"precipitation\": 12.7, \"temp_max\": 15.0, \"temp_min\": 9.4, \"wind\": 3.9, \"weather\": \"fog\"}, {\"date\": \"2014-10-29T00:00:00\", \"precipitation\": 0.5, \"temp_max\": 16.7, \"temp_min\": 11.7, \"wind\": 3.1, \"weather\": \"fog\"}, {\"date\": \"2014-10-30T00:00:00\", \"precipitation\": 25.4, \"temp_max\": 15.6, \"temp_min\": 11.1, \"wind\": 3.2, \"weather\": \"fog\"}, {\"date\": \"2014-10-31T00:00:00\", \"precipitation\": 17.0, \"temp_max\": 12.8, \"temp_min\": 8.3, \"wind\": 2.0, \"weather\": \"fog\"}, {\"date\": \"2014-11-01T00:00:00\", \"precipitation\": 0.0, \"temp_max\": 11.1, \"temp_min\": 7.2, \"wind\": 1.2, \"weather\": \"fog\"}, {\"date\": \"2014-11-02T00:00:00\", \"precipitation\": 1.8, \"temp_max\": 13.3, \"temp_min\": 7.2, \"wind\": 2.9, \"weather\": \"fog\"}, {\"date\": \"2014-11-03T00:00:00\", \"precipitation\": 10.9, \"temp_max\": 13.9, \"temp_min\": 11.1, \"wind\": 4.8, \"weather\": \"fog\"}, {\"date\": \"2014-11-04T00:00:00\", \"precipitation\": 4.1, \"temp_max\": 14.4, \"temp_min\": 10.6, \"wind\": 3.3, \"weather\": \"fog\"}, {\"date\": \"2014-11-05T00:00:00\", \"precipitation\": 4.8, \"temp_max\": 15.0, \"temp_min\": 10.6, \"wind\": 2.1, \"weather\": \"fog\"}, {\"date\": \"2014-11-06T00:00:00\", \"precipitation\": 4.1, \"temp_max\": 16.7, \"temp_min\": 10.6, \"wind\": 6.7, \"weather\": \"fog\"}, {\"date\": \"2014-11-07T00:00:00\", \"precipitation\": 0.0, \"temp_max\": 14.4, \"temp_min\": 7.2, \"wind\": 2.3, \"weather\": \"sun\"}, {\"date\": \"2014-11-08T00:00:00\", \"precipitation\": 0.0, \"temp_max\": 12.8, \"temp_min\": 3.9, \"wind\": 0.8, \"weather\": \"fog\"}, {\"date\": \"2014-11-09T00:00:00\", \"precipitation\": 5.1, \"temp_max\": 13.3, \"temp_min\": 7.8, \"wind\": 3.0, \"weather\": \"fog\"}, {\"date\": \"2014-11-10T00:00:00\", \"precipitation\": 0.0, \"temp_max\": 11.1, \"temp_min\": 5.6, \"wind\": 3.9, \"weather\": \"sun\"}, {\"date\": \"2014-11-11T00:00:00\", \"precipitation\": 0.0, \"temp_max\": 7.8, \"temp_min\": 1.1, \"wind\": 7.7, \"weather\": \"sun\"}, {\"date\": \"2014-11-12T00:00:00\", \"precipitation\": 0.0, \"temp_max\": 6.7, \"temp_min\": 0.0, \"wind\": 7.6, \"weather\": \"sun\"}, {\"date\": \"2014-11-13T00:00:00\", \"precipitation\": 0.0, \"temp_max\": 7.2, \"temp_min\": 0.6, \"wind\": 4.7, \"weather\": \"sun\"}, {\"date\": \"2014-11-14T00:00:00\", \"precipitation\": 0.0, \"temp_max\": 7.2, \"temp_min\": -2.1, \"wind\": 4.5, \"weather\": \"sun\"}, {\"date\": \"2014-11-15T00:00:00\", \"precipitation\": 0.0, \"temp_max\": 8.3, \"temp_min\": -1.6, \"wind\": 4.2, \"weather\": \"sun\"}, {\"date\": \"2014-11-16T00:00:00\", \"precipitation\": 0.0, \"temp_max\": 9.4, \"temp_min\": -2.1, \"wind\": 4.2, \"weather\": \"sun\"}, {\"date\": \"2014-11-17T00:00:00\", \"precipitation\": 0.0, \"temp_max\": 10.6, \"temp_min\": -2.1, \"wind\": 1.9, \"weather\": \"sun\"}, {\"date\": \"2014-11-18T00:00:00\", \"precipitation\": 0.0, \"temp_max\": 7.2, \"temp_min\": -0.5, \"wind\": 0.9, \"weather\": \"sun\"}, {\"date\": \"2014-11-19T00:00:00\", \"precipitation\": 0.0, \"temp_max\": 11.1, \"temp_min\": 2.2, \"wind\": 1.9, \"weather\": \"sun\"}, {\"date\": \"2014-11-20T00:00:00\", \"precipitation\": 3.6, \"temp_max\": 11.1, \"temp_min\": 5.6, \"wind\": 2.1, \"weather\": \"fog\"}, {\"date\": \"2014-11-21T00:00:00\", \"precipitation\": 15.2, \"temp_max\": 11.1, \"temp_min\": 8.3, \"wind\": 4.7, \"weather\": \"fog\"}, {\"date\": \"2014-11-22T00:00:00\", \"precipitation\": 0.5, \"temp_max\": 9.4, \"temp_min\": 6.7, \"wind\": 4.7, \"weather\": \"sun\"}, {\"date\": \"2014-11-23T00:00:00\", \"precipitation\": 11.9, \"temp_max\": 12.8, \"temp_min\": 5.6, \"wind\": 5.1, \"weather\": \"fog\"}, {\"date\": \"2014-11-24T00:00:00\", \"precipitation\": 1.3, \"temp_max\": 11.7, \"temp_min\": 4.4, \"wind\": 3.8, \"weather\": \"fog\"}, {\"date\": \"2014-11-25T00:00:00\", \"precipitation\": 18.3, \"temp_max\": 13.9, \"temp_min\": 9.4, \"wind\": 4.5, \"weather\": \"fog\"}, {\"date\": \"2014-11-26T00:00:00\", \"precipitation\": 0.3, \"temp_max\": 15.0, \"temp_min\": 12.2, \"wind\": 3.9, \"weather\": \"sun\"}, {\"date\": \"2014-11-27T00:00:00\", \"precipitation\": 3.3, \"temp_max\": 14.4, \"temp_min\": 11.7, \"wind\": 6.6, \"weather\": \"fog\"}, {\"date\": \"2014-11-28T00:00:00\", \"precipitation\": 34.3, \"temp_max\": 12.8, \"temp_min\": 3.3, \"wind\": 5.8, \"weather\": \"fog\"}, {\"date\": \"2014-11-29T00:00:00\", \"precipitation\": 3.6, \"temp_max\": 4.4, \"temp_min\": -4.3, \"wind\": 5.3, \"weather\": \"fog\"}, {\"date\": \"2014-11-30T00:00:00\", \"precipitation\": 0.0, \"temp_max\": 2.8, \"temp_min\": -4.9, \"wind\": 4.4, \"weather\": \"sun\"}, {\"date\": \"2014-12-01T00:00:00\", \"precipitation\": 0.0, \"temp_max\": 4.4, \"temp_min\": -3.2, \"wind\": 2.2, \"weather\": \"sun\"}, {\"date\": \"2014-12-02T00:00:00\", \"precipitation\": 0.0, \"temp_max\": 5.6, \"temp_min\": -3.2, \"wind\": 5.7, \"weather\": \"fog\"}, {\"date\": \"2014-12-03T00:00:00\", \"precipitation\": 0.0, \"temp_max\": 10.0, \"temp_min\": 0.0, \"wind\": 3.6, \"weather\": \"sun\"}, {\"date\": \"2014-12-04T00:00:00\", \"precipitation\": 0.8, \"temp_max\": 8.3, \"temp_min\": 3.9, \"wind\": 1.1, \"weather\": \"fog\"}, {\"date\": \"2014-12-05T00:00:00\", \"precipitation\": 3.0, \"temp_max\": 12.8, \"temp_min\": 6.7, \"wind\": 3.1, \"weather\": \"fog\"}, {\"date\": \"2014-12-06T00:00:00\", \"precipitation\": 7.4, \"temp_max\": 11.7, \"temp_min\": 7.8, \"wind\": 3.6, \"weather\": \"fog\"}, {\"date\": \"2014-12-07T00:00:00\", \"precipitation\": 0.0, \"temp_max\": 14.4, \"temp_min\": 6.1, \"wind\": 2.8, \"weather\": \"sun\"}, {\"date\": \"2014-12-08T00:00:00\", \"precipitation\": 9.1, \"temp_max\": 14.4, \"temp_min\": 8.9, \"wind\": 4.2, \"weather\": \"fog\"}, {\"date\": \"2014-12-09T00:00:00\", \"precipitation\": 9.9, \"temp_max\": 16.1, \"temp_min\": 10.6, \"wind\": 5.1, \"weather\": \"fog\"}, {\"date\": \"2014-12-10T00:00:00\", \"precipitation\": 13.0, \"temp_max\": 18.9, \"temp_min\": 10.0, \"wind\": 6.7, \"weather\": \"fog\"}, {\"date\": \"2014-12-11T00:00:00\", \"precipitation\": 6.9, \"temp_max\": 14.4, \"temp_min\": 8.3, \"wind\": 6.4, \"weather\": \"fog\"}, {\"date\": \"2014-12-12T00:00:00\", \"precipitation\": 0.0, \"temp_max\": 11.1, \"temp_min\": 7.2, \"wind\": 3.7, \"weather\": \"sun\"}, {\"date\": \"2014-12-13T00:00:00\", \"precipitation\": 0.0, \"temp_max\": 10.0, \"temp_min\": 3.9, \"wind\": 1.1, \"weather\": \"fog\"}, {\"date\": \"2014-12-14T00:00:00\", \"precipitation\": 0.0, \"temp_max\": 12.8, \"temp_min\": 1.7, \"wind\": 3.5, \"weather\": \"fog\"}, {\"date\": \"2014-12-15T00:00:00\", \"precipitation\": 0.0, \"temp_max\": 12.2, \"temp_min\": 6.7, \"wind\": 5.9, \"weather\": \"sun\"}, {\"date\": \"2014-12-16T00:00:00\", \"precipitation\": 0.0, \"temp_max\": 10.0, \"temp_min\": 8.3, \"wind\": 4.0, \"weather\": \"sun\"}, {\"date\": \"2014-12-17T00:00:00\", \"precipitation\": 2.8, \"temp_max\": 8.9, \"temp_min\": 6.1, \"wind\": 1.6, \"weather\": \"fog\"}, {\"date\": \"2014-12-18T00:00:00\", \"precipitation\": 13.0, \"temp_max\": 9.4, \"temp_min\": 6.7, \"wind\": 3.1, \"weather\": \"fog\"}, {\"date\": \"2014-12-19T00:00:00\", \"precipitation\": 3.0, \"temp_max\": 11.1, \"temp_min\": 7.2, \"wind\": 4.3, \"weather\": \"sun\"}, {\"date\": \"2014-12-20T00:00:00\", \"precipitation\": 19.6, \"temp_max\": 12.8, \"temp_min\": 6.7, \"wind\": 5.5, \"weather\": \"fog\"}, {\"date\": \"2014-12-21T00:00:00\", \"precipitation\": 0.0, \"temp_max\": 12.8, \"temp_min\": 10.0, \"wind\": 5.2, \"weather\": \"sun\"}, {\"date\": \"2014-12-22T00:00:00\", \"precipitation\": 0.0, \"temp_max\": 10.6, \"temp_min\": 6.1, \"wind\": 1.5, \"weather\": \"sun\"}, {\"date\": \"2014-12-23T00:00:00\", \"precipitation\": 20.6, \"temp_max\": 12.2, \"temp_min\": 5.0, \"wind\": 3.8, \"weather\": \"fog\"}, {\"date\": \"2014-12-24T00:00:00\", \"precipitation\": 5.3, \"temp_max\": 7.2, \"temp_min\": 3.9, \"wind\": 1.8, \"weather\": \"fog\"}, {\"date\": \"2014-12-25T00:00:00\", \"precipitation\": 0.0, \"temp_max\": 7.8, \"temp_min\": 2.8, \"wind\": 2.2, \"weather\": \"fog\"}, {\"date\": \"2014-12-26T00:00:00\", \"precipitation\": 0.0, \"temp_max\": 5.6, \"temp_min\": 1.7, \"wind\": 1.2, \"weather\": \"fog\"}, {\"date\": \"2014-12-27T00:00:00\", \"precipitation\": 3.3, \"temp_max\": 9.4, \"temp_min\": 4.4, \"wind\": 4.9, \"weather\": \"fog\"}, {\"date\": \"2014-12-28T00:00:00\", \"precipitation\": 4.1, \"temp_max\": 6.7, \"temp_min\": 2.8, \"wind\": 1.8, \"weather\": \"fog\"}, {\"date\": \"2014-12-29T00:00:00\", \"precipitation\": 0.0, \"temp_max\": 6.1, \"temp_min\": 0.6, \"wind\": 4.3, \"weather\": \"fog\"}, {\"date\": \"2014-12-30T00:00:00\", \"precipitation\": 0.0, \"temp_max\": 3.3, \"temp_min\": -2.1, \"wind\": 3.6, \"weather\": \"sun\"}, {\"date\": \"2014-12-31T00:00:00\", \"precipitation\": 0.0, \"temp_max\": 3.3, \"temp_min\": -2.7, \"wind\": 3.0, \"weather\": \"sun\"}, {\"date\": \"2015-01-01T00:00:00\", \"precipitation\": 0.0, \"temp_max\": 5.6, \"temp_min\": -3.2, \"wind\": 1.2, \"weather\": \"sun\"}, {\"date\": \"2015-01-02T00:00:00\", \"precipitation\": 1.5, \"temp_max\": 5.6, \"temp_min\": 0.0, \"wind\": 2.3, \"weather\": \"fog\"}, {\"date\": \"2015-01-03T00:00:00\", \"precipitation\": 0.0, \"temp_max\": 5.0, \"temp_min\": 1.7, \"wind\": 1.7, \"weather\": \"fog\"}, {\"date\": \"2015-01-04T00:00:00\", \"precipitation\": 10.2, \"temp_max\": 10.6, \"temp_min\": 3.3, \"wind\": 4.5, \"weather\": \"fog\"}, {\"date\": \"2015-01-05T00:00:00\", \"precipitation\": 8.1, \"temp_max\": 12.2, \"temp_min\": 9.4, \"wind\": 6.4, \"weather\": \"fog\"}, {\"date\": \"2015-01-06T00:00:00\", \"precipitation\": 0.0, \"temp_max\": 12.2, \"temp_min\": 6.1, \"wind\": 1.3, \"weather\": \"fog\"}, {\"date\": \"2015-01-07T00:00:00\", \"precipitation\": 0.0, \"temp_max\": 7.8, \"temp_min\": 5.6, \"wind\": 1.6, \"weather\": \"fog\"}, {\"date\": \"2015-01-08T00:00:00\", \"precipitation\": 0.0, \"temp_max\": 7.8, \"temp_min\": 1.7, \"wind\": 2.6, \"weather\": \"fog\"}, {\"date\": \"2015-01-09T00:00:00\", \"precipitation\": 0.3, \"temp_max\": 10.0, \"temp_min\": 3.3, \"wind\": 0.6, \"weather\": \"fog\"}, {\"date\": \"2015-01-10T00:00:00\", \"precipitation\": 5.8, \"temp_max\": 7.8, \"temp_min\": 6.1, \"wind\": 0.5, \"weather\": \"fog\"}, {\"date\": \"2015-01-11T00:00:00\", \"precipitation\": 1.5, \"temp_max\": 9.4, \"temp_min\": 7.2, \"wind\": 1.1, \"weather\": \"fog\"}, {\"date\": \"2015-01-12T00:00:00\", \"precipitation\": 0.0, \"temp_max\": 11.1, \"temp_min\": 4.4, \"wind\": 1.6, \"weather\": \"fog\"}, {\"date\": \"2015-01-13T00:00:00\", \"precipitation\": 0.0, \"temp_max\": 9.4, \"temp_min\": 2.8, \"wind\": 2.7, \"weather\": \"fog\"}, {\"date\": \"2015-01-14T00:00:00\", \"precipitation\": 0.0, \"temp_max\": 6.1, \"temp_min\": 0.6, \"wind\": 2.8, \"weather\": \"fog\"}, {\"date\": \"2015-01-15T00:00:00\", \"precipitation\": 9.7, \"temp_max\": 7.8, \"temp_min\": 1.1, \"wind\": 3.2, \"weather\": \"fog\"}, {\"date\": \"2015-01-16T00:00:00\", \"precipitation\": 0.0, \"temp_max\": 11.7, \"temp_min\": 5.6, \"wind\": 4.5, \"weather\": \"fog\"}, {\"date\": \"2015-01-17T00:00:00\", \"precipitation\": 26.2, \"temp_max\": 13.3, \"temp_min\": 3.3, \"wind\": 2.8, \"weather\": \"fog\"}, {\"date\": \"2015-01-18T00:00:00\", \"precipitation\": 21.3, \"temp_max\": 13.9, \"temp_min\": 7.2, \"wind\": 6.6, \"weather\": \"rain\"}, {\"date\": \"2015-01-19T00:00:00\", \"precipitation\": 0.5, \"temp_max\": 10.0, \"temp_min\": 6.1, \"wind\": 2.8, \"weather\": \"sun\"}, {\"date\": \"2015-01-20T00:00:00\", \"precipitation\": 0.0, \"temp_max\": 10.0, \"temp_min\": 3.3, \"wind\": 3.0, \"weather\": \"fog\"}, {\"date\": \"2015-01-21T00:00:00\", \"precipitation\": 0.0, \"temp_max\": 7.2, \"temp_min\": -0.5, \"wind\": 1.3, \"weather\": \"fog\"}, {\"date\": \"2015-01-22T00:00:00\", \"precipitation\": 0.8, \"temp_max\": 9.4, \"temp_min\": 6.1, \"wind\": 1.3, \"weather\": \"fog\"}, {\"date\": \"2015-01-23T00:00:00\", \"precipitation\": 5.8, \"temp_max\": 12.2, \"temp_min\": 8.3, \"wind\": 2.6, \"weather\": \"fog\"}, {\"date\": \"2015-01-24T00:00:00\", \"precipitation\": 0.5, \"temp_max\": 14.4, \"temp_min\": 11.1, \"wind\": 3.3, \"weather\": \"fog\"}, {\"date\": \"2015-01-25T00:00:00\", \"precipitation\": 0.0, \"temp_max\": 17.2, \"temp_min\": 7.2, \"wind\": 1.4, \"weather\": \"fog\"}, {\"date\": \"2015-01-26T00:00:00\", \"precipitation\": 0.0, \"temp_max\": 16.1, \"temp_min\": 6.1, \"wind\": 2.2, \"weather\": \"fog\"}, {\"date\": \"2015-01-27T00:00:00\", \"precipitation\": 0.8, \"temp_max\": 11.1, \"temp_min\": 8.3, \"wind\": 2.0, \"weather\": \"fog\"}, {\"date\": \"2015-01-28T00:00:00\", \"precipitation\": 0.0, \"temp_max\": 12.2, \"temp_min\": 5.0, \"wind\": 1.8, \"weather\": \"fog\"}, {\"date\": \"2015-01-29T00:00:00\", \"precipitation\": 0.0, \"temp_max\": 12.2, \"temp_min\": 3.3, \"wind\": 2.9, \"weather\": \"sun\"}, {\"date\": \"2015-01-30T00:00:00\", \"precipitation\": 0.0, \"temp_max\": 8.3, \"temp_min\": 1.1, \"wind\": 0.8, \"weather\": \"fog\"}, {\"date\": \"2015-01-31T00:00:00\", \"precipitation\": 0.0, \"temp_max\": 7.2, \"temp_min\": 3.3, \"wind\": 1.9, \"weather\": \"fog\"}, {\"date\": \"2015-02-01T00:00:00\", \"precipitation\": 1.5, \"temp_max\": 9.4, \"temp_min\": 4.4, \"wind\": 2.6, \"weather\": \"fog\"}, {\"date\": \"2015-02-02T00:00:00\", \"precipitation\": 7.4, \"temp_max\": 11.1, \"temp_min\": 5.0, \"wind\": 4.0, \"weather\": \"fog\"}, {\"date\": \"2015-02-03T00:00:00\", \"precipitation\": 1.3, \"temp_max\": 10.0, \"temp_min\": 5.6, \"wind\": 1.9, \"weather\": \"fog\"}, {\"date\": \"2015-02-04T00:00:00\", \"precipitation\": 8.4, \"temp_max\": 10.6, \"temp_min\": 4.4, \"wind\": 1.7, \"weather\": \"fog\"}, {\"date\": \"2015-02-05T00:00:00\", \"precipitation\": 26.2, \"temp_max\": 13.3, \"temp_min\": 8.3, \"wind\": 4.6, \"weather\": \"fog\"}, {\"date\": \"2015-02-06T00:00:00\", \"precipitation\": 17.3, \"temp_max\": 14.4, \"temp_min\": 10.0, \"wind\": 4.5, \"weather\": \"fog\"}, {\"date\": \"2015-02-07T00:00:00\", \"precipitation\": 23.6, \"temp_max\": 12.2, \"temp_min\": 9.4, \"wind\": 4.6, \"weather\": \"fog\"}, {\"date\": \"2015-02-08T00:00:00\", \"precipitation\": 3.6, \"temp_max\": 15.0, \"temp_min\": 8.3, \"wind\": 3.9, \"weather\": \"fog\"}, {\"date\": \"2015-02-09T00:00:00\", \"precipitation\": 6.1, \"temp_max\": 13.3, \"temp_min\": 8.3, \"wind\": 2.5, \"weather\": \"fog\"}, {\"date\": \"2015-02-10T00:00:00\", \"precipitation\": 0.3, \"temp_max\": 12.8, \"temp_min\": 8.3, \"wind\": 4.0, \"weather\": \"fog\"}, {\"date\": \"2015-02-11T00:00:00\", \"precipitation\": 0.0, \"temp_max\": 12.8, \"temp_min\": 5.6, \"wind\": 1.0, \"weather\": \"fog\"}, {\"date\": \"2015-02-12T00:00:00\", \"precipitation\": 1.0, \"temp_max\": 16.7, \"temp_min\": 9.4, \"wind\": 2.1, \"weather\": \"sun\"}, {\"date\": \"2015-02-13T00:00:00\", \"precipitation\": 0.0, \"temp_max\": 15.6, \"temp_min\": 6.7, \"wind\": 1.7, \"weather\": \"fog\"}, {\"date\": \"2015-02-14T00:00:00\", \"precipitation\": 0.3, \"temp_max\": 14.4, \"temp_min\": 6.7, \"wind\": 2.9, \"weather\": \"fog\"}, {\"date\": \"2015-02-15T00:00:00\", \"precipitation\": 0.0, \"temp_max\": 12.2, \"temp_min\": 3.9, \"wind\": 4.8, \"weather\": \"sun\"}, {\"date\": \"2015-02-16T00:00:00\", \"precipitation\": 0.0, \"temp_max\": 15.0, \"temp_min\": 5.6, \"wind\": 6.6, \"weather\": \"fog\"}, {\"date\": \"2015-02-17T00:00:00\", \"precipitation\": 0.0, \"temp_max\": 16.1, \"temp_min\": 4.4, \"wind\": 4.0, \"weather\": \"sun\"}, {\"date\": \"2015-02-18T00:00:00\", \"precipitation\": 0.0, \"temp_max\": 12.2, \"temp_min\": 4.4, \"wind\": 2.6, \"weather\": \"sun\"}, {\"date\": \"2015-02-19T00:00:00\", \"precipitation\": 4.6, \"temp_max\": 10.6, \"temp_min\": 8.3, \"wind\": 2.2, \"weather\": \"fog\"}, {\"date\": \"2015-02-20T00:00:00\", \"precipitation\": 0.8, \"temp_max\": 11.1, \"temp_min\": 7.2, \"wind\": 0.9, \"weather\": \"fog\"}, {\"date\": \"2015-02-21T00:00:00\", \"precipitation\": 0.0, \"temp_max\": 12.2, \"temp_min\": 5.6, \"wind\": 4.5, \"weather\": \"sun\"}, {\"date\": \"2015-02-22T00:00:00\", \"precipitation\": 0.0, \"temp_max\": 11.7, \"temp_min\": 3.3, \"wind\": 4.2, \"weather\": \"sun\"}, {\"date\": \"2015-02-23T00:00:00\", \"precipitation\": 0.0, \"temp_max\": 12.8, \"temp_min\": 0.6, \"wind\": 1.4, \"weather\": \"sun\"}, {\"date\": \"2015-02-24T00:00:00\", \"precipitation\": 0.0, \"temp_max\": 11.1, \"temp_min\": 2.2, \"wind\": 1.5, \"weather\": \"sun\"}, {\"date\": \"2015-02-25T00:00:00\", \"precipitation\": 4.1, \"temp_max\": 10.0, \"temp_min\": 6.7, \"wind\": 1.0, \"weather\": \"fog\"}, {\"date\": \"2015-02-26T00:00:00\", \"precipitation\": 9.4, \"temp_max\": 11.7, \"temp_min\": 7.8, \"wind\": 1.4, \"weather\": \"fog\"}, {\"date\": \"2015-02-27T00:00:00\", \"precipitation\": 18.3, \"temp_max\": 10.0, \"temp_min\": 6.7, \"wind\": 4.0, \"weather\": \"fog\"}, {\"date\": \"2015-02-28T00:00:00\", \"precipitation\": 0.0, \"temp_max\": 12.2, \"temp_min\": 3.3, \"wind\": 5.1, \"weather\": \"sun\"}, {\"date\": \"2015-03-01T00:00:00\", \"precipitation\": 0.0, \"temp_max\": 11.1, \"temp_min\": 1.1, \"wind\": 2.2, \"weather\": \"sun\"}, {\"date\": \"2015-03-02T00:00:00\", \"precipitation\": 0.0, \"temp_max\": 11.1, \"temp_min\": 4.4, \"wind\": 4.8, \"weather\": \"sun\"}, {\"date\": \"2015-03-03T00:00:00\", \"precipitation\": 0.0, \"temp_max\": 10.6, \"temp_min\": 0.0, \"wind\": 2.1, \"weather\": \"sun\"}, {\"date\": \"2015-03-04T00:00:00\", \"precipitation\": 0.0, \"temp_max\": 12.8, \"temp_min\": -0.5, \"wind\": 1.8, \"weather\": \"sun\"}, {\"date\": \"2015-03-05T00:00:00\", \"precipitation\": 0.0, \"temp_max\": 13.3, \"temp_min\": 2.8, \"wind\": 1.3, \"weather\": \"sun\"}, {\"date\": \"2015-03-06T00:00:00\", \"precipitation\": 0.0, \"temp_max\": 15.0, \"temp_min\": 3.3, \"wind\": 1.4, \"weather\": \"sun\"}, {\"date\": \"2015-03-07T00:00:00\", \"precipitation\": 0.0, \"temp_max\": 16.7, \"temp_min\": 3.9, \"wind\": 2.7, \"weather\": \"fog\"}, {\"date\": \"2015-03-08T00:00:00\", \"precipitation\": 0.0, \"temp_max\": 17.2, \"temp_min\": 3.9, \"wind\": 1.7, \"weather\": \"fog\"}, {\"date\": \"2015-03-09T00:00:00\", \"precipitation\": 0.0, \"temp_max\": 14.4, \"temp_min\": 4.4, \"wind\": 1.8, \"weather\": \"fog\"}, {\"date\": \"2015-03-10T00:00:00\", \"precipitation\": 0.8, \"temp_max\": 13.3, \"temp_min\": 5.0, \"wind\": 2.6, \"weather\": \"fog\"}, {\"date\": \"2015-03-11T00:00:00\", \"precipitation\": 2.5, \"temp_max\": 14.4, \"temp_min\": 8.9, \"wind\": 3.1, \"weather\": \"fog\"}, {\"date\": \"2015-03-12T00:00:00\", \"precipitation\": 0.0, \"temp_max\": 17.8, \"temp_min\": 9.4, \"wind\": 3.2, \"weather\": \"sun\"}, {\"date\": \"2015-03-13T00:00:00\", \"precipitation\": 2.0, \"temp_max\": 17.2, \"temp_min\": 7.8, \"wind\": 2.2, \"weather\": \"sun\"}, {\"date\": \"2015-03-14T00:00:00\", \"precipitation\": 17.0, \"temp_max\": 13.9, \"temp_min\": 9.4, \"wind\": 3.8, \"weather\": \"fog\"}, {\"date\": \"2015-03-15T00:00:00\", \"precipitation\": 55.9, \"temp_max\": 10.6, \"temp_min\": 6.1, \"wind\": 4.2, \"weather\": \"fog\"}, {\"date\": \"2015-03-16T00:00:00\", \"precipitation\": 1.0, \"temp_max\": 13.9, \"temp_min\": 6.1, \"wind\": 3.0, \"weather\": \"fog\"}, {\"date\": \"2015-03-17T00:00:00\", \"precipitation\": 0.8, \"temp_max\": 13.3, \"temp_min\": 4.4, \"wind\": 2.6, \"weather\": \"sun\"}, {\"date\": \"2015-03-18T00:00:00\", \"precipitation\": 0.0, \"temp_max\": 15.6, \"temp_min\": 7.2, \"wind\": 2.5, \"weather\": \"sun\"}, {\"date\": \"2015-03-19T00:00:00\", \"precipitation\": 0.0, \"temp_max\": 15.6, \"temp_min\": 8.3, \"wind\": 1.9, \"weather\": \"sun\"}, {\"date\": \"2015-03-20T00:00:00\", \"precipitation\": 4.1, \"temp_max\": 13.9, \"temp_min\": 8.9, \"wind\": 1.9, \"weather\": \"sun\"}, {\"date\": \"2015-03-21T00:00:00\", \"precipitation\": 3.8, \"temp_max\": 13.3, \"temp_min\": 8.3, \"wind\": 4.7, \"weather\": \"fog\"}, {\"date\": \"2015-03-22T00:00:00\", \"precipitation\": 1.0, \"temp_max\": 11.7, \"temp_min\": 6.1, \"wind\": 2.3, \"weather\": \"sun\"}, {\"date\": \"2015-03-23T00:00:00\", \"precipitation\": 8.1, \"temp_max\": 11.1, \"temp_min\": 5.6, \"wind\": 2.8, \"weather\": \"fog\"}, {\"date\": \"2015-03-24T00:00:00\", \"precipitation\": 7.6, \"temp_max\": 12.8, \"temp_min\": 6.1, \"wind\": 3.9, \"weather\": \"fog\"}, {\"date\": \"2015-03-25T00:00:00\", \"precipitation\": 5.1, \"temp_max\": 14.4, \"temp_min\": 7.2, \"wind\": 4.4, \"weather\": \"fog\"}, {\"date\": \"2015-03-26T00:00:00\", \"precipitation\": 0.0, \"temp_max\": 20.6, \"temp_min\": 10.0, \"wind\": 2.2, \"weather\": \"sun\"}, {\"date\": \"2015-03-27T00:00:00\", \"precipitation\": 1.0, \"temp_max\": 18.3, \"temp_min\": 8.9, \"wind\": 4.0, \"weather\": \"fog\"}, {\"date\": \"2015-03-28T00:00:00\", \"precipitation\": 0.0, \"temp_max\": 15.6, \"temp_min\": 9.4, \"wind\": 5.7, \"weather\": \"sun\"}, {\"date\": \"2015-03-29T00:00:00\", \"precipitation\": 0.0, \"temp_max\": 15.6, \"temp_min\": 8.9, \"wind\": 3.0, \"weather\": \"sun\"}, {\"date\": \"2015-03-30T00:00:00\", \"precipitation\": 1.8, \"temp_max\": 17.8, \"temp_min\": 10.6, \"wind\": 2.9, \"weather\": \"fog\"}, {\"date\": \"2015-03-31T00:00:00\", \"precipitation\": 1.0, \"temp_max\": 12.8, \"temp_min\": 6.1, \"wind\": 4.2, \"weather\": \"fog\"}, {\"date\": \"2015-04-01T00:00:00\", \"precipitation\": 5.1, \"temp_max\": 12.8, \"temp_min\": 5.6, \"wind\": 3.2, \"weather\": \"rain\"}, {\"date\": \"2015-04-02T00:00:00\", \"precipitation\": 0.0, \"temp_max\": 13.3, \"temp_min\": 5.6, \"wind\": 2.4, \"weather\": \"sun\"}, {\"date\": \"2015-04-03T00:00:00\", \"precipitation\": 1.5, \"temp_max\": 11.1, \"temp_min\": 5.0, \"wind\": 3.6, \"weather\": \"fog\"}, {\"date\": \"2015-04-04T00:00:00\", \"precipitation\": 0.0, \"temp_max\": 12.8, \"temp_min\": 3.9, \"wind\": 1.7, \"weather\": \"sun\"}, {\"date\": \"2015-04-05T00:00:00\", \"precipitation\": 0.0, \"temp_max\": 16.7, \"temp_min\": 2.8, \"wind\": 2.4, \"weather\": \"sun\"}, {\"date\": \"2015-04-06T00:00:00\", \"precipitation\": 1.0, \"temp_max\": 13.9, \"temp_min\": 6.7, \"wind\": 3.5, \"weather\": \"sun\"}, {\"date\": \"2015-04-07T00:00:00\", \"precipitation\": 0.5, \"temp_max\": 14.4, \"temp_min\": 6.7, \"wind\": 3.9, \"weather\": \"sun\"}, {\"date\": \"2015-04-08T00:00:00\", \"precipitation\": 0.0, \"temp_max\": 17.2, \"temp_min\": 6.1, \"wind\": 1.7, \"weather\": \"sun\"}, {\"date\": \"2015-04-09T00:00:00\", \"precipitation\": 0.0, \"temp_max\": 17.2, \"temp_min\": 6.1, \"wind\": 2.3, \"weather\": \"sun\"}, {\"date\": \"2015-04-10T00:00:00\", \"precipitation\": 10.9, \"temp_max\": 13.9, \"temp_min\": 7.8, \"wind\": 4.6, \"weather\": \"fog\"}, {\"date\": \"2015-04-11T00:00:00\", \"precipitation\": 0.0, \"temp_max\": 11.7, \"temp_min\": 5.6, \"wind\": 6.5, \"weather\": \"sun\"}, {\"date\": \"2015-04-12T00:00:00\", \"precipitation\": 0.0, \"temp_max\": 13.3, \"temp_min\": 5.6, \"wind\": 3.6, \"weather\": \"sun\"}, {\"date\": \"2015-04-13T00:00:00\", \"precipitation\": 14.0, \"temp_max\": 11.7, \"temp_min\": 3.9, \"wind\": 3.6, \"weather\": \"fog\"}, {\"date\": \"2015-04-14T00:00:00\", \"precipitation\": 3.3, \"temp_max\": 11.7, \"temp_min\": 2.8, \"wind\": 3.3, \"weather\": \"sun\"}, {\"date\": \"2015-04-15T00:00:00\", \"precipitation\": 0.0, \"temp_max\": 13.9, \"temp_min\": 3.3, \"wind\": 2.4, \"weather\": \"sun\"}, {\"date\": \"2015-04-16T00:00:00\", \"precipitation\": 0.0, \"temp_max\": 17.8, \"temp_min\": 3.9, \"wind\": 3.1, \"weather\": \"sun\"}, {\"date\": \"2015-04-17T00:00:00\", \"precipitation\": 0.0, \"temp_max\": 18.9, \"temp_min\": 6.1, \"wind\": 3.6, \"weather\": \"sun\"}, {\"date\": \"2015-04-18T00:00:00\", \"precipitation\": 0.0, \"temp_max\": 18.9, \"temp_min\": 8.3, \"wind\": 3.9, \"weather\": \"sun\"}, {\"date\": \"2015-04-19T00:00:00\", \"precipitation\": 0.0, \"temp_max\": 21.1, \"temp_min\": 8.3, \"wind\": 3.6, \"weather\": \"sun\"}, {\"date\": \"2015-04-20T00:00:00\", \"precipitation\": 0.0, \"temp_max\": 22.8, \"temp_min\": 7.8, \"wind\": 2.6, \"weather\": \"sun\"}, {\"date\": \"2015-04-21T00:00:00\", \"precipitation\": 5.6, \"temp_max\": 17.2, \"temp_min\": 6.7, \"wind\": 3.4, \"weather\": \"fog\"}, {\"date\": \"2015-04-22T00:00:00\", \"precipitation\": 0.0, \"temp_max\": 15.6, \"temp_min\": 5.0, \"wind\": 2.3, \"weather\": \"sun\"}, {\"date\": \"2015-04-23T00:00:00\", \"precipitation\": 3.0, \"temp_max\": 12.2, \"temp_min\": 6.7, \"wind\": 4.1, \"weather\": \"fog\"}, {\"date\": \"2015-04-24T00:00:00\", \"precipitation\": 3.3, \"temp_max\": 12.2, \"temp_min\": 6.1, \"wind\": 5.0, \"weather\": \"fog\"}, {\"date\": \"2015-04-25T00:00:00\", \"precipitation\": 1.3, \"temp_max\": 13.3, \"temp_min\": 5.6, \"wind\": 3.0, \"weather\": \"fog\"}, {\"date\": \"2015-04-26T00:00:00\", \"precipitation\": 0.0, \"temp_max\": 15.6, \"temp_min\": 4.4, \"wind\": 2.7, \"weather\": \"fog\"}, {\"date\": \"2015-04-27T00:00:00\", \"precipitation\": 0.3, \"temp_max\": 25.0, \"temp_min\": 10.6, \"wind\": 2.3, \"weather\": \"fog\"}, {\"date\": \"2015-04-28T00:00:00\", \"precipitation\": 1.8, \"temp_max\": 15.6, \"temp_min\": 8.9, \"wind\": 4.3, \"weather\": \"fog\"}, {\"date\": \"2015-04-29T00:00:00\", \"precipitation\": 0.0, \"temp_max\": 16.1, \"temp_min\": 7.2, \"wind\": 4.7, \"weather\": \"sun\"}, {\"date\": \"2015-04-30T00:00:00\", \"precipitation\": 0.0, \"temp_max\": 17.2, \"temp_min\": 7.8, \"wind\": 2.1, \"weather\": \"sun\"}, {\"date\": \"2015-05-01T00:00:00\", \"precipitation\": 0.0, \"temp_max\": 18.3, \"temp_min\": 8.9, \"wind\": 3.7, \"weather\": \"sun\"}, {\"date\": \"2015-05-02T00:00:00\", \"precipitation\": 0.0, \"temp_max\": 18.3, \"temp_min\": 7.8, \"wind\": 3.7, \"weather\": \"sun\"}, {\"date\": \"2015-05-03T00:00:00\", \"precipitation\": 0.0, \"temp_max\": 20.6, \"temp_min\": 7.8, \"wind\": 2.6, \"weather\": \"sun\"}, {\"date\": \"2015-05-04T00:00:00\", \"precipitation\": 0.0, \"temp_max\": 17.2, \"temp_min\": 7.2, \"wind\": 5.2, \"weather\": \"sun\"}, {\"date\": \"2015-05-05T00:00:00\", \"precipitation\": 6.1, \"temp_max\": 14.4, \"temp_min\": 7.2, \"wind\": 5.1, \"weather\": \"fog\"}, {\"date\": \"2015-05-06T00:00:00\", \"precipitation\": 0.0, \"temp_max\": 16.7, \"temp_min\": 7.2, \"wind\": 2.6, \"weather\": \"fog\"}, {\"date\": \"2015-05-07T00:00:00\", \"precipitation\": 0.0, \"temp_max\": 20.6, \"temp_min\": 6.1, \"wind\": 3.0, \"weather\": \"sun\"}, {\"date\": \"2015-05-08T00:00:00\", \"precipitation\": 0.0, \"temp_max\": 23.9, \"temp_min\": 8.3, \"wind\": 3.0, \"weather\": \"sun\"}, {\"date\": \"2015-05-09T00:00:00\", \"precipitation\": 0.0, \"temp_max\": 26.7, \"temp_min\": 9.4, \"wind\": 2.6, \"weather\": \"sun\"}, {\"date\": \"2015-05-10T00:00:00\", \"precipitation\": 0.0, \"temp_max\": 19.4, \"temp_min\": 11.1, \"wind\": 2.8, \"weather\": \"sun\"}, {\"date\": \"2015-05-11T00:00:00\", \"precipitation\": 0.0, \"temp_max\": 13.9, \"temp_min\": 10.0, \"wind\": 2.5, \"weather\": \"fog\"}, {\"date\": \"2015-05-12T00:00:00\", \"precipitation\": 4.3, \"temp_max\": 15.6, \"temp_min\": 10.6, \"wind\": 3.3, \"weather\": \"fog\"}, {\"date\": \"2015-05-13T00:00:00\", \"precipitation\": 4.1, \"temp_max\": 12.2, \"temp_min\": 10.0, \"wind\": 2.8, \"weather\": \"fog\"}, {\"date\": \"2015-05-14T00:00:00\", \"precipitation\": 0.3, \"temp_max\": 17.8, \"temp_min\": 9.4, \"wind\": 2.0, \"weather\": \"fog\"}, {\"date\": \"2015-05-15T00:00:00\", \"precipitation\": 0.0, \"temp_max\": 20.0, \"temp_min\": 9.4, \"wind\": 2.8, \"weather\": \"fog\"}, {\"date\": \"2015-05-16T00:00:00\", \"precipitation\": 0.0, \"temp_max\": 15.6, \"temp_min\": 11.1, \"wind\": 3.0, \"weather\": \"sun\"}, {\"date\": \"2015-05-17T00:00:00\", \"precipitation\": 0.0, \"temp_max\": 19.4, \"temp_min\": 10.6, \"wind\": 2.1, \"weather\": \"sun\"}, {\"date\": \"2015-05-18T00:00:00\", \"precipitation\": 0.0, \"temp_max\": 25.6, \"temp_min\": 12.2, \"wind\": 3.0, \"weather\": \"sun\"}, {\"date\": \"2015-05-19T00:00:00\", \"precipitation\": 0.0, \"temp_max\": 21.7, \"temp_min\": 11.7, \"wind\": 2.6, \"weather\": \"sun\"}, {\"date\": \"2015-05-20T00:00:00\", \"precipitation\": 0.0, \"temp_max\": 23.3, \"temp_min\": 10.6, \"wind\": 1.8, \"weather\": \"fog\"}, {\"date\": \"2015-05-21T00:00:00\", \"precipitation\": 0.0, \"temp_max\": 25.6, \"temp_min\": 11.7, \"wind\": 2.1, \"weather\": \"sun\"}, {\"date\": \"2015-05-22T00:00:00\", \"precipitation\": 0.0, \"temp_max\": 16.7, \"temp_min\": 11.7, \"wind\": 3.7, \"weather\": \"sun\"}, {\"date\": \"2015-05-23T00:00:00\", \"precipitation\": 0.0, \"temp_max\": 16.1, \"temp_min\": 11.7, \"wind\": 2.6, \"weather\": \"sun\"}, {\"date\": \"2015-05-24T00:00:00\", \"precipitation\": 0.0, \"temp_max\": 17.8, \"temp_min\": 11.1, \"wind\": 2.7, \"weather\": \"sun\"}, {\"date\": \"2015-05-25T00:00:00\", \"precipitation\": 0.0, \"temp_max\": 15.6, \"temp_min\": 11.1, \"wind\": 2.7, \"weather\": \"sun\"}, {\"date\": \"2015-05-26T00:00:00\", \"precipitation\": 0.0, \"temp_max\": 21.7, \"temp_min\": 11.7, \"wind\": 2.1, \"weather\": \"sun\"}, {\"date\": \"2015-05-27T00:00:00\", \"precipitation\": 0.0, \"temp_max\": 24.4, \"temp_min\": 11.7, \"wind\": 1.8, \"weather\": \"sun\"}, {\"date\": \"2015-05-28T00:00:00\", \"precipitation\": 0.0, \"temp_max\": 27.8, \"temp_min\": 12.2, \"wind\": 2.1, \"weather\": \"sun\"}, {\"date\": \"2015-05-29T00:00:00\", \"precipitation\": 0.0, \"temp_max\": 26.1, \"temp_min\": 12.8, \"wind\": 2.5, \"weather\": \"sun\"}, {\"date\": \"2015-05-30T00:00:00\", \"precipitation\": 0.0, \"temp_max\": 22.8, \"temp_min\": 10.0, \"wind\": 2.5, \"weather\": \"sun\"}, {\"date\": \"2015-05-31T00:00:00\", \"precipitation\": 0.0, \"temp_max\": 25.0, \"temp_min\": 11.7, \"wind\": 2.2, \"weather\": \"sun\"}, {\"date\": \"2015-06-01T00:00:00\", \"precipitation\": 4.6, \"temp_max\": 16.1, \"temp_min\": 11.7, \"wind\": 3.4, \"weather\": \"fog\"}, {\"date\": \"2015-06-02T00:00:00\", \"precipitation\": 0.5, \"temp_max\": 17.8, \"temp_min\": 12.8, \"wind\": 5.0, \"weather\": \"sun\"}, {\"date\": \"2015-06-03T00:00:00\", \"precipitation\": 0.0, \"temp_max\": 20.0, \"temp_min\": 11.7, \"wind\": 3.0, \"weather\": \"sun\"}, {\"date\": \"2015-06-04T00:00:00\", \"precipitation\": 0.0, \"temp_max\": 22.8, \"temp_min\": 11.7, \"wind\": 3.9, \"weather\": \"sun\"}, {\"date\": \"2015-06-05T00:00:00\", \"precipitation\": 0.0, \"temp_max\": 26.7, \"temp_min\": 12.8, \"wind\": 4.3, \"weather\": \"sun\"}, {\"date\": \"2015-06-06T00:00:00\", \"precipitation\": 0.0, \"temp_max\": 29.4, \"temp_min\": 13.3, \"wind\": 2.6, \"weather\": \"sun\"}, {\"date\": \"2015-06-07T00:00:00\", \"precipitation\": 0.0, \"temp_max\": 31.1, \"temp_min\": 15.6, \"wind\": 3.2, \"weather\": \"sun\"}, {\"date\": \"2015-06-08T00:00:00\", \"precipitation\": 0.0, \"temp_max\": 30.6, \"temp_min\": 14.4, \"wind\": 3.5, \"weather\": \"sun\"}, {\"date\": \"2015-06-09T00:00:00\", \"precipitation\": 0.0, \"temp_max\": 28.9, \"temp_min\": 14.4, \"wind\": 2.7, \"weather\": \"sun\"}, {\"date\": \"2015-06-10T00:00:00\", \"precipitation\": 0.0, \"temp_max\": 25.6, \"temp_min\": 11.1, \"wind\": 3.0, \"weather\": \"sun\"}, {\"date\": \"2015-06-11T00:00:00\", \"precipitation\": 0.0, \"temp_max\": 24.4, \"temp_min\": 11.1, \"wind\": 3.5, \"weather\": \"sun\"}, {\"date\": \"2015-06-12T00:00:00\", \"precipitation\": 0.0, \"temp_max\": 20.0, \"temp_min\": 11.7, \"wind\": 2.3, \"weather\": \"sun\"}, {\"date\": \"2015-06-13T00:00:00\", \"precipitation\": 0.0, \"temp_max\": 23.9, \"temp_min\": 9.4, \"wind\": 2.6, \"weather\": \"sun\"}, {\"date\": \"2015-06-14T00:00:00\", \"precipitation\": 0.0, \"temp_max\": 27.8, \"temp_min\": 11.7, \"wind\": 3.7, \"weather\": \"sun\"}, {\"date\": \"2015-06-15T00:00:00\", \"precipitation\": 0.0, \"temp_max\": 30.0, \"temp_min\": 16.1, \"wind\": 3.5, \"weather\": \"drizzle\"}, {\"date\": \"2015-06-16T00:00:00\", \"precipitation\": 0.0, \"temp_max\": 22.8, \"temp_min\": 11.1, \"wind\": 3.0, \"weather\": \"sun\"}, {\"date\": \"2015-06-17T00:00:00\", \"precipitation\": 0.0, \"temp_max\": 25.0, \"temp_min\": 11.1, \"wind\": 3.1, \"weather\": \"sun\"}, {\"date\": \"2015-06-18T00:00:00\", \"precipitation\": 0.0, \"temp_max\": 24.4, \"temp_min\": 13.9, \"wind\": 3.0, \"weather\": \"sun\"}, {\"date\": \"2015-06-19T00:00:00\", \"precipitation\": 0.5, \"temp_max\": 23.9, \"temp_min\": 13.3, \"wind\": 3.2, \"weather\": \"fog\"}, {\"date\": \"2015-06-20T00:00:00\", \"precipitation\": 0.0, \"temp_max\": 25.0, \"temp_min\": 12.8, \"wind\": 4.3, \"weather\": \"sun\"}, {\"date\": \"2015-06-21T00:00:00\", \"precipitation\": 0.0, \"temp_max\": 25.6, \"temp_min\": 13.9, \"wind\": 3.4, \"weather\": \"sun\"}, {\"date\": \"2015-06-22T00:00:00\", \"precipitation\": 0.0, \"temp_max\": 25.0, \"temp_min\": 12.8, \"wind\": 2.4, \"weather\": \"sun\"}, {\"date\": \"2015-06-23T00:00:00\", \"precipitation\": 0.0, \"temp_max\": 26.1, \"temp_min\": 11.7, \"wind\": 2.4, \"weather\": \"sun\"}, {\"date\": \"2015-06-24T00:00:00\", \"precipitation\": 0.0, \"temp_max\": 25.6, \"temp_min\": 16.1, \"wind\": 2.6, \"weather\": \"sun\"}, {\"date\": \"2015-06-25T00:00:00\", \"precipitation\": 0.0, \"temp_max\": 30.6, \"temp_min\": 15.6, \"wind\": 3.0, \"weather\": \"sun\"}, {\"date\": \"2015-06-26T00:00:00\", \"precipitation\": 0.0, \"temp_max\": 31.7, \"temp_min\": 17.8, \"wind\": 4.7, \"weather\": \"sun\"}, {\"date\": \"2015-06-27T00:00:00\", \"precipitation\": 0.0, \"temp_max\": 33.3, \"temp_min\": 17.2, \"wind\": 3.9, \"weather\": \"sun\"}, {\"date\": \"2015-06-28T00:00:00\", \"precipitation\": 0.3, \"temp_max\": 28.3, \"temp_min\": 18.3, \"wind\": 2.1, \"weather\": \"sun\"}, {\"date\": \"2015-06-29T00:00:00\", \"precipitation\": 0.0, \"temp_max\": 28.9, \"temp_min\": 17.2, \"wind\": 2.7, \"weather\": \"sun\"}, {\"date\": \"2015-06-30T00:00:00\", \"precipitation\": 0.0, \"temp_max\": 30.6, \"temp_min\": 15.0, \"wind\": 3.4, \"weather\": \"fog\"}, {\"date\": \"2015-07-01T00:00:00\", \"precipitation\": 0.0, \"temp_max\": 32.2, \"temp_min\": 17.2, \"wind\": 4.3, \"weather\": \"sun\"}, {\"date\": \"2015-07-02T00:00:00\", \"precipitation\": 0.0, \"temp_max\": 33.9, \"temp_min\": 17.8, \"wind\": 3.4, \"weather\": \"sun\"}, {\"date\": \"2015-07-03T00:00:00\", \"precipitation\": 0.0, \"temp_max\": 33.3, \"temp_min\": 17.8, \"wind\": 2.6, \"weather\": \"sun\"}, {\"date\": \"2015-07-04T00:00:00\", \"precipitation\": 0.0, \"temp_max\": 33.3, \"temp_min\": 15.0, \"wind\": 2.9, \"weather\": \"sun\"}, {\"date\": \"2015-07-05T00:00:00\", \"precipitation\": 0.0, \"temp_max\": 32.8, \"temp_min\": 16.7, \"wind\": 2.1, \"weather\": \"sun\"}, {\"date\": \"2015-07-06T00:00:00\", \"precipitation\": 0.0, \"temp_max\": 29.4, \"temp_min\": 15.6, \"wind\": 3.2, \"weather\": \"drizzle\"}, {\"date\": \"2015-07-07T00:00:00\", \"precipitation\": 0.0, \"temp_max\": 27.2, \"temp_min\": 13.9, \"wind\": 2.4, \"weather\": \"sun\"}, {\"date\": \"2015-07-08T00:00:00\", \"precipitation\": 0.0, \"temp_max\": 30.0, \"temp_min\": 14.4, \"wind\": 1.9, \"weather\": \"drizzle\"}, {\"date\": \"2015-07-09T00:00:00\", \"precipitation\": 0.0, \"temp_max\": 28.9, \"temp_min\": 14.4, \"wind\": 3.4, \"weather\": \"sun\"}, {\"date\": \"2015-07-10T00:00:00\", \"precipitation\": 0.0, \"temp_max\": 21.1, \"temp_min\": 16.7, \"wind\": 3.7, \"weather\": \"sun\"}, {\"date\": \"2015-07-11T00:00:00\", \"precipitation\": 0.0, \"temp_max\": 22.2, \"temp_min\": 16.7, \"wind\": 3.0, \"weather\": \"sun\"}, {\"date\": \"2015-07-12T00:00:00\", \"precipitation\": 0.0, \"temp_max\": 26.1, \"temp_min\": 16.7, \"wind\": 2.2, \"weather\": \"sun\"}, {\"date\": \"2015-07-13T00:00:00\", \"precipitation\": 0.0, \"temp_max\": 25.6, \"temp_min\": 16.1, \"wind\": 3.1, \"weather\": \"sun\"}, {\"date\": \"2015-07-14T00:00:00\", \"precipitation\": 0.0, \"temp_max\": 27.8, \"temp_min\": 16.1, \"wind\": 3.3, \"weather\": \"sun\"}, {\"date\": \"2015-07-15T00:00:00\", \"precipitation\": 0.0, \"temp_max\": 26.1, \"temp_min\": 14.4, \"wind\": 3.2, \"weather\": \"sun\"}, {\"date\": \"2015-07-16T00:00:00\", \"precipitation\": 0.0, \"temp_max\": 26.1, \"temp_min\": 15.0, \"wind\": 2.8, \"weather\": \"sun\"}, {\"date\": \"2015-07-17T00:00:00\", \"precipitation\": 0.0, \"temp_max\": 27.8, \"temp_min\": 13.9, \"wind\": 3.3, \"weather\": \"sun\"}, {\"date\": \"2015-07-18T00:00:00\", \"precipitation\": 0.0, \"temp_max\": 33.3, \"temp_min\": 17.8, \"wind\": 3.4, \"weather\": \"sun\"}, {\"date\": \"2015-07-19T00:00:00\", \"precipitation\": 0.0, \"temp_max\": 35.0, \"temp_min\": 17.2, \"wind\": 3.3, \"weather\": \"sun\"}, {\"date\": \"2015-07-20T00:00:00\", \"precipitation\": 0.0, \"temp_max\": 26.7, \"temp_min\": 16.7, \"wind\": 3.9, \"weather\": \"sun\"}, {\"date\": \"2015-07-21T00:00:00\", \"precipitation\": 0.0, \"temp_max\": 23.9, \"temp_min\": 15.0, \"wind\": 2.4, \"weather\": \"sun\"}, {\"date\": \"2015-07-22T00:00:00\", \"precipitation\": 0.0, \"temp_max\": 23.9, \"temp_min\": 13.9, \"wind\": 2.8, \"weather\": \"sun\"}, {\"date\": \"2015-07-23T00:00:00\", \"precipitation\": 0.0, \"temp_max\": 26.1, \"temp_min\": 14.4, \"wind\": 1.9, \"weather\": \"sun\"}, {\"date\": \"2015-07-24T00:00:00\", \"precipitation\": 0.3, \"temp_max\": 22.8, \"temp_min\": 13.3, \"wind\": 3.8, \"weather\": \"fog\"}, {\"date\": \"2015-07-25T00:00:00\", \"precipitation\": 0.0, \"temp_max\": 21.1, \"temp_min\": 14.4, \"wind\": 2.4, \"weather\": \"fog\"}, {\"date\": \"2015-07-26T00:00:00\", \"precipitation\": 2.0, \"temp_max\": 22.2, \"temp_min\": 13.9, \"wind\": 2.6, \"weather\": \"fog\"}, {\"date\": \"2015-07-27T00:00:00\", \"precipitation\": 0.0, \"temp_max\": 23.3, \"temp_min\": 12.2, \"wind\": 1.9, \"weather\": \"fog\"}, {\"date\": \"2015-07-28T00:00:00\", \"precipitation\": 0.0, \"temp_max\": 27.8, \"temp_min\": 13.9, \"wind\": 3.4, \"weather\": \"sun\"}, {\"date\": \"2015-07-29T00:00:00\", \"precipitation\": 0.0, \"temp_max\": 32.2, \"temp_min\": 14.4, \"wind\": 3.8, \"weather\": \"sun\"}, {\"date\": \"2015-07-30T00:00:00\", \"precipitation\": 0.0, \"temp_max\": 34.4, \"temp_min\": 17.2, \"wind\": 3.5, \"weather\": \"sun\"}, {\"date\": \"2015-07-31T00:00:00\", \"precipitation\": 0.0, \"temp_max\": 34.4, \"temp_min\": 17.8, \"wind\": 2.6, \"weather\": \"sun\"}, {\"date\": \"2015-08-01T00:00:00\", \"precipitation\": 0.0, \"temp_max\": 33.3, \"temp_min\": 15.6, \"wind\": 3.1, \"weather\": \"sun\"}, {\"date\": \"2015-08-02T00:00:00\", \"precipitation\": 0.0, \"temp_max\": 30.6, \"temp_min\": 16.1, \"wind\": 2.0, \"weather\": \"sun\"}, {\"date\": \"2015-08-03T00:00:00\", \"precipitation\": 0.0, \"temp_max\": 28.3, \"temp_min\": 17.2, \"wind\": 2.3, \"weather\": \"sun\"}, {\"date\": \"2015-08-04T00:00:00\", \"precipitation\": 0.0, \"temp_max\": 26.1, \"temp_min\": 14.4, \"wind\": 2.6, \"weather\": \"fog\"}, {\"date\": \"2015-08-05T00:00:00\", \"precipitation\": 0.0, \"temp_max\": 23.3, \"temp_min\": 12.2, \"wind\": 3.5, \"weather\": \"sun\"}, {\"date\": \"2015-08-06T00:00:00\", \"precipitation\": 0.0, \"temp_max\": 25.0, \"temp_min\": 15.0, \"wind\": 2.9, \"weather\": \"sun\"}, {\"date\": \"2015-08-07T00:00:00\", \"precipitation\": 0.0, \"temp_max\": 28.3, \"temp_min\": 15.6, \"wind\": 3.7, \"weather\": \"sun\"}, {\"date\": \"2015-08-08T00:00:00\", \"precipitation\": 0.0, \"temp_max\": 25.0, \"temp_min\": 15.6, \"wind\": 3.6, \"weather\": \"fog\"}, {\"date\": \"2015-08-09T00:00:00\", \"precipitation\": 0.0, \"temp_max\": 28.3, \"temp_min\": 15.0, \"wind\": 2.2, \"weather\": \"sun\"}, {\"date\": \"2015-08-10T00:00:00\", \"precipitation\": 0.0, \"temp_max\": 28.9, \"temp_min\": 16.1, \"wind\": 2.4, \"weather\": \"sun\"}, {\"date\": \"2015-08-11T00:00:00\", \"precipitation\": 0.0, \"temp_max\": 30.0, \"temp_min\": 16.7, \"wind\": 4.4, \"weather\": \"sun\"}, {\"date\": \"2015-08-12T00:00:00\", \"precipitation\": 7.6, \"temp_max\": 28.3, \"temp_min\": 16.7, \"wind\": 2.7, \"weather\": \"rain\"}, {\"date\": \"2015-08-13T00:00:00\", \"precipitation\": 0.0, \"temp_max\": 28.3, \"temp_min\": 15.6, \"wind\": 2.2, \"weather\": \"sun\"}, {\"date\": \"2015-08-14T00:00:00\", \"precipitation\": 30.5, \"temp_max\": 18.3, \"temp_min\": 15.0, \"wind\": 5.2, \"weather\": \"rain\"}, {\"date\": \"2015-08-15T00:00:00\", \"precipitation\": 0.0, \"temp_max\": 21.7, \"temp_min\": 13.9, \"wind\": 3.7, \"weather\": \"sun\"}, {\"date\": \"2015-08-16T00:00:00\", \"precipitation\": 0.0, \"temp_max\": 25.0, \"temp_min\": 14.4, \"wind\": 3.7, \"weather\": \"sun\"}, {\"date\": \"2015-08-17T00:00:00\", \"precipitation\": 0.0, \"temp_max\": 27.2, \"temp_min\": 13.9, \"wind\": 3.0, \"weather\": \"sun\"}, {\"date\": \"2015-08-18T00:00:00\", \"precipitation\": 0.0, \"temp_max\": 30.0, \"temp_min\": 15.0, \"wind\": 3.0, \"weather\": \"sun\"}, {\"date\": \"2015-08-19T00:00:00\", \"precipitation\": 0.0, \"temp_max\": 31.7, \"temp_min\": 16.1, \"wind\": 2.1, \"weather\": \"drizzle\"}, {\"date\": \"2015-08-20T00:00:00\", \"precipitation\": 2.0, \"temp_max\": 22.8, \"temp_min\": 14.4, \"wind\": 4.2, \"weather\": \"fog\"}, {\"date\": \"2015-08-21T00:00:00\", \"precipitation\": 0.0, \"temp_max\": 22.2, \"temp_min\": 14.4, \"wind\": 2.6, \"weather\": \"sun\"}, {\"date\": \"2015-08-22T00:00:00\", \"precipitation\": 0.0, \"temp_max\": 26.7, \"temp_min\": 12.2, \"wind\": 2.5, \"weather\": \"drizzle\"}, {\"date\": \"2015-08-23T00:00:00\", \"precipitation\": 0.0, \"temp_max\": 27.8, \"temp_min\": 13.9, \"wind\": 1.8, \"weather\": \"drizzle\"}, {\"date\": \"2015-08-24T00:00:00\", \"precipitation\": 0.0, \"temp_max\": 23.9, \"temp_min\": 12.2, \"wind\": 2.3, \"weather\": \"sun\"}, {\"date\": \"2015-08-25T00:00:00\", \"precipitation\": 0.0, \"temp_max\": 25.6, \"temp_min\": 12.2, \"wind\": 3.4, \"weather\": \"sun\"}, {\"date\": \"2015-08-26T00:00:00\", \"precipitation\": 0.0, \"temp_max\": 28.3, \"temp_min\": 13.9, \"wind\": 1.7, \"weather\": \"sun\"}, {\"date\": \"2015-08-27T00:00:00\", \"precipitation\": 0.0, \"temp_max\": 29.4, \"temp_min\": 14.4, \"wind\": 2.1, \"weather\": \"sun\"}, {\"date\": \"2015-08-28T00:00:00\", \"precipitation\": 0.5, \"temp_max\": 23.3, \"temp_min\": 15.6, \"wind\": 2.6, \"weather\": \"fog\"}, {\"date\": \"2015-08-29T00:00:00\", \"precipitation\": 32.5, \"temp_max\": 22.2, \"temp_min\": 13.3, \"wind\": 5.8, \"weather\": \"fog\"}, {\"date\": \"2015-08-30T00:00:00\", \"precipitation\": 10.2, \"temp_max\": 20.0, \"temp_min\": 12.8, \"wind\": 4.7, \"weather\": \"fog\"}, {\"date\": \"2015-08-31T00:00:00\", \"precipitation\": 0.0, \"temp_max\": 18.9, \"temp_min\": 16.1, \"wind\": 5.8, \"weather\": \"sun\"}, {\"date\": \"2015-09-01T00:00:00\", \"precipitation\": 5.8, \"temp_max\": 19.4, \"temp_min\": 13.9, \"wind\": 5.0, \"weather\": \"fog\"}, {\"date\": \"2015-09-02T00:00:00\", \"precipitation\": 0.0, \"temp_max\": 19.4, \"temp_min\": 11.1, \"wind\": 3.8, \"weather\": \"sun\"}, {\"date\": \"2015-09-03T00:00:00\", \"precipitation\": 0.0, \"temp_max\": 18.3, \"temp_min\": 10.6, \"wind\": 2.9, \"weather\": \"sun\"}, {\"date\": \"2015-09-04T00:00:00\", \"precipitation\": 0.0, \"temp_max\": 18.3, \"temp_min\": 10.0, \"wind\": 2.9, \"weather\": \"sun\"}, {\"date\": \"2015-09-05T00:00:00\", \"precipitation\": 0.3, \"temp_max\": 20.6, \"temp_min\": 8.9, \"wind\": 3.5, \"weather\": \"sun\"}, {\"date\": \"2015-09-06T00:00:00\", \"precipitation\": 5.3, \"temp_max\": 16.1, \"temp_min\": 11.7, \"wind\": 2.4, \"weather\": \"fog\"}, {\"date\": \"2015-09-07T00:00:00\", \"precipitation\": 0.3, \"temp_max\": 21.1, \"temp_min\": 13.3, \"wind\": 1.5, \"weather\": \"fog\"}, {\"date\": \"2015-09-08T00:00:00\", \"precipitation\": 0.0, \"temp_max\": 22.8, \"temp_min\": 13.3, \"wind\": 2.4, \"weather\": \"sun\"}, {\"date\": \"2015-09-09T00:00:00\", \"precipitation\": 0.0, \"temp_max\": 24.4, \"temp_min\": 13.9, \"wind\": 3.3, \"weather\": \"sun\"}, {\"date\": \"2015-09-10T00:00:00\", \"precipitation\": 0.0, \"temp_max\": 25.0, \"temp_min\": 14.4, \"wind\": 3.6, \"weather\": \"fog\"}, {\"date\": \"2015-09-11T00:00:00\", \"precipitation\": 0.0, \"temp_max\": 27.2, \"temp_min\": 15.0, \"wind\": 3.1, \"weather\": \"sun\"}, {\"date\": \"2015-09-12T00:00:00\", \"precipitation\": 0.0, \"temp_max\": 26.7, \"temp_min\": 14.4, \"wind\": 2.1, \"weather\": \"sun\"}, {\"date\": \"2015-09-13T00:00:00\", \"precipitation\": 0.5, \"temp_max\": 20.6, \"temp_min\": 12.8, \"wind\": 3.0, \"weather\": \"fog\"}, {\"date\": \"2015-09-14T00:00:00\", \"precipitation\": 0.0, \"temp_max\": 16.7, \"temp_min\": 10.6, \"wind\": 3.4, \"weather\": \"sun\"}, {\"date\": \"2015-09-15T00:00:00\", \"precipitation\": 0.0, \"temp_max\": 17.8, \"temp_min\": 10.0, \"wind\": 2.8, \"weather\": \"sun\"}, {\"date\": \"2015-09-16T00:00:00\", \"precipitation\": 1.0, \"temp_max\": 20.0, \"temp_min\": 10.0, \"wind\": 1.9, \"weather\": \"sun\"}, {\"date\": \"2015-09-17T00:00:00\", \"precipitation\": 1.8, \"temp_max\": 18.3, \"temp_min\": 12.8, \"wind\": 3.8, \"weather\": \"fog\"}, {\"date\": \"2015-09-18T00:00:00\", \"precipitation\": 0.0, \"temp_max\": 19.4, \"temp_min\": 12.8, \"wind\": 2.6, \"weather\": \"sun\"}, {\"date\": \"2015-09-19T00:00:00\", \"precipitation\": 0.0, \"temp_max\": 21.1, \"temp_min\": 14.4, \"wind\": 4.3, \"weather\": \"sun\"}, {\"date\": \"2015-09-20T00:00:00\", \"precipitation\": 4.1, \"temp_max\": 22.8, \"temp_min\": 12.2, \"wind\": 6.8, \"weather\": \"fog\"}, {\"date\": \"2015-09-21T00:00:00\", \"precipitation\": 0.0, \"temp_max\": 18.3, \"temp_min\": 9.4, \"wind\": 2.7, \"weather\": \"fog\"}, {\"date\": \"2015-09-22T00:00:00\", \"precipitation\": 0.0, \"temp_max\": 18.9, \"temp_min\": 7.8, \"wind\": 2.0, \"weather\": \"sun\"}, {\"date\": \"2015-09-23T00:00:00\", \"precipitation\": 0.0, \"temp_max\": 20.6, \"temp_min\": 8.3, \"wind\": 1.8, \"weather\": \"sun\"}, {\"date\": \"2015-09-24T00:00:00\", \"precipitation\": 0.0, \"temp_max\": 22.2, \"temp_min\": 11.1, \"wind\": 2.5, \"weather\": \"fog\"}, {\"date\": \"2015-09-25T00:00:00\", \"precipitation\": 2.0, \"temp_max\": 15.6, \"temp_min\": 12.8, \"wind\": 2.6, \"weather\": \"fog\"}, {\"date\": \"2015-09-26T00:00:00\", \"precipitation\": 0.0, \"temp_max\": 18.3, \"temp_min\": 10.0, \"wind\": 2.7, \"weather\": \"sun\"}, {\"date\": \"2015-09-27T00:00:00\", \"precipitation\": 0.0, \"temp_max\": 17.8, \"temp_min\": 7.2, \"wind\": 3.8, \"weather\": \"sun\"}, {\"date\": \"2015-09-28T00:00:00\", \"precipitation\": 0.0, \"temp_max\": 21.1, \"temp_min\": 9.4, \"wind\": 5.1, \"weather\": \"sun\"}, {\"date\": \"2015-09-29T00:00:00\", \"precipitation\": 0.0, \"temp_max\": 21.7, \"temp_min\": 8.9, \"wind\": 1.9, \"weather\": \"sun\"}, {\"date\": \"2015-09-30T00:00:00\", \"precipitation\": 0.0, \"temp_max\": 18.3, \"temp_min\": 10.0, \"wind\": 1.3, \"weather\": \"fog\"}, {\"date\": \"2015-10-01T00:00:00\", \"precipitation\": 0.0, \"temp_max\": 21.1, \"temp_min\": 9.4, \"wind\": 1.3, \"weather\": \"fog\"}, {\"date\": \"2015-10-02T00:00:00\", \"precipitation\": 0.0, \"temp_max\": 15.6, \"temp_min\": 10.0, \"wind\": 2.9, \"weather\": \"fog\"}, {\"date\": \"2015-10-03T00:00:00\", \"precipitation\": 0.0, \"temp_max\": 19.4, \"temp_min\": 11.1, \"wind\": 4.8, \"weather\": \"sun\"}, {\"date\": \"2015-10-04T00:00:00\", \"precipitation\": 0.0, \"temp_max\": 22.8, \"temp_min\": 10.0, \"wind\": 3.7, \"weather\": \"sun\"}, {\"date\": \"2015-10-05T00:00:00\", \"precipitation\": 0.0, \"temp_max\": 23.3, \"temp_min\": 9.4, \"wind\": 1.6, \"weather\": \"sun\"}, {\"date\": \"2015-10-06T00:00:00\", \"precipitation\": 0.0, \"temp_max\": 18.3, \"temp_min\": 10.0, \"wind\": 2.6, \"weather\": \"drizzle\"}, {\"date\": \"2015-10-07T00:00:00\", \"precipitation\": 9.9, \"temp_max\": 16.1, \"temp_min\": 13.9, \"wind\": 2.2, \"weather\": \"fog\"}, {\"date\": \"2015-10-08T00:00:00\", \"precipitation\": 0.0, \"temp_max\": 18.9, \"temp_min\": 13.3, \"wind\": 1.1, \"weather\": \"fog\"}, {\"date\": \"2015-10-09T00:00:00\", \"precipitation\": 0.3, \"temp_max\": 19.4, \"temp_min\": 12.2, \"wind\": 2.6, \"weather\": \"fog\"}, {\"date\": \"2015-10-10T00:00:00\", \"precipitation\": 28.7, \"temp_max\": 21.1, \"temp_min\": 13.3, \"wind\": 4.7, \"weather\": \"fog\"}, {\"date\": \"2015-10-11T00:00:00\", \"precipitation\": 0.0, \"temp_max\": 17.8, \"temp_min\": 10.6, \"wind\": 2.6, \"weather\": \"sun\"}, {\"date\": \"2015-10-12T00:00:00\", \"precipitation\": 4.6, \"temp_max\": 18.3, \"temp_min\": 10.6, \"wind\": 2.8, \"weather\": \"fog\"}, {\"date\": \"2015-10-13T00:00:00\", \"precipitation\": 1.3, \"temp_max\": 16.7, \"temp_min\": 9.4, \"wind\": 3.2, \"weather\": \"fog\"}, {\"date\": \"2015-10-14T00:00:00\", \"precipitation\": 0.0, \"temp_max\": 15.0, \"temp_min\": 10.0, \"wind\": 5.0, \"weather\": \"fog\"}, {\"date\": \"2015-10-15T00:00:00\", \"precipitation\": 0.0, \"temp_max\": 21.1, \"temp_min\": 9.4, \"wind\": 3.4, \"weather\": \"fog\"}, {\"date\": \"2015-10-16T00:00:00\", \"precipitation\": 0.0, \"temp_max\": 20.0, \"temp_min\": 8.9, \"wind\": 1.3, \"weather\": \"sun\"}, {\"date\": \"2015-10-17T00:00:00\", \"precipitation\": 0.3, \"temp_max\": 19.4, \"temp_min\": 11.7, \"wind\": 1.3, \"weather\": \"fog\"}, {\"date\": \"2015-10-18T00:00:00\", \"precipitation\": 3.8, \"temp_max\": 15.0, \"temp_min\": 12.8, \"wind\": 2.0, \"weather\": \"fog\"}, {\"date\": \"2015-10-19T00:00:00\", \"precipitation\": 0.3, \"temp_max\": 17.2, \"temp_min\": 12.2, \"wind\": 2.6, \"weather\": \"fog\"}, {\"date\": \"2015-10-20T00:00:00\", \"precipitation\": 0.0, \"temp_max\": 17.8, \"temp_min\": 10.6, \"wind\": 1.8, \"weather\": \"fog\"}, {\"date\": \"2015-10-21T00:00:00\", \"precipitation\": 0.0, \"temp_max\": 16.1, \"temp_min\": 8.3, \"wind\": 1.3, \"weather\": \"fog\"}, {\"date\": \"2015-10-22T00:00:00\", \"precipitation\": 0.0, \"temp_max\": 16.1, \"temp_min\": 8.9, \"wind\": 2.7, \"weather\": \"fog\"}, {\"date\": \"2015-10-23T00:00:00\", \"precipitation\": 0.0, \"temp_max\": 12.8, \"temp_min\": 7.2, \"wind\": 2.6, \"weather\": \"fog\"}, {\"date\": \"2015-10-24T00:00:00\", \"precipitation\": 0.0, \"temp_max\": 15.0, \"temp_min\": 8.9, \"wind\": 2.9, \"weather\": \"fog\"}, {\"date\": \"2015-10-25T00:00:00\", \"precipitation\": 8.9, \"temp_max\": 19.4, \"temp_min\": 8.9, \"wind\": 3.4, \"weather\": \"rain\"}, {\"date\": \"2015-10-26T00:00:00\", \"precipitation\": 6.9, \"temp_max\": 12.2, \"temp_min\": 10.0, \"wind\": 4.6, \"weather\": \"fog\"}, {\"date\": \"2015-10-27T00:00:00\", \"precipitation\": 0.0, \"temp_max\": 16.1, \"temp_min\": 7.8, \"wind\": 1.7, \"weather\": \"fog\"}, {\"date\": \"2015-10-28T00:00:00\", \"precipitation\": 3.3, \"temp_max\": 13.9, \"temp_min\": 11.1, \"wind\": 2.8, \"weather\": \"fog\"}, {\"date\": \"2015-10-29T00:00:00\", \"precipitation\": 1.8, \"temp_max\": 15.0, \"temp_min\": 12.2, \"wind\": 4.7, \"weather\": \"fog\"}, {\"date\": \"2015-10-30T00:00:00\", \"precipitation\": 19.3, \"temp_max\": 17.2, \"temp_min\": 11.7, \"wind\": 6.7, \"weather\": \"fog\"}, {\"date\": \"2015-10-31T00:00:00\", \"precipitation\": 33.0, \"temp_max\": 15.6, \"temp_min\": 11.7, \"wind\": 7.2, \"weather\": \"fog\"}, {\"date\": \"2015-11-01T00:00:00\", \"precipitation\": 26.2, \"temp_max\": 12.2, \"temp_min\": 8.9, \"wind\": 6.0, \"weather\": \"fog\"}, {\"date\": \"2015-11-02T00:00:00\", \"precipitation\": 0.3, \"temp_max\": 11.1, \"temp_min\": 7.2, \"wind\": 2.8, \"weather\": \"fog\"}, {\"date\": \"2015-11-03T00:00:00\", \"precipitation\": 0.8, \"temp_max\": 10.6, \"temp_min\": 5.0, \"wind\": 1.4, \"weather\": \"fog\"}, {\"date\": \"2015-11-04T00:00:00\", \"precipitation\": 0.0, \"temp_max\": 10.0, \"temp_min\": 3.3, \"wind\": 2.2, \"weather\": \"sun\"}, {\"date\": \"2015-11-05T00:00:00\", \"precipitation\": 1.3, \"temp_max\": 11.7, \"temp_min\": 7.8, \"wind\": 2.3, \"weather\": \"fog\"}, {\"date\": \"2015-11-06T00:00:00\", \"precipitation\": 0.0, \"temp_max\": 15.6, \"temp_min\": 8.3, \"wind\": 2.7, \"weather\": \"fog\"}, {\"date\": \"2015-11-07T00:00:00\", \"precipitation\": 12.7, \"temp_max\": 12.2, \"temp_min\": 9.4, \"wind\": 3.0, \"weather\": \"fog\"}, {\"date\": \"2015-11-08T00:00:00\", \"precipitation\": 6.6, \"temp_max\": 11.1, \"temp_min\": 7.8, \"wind\": 1.8, \"weather\": \"fog\"}, {\"date\": \"2015-11-09T00:00:00\", \"precipitation\": 3.3, \"temp_max\": 10.0, \"temp_min\": 5.0, \"wind\": 1.3, \"weather\": \"fog\"}, {\"date\": \"2015-11-10T00:00:00\", \"precipitation\": 1.3, \"temp_max\": 11.1, \"temp_min\": 3.9, \"wind\": 3.9, \"weather\": \"fog\"}, {\"date\": \"2015-11-11T00:00:00\", \"precipitation\": 1.5, \"temp_max\": 11.1, \"temp_min\": 6.1, \"wind\": 4.6, \"weather\": \"sun\"}, {\"date\": \"2015-11-12T00:00:00\", \"precipitation\": 9.9, \"temp_max\": 11.1, \"temp_min\": 5.0, \"wind\": 5.1, \"weather\": \"fog\"}, {\"date\": \"2015-11-13T00:00:00\", \"precipitation\": 33.5, \"temp_max\": 13.3, \"temp_min\": 9.4, \"wind\": 6.5, \"weather\": \"fog\"}, {\"date\": \"2015-11-14T00:00:00\", \"precipitation\": 47.2, \"temp_max\": 9.4, \"temp_min\": 6.1, \"wind\": 4.5, \"weather\": \"fog\"}, {\"date\": \"2015-11-15T00:00:00\", \"precipitation\": 22.4, \"temp_max\": 8.9, \"temp_min\": 2.2, \"wind\": 4.1, \"weather\": \"fog\"}, {\"date\": \"2015-11-16T00:00:00\", \"precipitation\": 2.0, \"temp_max\": 8.9, \"temp_min\": 1.7, \"wind\": 4.0, \"weather\": \"fog\"}, {\"date\": \"2015-11-17T00:00:00\", \"precipitation\": 29.5, \"temp_max\": 13.3, \"temp_min\": 6.7, \"wind\": 8.0, \"weather\": \"fog\"}, {\"date\": \"2015-11-18T00:00:00\", \"precipitation\": 1.5, \"temp_max\": 8.9, \"temp_min\": 3.3, \"wind\": 3.8, \"weather\": \"sun\"}, {\"date\": \"2015-11-19T00:00:00\", \"precipitation\": 2.0, \"temp_max\": 8.9, \"temp_min\": 2.8, \"wind\": 4.2, \"weather\": \"sun\"}, {\"date\": \"2015-11-20T00:00:00\", \"precipitation\": 0.0, \"temp_max\": 8.3, \"temp_min\": 0.6, \"wind\": 4.0, \"weather\": \"fog\"}, {\"date\": \"2015-11-21T00:00:00\", \"precipitation\": 0.0, \"temp_max\": 8.9, \"temp_min\": 0.6, \"wind\": 4.7, \"weather\": \"sun\"}, {\"date\": \"2015-11-22T00:00:00\", \"precipitation\": 0.0, \"temp_max\": 10.0, \"temp_min\": 1.7, \"wind\": 3.1, \"weather\": \"fog\"}, {\"date\": \"2015-11-23T00:00:00\", \"precipitation\": 3.0, \"temp_max\": 6.7, \"temp_min\": 0.0, \"wind\": 1.3, \"weather\": \"fog\"}, {\"date\": \"2015-11-24T00:00:00\", \"precipitation\": 7.1, \"temp_max\": 6.7, \"temp_min\": 2.8, \"wind\": 4.5, \"weather\": \"fog\"}, {\"date\": \"2015-11-25T00:00:00\", \"precipitation\": 0.0, \"temp_max\": 7.2, \"temp_min\": 0.0, \"wind\": 5.7, \"weather\": \"sun\"}, {\"date\": \"2015-11-26T00:00:00\", \"precipitation\": 0.0, \"temp_max\": 9.4, \"temp_min\": -1.0, \"wind\": 4.3, \"weather\": \"sun\"}, {\"date\": \"2015-11-27T00:00:00\", \"precipitation\": 0.0, \"temp_max\": 9.4, \"temp_min\": -1.6, \"wind\": 3.0, \"weather\": \"sun\"}, {\"date\": \"2015-11-28T00:00:00\", \"precipitation\": 0.0, \"temp_max\": 7.2, \"temp_min\": -2.7, \"wind\": 1.0, \"weather\": \"sun\"}, {\"date\": \"2015-11-29T00:00:00\", \"precipitation\": 0.0, \"temp_max\": 1.7, \"temp_min\": -2.1, \"wind\": 0.9, \"weather\": \"fog\"}, {\"date\": \"2015-11-30T00:00:00\", \"precipitation\": 0.5, \"temp_max\": 5.6, \"temp_min\": -3.8, \"wind\": 1.7, \"weather\": \"fog\"}, {\"date\": \"2015-12-01T00:00:00\", \"precipitation\": 12.2, \"temp_max\": 10.0, \"temp_min\": 3.9, \"wind\": 3.5, \"weather\": \"fog\"}, {\"date\": \"2015-12-02T00:00:00\", \"precipitation\": 2.5, \"temp_max\": 10.6, \"temp_min\": 4.4, \"wind\": 5.0, \"weather\": \"fog\"}, {\"date\": \"2015-12-03T00:00:00\", \"precipitation\": 12.7, \"temp_max\": 15.6, \"temp_min\": 7.8, \"wind\": 5.9, \"weather\": \"fog\"}, {\"date\": \"2015-12-04T00:00:00\", \"precipitation\": 2.0, \"temp_max\": 10.6, \"temp_min\": 6.1, \"wind\": 4.7, \"weather\": \"fog\"}, {\"date\": \"2015-12-05T00:00:00\", \"precipitation\": 15.7, \"temp_max\": 10.0, \"temp_min\": 6.1, \"wind\": 4.0, \"weather\": \"fog\"}, {\"date\": \"2015-12-06T00:00:00\", \"precipitation\": 11.2, \"temp_max\": 12.8, \"temp_min\": 7.2, \"wind\": 5.9, \"weather\": \"fog\"}, {\"date\": \"2015-12-07T00:00:00\", \"precipitation\": 27.4, \"temp_max\": 11.1, \"temp_min\": 8.3, \"wind\": 3.4, \"weather\": \"fog\"}, {\"date\": \"2015-12-08T00:00:00\", \"precipitation\": 54.1, \"temp_max\": 15.6, \"temp_min\": 10.0, \"wind\": 6.2, \"weather\": \"fog\"}, {\"date\": \"2015-12-09T00:00:00\", \"precipitation\": 13.5, \"temp_max\": 12.2, \"temp_min\": 7.8, \"wind\": 6.3, \"weather\": \"fog\"}, {\"date\": \"2015-12-10T00:00:00\", \"precipitation\": 9.4, \"temp_max\": 11.7, \"temp_min\": 6.1, \"wind\": 7.5, \"weather\": \"fog\"}, {\"date\": \"2015-12-11T00:00:00\", \"precipitation\": 0.3, \"temp_max\": 9.4, \"temp_min\": 4.4, \"wind\": 2.8, \"weather\": \"sun\"}, {\"date\": \"2015-12-12T00:00:00\", \"precipitation\": 16.0, \"temp_max\": 8.9, \"temp_min\": 5.6, \"wind\": 5.6, \"weather\": \"fog\"}, {\"date\": \"2015-12-13T00:00:00\", \"precipitation\": 1.3, \"temp_max\": 7.8, \"temp_min\": 6.1, \"wind\": 6.1, \"weather\": \"sun\"}, {\"date\": \"2015-12-14T00:00:00\", \"precipitation\": 0.0, \"temp_max\": 7.8, \"temp_min\": 1.7, \"wind\": 1.7, \"weather\": \"sun\"}, {\"date\": \"2015-12-15T00:00:00\", \"precipitation\": 1.5, \"temp_max\": 6.7, \"temp_min\": 1.1, \"wind\": 2.9, \"weather\": \"fog\"}, {\"date\": \"2015-12-16T00:00:00\", \"precipitation\": 3.6, \"temp_max\": 6.1, \"temp_min\": 2.8, \"wind\": 2.3, \"weather\": \"fog\"}, {\"date\": \"2015-12-17T00:00:00\", \"precipitation\": 21.8, \"temp_max\": 6.7, \"temp_min\": 3.9, \"wind\": 6.0, \"weather\": \"fog\"}, {\"date\": \"2015-12-18T00:00:00\", \"precipitation\": 18.5, \"temp_max\": 8.9, \"temp_min\": 4.4, \"wind\": 5.1, \"weather\": \"fog\"}, {\"date\": \"2015-12-19T00:00:00\", \"precipitation\": 0.0, \"temp_max\": 8.3, \"temp_min\": 2.8, \"wind\": 4.1, \"weather\": \"fog\"}, {\"date\": \"2015-12-20T00:00:00\", \"precipitation\": 4.3, \"temp_max\": 7.8, \"temp_min\": 4.4, \"wind\": 6.7, \"weather\": \"fog\"}, {\"date\": \"2015-12-21T00:00:00\", \"precipitation\": 27.4, \"temp_max\": 5.6, \"temp_min\": 2.8, \"wind\": 4.3, \"weather\": \"fog\"}, {\"date\": \"2015-12-22T00:00:00\", \"precipitation\": 4.6, \"temp_max\": 7.8, \"temp_min\": 2.8, \"wind\": 5.0, \"weather\": \"fog\"}, {\"date\": \"2015-12-23T00:00:00\", \"precipitation\": 6.1, \"temp_max\": 5.0, \"temp_min\": 2.8, \"wind\": 7.6, \"weather\": \"fog\"}, {\"date\": \"2015-12-24T00:00:00\", \"precipitation\": 2.5, \"temp_max\": 5.6, \"temp_min\": 2.2, \"wind\": 4.3, \"weather\": \"fog\"}, {\"date\": \"2015-12-25T00:00:00\", \"precipitation\": 5.8, \"temp_max\": 5.0, \"temp_min\": 2.2, \"wind\": 1.5, \"weather\": \"fog\"}, {\"date\": \"2015-12-26T00:00:00\", \"precipitation\": 0.0, \"temp_max\": 4.4, \"temp_min\": 0.0, \"wind\": 2.5, \"weather\": \"sun\"}, {\"date\": \"2015-12-27T00:00:00\", \"precipitation\": 8.6, \"temp_max\": 4.4, \"temp_min\": 1.7, \"wind\": 2.9, \"weather\": \"fog\"}, {\"date\": \"2015-12-28T00:00:00\", \"precipitation\": 1.5, \"temp_max\": 5.0, \"temp_min\": 1.7, \"wind\": 1.3, \"weather\": \"fog\"}, {\"date\": \"2015-12-29T00:00:00\", \"precipitation\": 0.0, \"temp_max\": 7.2, \"temp_min\": 0.6, \"wind\": 2.6, \"weather\": \"fog\"}, {\"date\": \"2015-12-30T00:00:00\", \"precipitation\": 0.0, \"temp_max\": 5.6, \"temp_min\": -1.0, \"wind\": 3.4, \"weather\": \"sun\"}, {\"date\": \"2015-12-31T00:00:00\", \"precipitation\": 0.0, \"temp_max\": 5.6, \"temp_min\": -2.1, \"wind\": 3.5, \"weather\": \"sun\"}]}}, {\"mode\": \"vega-lite\"});\n",
       "</script>"
      ],
      "text/plain": [
       "alt.LayerChart(...)"
      ]
     },
     "execution_count": 7,
     "metadata": {},
     "output_type": "execute_result"
    }
   ],
   "source": [
    "import altair as alt\n",
    "from vega_datasets import data\n",
    "\n",
    "source = data.seattle_weather()\n",
    "brush = alt.selection(type='interval', encodings=['x'])\n",
    "\n",
    "bars = alt.Chart().mark_bar().encode(\n",
    "    x='month(date):O',\n",
    "    y='mean(precipitation):Q',\n",
    "    opacity=alt.condition(brush, alt.OpacityValue(1), alt.OpacityValue(0.7)),\n",
    ").add_selection(\n",
    "    brush\n",
    ")\n",
    "\n",
    "line = alt.Chart().mark_rule(color='firebrick').encode(\n",
    "    y='mean(precipitation):Q',\n",
    "    size=alt.SizeValue(3)\n",
    ").transform_filter(\n",
    "    brush\n",
    ")\n",
    "\n",
    "chart = alt.layer(bars, line, data=source)\n",
    "chart"
   ]
  },
  {
   "cell_type": "code",
   "execution_count": null,
   "id": "ea4af9cc",
   "metadata": {},
   "outputs": [],
   "source": []
  },
  {
   "cell_type": "code",
   "execution_count": null,
   "id": "32247b68",
   "metadata": {},
   "outputs": [],
   "source": []
  },
  {
   "cell_type": "code",
   "execution_count": null,
   "id": "8cede01e",
   "metadata": {},
   "outputs": [],
   "source": []
  },
  {
   "cell_type": "code",
   "execution_count": null,
   "id": "dba4880c",
   "metadata": {},
   "outputs": [],
   "source": []
  }
 ],
 "metadata": {
  "kernelspec": {
   "display_name": "Python 3.9.7 ('venv': venv)",
   "language": "python",
   "name": "python3"
  },
  "language_info": {
   "codemirror_mode": {
    "name": "ipython",
    "version": 3
   },
   "file_extension": ".py",
   "mimetype": "text/x-python",
   "name": "python",
   "nbconvert_exporter": "python",
   "pygments_lexer": "ipython3",
   "version": "3.9.7"
  },
  "vscode": {
   "interpreter": {
    "hash": "c94a453ca1cb568d4561133b1a28c201dc30cecf29901247104f0dd9c3d91c9a"
   }
  }
 },
 "nbformat": 4,
 "nbformat_minor": 5
}
