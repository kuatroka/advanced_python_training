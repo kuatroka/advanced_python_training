{
 "cells": [
  {
   "cell_type": "code",
   "execution_count": 2,
   "metadata": {},
   "outputs": [
    {
     "name": "stdout",
     "output_type": "stream",
     "text": [
      "Hello World   \n",
      "   Hello World\n"
     ]
    }
   ],
   "source": [
    "# greeting = \"Hello\"\n",
    "\n",
    "# if 'ell' in greeting:\n",
    "#     print('yes')\n",
    "# else: print('no')\n",
    "\n",
    "my_string = \"   Hello World   \"\n",
    "# my_string = my_string.strip()\n",
    "# print(my_string)\n",
    "\n",
    "print(my_string.lstrip())\n",
    "print(my_string.rstrip())"
   ]
  },
  {
   "cell_type": "code",
   "execution_count": 3,
   "metadata": {},
   "outputs": [
    {
     "data": {
      "text/plain": [
       "'   HELLO WORLD   '"
      ]
     },
     "execution_count": 3,
     "metadata": {},
     "output_type": "execute_result"
    }
   ],
   "source": [
    "my_string.upper()"
   ]
  },
  {
   "cell_type": "code",
   "execution_count": 5,
   "metadata": {},
   "outputs": [
    {
     "data": {
      "text/plain": [
       "'HELLO WORLD'"
      ]
     },
     "execution_count": 5,
     "metadata": {},
     "output_type": "execute_result"
    }
   ],
   "source": [
    "my_string.strip().upper()"
   ]
  },
  {
   "cell_type": "code",
   "execution_count": 6,
   "metadata": {},
   "outputs": [
    {
     "data": {
      "text/plain": [
       "True"
      ]
     },
     "execution_count": 6,
     "metadata": {},
     "output_type": "execute_result"
    }
   ],
   "source": [
    "my_string.strip().startswith(\"Hell\")"
   ]
  },
  {
   "cell_type": "code",
   "execution_count": 9,
   "metadata": {},
   "outputs": [
    {
     "data": {
      "text/plain": [
       "False"
      ]
     },
     "execution_count": 9,
     "metadata": {},
     "output_type": "execute_result"
    }
   ],
   "source": [
    "my_string.strip().startswith(\"end\")"
   ]
  },
  {
   "cell_type": "code",
   "execution_count": 17,
   "metadata": {},
   "outputs": [
    {
     "data": {
      "text/plain": [
       "-1"
      ]
     },
     "execution_count": 17,
     "metadata": {},
     "output_type": "execute_result"
    }
   ],
   "source": [
    "my_string.find(\"pro\")"
   ]
  },
  {
   "cell_type": "code",
   "execution_count": 18,
   "metadata": {},
   "outputs": [
    {
     "data": {
      "text/plain": [
       "\"['sd', '23']\""
      ]
     },
     "execution_count": 18,
     "metadata": {},
     "output_type": "execute_result"
    }
   ],
   "source": [
    "str(['sd', '23'])"
   ]
  },
  {
   "cell_type": "code",
   "execution_count": 21,
   "metadata": {},
   "outputs": [
    {
     "data": {
      "text/plain": [
       "0"
      ]
     },
     "execution_count": 21,
     "metadata": {},
     "output_type": "execute_result"
    }
   ],
   "source": [
    "my_string.count(\"ll\")\n",
    "my_string.count(\"po\")"
   ]
  },
  {
   "cell_type": "code",
   "execution_count": 22,
   "metadata": {},
   "outputs": [
    {
     "data": {
      "text/plain": [
       "'   Hasta la vista, baby World   '"
      ]
     },
     "execution_count": 22,
     "metadata": {},
     "output_type": "execute_result"
    }
   ],
   "source": [
    "my_string.replace(\"Hello\", \"Hasta la vista, baby\")"
   ]
  },
  {
   "cell_type": "code",
   "execution_count": 35,
   "metadata": {},
   "outputs": [
    {
     "data": {
      "text/plain": [
       "['hi', 'how', 'are', 'you', 'doing']"
      ]
     },
     "execution_count": 35,
     "metadata": {},
     "output_type": "execute_result"
    }
   ],
   "source": [
    "new_string = \"hi how are you doing\"\n",
    "my_list = new_string.split(\" \")\n",
    "my_list"
   ]
  },
  {
   "cell_type": "code",
   "execution_count": 37,
   "metadata": {},
   "outputs": [
    {
     "data": {
      "text/plain": [
       "'hi how are you doing'"
      ]
     },
     "execution_count": 37,
     "metadata": {},
     "output_type": "execute_result"
    }
   ],
   "source": [
    "new_string = \" \".join(my_list)\n",
    "new_string"
   ]
  },
  {
   "cell_type": "code",
   "execution_count": 39,
   "metadata": {},
   "outputs": [
    {
     "data": {
      "text/plain": [
       "['a', 'a', 'a', 'a', 'a', 'a']"
      ]
     },
     "execution_count": 39,
     "metadata": {},
     "output_type": "execute_result"
    }
   ],
   "source": [
    "my_list = ['a'] * 6\n",
    "my_list"
   ]
  },
  {
   "cell_type": "code",
   "execution_count": 42,
   "metadata": {},
   "outputs": [
    {
     "data": {
      "text/plain": [
       "'aaaaaa'"
      ]
     },
     "execution_count": 42,
     "metadata": {},
     "output_type": "execute_result"
    }
   ],
   "source": [
    "my_string = \"\".join(my_list)\n",
    "my_string"
   ]
  },
  {
   "cell_type": "code",
   "execution_count": 43,
   "metadata": {},
   "outputs": [
    {
     "name": "stdout",
     "output_type": "stream",
     "text": [
      "0.00010749999978543201\n"
     ]
    }
   ],
   "source": [
    "from timeit import default_timer as timer\n",
    "\n",
    "start = timer()\n",
    "my_string = \"\".join(my_list)\n",
    "my_string\n",
    "end = timer()\n",
    "print(end - start)\n"
   ]
  },
  {
   "cell_type": "code",
   "execution_count": 5,
   "metadata": {},
   "outputs": [
    {
     "name": "stdout",
     "output_type": "stream",
     "text": [
      "Counter({'c': 6, 'a': 5, 'b': 3})\n",
      "dict_keys(['a', 'b', 'c'])\n"
     ]
    },
    {
     "data": {
      "text/plain": [
       "array(['000886101', '000886101', '000886101', ..., 'Y2573F102',\n",
       "       'Y2573F102', 'Y2573F102'], dtype=object)"
      ]
     },
     "execution_count": 5,
     "metadata": {},
     "output_type": "execute_result"
    }
   ],
   "source": [
    "from collections import Counter\n",
    "\n",
    "a = \"aaaaabbbcccccc\"\n",
    "\n",
    "my_counter = Counter(a)\n",
    "print(my_counter)\n",
    "\n",
    "print(my_counter.keys())\n",
    "\n",
    "import pandas as pd\n",
    "from pathlib import Path\n",
    "\n",
    "path = Path(r\"C:\\Users\\yo_fanpc\\Documents\\dev\\python\\advanced_python_training\\data\\7789-2013-11-14.parquet\")\n",
    "df = pd.read_parquet(path)\n",
    "df.cusip.values"
   ]
  },
  {
   "cell_type": "code",
   "execution_count": 9,
   "metadata": {},
   "outputs": [
    {
     "data": {
      "text/html": [
       "<div>\n",
       "<style scoped>\n",
       "    .dataframe tbody tr th:only-of-type {\n",
       "        vertical-align: middle;\n",
       "    }\n",
       "\n",
       "    .dataframe tbody tr th {\n",
       "        vertical-align: top;\n",
       "    }\n",
       "\n",
       "    .dataframe thead th {\n",
       "        text-align: right;\n",
       "    }\n",
       "</style>\n",
       "<table border=\"1\" class=\"dataframe\">\n",
       "  <thead>\n",
       "    <tr style=\"text-align: right;\">\n",
       "      <th></th>\n",
       "      <th>accessionNumber</th>\n",
       "      <th>cikManager</th>\n",
       "      <th>managerName</th>\n",
       "      <th>periodOfReport</th>\n",
       "      <th>submissionType</th>\n",
       "      <th>filedAsOfDate</th>\n",
       "      <th>cusip</th>\n",
       "      <th>nameOfIssuer</th>\n",
       "      <th>titleOfClass</th>\n",
       "      <th>sharesValue</th>\n",
       "      <th>sharesHeldAtEndOfQtr</th>\n",
       "      <th>shrsOrPrnAmt</th>\n",
       "      <th>putCall</th>\n",
       "      <th>xml_flag</th>\n",
       "      <th>updated_at</th>\n",
       "      <th>quarter</th>\n",
       "      <th>transaction_type</th>\n",
       "      <th>transaction_shares</th>\n",
       "      <th>transaction_value</th>\n",
       "    </tr>\n",
       "  </thead>\n",
       "  <tbody>\n",
       "    <tr>\n",
       "      <th>0</th>\n",
       "      <td>0000007789-00-000014</td>\n",
       "      <td>7789</td>\n",
       "      <td>nan</td>\n",
       "      <td>2000-09-30</td>\n",
       "      <td>13F-HR</td>\n",
       "      <td>2000-10-10</td>\n",
       "      <td>000886101</td>\n",
       "      <td>None</td>\n",
       "      <td>None</td>\n",
       "      <td>2064000.0</td>\n",
       "      <td>76756.0</td>\n",
       "      <td>None</td>\n",
       "      <td>None</td>\n",
       "      <td>fwf</td>\n",
       "      <td>2022-08-19 13:06:52.301841</td>\n",
       "      <td>2000Q3</td>\n",
       "      <td></td>\n",
       "      <td>NaN</td>\n",
       "      <td>NaN</td>\n",
       "    </tr>\n",
       "    <tr>\n",
       "      <th>1</th>\n",
       "      <td>0000007789-01-500003</td>\n",
       "      <td>7789</td>\n",
       "      <td>nan</td>\n",
       "      <td>2000-12-31</td>\n",
       "      <td>13F-HR/A</td>\n",
       "      <td>2001-01-22</td>\n",
       "      <td>000886101</td>\n",
       "      <td>None</td>\n",
       "      <td>None</td>\n",
       "      <td>7247000.0</td>\n",
       "      <td>399843.0</td>\n",
       "      <td>None</td>\n",
       "      <td>None</td>\n",
       "      <td>fwf</td>\n",
       "      <td>2022-08-19 13:06:52.301841</td>\n",
       "      <td>2000Q4</td>\n",
       "      <td></td>\n",
       "      <td>NaN</td>\n",
       "      <td>NaN</td>\n",
       "    </tr>\n",
       "    <tr>\n",
       "      <th>2</th>\n",
       "      <td>0000007789-01-500010</td>\n",
       "      <td>7789</td>\n",
       "      <td>nan</td>\n",
       "      <td>2001-03-31</td>\n",
       "      <td>13F-HR</td>\n",
       "      <td>2001-04-20</td>\n",
       "      <td>000886101</td>\n",
       "      <td>None</td>\n",
       "      <td>None</td>\n",
       "      <td>3262000.0</td>\n",
       "      <td>383808.0</td>\n",
       "      <td>None</td>\n",
       "      <td>None</td>\n",
       "      <td>fwf</td>\n",
       "      <td>2022-08-19 13:06:52.301841</td>\n",
       "      <td>2001Q1</td>\n",
       "      <td></td>\n",
       "      <td>NaN</td>\n",
       "      <td>NaN</td>\n",
       "    </tr>\n",
       "    <tr>\n",
       "      <th>3</th>\n",
       "      <td>0000007789-01-500018</td>\n",
       "      <td>7789</td>\n",
       "      <td>nan</td>\n",
       "      <td>2001-06-30</td>\n",
       "      <td>13F-HR/A</td>\n",
       "      <td>2001-09-12</td>\n",
       "      <td>000886101</td>\n",
       "      <td>None</td>\n",
       "      <td>None</td>\n",
       "      <td>2005000.0</td>\n",
       "      <td>303773.0</td>\n",
       "      <td>None</td>\n",
       "      <td>None</td>\n",
       "      <td>fwf</td>\n",
       "      <td>2022-08-19 13:06:52.301841</td>\n",
       "      <td>2001Q2</td>\n",
       "      <td></td>\n",
       "      <td>NaN</td>\n",
       "      <td>NaN</td>\n",
       "    </tr>\n",
       "    <tr>\n",
       "      <th>4</th>\n",
       "      <td>0000007789-01-500019</td>\n",
       "      <td>7789</td>\n",
       "      <td>nan</td>\n",
       "      <td>2001-09-30</td>\n",
       "      <td>13F-HR</td>\n",
       "      <td>2001-10-05</td>\n",
       "      <td>000886101</td>\n",
       "      <td>None</td>\n",
       "      <td>None</td>\n",
       "      <td>702000.0</td>\n",
       "      <td>201200.0</td>\n",
       "      <td>None</td>\n",
       "      <td>None</td>\n",
       "      <td>fwf</td>\n",
       "      <td>2022-08-19 13:06:52.301841</td>\n",
       "      <td>2001Q3</td>\n",
       "      <td></td>\n",
       "      <td>NaN</td>\n",
       "      <td>NaN</td>\n",
       "    </tr>\n",
       "  </tbody>\n",
       "</table>\n",
       "</div>"
      ],
      "text/plain": [
       "        accessionNumber  cikManager managerName periodOfReport submissionType  \\\n",
       "0  0000007789-00-000014        7789         nan     2000-09-30         13F-HR   \n",
       "1  0000007789-01-500003        7789         nan     2000-12-31       13F-HR/A   \n",
       "2  0000007789-01-500010        7789         nan     2001-03-31         13F-HR   \n",
       "3  0000007789-01-500018        7789         nan     2001-06-30       13F-HR/A   \n",
       "4  0000007789-01-500019        7789         nan     2001-09-30         13F-HR   \n",
       "\n",
       "  filedAsOfDate      cusip nameOfIssuer titleOfClass  sharesValue  \\\n",
       "0    2000-10-10  000886101         None         None    2064000.0   \n",
       "1    2001-01-22  000886101         None         None    7247000.0   \n",
       "2    2001-04-20  000886101         None         None    3262000.0   \n",
       "3    2001-09-12  000886101         None         None    2005000.0   \n",
       "4    2001-10-05  000886101         None         None     702000.0   \n",
       "\n",
       "   sharesHeldAtEndOfQtr shrsOrPrnAmt putCall xml_flag  \\\n",
       "0               76756.0         None    None      fwf   \n",
       "1              399843.0         None    None      fwf   \n",
       "2              383808.0         None    None      fwf   \n",
       "3              303773.0         None    None      fwf   \n",
       "4              201200.0         None    None      fwf   \n",
       "\n",
       "                  updated_at quarter transaction_type  transaction_shares  \\\n",
       "0 2022-08-19 13:06:52.301841  2000Q3                                  NaN   \n",
       "1 2022-08-19 13:06:52.301841  2000Q4                                  NaN   \n",
       "2 2022-08-19 13:06:52.301841  2001Q1                                  NaN   \n",
       "3 2022-08-19 13:06:52.301841  2001Q2                                  NaN   \n",
       "4 2022-08-19 13:06:52.301841  2001Q3                                  NaN   \n",
       "\n",
       "   transaction_value  \n",
       "0                NaN  \n",
       "1                NaN  \n",
       "2                NaN  \n",
       "3                NaN  \n",
       "4                NaN  "
      ]
     },
     "execution_count": 9,
     "metadata": {},
     "output_type": "execute_result"
    }
   ],
   "source": [
    "df.head()"
   ]
  },
  {
   "cell_type": "code",
   "execution_count": 21,
   "metadata": {},
   "outputs": [
    {
     "data": {
      "text/plain": [
       "7"
      ]
     },
     "execution_count": 21,
     "metadata": {},
     "output_type": "execute_result"
    }
   ],
   "source": [
    "my_counter = Counter(df.cusip.values)\n",
    "my_counter['000886101']"
   ]
  },
  {
   "cell_type": "code",
   "execution_count": 30,
   "metadata": {},
   "outputs": [
    {
     "data": {
      "text/plain": [
       "dict_values([389, 399, 387, 290, 277, 299, 312, 245, 252, 274, 265, 269, 260, 259, 259, 253, 257, 258, 255, 264, 259, 248, 242, 236, 234, 215, 213, 206, 203, 211, 218, 218, 272, 208, 210, 213, 378, 385, 377, 352, 343, 343, 202, 208, 207, 202, 202, 207, 211, 218, 220, 219, 232, 232, 251, 223, 226, 241, 256])"
      ]
     },
     "execution_count": 30,
     "metadata": {},
     "output_type": "execute_result"
    }
   ],
   "source": [
    "import numpy\n",
    "\n",
    "my_counter = Counter(df.periodOfReport.values)\n",
    "my_counter.keys()\n",
    "my_counter[numpy.datetime64('2000-09-30T00:00:00.000000000')]\n",
    "my_counter.values()\n"
   ]
  },
  {
   "cell_type": "code",
   "execution_count": 36,
   "metadata": {},
   "outputs": [
    {
     "data": {
      "text/plain": [
       "numpy.datetime64('2000-09-30T00:00:00.000000000')"
      ]
     },
     "execution_count": 36,
     "metadata": {},
     "output_type": "execute_result"
    }
   ],
   "source": [
    "# most common elements\n",
    "my_counter.most_common()\n",
    "my_counter.most_common(2)\n",
    "my_counter.most_common(2)[1][0]"
   ]
  },
  {
   "cell_type": "code",
   "execution_count": null,
   "metadata": {},
   "outputs": [],
   "source": [
    "# get a list of all elements in the counter\n",
    "list(my_counter.elements())"
   ]
  },
  {
   "cell_type": "markdown",
   "metadata": {},
   "source": [
    "## Named Tuple"
   ]
  },
  {
   "cell_type": "code",
   "execution_count": 40,
   "metadata": {},
   "outputs": [
    {
     "data": {
      "text/plain": [
       "Point(x=1, y=-4)"
      ]
     },
     "execution_count": 40,
     "metadata": {},
     "output_type": "execute_result"
    }
   ],
   "source": [
    "from collections import namedtuple\n",
    "\n",
    "Point = namedtuple('Point', 'x,y')\n",
    "pt = Point(1, -4)\n",
    "pt"
   ]
  },
  {
   "cell_type": "code",
   "execution_count": 42,
   "metadata": {},
   "outputs": [
    {
     "data": {
      "text/plain": [
       "(1, -4)"
      ]
     },
     "execution_count": 42,
     "metadata": {},
     "output_type": "execute_result"
    }
   ],
   "source": [
    "pt.x, pt.y"
   ]
  },
  {
   "cell_type": "markdown",
   "metadata": {},
   "source": [
    "### Default Dictionary"
   ]
  },
  {
   "cell_type": "code",
   "execution_count": 47,
   "metadata": {},
   "outputs": [
    {
     "data": {
      "text/plain": [
       "''"
      ]
     },
     "execution_count": 47,
     "metadata": {},
     "output_type": "execute_result"
    }
   ],
   "source": [
    "from collections import defaultdict\n",
    "\n",
    "d = defaultdict(str)\n",
    "d['a'] = 1\n",
    "d['b'] = 2\n",
    "\n",
    "d['a']\n",
    "\n",
    "d['c']"
   ]
  },
  {
   "cell_type": "markdown",
   "metadata": {},
   "source": [
    "### Deque"
   ]
  },
  {
   "cell_type": "code",
   "execution_count": 109,
   "metadata": {},
   "outputs": [
    {
     "data": {
      "text/plain": [
       "deque([])"
      ]
     },
     "execution_count": 109,
     "metadata": {},
     "output_type": "execute_result"
    }
   ],
   "source": [
    "from collections import deque\n",
    "\n",
    "d = deque()\n",
    "\n",
    "d.append(1)\n",
    "d.append(2)\n",
    "\n",
    "d\n",
    "d.appendleft(0) # append to left of the queue\n",
    "\n",
    "d\n",
    "\n",
    "d.pop()  # drops the last element like in a list\n",
    "d\n",
    "\n",
    "d.append(5)\n",
    "d\n",
    "\n",
    "d.popleft() # dropping the leftmost element\n",
    "\n",
    "d\n",
    "\n",
    "d.clear() # removes all elements\n",
    "d\n",
    "\n"
   ]
  },
  {
   "cell_type": "code",
   "execution_count": 116,
   "metadata": {},
   "outputs": [
    {
     "data": {
      "text/plain": [
       "(4, deque([2064000.0, 2005000.0, 3262000.0, 7247000.0]))"
      ]
     },
     "execution_count": 116,
     "metadata": {},
     "output_type": "execute_result"
    }
   ],
   "source": [
    "# d.append(df.sharesValue.values)\n",
    "# d\n",
    "len(d)\n",
    "# d.appendleft([*df.sharesValue.values]) # append one element a time even if it's an unpacked list\n",
    "\n",
    "\n",
    "# d.extend([*df.sharesValue.values]) # adds multiple element of the list\n",
    "len(d)\n",
    "\n",
    "# d.extendleft([*df.sharesValue.values[:4]]) # adds multiple element of the list\n",
    "# len(d),d\n",
    "\n",
    "# d.rotate(1) # takes the last element and puts it in as the first one\n",
    "# len(d),d\n",
    "\n",
    "# d.rotate(2) # takes two last element and puts it in as the first one clockwise\n",
    "# len(d),d\n",
    "\n",
    "d.rotate(-1) # moves elements counter clocksise\n",
    "len(d),d\n",
    "# d"
   ]
  },
  {
   "cell_type": "markdown",
   "metadata": {},
   "source": [
    "### Itertool and cytoolz/pytoolz"
   ]
  },
  {
   "cell_type": "code",
   "execution_count": 119,
   "metadata": {},
   "outputs": [
    {
     "name": "stdout",
     "output_type": "stream",
     "text": [
      "CPU times: total: 15.6 ms\n",
      "Wall time: 1.03 ms\n"
     ]
    }
   ],
   "source": [
    "import cytoolz, pytoolz\n",
    "from itertools import product\n",
    "\n",
    "\n",
    "a = df.sharesValue.values\n",
    "b = df.sharesHeldAtEndOfQtr.values\n",
    "\n",
    "# %time prod = product(a, b)\n",
    "\n",
    "\n"
   ]
  }
 ],
 "metadata": {
  "kernelspec": {
   "display_name": "Python 3.9.7 ('venv': venv)",
   "language": "python",
   "name": "python3"
  },
  "language_info": {
   "codemirror_mode": {
    "name": "ipython",
    "version": 3
   },
   "file_extension": ".py",
   "mimetype": "text/x-python",
   "name": "python",
   "nbconvert_exporter": "python",
   "pygments_lexer": "ipython3",
   "version": "3.9.7"
  },
  "orig_nbformat": 4,
  "vscode": {
   "interpreter": {
    "hash": "4dd41a823380fa151d9dd212075ee717f1f6acf89a52b10f3d2f6ec835031c5d"
   }
  }
 },
 "nbformat": 4,
 "nbformat_minor": 2
}
